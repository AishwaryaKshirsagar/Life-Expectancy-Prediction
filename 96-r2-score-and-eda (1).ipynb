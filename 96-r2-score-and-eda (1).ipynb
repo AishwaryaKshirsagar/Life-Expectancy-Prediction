{
 "cells": [
  {
   "cell_type": "markdown",
   "id": "f14173d3",
   "metadata": {
    "papermill": {
     "duration": 0.078022,
     "end_time": "2022-06-05T10:45:30.920966",
     "exception": false,
     "start_time": "2022-06-05T10:45:30.842944",
     "status": "completed"
    },
    "tags": []
   },
   "source": [
    "### Hello everyone! Welcome\n",
    "### I have performed EDA and predicted the Life Expectancy according to the features given in the dataset. I wanted to both improve myself and make easier examples for those who are just at the beginning, like me."
   ]
  },
  {
   "cell_type": "code",
   "execution_count": 1,
   "id": "16e902fb",
   "metadata": {
    "execution": {
     "iopub.execute_input": "2022-06-05T10:45:31.071726Z",
     "iopub.status.busy": "2022-06-05T10:45:31.070970Z",
     "iopub.status.idle": "2022-06-05T10:45:32.136391Z",
     "shell.execute_reply": "2022-06-05T10:45:32.135484Z"
    },
    "papermill": {
     "duration": 1.143691,
     "end_time": "2022-06-05T10:45:32.138887",
     "exception": false,
     "start_time": "2022-06-05T10:45:30.995196",
     "status": "completed"
    },
    "tags": []
   },
   "outputs": [],
   "source": [
    "import pandas as pd\n",
    "import numpy as np\n",
    "import seaborn as sns\n",
    "import matplotlib.pyplot as plt"
   ]
  },
  {
   "cell_type": "code",
   "execution_count": 2,
   "id": "8c8f992d",
   "metadata": {
    "execution": {
     "iopub.execute_input": "2022-06-05T10:45:32.287820Z",
     "iopub.status.busy": "2022-06-05T10:45:32.287527Z",
     "iopub.status.idle": "2022-06-05T10:45:32.324378Z",
     "shell.execute_reply": "2022-06-05T10:45:32.323441Z"
    },
    "papermill": {
     "duration": 0.114131,
     "end_time": "2022-06-05T10:45:32.326811",
     "exception": false,
     "start_time": "2022-06-05T10:45:32.212680",
     "status": "completed"
    },
    "tags": []
   },
   "outputs": [],
   "source": [
    "data = pd.read_csv('../input/life-expectancy-who/Life Expectancy Data.csv')"
   ]
  },
  {
   "cell_type": "code",
   "execution_count": 3,
   "id": "510e7f42",
   "metadata": {
    "execution": {
     "iopub.execute_input": "2022-06-05T10:45:32.475935Z",
     "iopub.status.busy": "2022-06-05T10:45:32.475609Z",
     "iopub.status.idle": "2022-06-05T10:45:32.479909Z",
     "shell.execute_reply": "2022-06-05T10:45:32.479041Z"
    },
    "papermill": {
     "duration": 0.080972,
     "end_time": "2022-06-05T10:45:32.481849",
     "exception": false,
     "start_time": "2022-06-05T10:45:32.400877",
     "status": "completed"
    },
    "tags": []
   },
   "outputs": [],
   "source": [
    "pd.set_option('display.max_columns', None)"
   ]
  },
  {
   "cell_type": "code",
   "execution_count": 4,
   "id": "0a16a0b5",
   "metadata": {
    "execution": {
     "iopub.execute_input": "2022-06-05T10:45:32.631751Z",
     "iopub.status.busy": "2022-06-05T10:45:32.631476Z",
     "iopub.status.idle": "2022-06-05T10:45:32.643999Z",
     "shell.execute_reply": "2022-06-05T10:45:32.643372Z"
    },
    "papermill": {
     "duration": 0.090659,
     "end_time": "2022-06-05T10:45:32.646166",
     "exception": false,
     "start_time": "2022-06-05T10:45:32.555507",
     "status": "completed"
    },
    "tags": []
   },
   "outputs": [
    {
     "data": {
      "text/plain": [
       "Country                              0\n",
       "Year                                 0\n",
       "Status                               0\n",
       "Life expectancy                     10\n",
       "Adult Mortality                     10\n",
       "infant deaths                        0\n",
       "Alcohol                            194\n",
       "percentage expenditure               0\n",
       "Hepatitis B                        553\n",
       "Measles                              0\n",
       " BMI                                34\n",
       "under-five deaths                    0\n",
       "Polio                               19\n",
       "Total expenditure                  226\n",
       "Diphtheria                          19\n",
       " HIV/AIDS                            0\n",
       "GDP                                448\n",
       "Population                         652\n",
       " thinness  1-19 years               34\n",
       " thinness 5-9 years                 34\n",
       "Income composition of resources    167\n",
       "Schooling                          163\n",
       "dtype: int64"
      ]
     },
     "execution_count": 4,
     "metadata": {},
     "output_type": "execute_result"
    }
   ],
   "source": [
    "data.isna().sum()"
   ]
  },
  {
   "cell_type": "markdown",
   "id": "17f370c3",
   "metadata": {
    "papermill": {
     "duration": 0.074065,
     "end_time": "2022-06-05T10:45:32.794497",
     "exception": false,
     "start_time": "2022-06-05T10:45:32.720432",
     "status": "completed"
    },
    "tags": []
   },
   "source": [
    "### Using Interpolation method to deal with the null values"
   ]
  },
  {
   "cell_type": "code",
   "execution_count": 5,
   "id": "6ac224da",
   "metadata": {
    "execution": {
     "iopub.execute_input": "2022-06-05T10:45:32.945340Z",
     "iopub.status.busy": "2022-06-05T10:45:32.944569Z",
     "iopub.status.idle": "2022-06-05T10:45:32.954934Z",
     "shell.execute_reply": "2022-06-05T10:45:32.954225Z"
    },
    "papermill": {
     "duration": 0.088146,
     "end_time": "2022-06-05T10:45:32.956886",
     "exception": false,
     "start_time": "2022-06-05T10:45:32.868740",
     "status": "completed"
    },
    "tags": []
   },
   "outputs": [],
   "source": [
    "data1 = data.interpolate(method = 'linear', limit_direction = 'forward')"
   ]
  },
  {
   "cell_type": "code",
   "execution_count": 6,
   "id": "9f67ec39",
   "metadata": {
    "execution": {
     "iopub.execute_input": "2022-06-05T10:45:33.109999Z",
     "iopub.status.busy": "2022-06-05T10:45:33.109449Z",
     "iopub.status.idle": "2022-06-05T10:45:33.117712Z",
     "shell.execute_reply": "2022-06-05T10:45:33.117155Z"
    },
    "papermill": {
     "duration": 0.08682,
     "end_time": "2022-06-05T10:45:33.119529",
     "exception": false,
     "start_time": "2022-06-05T10:45:33.032709",
     "status": "completed"
    },
    "tags": []
   },
   "outputs": [
    {
     "data": {
      "text/plain": [
       "Country                            0\n",
       "Year                               0\n",
       "Status                             0\n",
       "Life expectancy                    0\n",
       "Adult Mortality                    0\n",
       "infant deaths                      0\n",
       "Alcohol                            0\n",
       "percentage expenditure             0\n",
       "Hepatitis B                        0\n",
       "Measles                            0\n",
       " BMI                               0\n",
       "under-five deaths                  0\n",
       "Polio                              0\n",
       "Total expenditure                  0\n",
       "Diphtheria                         0\n",
       " HIV/AIDS                          0\n",
       "GDP                                0\n",
       "Population                         0\n",
       " thinness  1-19 years              0\n",
       " thinness 5-9 years                0\n",
       "Income composition of resources    0\n",
       "Schooling                          0\n",
       "dtype: int64"
      ]
     },
     "execution_count": 6,
     "metadata": {},
     "output_type": "execute_result"
    }
   ],
   "source": [
    "data1.isna().sum()"
   ]
  },
  {
   "cell_type": "code",
   "execution_count": 7,
   "id": "5be7a179",
   "metadata": {
    "execution": {
     "iopub.execute_input": "2022-06-05T10:45:33.272361Z",
     "iopub.status.busy": "2022-06-05T10:45:33.271815Z",
     "iopub.status.idle": "2022-06-05T10:45:33.276832Z",
     "shell.execute_reply": "2022-06-05T10:45:33.275923Z"
    },
    "papermill": {
     "duration": 0.083677,
     "end_time": "2022-06-05T10:45:33.278934",
     "exception": false,
     "start_time": "2022-06-05T10:45:33.195257",
     "status": "completed"
    },
    "tags": []
   },
   "outputs": [],
   "source": [
    "data1.columns = data1.columns.str.replace(' ','_')"
   ]
  },
  {
   "cell_type": "code",
   "execution_count": 8,
   "id": "0fc266f3",
   "metadata": {
    "execution": {
     "iopub.execute_input": "2022-06-05T10:45:33.431922Z",
     "iopub.status.busy": "2022-06-05T10:45:33.431626Z",
     "iopub.status.idle": "2022-06-05T10:45:33.437597Z",
     "shell.execute_reply": "2022-06-05T10:45:33.436883Z"
    },
    "papermill": {
     "duration": 0.08459,
     "end_time": "2022-06-05T10:45:33.439486",
     "exception": false,
     "start_time": "2022-06-05T10:45:33.354896",
     "status": "completed"
    },
    "tags": []
   },
   "outputs": [
    {
     "data": {
      "text/plain": [
       "Index(['Country', 'Year', 'Status', 'Life_expectancy_', 'Adult_Mortality',\n",
       "       'infant_deaths', 'Alcohol', 'percentage_expenditure', 'Hepatitis_B',\n",
       "       'Measles_', '_BMI_', 'under-five_deaths_', 'Polio', 'Total_expenditure',\n",
       "       'Diphtheria_', '_HIV/AIDS', 'GDP', 'Population',\n",
       "       '_thinness__1-19_years', '_thinness_5-9_years',\n",
       "       'Income_composition_of_resources', 'Schooling'],\n",
       "      dtype='object')"
      ]
     },
     "execution_count": 8,
     "metadata": {},
     "output_type": "execute_result"
    }
   ],
   "source": [
    "data1.columns"
   ]
  },
  {
   "cell_type": "code",
   "execution_count": 9,
   "id": "809bb537",
   "metadata": {
    "execution": {
     "iopub.execute_input": "2022-06-05T10:45:33.592480Z",
     "iopub.status.busy": "2022-06-05T10:45:33.591817Z",
     "iopub.status.idle": "2022-06-05T10:45:33.601177Z",
     "shell.execute_reply": "2022-06-05T10:45:33.600589Z"
    },
    "papermill": {
     "duration": 0.088122,
     "end_time": "2022-06-05T10:45:33.603191",
     "exception": false,
     "start_time": "2022-06-05T10:45:33.515069",
     "status": "completed"
    },
    "tags": []
   },
   "outputs": [],
   "source": [
    "data1 = data1.drop(['Country'], axis = 1)"
   ]
  },
  {
   "cell_type": "markdown",
   "id": "e8975d82",
   "metadata": {
    "papermill": {
     "duration": 0.076123,
     "end_time": "2022-06-05T10:45:33.758629",
     "exception": false,
     "start_time": "2022-06-05T10:45:33.682506",
     "status": "completed"
    },
    "tags": []
   },
   "source": [
    "### Changing the categories to binary values"
   ]
  },
  {
   "cell_type": "code",
   "execution_count": 10,
   "id": "7c7b6ce5",
   "metadata": {
    "execution": {
     "iopub.execute_input": "2022-06-05T10:45:33.914074Z",
     "iopub.status.busy": "2022-06-05T10:45:33.913782Z",
     "iopub.status.idle": "2022-06-05T10:45:33.922405Z",
     "shell.execute_reply": "2022-06-05T10:45:33.921580Z"
    },
    "papermill": {
     "duration": 0.088962,
     "end_time": "2022-06-05T10:45:33.924359",
     "exception": false,
     "start_time": "2022-06-05T10:45:33.835397",
     "status": "completed"
    },
    "tags": []
   },
   "outputs": [],
   "source": [
    "data1.Status = data1.Status.map({'Developing':0, 'Developed': 1})"
   ]
  },
  {
   "cell_type": "code",
   "execution_count": 11,
   "id": "fd80e3d6",
   "metadata": {
    "execution": {
     "iopub.execute_input": "2022-06-05T10:45:34.078813Z",
     "iopub.status.busy": "2022-06-05T10:45:34.078513Z",
     "iopub.status.idle": "2022-06-05T10:45:34.107332Z",
     "shell.execute_reply": "2022-06-05T10:45:34.106714Z"
    },
    "papermill": {
     "duration": 0.108624,
     "end_time": "2022-06-05T10:45:34.109045",
     "exception": false,
     "start_time": "2022-06-05T10:45:34.000421",
     "status": "completed"
    },
    "tags": []
   },
   "outputs": [
    {
     "data": {
      "text/html": [
       "<div>\n",
       "<style scoped>\n",
       "    .dataframe tbody tr th:only-of-type {\n",
       "        vertical-align: middle;\n",
       "    }\n",
       "\n",
       "    .dataframe tbody tr th {\n",
       "        vertical-align: top;\n",
       "    }\n",
       "\n",
       "    .dataframe thead th {\n",
       "        text-align: right;\n",
       "    }\n",
       "</style>\n",
       "<table border=\"1\" class=\"dataframe\">\n",
       "  <thead>\n",
       "    <tr style=\"text-align: right;\">\n",
       "      <th></th>\n",
       "      <th>Year</th>\n",
       "      <th>Status</th>\n",
       "      <th>Life_expectancy_</th>\n",
       "      <th>Adult_Mortality</th>\n",
       "      <th>infant_deaths</th>\n",
       "      <th>Alcohol</th>\n",
       "      <th>percentage_expenditure</th>\n",
       "      <th>Hepatitis_B</th>\n",
       "      <th>Measles_</th>\n",
       "      <th>_BMI_</th>\n",
       "      <th>under-five_deaths_</th>\n",
       "      <th>Polio</th>\n",
       "      <th>Total_expenditure</th>\n",
       "      <th>Diphtheria_</th>\n",
       "      <th>_HIV/AIDS</th>\n",
       "      <th>GDP</th>\n",
       "      <th>Population</th>\n",
       "      <th>_thinness__1-19_years</th>\n",
       "      <th>_thinness_5-9_years</th>\n",
       "      <th>Income_composition_of_resources</th>\n",
       "      <th>Schooling</th>\n",
       "    </tr>\n",
       "  </thead>\n",
       "  <tbody>\n",
       "    <tr>\n",
       "      <th>0</th>\n",
       "      <td>2015</td>\n",
       "      <td>0</td>\n",
       "      <td>65.0</td>\n",
       "      <td>263.0</td>\n",
       "      <td>62</td>\n",
       "      <td>0.01</td>\n",
       "      <td>71.279624</td>\n",
       "      <td>65.0</td>\n",
       "      <td>1154</td>\n",
       "      <td>19.1</td>\n",
       "      <td>83</td>\n",
       "      <td>6.0</td>\n",
       "      <td>8.16</td>\n",
       "      <td>65.0</td>\n",
       "      <td>0.1</td>\n",
       "      <td>584.259210</td>\n",
       "      <td>33736494.0</td>\n",
       "      <td>17.2</td>\n",
       "      <td>17.3</td>\n",
       "      <td>0.479</td>\n",
       "      <td>10.1</td>\n",
       "    </tr>\n",
       "    <tr>\n",
       "      <th>1</th>\n",
       "      <td>2014</td>\n",
       "      <td>0</td>\n",
       "      <td>59.9</td>\n",
       "      <td>271.0</td>\n",
       "      <td>64</td>\n",
       "      <td>0.01</td>\n",
       "      <td>73.523582</td>\n",
       "      <td>62.0</td>\n",
       "      <td>492</td>\n",
       "      <td>18.6</td>\n",
       "      <td>86</td>\n",
       "      <td>58.0</td>\n",
       "      <td>8.18</td>\n",
       "      <td>62.0</td>\n",
       "      <td>0.1</td>\n",
       "      <td>612.696514</td>\n",
       "      <td>327582.0</td>\n",
       "      <td>17.5</td>\n",
       "      <td>17.5</td>\n",
       "      <td>0.476</td>\n",
       "      <td>10.0</td>\n",
       "    </tr>\n",
       "    <tr>\n",
       "      <th>2</th>\n",
       "      <td>2013</td>\n",
       "      <td>0</td>\n",
       "      <td>59.9</td>\n",
       "      <td>268.0</td>\n",
       "      <td>66</td>\n",
       "      <td>0.01</td>\n",
       "      <td>73.219243</td>\n",
       "      <td>64.0</td>\n",
       "      <td>430</td>\n",
       "      <td>18.1</td>\n",
       "      <td>89</td>\n",
       "      <td>62.0</td>\n",
       "      <td>8.13</td>\n",
       "      <td>64.0</td>\n",
       "      <td>0.1</td>\n",
       "      <td>631.744976</td>\n",
       "      <td>31731688.0</td>\n",
       "      <td>17.7</td>\n",
       "      <td>17.7</td>\n",
       "      <td>0.470</td>\n",
       "      <td>9.9</td>\n",
       "    </tr>\n",
       "    <tr>\n",
       "      <th>3</th>\n",
       "      <td>2012</td>\n",
       "      <td>0</td>\n",
       "      <td>59.5</td>\n",
       "      <td>272.0</td>\n",
       "      <td>69</td>\n",
       "      <td>0.01</td>\n",
       "      <td>78.184215</td>\n",
       "      <td>67.0</td>\n",
       "      <td>2787</td>\n",
       "      <td>17.6</td>\n",
       "      <td>93</td>\n",
       "      <td>67.0</td>\n",
       "      <td>8.52</td>\n",
       "      <td>67.0</td>\n",
       "      <td>0.1</td>\n",
       "      <td>669.959000</td>\n",
       "      <td>3696958.0</td>\n",
       "      <td>17.9</td>\n",
       "      <td>18.0</td>\n",
       "      <td>0.463</td>\n",
       "      <td>9.8</td>\n",
       "    </tr>\n",
       "    <tr>\n",
       "      <th>4</th>\n",
       "      <td>2011</td>\n",
       "      <td>0</td>\n",
       "      <td>59.2</td>\n",
       "      <td>275.0</td>\n",
       "      <td>71</td>\n",
       "      <td>0.01</td>\n",
       "      <td>7.097109</td>\n",
       "      <td>68.0</td>\n",
       "      <td>3013</td>\n",
       "      <td>17.2</td>\n",
       "      <td>97</td>\n",
       "      <td>68.0</td>\n",
       "      <td>7.87</td>\n",
       "      <td>68.0</td>\n",
       "      <td>0.1</td>\n",
       "      <td>63.537231</td>\n",
       "      <td>2978599.0</td>\n",
       "      <td>18.2</td>\n",
       "      <td>18.2</td>\n",
       "      <td>0.454</td>\n",
       "      <td>9.5</td>\n",
       "    </tr>\n",
       "  </tbody>\n",
       "</table>\n",
       "</div>"
      ],
      "text/plain": [
       "   Year  Status  Life_expectancy_  Adult_Mortality  infant_deaths  Alcohol  \\\n",
       "0  2015       0              65.0            263.0             62     0.01   \n",
       "1  2014       0              59.9            271.0             64     0.01   \n",
       "2  2013       0              59.9            268.0             66     0.01   \n",
       "3  2012       0              59.5            272.0             69     0.01   \n",
       "4  2011       0              59.2            275.0             71     0.01   \n",
       "\n",
       "   percentage_expenditure  Hepatitis_B  Measles_  _BMI_  under-five_deaths_  \\\n",
       "0               71.279624         65.0      1154   19.1                  83   \n",
       "1               73.523582         62.0       492   18.6                  86   \n",
       "2               73.219243         64.0       430   18.1                  89   \n",
       "3               78.184215         67.0      2787   17.6                  93   \n",
       "4                7.097109         68.0      3013   17.2                  97   \n",
       "\n",
       "   Polio  Total_expenditure  Diphtheria_  _HIV/AIDS         GDP  Population  \\\n",
       "0    6.0               8.16         65.0        0.1  584.259210  33736494.0   \n",
       "1   58.0               8.18         62.0        0.1  612.696514    327582.0   \n",
       "2   62.0               8.13         64.0        0.1  631.744976  31731688.0   \n",
       "3   67.0               8.52         67.0        0.1  669.959000   3696958.0   \n",
       "4   68.0               7.87         68.0        0.1   63.537231   2978599.0   \n",
       "\n",
       "   _thinness__1-19_years  _thinness_5-9_years  \\\n",
       "0                   17.2                 17.3   \n",
       "1                   17.5                 17.5   \n",
       "2                   17.7                 17.7   \n",
       "3                   17.9                 18.0   \n",
       "4                   18.2                 18.2   \n",
       "\n",
       "   Income_composition_of_resources  Schooling  \n",
       "0                            0.479       10.1  \n",
       "1                            0.476       10.0  \n",
       "2                            0.470        9.9  \n",
       "3                            0.463        9.8  \n",
       "4                            0.454        9.5  "
      ]
     },
     "execution_count": 11,
     "metadata": {},
     "output_type": "execute_result"
    }
   ],
   "source": [
    "data1.head()"
   ]
  },
  {
   "cell_type": "code",
   "execution_count": 12,
   "id": "99df0d2b",
   "metadata": {
    "execution": {
     "iopub.execute_input": "2022-06-05T10:45:34.262492Z",
     "iopub.status.busy": "2022-06-05T10:45:34.261954Z",
     "iopub.status.idle": "2022-06-05T10:45:34.266903Z",
     "shell.execute_reply": "2022-06-05T10:45:34.266355Z"
    },
    "papermill": {
     "duration": 0.083429,
     "end_time": "2022-06-05T10:45:34.268805",
     "exception": false,
     "start_time": "2022-06-05T10:45:34.185376",
     "status": "completed"
    },
    "tags": []
   },
   "outputs": [],
   "source": [
    "columns = {'Year':1,'Life_expectancy_':2,'Adult_Mortality':3,'infant_deaths':4,'Alcohol':5,'percentage_expenditure':6,\n",
    "            'Hepatitis_B':7,'Measles_':8,'_BMI_':9,'under-five_deaths_':10,'Polio':11,'Total_expenditure':12,'Diphtheria_':13,'_HIV/AIDS':14,\n",
    "            'GDP':15,'Population':16,'_thinness__1-19_years':17,'_thinness_5-9_years':18,'Income_composition_of_resources':19,'Schooling':20}"
   ]
  },
  {
   "cell_type": "code",
   "execution_count": 13,
   "id": "879f28ad",
   "metadata": {
    "execution": {
     "iopub.execute_input": "2022-06-05T10:45:34.422028Z",
     "iopub.status.busy": "2022-06-05T10:45:34.421543Z",
     "iopub.status.idle": "2022-06-05T10:45:36.477007Z",
     "shell.execute_reply": "2022-06-05T10:45:36.476313Z"
    },
    "papermill": {
     "duration": 2.138552,
     "end_time": "2022-06-05T10:45:36.483462",
     "exception": false,
     "start_time": "2022-06-05T10:45:34.344910",
     "status": "completed"
    },
    "tags": []
   },
   "outputs": [
    {
     "data": {
      "image/png": "[encoded data removed]",
      "text/plain": [
       "<Figure size 1440x2160 with 20 Axes>"
      ]
     },
     "metadata": {
      "needs_background": "light"
     },
     "output_type": "display_data"
    }
   ],
   "source": [
    "# let's see which columns have outliers\n",
    "plt.figure(figsize = (20,30))\n",
    "for var, i in columns.items():\n",
    "    plt.subplot(5,4,i)\n",
    "    plt.boxplot(data1[var], whis = 1.5)\n",
    "    plt.title(var)\n",
    "plt.show()"
   ]
  },
  {
   "cell_type": "markdown",
   "id": "89590051",
   "metadata": {
    "papermill": {
     "duration": 0.081088,
     "end_time": "2022-06-05T10:45:36.649398",
     "exception": false,
     "start_time": "2022-06-05T10:45:36.568310",
     "status": "completed"
    },
    "tags": []
   },
   "source": [
    "### Looks like we have a lot of outliers and need to deal with it!"
   ]
  },
  {
   "cell_type": "code",
   "execution_count": 14,
   "id": "fdc3232b",
   "metadata": {
    "execution": {
     "iopub.execute_input": "2022-06-05T10:45:36.809782Z",
     "iopub.status.busy": "2022-06-05T10:45:36.809518Z",
     "iopub.status.idle": "2022-06-05T10:45:36.815403Z",
     "shell.execute_reply": "2022-06-05T10:45:36.814647Z"
    },
    "papermill": {
     "duration": 0.088754,
     "end_time": "2022-06-05T10:45:36.817304",
     "exception": false,
     "start_time": "2022-06-05T10:45:36.728550",
     "status": "completed"
    },
    "tags": []
   },
   "outputs": [
    {
     "data": {
      "text/plain": [
       "Index(['Year', 'Status', 'Life_expectancy_', 'Adult_Mortality',\n",
       "       'infant_deaths', 'Alcohol', 'percentage_expenditure', 'Hepatitis_B',\n",
       "       'Measles_', '_BMI_', 'under-five_deaths_', 'Polio', 'Total_expenditure',\n",
       "       'Diphtheria_', '_HIV/AIDS', 'GDP', 'Population',\n",
       "       '_thinness__1-19_years', '_thinness_5-9_years',\n",
       "       'Income_composition_of_resources', 'Schooling'],\n",
       "      dtype='object')"
      ]
     },
     "execution_count": 14,
     "metadata": {},
     "output_type": "execute_result"
    }
   ],
   "source": [
    "data1.columns"
   ]
  },
  {
   "cell_type": "code",
   "execution_count": 15,
   "id": "61f2603f",
   "metadata": {
    "execution": {
     "iopub.execute_input": "2022-06-05T10:45:36.982272Z",
     "iopub.status.busy": "2022-06-05T10:45:36.981983Z",
     "iopub.status.idle": "2022-06-05T10:45:37.138869Z",
     "shell.execute_reply": "2022-06-05T10:45:37.137669Z"
    },
    "papermill": {
     "duration": 0.244441,
     "end_time": "2022-06-05T10:45:37.141302",
     "exception": false,
     "start_time": "2022-06-05T10:45:36.896861",
     "status": "completed"
    },
    "tags": []
   },
   "outputs": [
    {
     "name": "stderr",
     "output_type": "stream",
     "text": [
      "/opt/conda/lib/python3.7/site-packages/seaborn/_decorators.py:43: FutureWarning: Pass the following variable as a keyword arg: x. From version 0.12, the only valid positional argument will be `data`, and passing other arguments without an explicit keyword will result in an error or misinterpretation.\n",
      "  FutureWarning\n"
     ]
    },
    {
     "data": {
      "image/png": "[encoded data removed]",
      "text/plain": [
       "<Figure size 432x288 with 1 Axes>"
      ]
     },
     "metadata": {
      "needs_background": "light"
     },
     "output_type": "display_data"
    }
   ],
   "source": [
    "# all columns with outliers - \n",
    "sns.boxplot(data1.Life_expectancy_)\n",
    "plt.show()"
   ]
  },
  {
   "cell_type": "markdown",
   "id": "ae049cb4",
   "metadata": {
    "papermill": {
     "duration": 0.080407,
     "end_time": "2022-06-05T10:45:37.306398",
     "exception": false,
     "start_time": "2022-06-05T10:45:37.225991",
     "status": "completed"
    },
    "tags": []
   },
   "source": [
    "### Let's use Cube root Transformation method to deal with outliers."
   ]
  },
  {
   "cell_type": "code",
   "execution_count": 16,
   "id": "a9e49f3f",
   "metadata": {
    "execution": {
     "iopub.execute_input": "2022-06-05T10:45:37.469858Z",
     "iopub.status.busy": "2022-06-05T10:45:37.469152Z",
     "iopub.status.idle": "2022-06-05T10:45:37.854030Z",
     "shell.execute_reply": "2022-06-05T10:45:37.853306Z"
    },
    "papermill": {
     "duration": 0.469881,
     "end_time": "2022-06-05T10:45:37.856979",
     "exception": false,
     "start_time": "2022-06-05T10:45:37.387098",
     "status": "completed"
    },
    "tags": []
   },
   "outputs": [
    {
     "data": {
      "image/png": "[encoded data removed]",
      "text/plain": [
       "<Figure size 432x288 with 1 Axes>"
      ]
     },
     "metadata": {
      "needs_background": "light"
     },
     "output_type": "display_data"
    },
    {
     "data": {
      "image/png": "[encoded data removed]",
      "text/plain": [
       "<Figure size 432x288 with 1 Axes>"
      ]
     },
     "metadata": {
      "needs_background": "light"
     },
     "output_type": "display_data"
    }
   ],
   "source": [
    "#Cube root transformation\n",
    "plt.hist(data1['Life_expectancy_'])\n",
    "plt.title('before transformation')\n",
    "plt.show()\n",
    "data1['Life_expectancy_'] = (data1['Life_expectancy_']**(1/3))\n",
    "plt.hist(data1['Life_expectancy_'])\n",
    "plt.title('after transformation')\n",
    "plt.show()"
   ]
  },
  {
   "cell_type": "code",
   "execution_count": 17,
   "id": "39e1fab8",
   "metadata": {
    "execution": {
     "iopub.execute_input": "2022-06-05T10:45:38.027796Z",
     "iopub.status.busy": "2022-06-05T10:45:38.027524Z",
     "iopub.status.idle": "2022-06-05T10:45:38.183489Z",
     "shell.execute_reply": "2022-06-05T10:45:38.182214Z"
    },
    "papermill": {
     "duration": 0.241281,
     "end_time": "2022-06-05T10:45:38.185523",
     "exception": false,
     "start_time": "2022-06-05T10:45:37.944242",
     "status": "completed"
    },
    "tags": []
   },
   "outputs": [
    {
     "name": "stderr",
     "output_type": "stream",
     "text": [
      "/opt/conda/lib/python3.7/site-packages/seaborn/_decorators.py:43: FutureWarning: Pass the following variable as a keyword arg: x. From version 0.12, the only valid positional argument will be `data`, and passing other arguments without an explicit keyword will result in an error or misinterpretation.\n",
      "  FutureWarning\n"
     ]
    },
    {
     "data": {
      "image/png": "[encoded data removed]",
      "text/plain": [
       "<Figure size 432x288 with 1 Axes>"
      ]
     },
     "metadata": {
      "needs_background": "light"
     },
     "output_type": "display_data"
    }
   ],
   "source": [
    "sns.boxplot(data1.Life_expectancy_)\n",
    "plt.show()"
   ]
  },
  {
   "cell_type": "markdown",
   "id": "c90e80a8",
   "metadata": {
    "papermill": {
     "duration": 0.083319,
     "end_time": "2022-06-05T10:45:38.355293",
     "exception": false,
     "start_time": "2022-06-05T10:45:38.271974",
     "status": "completed"
    },
    "tags": []
   },
   "source": [
    "### This method does not eliminate the outliers completely but improves or reduces the outliers indeed."
   ]
  },
  {
   "cell_type": "code",
   "execution_count": 18,
   "id": "bb5a1fce",
   "metadata": {
    "execution": {
     "iopub.execute_input": "2022-06-05T10:45:38.532223Z",
     "iopub.status.busy": "2022-06-05T10:45:38.531653Z",
     "iopub.status.idle": "2022-06-05T10:45:38.939402Z",
     "shell.execute_reply": "2022-06-05T10:45:38.938801Z"
    },
    "papermill": {
     "duration": 0.498298,
     "end_time": "2022-06-05T10:45:38.941374",
     "exception": false,
     "start_time": "2022-06-05T10:45:38.443076",
     "status": "completed"
    },
    "tags": []
   },
   "outputs": [
    {
     "data": {
      "image/png": "[encoded data removed]",
      "text/plain": [
       "<Figure size 432x288 with 1 Axes>"
      ]
     },
     "metadata": {
      "needs_background": "light"
     },
     "output_type": "display_data"
    },
    {
     "data": {
      "image/png": "[encoded data removed]",
      "text/plain": [
       "<Figure size 432x288 with 1 Axes>"
      ]
     },
     "metadata": {
      "needs_background": "light"
     },
     "output_type": "display_data"
    }
   ],
   "source": [
    "# for Adult_Mortality\n",
    "plt.hist(data1['Adult_Mortality'])\n",
    "plt.title('before transf')\n",
    "plt.show()\n",
    "data1['Adult_Mortality'] = (data1.Adult_Mortality**(1/3))\n",
    "plt.hist(data1['Adult_Mortality'])\n",
    "plt.title('after transf')\n",
    "plt.show()"
   ]
  },
  {
   "cell_type": "code",
   "execution_count": 19,
   "id": "a081f68a",
   "metadata": {
    "execution": {
     "iopub.execute_input": "2022-06-05T10:45:39.114365Z",
     "iopub.status.busy": "2022-06-05T10:45:39.113862Z",
     "iopub.status.idle": "2022-06-05T10:45:39.270463Z",
     "shell.execute_reply": "2022-06-05T10:45:39.269592Z"
    },
    "papermill": {
     "duration": 0.244871,
     "end_time": "2022-06-05T10:45:39.272279",
     "exception": false,
     "start_time": "2022-06-05T10:45:39.027408",
     "status": "completed"
    },
    "tags": []
   },
   "outputs": [
    {
     "name": "stderr",
     "output_type": "stream",
     "text": [
      "/opt/conda/lib/python3.7/site-packages/seaborn/_decorators.py:43: FutureWarning: Pass the following variable as a keyword arg: x. From version 0.12, the only valid positional argument will be `data`, and passing other arguments without an explicit keyword will result in an error or misinterpretation.\n",
      "  FutureWarning\n"
     ]
    },
    {
     "data": {
      "image/png": "[encoded data removed]",
      "text/plain": [
       "<Figure size 432x288 with 1 Axes>"
      ]
     },
     "metadata": {
      "needs_background": "light"
     },
     "output_type": "display_data"
    }
   ],
   "source": [
    "sns.boxplot(data1['Adult_Mortality'])\n",
    "plt.show()"
   ]
  },
  {
   "cell_type": "code",
   "execution_count": 20,
   "id": "b4dd694e",
   "metadata": {
    "execution": {
     "iopub.execute_input": "2022-06-05T10:45:39.449355Z",
     "iopub.status.busy": "2022-06-05T10:45:39.448727Z",
     "iopub.status.idle": "2022-06-05T10:45:39.826968Z",
     "shell.execute_reply": "2022-06-05T10:45:39.826313Z"
    },
    "papermill": {
     "duration": 0.468225,
     "end_time": "2022-06-05T10:45:39.828972",
     "exception": false,
     "start_time": "2022-06-05T10:45:39.360747",
     "status": "completed"
    },
    "tags": []
   },
   "outputs": [
    {
     "data": {
      "image/png": "[encoded data removed]",
      "text/plain": [
       "<Figure size 432x288 with 1 Axes>"
      ]
     },
     "metadata": {
      "needs_background": "light"
     },
     "output_type": "display_data"
    },
    {
     "data": {
      "image/png": "[encoded data removed]",
      "text/plain": [
       "<Figure size 432x288 with 1 Axes>"
      ]
     },
     "metadata": {
      "needs_background": "light"
     },
     "output_type": "display_data"
    }
   ],
   "source": [
    "plt.hist(data1['infant_deaths'])\n",
    "plt.title('before transf')\n",
    "plt.show()\n",
    "data1['infant_deaths'] = (data1['infant_deaths']**(1/3))\n",
    "plt.hist(data1['infant_deaths'])\n",
    "plt.title('after transf')\n",
    "plt.show()"
   ]
  },
  {
   "cell_type": "code",
   "execution_count": 21,
   "id": "9073946a",
   "metadata": {
    "execution": {
     "iopub.execute_input": "2022-06-05T10:45:40.011938Z",
     "iopub.status.busy": "2022-06-05T10:45:40.011469Z",
     "iopub.status.idle": "2022-06-05T10:45:40.390384Z",
     "shell.execute_reply": "2022-06-05T10:45:40.389371Z"
    },
    "papermill": {
     "duration": 0.473383,
     "end_time": "2022-06-05T10:45:40.392583",
     "exception": false,
     "start_time": "2022-06-05T10:45:39.919200",
     "status": "completed"
    },
    "tags": []
   },
   "outputs": [
    {
     "data": {
      "image/png": "[encoded data removed]",
      "text/plain": [
       "<Figure size 432x288 with 1 Axes>"
      ]
     },
     "metadata": {
      "needs_background": "light"
     },
     "output_type": "display_data"
    },
    {
     "data": {
      "image/png": "[encoded data removed]",
      "text/plain": [
       "<Figure size 432x288 with 1 Axes>"
      ]
     },
     "metadata": {
      "needs_background": "light"
     },
     "output_type": "display_data"
    }
   ],
   "source": [
    "\n",
    "plt.hist(data1['percentage_expenditure'])\n",
    "plt.title('before transf')\n",
    "plt.show()\n",
    "data1['percentage_expenditure'] = (data1['percentage_expenditure']**(1/3))\n",
    "plt.hist(data1['percentage_expenditure'])\n",
    "plt.title('after transf')\n",
    "plt.show()\n"
   ]
  },
  {
   "cell_type": "code",
   "execution_count": 22,
   "id": "f0eada48",
   "metadata": {
    "execution": {
     "iopub.execute_input": "2022-06-05T10:45:40.575505Z",
     "iopub.status.busy": "2022-06-05T10:45:40.574605Z",
     "iopub.status.idle": "2022-06-05T10:45:40.969066Z",
     "shell.execute_reply": "2022-06-05T10:45:40.968183Z"
    },
    "papermill": {
     "duration": 0.488156,
     "end_time": "2022-06-05T10:45:40.971265",
     "exception": false,
     "start_time": "2022-06-05T10:45:40.483109",
     "status": "completed"
    },
    "tags": []
   },
   "outputs": [
    {
     "data": {
      "image/png": "[encoded data removed]",
      "text/plain": [
       "<Figure size 432x288 with 1 Axes>"
      ]
     },
     "metadata": {
      "needs_background": "light"
     },
     "output_type": "display_data"
    },
    {
     "data": {
      "image/png": "[encoded data removed]",
      "text/plain": [
       "<Figure size 432x288 with 1 Axes>"
      ]
     },
     "metadata": {
      "needs_background": "light"
     },
     "output_type": "display_data"
    }
   ],
   "source": [
    "plt.hist(data1['Hepatitis_B'])\n",
    "plt.title('before transf')\n",
    "plt.show()\n",
    "data1['Hepatitis_B'] = (data1['Hepatitis_B']**(1/3))\n",
    "plt.hist(data1['Hepatitis_B'])\n",
    "plt.title('after transf')\n",
    "plt.show()"
   ]
  },
  {
   "cell_type": "code",
   "execution_count": 23,
   "id": "2ecd228a",
   "metadata": {
    "execution": {
     "iopub.execute_input": "2022-06-05T10:45:41.174173Z",
     "iopub.status.busy": "2022-06-05T10:45:41.173892Z",
     "iopub.status.idle": "2022-06-05T10:45:41.570138Z",
     "shell.execute_reply": "2022-06-05T10:45:41.569203Z"
    },
    "papermill": {
     "duration": 0.504485,
     "end_time": "2022-06-05T10:45:41.572553",
     "exception": false,
     "start_time": "2022-06-05T10:45:41.068068",
     "status": "completed"
    },
    "tags": []
   },
   "outputs": [
    {
     "data": {
      "image/png": "[encoded data removed]",
      "text/plain": [
       "<Figure size 432x288 with 1 Axes>"
      ]
     },
     "metadata": {
      "needs_background": "light"
     },
     "output_type": "display_data"
    },
    {
     "data": {
      "image/png": "[encoded data removed]",
      "text/plain": [
       "<Figure size 432x288 with 1 Axes>"
      ]
     },
     "metadata": {
      "needs_background": "light"
     },
     "output_type": "display_data"
    }
   ],
   "source": [
    "plt.hist(data1['Measles_'])\n",
    "plt.title('before transf')\n",
    "plt.show()\n",
    "data1['Measles_'] = (data1['Measles_']**(1/3))\n",
    "plt.hist(data1['Measles_'])\n",
    "plt.title('after transf')\n",
    "plt.show()"
   ]
  },
  {
   "cell_type": "code",
   "execution_count": 24,
   "id": "46cb23d8",
   "metadata": {
    "execution": {
     "iopub.execute_input": "2022-06-05T10:45:41.763834Z",
     "iopub.status.busy": "2022-06-05T10:45:41.763573Z",
     "iopub.status.idle": "2022-06-05T10:45:41.914189Z",
     "shell.execute_reply": "2022-06-05T10:45:41.913212Z"
    },
    "papermill": {
     "duration": 0.248139,
     "end_time": "2022-06-05T10:45:41.916798",
     "exception": false,
     "start_time": "2022-06-05T10:45:41.668659",
     "status": "completed"
    },
    "tags": []
   },
   "outputs": [
    {
     "name": "stderr",
     "output_type": "stream",
     "text": [
      "/opt/conda/lib/python3.7/site-packages/seaborn/_decorators.py:43: FutureWarning: Pass the following variable as a keyword arg: x. From version 0.12, the only valid positional argument will be `data`, and passing other arguments without an explicit keyword will result in an error or misinterpretation.\n",
      "  FutureWarning\n"
     ]
    },
    {
     "data": {
      "image/png": "[encoded data removed]",
      "text/plain": [
       "<Figure size 432x288 with 1 Axes>"
      ]
     },
     "metadata": {
      "needs_background": "light"
     },
     "output_type": "display_data"
    }
   ],
   "source": [
    "sns.boxplot(data1['Measles_'])\n",
    "plt.show()"
   ]
  },
  {
   "cell_type": "code",
   "execution_count": 25,
   "id": "4c5052d8",
   "metadata": {
    "execution": {
     "iopub.execute_input": "2022-06-05T10:45:42.106278Z",
     "iopub.status.busy": "2022-06-05T10:45:42.105962Z",
     "iopub.status.idle": "2022-06-05T10:45:42.690591Z",
     "shell.execute_reply": "2022-06-05T10:45:42.690055Z"
    },
    "papermill": {
     "duration": 0.681801,
     "end_time": "2022-06-05T10:45:42.692464",
     "exception": false,
     "start_time": "2022-06-05T10:45:42.010663",
     "status": "completed"
    },
    "tags": []
   },
   "outputs": [
    {
     "data": {
      "image/png": "[encoded data removed]",
      "text/plain": [
       "<Figure size 432x288 with 1 Axes>"
      ]
     },
     "metadata": {
      "needs_background": "light"
     },
     "output_type": "display_data"
    },
    {
     "data": {
      "image/png": "[encoded data removed]",
      "text/plain": [
       "<Figure size 432x288 with 1 Axes>"
      ]
     },
     "metadata": {
      "needs_background": "light"
     },
     "output_type": "display_data"
    }
   ],
   "source": [
    "\n",
    "plt.hist(data1['under-five_deaths_'])\n",
    "plt.title('before transf')\n",
    "plt.show()\n",
    "data1['under-five_deaths_'] = (data1['under-five_deaths_']**(1/3))\n",
    "plt.hist(data1['under-five_deaths_'])\n",
    "plt.title('after transf')\n",
    "plt.show()"
   ]
  },
  {
   "cell_type": "code",
   "execution_count": 26,
   "id": "d8be16aa",
   "metadata": {
    "execution": {
     "iopub.execute_input": "2022-06-05T10:45:42.886247Z",
     "iopub.status.busy": "2022-06-05T10:45:42.885729Z",
     "iopub.status.idle": "2022-06-05T10:45:43.041722Z",
     "shell.execute_reply": "2022-06-05T10:45:43.040691Z"
    },
    "papermill": {
     "duration": 0.255894,
     "end_time": "2022-06-05T10:45:43.044110",
     "exception": false,
     "start_time": "2022-06-05T10:45:42.788216",
     "status": "completed"
    },
    "tags": []
   },
   "outputs": [
    {
     "name": "stderr",
     "output_type": "stream",
     "text": [
      "/opt/conda/lib/python3.7/site-packages/seaborn/_decorators.py:43: FutureWarning: Pass the following variable as a keyword arg: x. From version 0.12, the only valid positional argument will be `data`, and passing other arguments without an explicit keyword will result in an error or misinterpretation.\n",
      "  FutureWarning\n"
     ]
    },
    {
     "data": {
      "image/png": "[encoded data removed]",
      "text/plain": [
       "<Figure size 432x288 with 1 Axes>"
      ]
     },
     "metadata": {
      "needs_background": "light"
     },
     "output_type": "display_data"
    }
   ],
   "source": [
    "sns.boxplot(data1['under-five_deaths_'])\n",
    "plt.show()"
   ]
  },
  {
   "cell_type": "code",
   "execution_count": 27,
   "id": "a977df63",
   "metadata": {
    "execution": {
     "iopub.execute_input": "2022-06-05T10:45:43.239161Z",
     "iopub.status.busy": "2022-06-05T10:45:43.238851Z",
     "iopub.status.idle": "2022-06-05T10:45:43.632617Z",
     "shell.execute_reply": "2022-06-05T10:45:43.631785Z"
    },
    "papermill": {
     "duration": 0.493344,
     "end_time": "2022-06-05T10:45:43.634871",
     "exception": false,
     "start_time": "2022-06-05T10:45:43.141527",
     "status": "completed"
    },
    "tags": []
   },
   "outputs": [
    {
     "data": {
      "image/png": "[encoded data removed]",
      "text/plain": [
       "<Figure size 432x288 with 1 Axes>"
      ]
     },
     "metadata": {
      "needs_background": "light"
     },
     "output_type": "display_data"
    },
    {
     "data": {
      "image/png": "[encoded data removed]",
      "text/plain": [
       "<Figure size 432x288 with 1 Axes>"
      ]
     },
     "metadata": {
      "needs_background": "light"
     },
     "output_type": "display_data"
    }
   ],
   "source": [
    "plt.hist(data1['Polio'])\n",
    "plt.title('before transf')\n",
    "plt.show()\n",
    "data1['Polio'] = (data1['Polio']**(1/3))\n",
    "plt.hist(data1['Polio'])\n",
    "plt.title('after transf')\n",
    "plt.show()"
   ]
  },
  {
   "cell_type": "code",
   "execution_count": 28,
   "id": "687a0c5b",
   "metadata": {
    "execution": {
     "iopub.execute_input": "2022-06-05T10:45:43.833974Z",
     "iopub.status.busy": "2022-06-05T10:45:43.832996Z",
     "iopub.status.idle": "2022-06-05T10:45:44.236391Z",
     "shell.execute_reply": "2022-06-05T10:45:44.235529Z"
    },
    "papermill": {
     "duration": 0.504942,
     "end_time": "2022-06-05T10:45:44.238677",
     "exception": false,
     "start_time": "2022-06-05T10:45:43.733735",
     "status": "completed"
    },
    "tags": []
   },
   "outputs": [
    {
     "data": {
      "image/png": "[encoded data removed]",
      "text/plain": [
       "<Figure size 432x288 with 1 Axes>"
      ]
     },
     "metadata": {
      "needs_background": "light"
     },
     "output_type": "display_data"
    },
    {
     "data": {
      "image/png": "[encoded data removed]",
      "text/plain": [
       "<Figure size 432x288 with 1 Axes>"
      ]
     },
     "metadata": {
      "needs_background": "light"
     },
     "output_type": "display_data"
    }
   ],
   "source": [
    "plt.hist(data1['Total_expenditure'])\n",
    "plt.title('before transf')\n",
    "plt.show()\n",
    "data1['Total_expenditure'] = (data1['Total_expenditure']**(1/3))\n",
    "plt.hist(data1['Total_expenditure'])\n",
    "plt.title('after transf')\n",
    "plt.show()"
   ]
  },
  {
   "cell_type": "code",
   "execution_count": 29,
   "id": "a4503f2d",
   "metadata": {
    "execution": {
     "iopub.execute_input": "2022-06-05T10:45:44.439736Z",
     "iopub.status.busy": "2022-06-05T10:45:44.439452Z",
     "iopub.status.idle": "2022-06-05T10:45:44.813296Z",
     "shell.execute_reply": "2022-06-05T10:45:44.812588Z"
    },
    "papermill": {
     "duration": 0.476141,
     "end_time": "2022-06-05T10:45:44.815226",
     "exception": false,
     "start_time": "2022-06-05T10:45:44.339085",
     "status": "completed"
    },
    "tags": []
   },
   "outputs": [
    {
     "data": {
      "image/png": "[encoded data removed]",
      "text/plain": [
       "<Figure size 432x288 with 1 Axes>"
      ]
     },
     "metadata": {
      "needs_background": "light"
     },
     "output_type": "display_data"
    },
    {
     "data": {
      "image/png": "[encoded data removed]",
      "text/plain": [
       "<Figure size 432x288 with 1 Axes>"
      ]
     },
     "metadata": {
      "needs_background": "light"
     },
     "output_type": "display_data"
    }
   ],
   "source": [
    "plt.hist(data1['Diphtheria_'])\n",
    "plt.title('before transf')\n",
    "plt.show()\n",
    "data1['Diphtheria_'] = (data1['Diphtheria_']**(1/3))\n",
    "plt.hist(data1['Diphtheria_'])\n",
    "plt.title('after transf')\n",
    "plt.show()"
   ]
  },
  {
   "cell_type": "code",
   "execution_count": 30,
   "id": "6f22ccb4",
   "metadata": {
    "execution": {
     "iopub.execute_input": "2022-06-05T10:45:45.020221Z",
     "iopub.status.busy": "2022-06-05T10:45:45.019781Z",
     "iopub.status.idle": "2022-06-05T10:45:45.394519Z",
     "shell.execute_reply": "2022-06-05T10:45:45.393796Z"
    },
    "papermill": {
     "duration": 0.478984,
     "end_time": "2022-06-05T10:45:45.396583",
     "exception": false,
     "start_time": "2022-06-05T10:45:44.917599",
     "status": "completed"
    },
    "tags": []
   },
   "outputs": [
    {
     "data": {
      "image/png": "[encoded data removed]",
      "text/plain": [
       "<Figure size 432x288 with 1 Axes>"
      ]
     },
     "metadata": {
      "needs_background": "light"
     },
     "output_type": "display_data"
    },
    {
     "data": {
      "image/png": "[encoded data removed]",
      "text/plain": [
       "<Figure size 432x288 with 1 Axes>"
      ]
     },
     "metadata": {
      "needs_background": "light"
     },
     "output_type": "display_data"
    }
   ],
   "source": [
    "plt.hist(data1['_HIV/AIDS'])\n",
    "plt.title('before transf')\n",
    "plt.show()\n",
    "data1['_HIV/AIDS'] = (data1['_HIV/AIDS']**(1/3))\n",
    "plt.hist(data1['_HIV/AIDS'])\n",
    "plt.title('after transf')\n",
    "plt.show()"
   ]
  },
  {
   "cell_type": "code",
   "execution_count": 31,
   "id": "4abdfd8c",
   "metadata": {
    "execution": {
     "iopub.execute_input": "2022-06-05T10:45:45.605967Z",
     "iopub.status.busy": "2022-06-05T10:45:45.605444Z",
     "iopub.status.idle": "2022-06-05T10:45:45.979461Z",
     "shell.execute_reply": "2022-06-05T10:45:45.978599Z"
    },
    "papermill": {
     "duration": 0.481021,
     "end_time": "2022-06-05T10:45:45.981686",
     "exception": false,
     "start_time": "2022-06-05T10:45:45.500665",
     "status": "completed"
    },
    "tags": []
   },
   "outputs": [
    {
     "data": {
      "image/png": "[encoded data removed]",
      "text/plain": [
       "<Figure size 432x288 with 1 Axes>"
      ]
     },
     "metadata": {
      "needs_background": "light"
     },
     "output_type": "display_data"
    },
    {
     "data": {
      "image/png": "[encoded data removed]",
      "text/plain": [
       "<Figure size 432x288 with 1 Axes>"
      ]
     },
     "metadata": {
      "needs_background": "light"
     },
     "output_type": "display_data"
    }
   ],
   "source": [
    "plt.hist(data1['GDP'])\n",
    "plt.title('before transf')\n",
    "plt.show()\n",
    "data1['GDP'] = (data1['GDP']**(1/3))\n",
    "plt.hist(data1['GDP'])\n",
    "plt.title('after transf')\n",
    "plt.show()"
   ]
  },
  {
   "cell_type": "code",
   "execution_count": 32,
   "id": "b86b7762",
   "metadata": {
    "execution": {
     "iopub.execute_input": "2022-06-05T10:45:46.195948Z",
     "iopub.status.busy": "2022-06-05T10:45:46.195641Z",
     "iopub.status.idle": "2022-06-05T10:45:46.577008Z",
     "shell.execute_reply": "2022-06-05T10:45:46.576195Z"
    },
    "papermill": {
     "duration": 0.491017,
     "end_time": "2022-06-05T10:45:46.579033",
     "exception": false,
     "start_time": "2022-06-05T10:45:46.088016",
     "status": "completed"
    },
    "tags": []
   },
   "outputs": [
    {
     "data": {
      "image/png": "[encoded data removed]",
      "text/plain": [
       "<Figure size 432x288 with 1 Axes>"
      ]
     },
     "metadata": {
      "needs_background": "light"
     },
     "output_type": "display_data"
    },
    {
     "data": {
      "image/png": "[encoded data removed]",
      "text/plain": [
       "<Figure size 432x288 with 1 Axes>"
      ]
     },
     "metadata": {
      "needs_background": "light"
     },
     "output_type": "display_data"
    }
   ],
   "source": [
    "plt.hist(data1['Population'])\n",
    "plt.title('before transf')\n",
    "plt.show()\n",
    "data1['Population'] = (data1['Population']**(1/3))\n",
    "plt.hist(data1['Population'])\n",
    "plt.title('after transf')\n",
    "plt.show()"
   ]
  },
  {
   "cell_type": "code",
   "execution_count": 33,
   "id": "42a67b91",
   "metadata": {
    "execution": {
     "iopub.execute_input": "2022-06-05T10:45:46.793379Z",
     "iopub.status.busy": "2022-06-05T10:45:46.793095Z",
     "iopub.status.idle": "2022-06-05T10:45:47.169433Z",
     "shell.execute_reply": "2022-06-05T10:45:47.168533Z"
    },
    "papermill": {
     "duration": 0.485917,
     "end_time": "2022-06-05T10:45:47.171697",
     "exception": false,
     "start_time": "2022-06-05T10:45:46.685780",
     "status": "completed"
    },
    "tags": []
   },
   "outputs": [
    {
     "data": {
      "image/png": "[encoded data removed]",
      "text/plain": [
       "<Figure size 432x288 with 1 Axes>"
      ]
     },
     "metadata": {
      "needs_background": "light"
     },
     "output_type": "display_data"
    },
    {
     "data": {
      "image/png": "[encoded data removed]",
      "text/plain": [
       "<Figure size 432x288 with 1 Axes>"
      ]
     },
     "metadata": {
      "needs_background": "light"
     },
     "output_type": "display_data"
    }
   ],
   "source": [
    "plt.hist(data1['_thinness__1-19_years'])\n",
    "plt.title('before transf')\n",
    "plt.show()\n",
    "data1['_thinness__1-19_years'] = (data1['_thinness__1-19_years']**(1/3))\n",
    "plt.hist(data1['_thinness__1-19_years'])\n",
    "plt.title('after transf')\n",
    "plt.show()"
   ]
  },
  {
   "cell_type": "code",
   "execution_count": 34,
   "id": "764c1430",
   "metadata": {
    "execution": {
     "iopub.execute_input": "2022-06-05T10:45:47.393306Z",
     "iopub.status.busy": "2022-06-05T10:45:47.392537Z",
     "iopub.status.idle": "2022-06-05T10:45:47.935436Z",
     "shell.execute_reply": "2022-06-05T10:45:47.934352Z"
    },
    "papermill": {
     "duration": 0.657283,
     "end_time": "2022-06-05T10:45:47.937587",
     "exception": false,
     "start_time": "2022-06-05T10:45:47.280304",
     "status": "completed"
    },
    "tags": []
   },
   "outputs": [
    {
     "data": {
      "image/png": "[encoded data removed]",
      "text/plain": [
       "<Figure size 432x288 with 1 Axes>"
      ]
     },
     "metadata": {
      "needs_background": "light"
     },
     "output_type": "display_data"
    },
    {
     "data": {
      "image/png": "[encoded data removed]",
      "text/plain": [
       "<Figure size 432x288 with 1 Axes>"
      ]
     },
     "metadata": {
      "needs_background": "light"
     },
     "output_type": "display_data"
    }
   ],
   "source": [
    "plt.hist(data1['_thinness_5-9_years'])\n",
    "plt.title('before transf')\n",
    "plt.show()\n",
    "data1['_thinness_5-9_years'] = (data1['_thinness_5-9_years']**(1/3))\n",
    "plt.hist(data1['_thinness_5-9_years'])\n",
    "plt.title('after transf')\n",
    "plt.show()"
   ]
  },
  {
   "cell_type": "code",
   "execution_count": 35,
   "id": "71316cab",
   "metadata": {
    "execution": {
     "iopub.execute_input": "2022-06-05T10:45:48.163006Z",
     "iopub.status.busy": "2022-06-05T10:45:48.162606Z",
     "iopub.status.idle": "2022-06-05T10:45:50.050516Z",
     "shell.execute_reply": "2022-06-05T10:45:50.049687Z"
    },
    "papermill": {
     "duration": 2.001152,
     "end_time": "2022-06-05T10:45:50.053758",
     "exception": false,
     "start_time": "2022-06-05T10:45:48.052606",
     "status": "completed"
    },
    "tags": []
   },
   "outputs": [
    {
     "data": {
      "image/png": "[encoded data removed]",
      "text/plain": [
       "<Figure size 1440x2160 with 20 Axes>"
      ]
     },
     "metadata": {
      "needs_background": "light"
     },
     "output_type": "display_data"
    }
   ],
   "source": [
    "plt.figure(figsize = (20,30))\n",
    "for var, i in columns.items():\n",
    "    plt.subplot(5,4,i)\n",
    "    plt.boxplot(data1[var])\n",
    "    plt.title(var)\n",
    "plt.show()"
   ]
  },
  {
   "cell_type": "markdown",
   "id": "14aed41c",
   "metadata": {
    "papermill": {
     "duration": 0.110994,
     "end_time": "2022-06-05T10:45:50.276941",
     "exception": false,
     "start_time": "2022-06-05T10:45:50.165947",
     "status": "completed"
    },
    "tags": []
   },
   "source": [
    "### There is definitely an improvement and the number of outliers have reduced significantly!"
   ]
  },
  {
   "cell_type": "code",
   "execution_count": 36,
   "id": "eea1c057",
   "metadata": {
    "execution": {
     "iopub.execute_input": "2022-06-05T10:45:50.503817Z",
     "iopub.status.busy": "2022-06-05T10:45:50.503261Z",
     "iopub.status.idle": "2022-06-05T10:45:50.528288Z",
     "shell.execute_reply": "2022-06-05T10:45:50.527478Z"
    },
    "papermill": {
     "duration": 0.140467,
     "end_time": "2022-06-05T10:45:50.530367",
     "exception": false,
     "start_time": "2022-06-05T10:45:50.389900",
     "status": "completed"
    },
    "tags": []
   },
   "outputs": [
    {
     "data": {
      "text/html": [
       "<div>\n",
       "<style scoped>\n",
       "    .dataframe tbody tr th:only-of-type {\n",
       "        vertical-align: middle;\n",
       "    }\n",
       "\n",
       "    .dataframe tbody tr th {\n",
       "        vertical-align: top;\n",
       "    }\n",
       "\n",
       "    .dataframe thead th {\n",
       "        text-align: right;\n",
       "    }\n",
       "</style>\n",
       "<table border=\"1\" class=\"dataframe\">\n",
       "  <thead>\n",
       "    <tr style=\"text-align: right;\">\n",
       "      <th></th>\n",
       "      <th>Year</th>\n",
       "      <th>Status</th>\n",
       "      <th>Life_expectancy_</th>\n",
       "      <th>Adult_Mortality</th>\n",
       "      <th>infant_deaths</th>\n",
       "      <th>Alcohol</th>\n",
       "      <th>percentage_expenditure</th>\n",
       "      <th>Hepatitis_B</th>\n",
       "      <th>Measles_</th>\n",
       "      <th>_BMI_</th>\n",
       "      <th>under-five_deaths_</th>\n",
       "      <th>Polio</th>\n",
       "      <th>Total_expenditure</th>\n",
       "      <th>Diphtheria_</th>\n",
       "      <th>_HIV/AIDS</th>\n",
       "      <th>GDP</th>\n",
       "      <th>Population</th>\n",
       "      <th>_thinness__1-19_years</th>\n",
       "      <th>_thinness_5-9_years</th>\n",
       "      <th>Income_composition_of_resources</th>\n",
       "      <th>Schooling</th>\n",
       "    </tr>\n",
       "  </thead>\n",
       "  <tbody>\n",
       "    <tr>\n",
       "      <th>0</th>\n",
       "      <td>2015</td>\n",
       "      <td>0</td>\n",
       "      <td>4.020726</td>\n",
       "      <td>6.406959</td>\n",
       "      <td>3.957892</td>\n",
       "      <td>0.01</td>\n",
       "      <td>4.146247</td>\n",
       "      <td>4.020726</td>\n",
       "      <td>10.489029</td>\n",
       "      <td>19.1</td>\n",
       "      <td>4.362071</td>\n",
       "      <td>1.817121</td>\n",
       "      <td>2.013245</td>\n",
       "      <td>4.020726</td>\n",
       "      <td>0.464159</td>\n",
       "      <td>8.359915</td>\n",
       "      <td>323.122090</td>\n",
       "      <td>2.581326</td>\n",
       "      <td>2.586319</td>\n",
       "      <td>0.479</td>\n",
       "      <td>10.1</td>\n",
       "    </tr>\n",
       "    <tr>\n",
       "      <th>1</th>\n",
       "      <td>2014</td>\n",
       "      <td>0</td>\n",
       "      <td>3.912692</td>\n",
       "      <td>6.471274</td>\n",
       "      <td>4.000000</td>\n",
       "      <td>0.01</td>\n",
       "      <td>4.189307</td>\n",
       "      <td>3.957892</td>\n",
       "      <td>7.894447</td>\n",
       "      <td>18.6</td>\n",
       "      <td>4.414005</td>\n",
       "      <td>3.870877</td>\n",
       "      <td>2.014889</td>\n",
       "      <td>3.957892</td>\n",
       "      <td>0.464159</td>\n",
       "      <td>8.493404</td>\n",
       "      <td>68.935037</td>\n",
       "      <td>2.596247</td>\n",
       "      <td>2.596247</td>\n",
       "      <td>0.476</td>\n",
       "      <td>10.0</td>\n",
       "    </tr>\n",
       "    <tr>\n",
       "      <th>2</th>\n",
       "      <td>2013</td>\n",
       "      <td>0</td>\n",
       "      <td>3.912692</td>\n",
       "      <td>6.447306</td>\n",
       "      <td>4.041240</td>\n",
       "      <td>0.01</td>\n",
       "      <td>4.183519</td>\n",
       "      <td>4.000000</td>\n",
       "      <td>7.547842</td>\n",
       "      <td>18.1</td>\n",
       "      <td>4.464745</td>\n",
       "      <td>3.957892</td>\n",
       "      <td>2.010775</td>\n",
       "      <td>4.000000</td>\n",
       "      <td>0.464159</td>\n",
       "      <td>8.580526</td>\n",
       "      <td>316.590388</td>\n",
       "      <td>2.606100</td>\n",
       "      <td>2.606100</td>\n",
       "      <td>0.470</td>\n",
       "      <td>9.9</td>\n",
       "    </tr>\n",
       "    <tr>\n",
       "      <th>3</th>\n",
       "      <td>2012</td>\n",
       "      <td>0</td>\n",
       "      <td>3.903963</td>\n",
       "      <td>6.479224</td>\n",
       "      <td>4.101566</td>\n",
       "      <td>0.01</td>\n",
       "      <td>4.276020</td>\n",
       "      <td>4.061548</td>\n",
       "      <td>14.072751</td>\n",
       "      <td>17.6</td>\n",
       "      <td>4.530655</td>\n",
       "      <td>4.061548</td>\n",
       "      <td>2.042427</td>\n",
       "      <td>4.061548</td>\n",
       "      <td>0.464159</td>\n",
       "      <td>8.750162</td>\n",
       "      <td>154.625638</td>\n",
       "      <td>2.615879</td>\n",
       "      <td>2.620741</td>\n",
       "      <td>0.463</td>\n",
       "      <td>9.8</td>\n",
       "    </tr>\n",
       "    <tr>\n",
       "      <th>4</th>\n",
       "      <td>2011</td>\n",
       "      <td>0</td>\n",
       "      <td>3.897390</td>\n",
       "      <td>6.502957</td>\n",
       "      <td>4.140818</td>\n",
       "      <td>0.01</td>\n",
       "      <td>1.921736</td>\n",
       "      <td>4.081655</td>\n",
       "      <td>14.443298</td>\n",
       "      <td>17.2</td>\n",
       "      <td>4.594701</td>\n",
       "      <td>4.081655</td>\n",
       "      <td>1.989107</td>\n",
       "      <td>4.081655</td>\n",
       "      <td>0.464159</td>\n",
       "      <td>3.990336</td>\n",
       "      <td>143.881187</td>\n",
       "      <td>2.630412</td>\n",
       "      <td>2.630412</td>\n",
       "      <td>0.454</td>\n",
       "      <td>9.5</td>\n",
       "    </tr>\n",
       "  </tbody>\n",
       "</table>\n",
       "</div>"
      ],
      "text/plain": [
       "   Year  Status  Life_expectancy_  Adult_Mortality  infant_deaths  Alcohol  \\\n",
       "0  2015       0          4.020726         6.406959       3.957892     0.01   \n",
       "1  2014       0          3.912692         6.471274       4.000000     0.01   \n",
       "2  2013       0          3.912692         6.447306       4.041240     0.01   \n",
       "3  2012       0          3.903963         6.479224       4.101566     0.01   \n",
       "4  2011       0          3.897390         6.502957       4.140818     0.01   \n",
       "\n",
       "   percentage_expenditure  Hepatitis_B   Measles_  _BMI_  under-five_deaths_  \\\n",
       "0                4.146247     4.020726  10.489029   19.1            4.362071   \n",
       "1                4.189307     3.957892   7.894447   18.6            4.414005   \n",
       "2                4.183519     4.000000   7.547842   18.1            4.464745   \n",
       "3                4.276020     4.061548  14.072751   17.6            4.530655   \n",
       "4                1.921736     4.081655  14.443298   17.2            4.594701   \n",
       "\n",
       "      Polio  Total_expenditure  Diphtheria_  _HIV/AIDS       GDP  Population  \\\n",
       "0  1.817121           2.013245     4.020726   0.464159  8.359915  323.122090   \n",
       "1  3.870877           2.014889     3.957892   0.464159  8.493404   68.935037   \n",
       "2  3.957892           2.010775     4.000000   0.464159  8.580526  316.590388   \n",
       "3  4.061548           2.042427     4.061548   0.464159  8.750162  154.625638   \n",
       "4  4.081655           1.989107     4.081655   0.464159  3.990336  143.881187   \n",
       "\n",
       "   _thinness__1-19_years  _thinness_5-9_years  \\\n",
       "0               2.581326             2.586319   \n",
       "1               2.596247             2.596247   \n",
       "2               2.606100             2.606100   \n",
       "3               2.615879             2.620741   \n",
       "4               2.630412             2.630412   \n",
       "\n",
       "   Income_composition_of_resources  Schooling  \n",
       "0                            0.479       10.1  \n",
       "1                            0.476       10.0  \n",
       "2                            0.470        9.9  \n",
       "3                            0.463        9.8  \n",
       "4                            0.454        9.5  "
      ]
     },
     "execution_count": 36,
     "metadata": {},
     "output_type": "execute_result"
    }
   ],
   "source": [
    "data1.head()"
   ]
  },
  {
   "cell_type": "code",
   "execution_count": 37,
   "id": "cbcfd9d9",
   "metadata": {
    "execution": {
     "iopub.execute_input": "2022-06-05T10:45:50.760220Z",
     "iopub.status.busy": "2022-06-05T10:45:50.759668Z",
     "iopub.status.idle": "2022-06-05T10:45:50.765852Z",
     "shell.execute_reply": "2022-06-05T10:45:50.765203Z"
    },
    "papermill": {
     "duration": 0.123592,
     "end_time": "2022-06-05T10:45:50.767787",
     "exception": false,
     "start_time": "2022-06-05T10:45:50.644195",
     "status": "completed"
    },
    "tags": []
   },
   "outputs": [],
   "source": [
    "X = data1.drop(['Life_expectancy_'], axis= 1)\n",
    "y = data1['Life_expectancy_']"
   ]
  },
  {
   "cell_type": "code",
   "execution_count": 38,
   "id": "82c698c1",
   "metadata": {
    "execution": {
     "iopub.execute_input": "2022-06-05T10:45:50.995231Z",
     "iopub.status.busy": "2022-06-05T10:45:50.994668Z",
     "iopub.status.idle": "2022-06-05T10:45:51.018445Z",
     "shell.execute_reply": "2022-06-05T10:45:51.017641Z"
    },
    "papermill": {
     "duration": 0.141172,
     "end_time": "2022-06-05T10:45:51.020543",
     "exception": false,
     "start_time": "2022-06-05T10:45:50.879371",
     "status": "completed"
    },
    "tags": []
   },
   "outputs": [
    {
     "data": {
      "text/html": [
       "<div>\n",
       "<style scoped>\n",
       "    .dataframe tbody tr th:only-of-type {\n",
       "        vertical-align: middle;\n",
       "    }\n",
       "\n",
       "    .dataframe tbody tr th {\n",
       "        vertical-align: top;\n",
       "    }\n",
       "\n",
       "    .dataframe thead th {\n",
       "        text-align: right;\n",
       "    }\n",
       "</style>\n",
       "<table border=\"1\" class=\"dataframe\">\n",
       "  <thead>\n",
       "    <tr style=\"text-align: right;\">\n",
       "      <th></th>\n",
       "      <th>Year</th>\n",
       "      <th>Status</th>\n",
       "      <th>Adult_Mortality</th>\n",
       "      <th>infant_deaths</th>\n",
       "      <th>Alcohol</th>\n",
       "      <th>percentage_expenditure</th>\n",
       "      <th>Hepatitis_B</th>\n",
       "      <th>Measles_</th>\n",
       "      <th>_BMI_</th>\n",
       "      <th>under-five_deaths_</th>\n",
       "      <th>Polio</th>\n",
       "      <th>Total_expenditure</th>\n",
       "      <th>Diphtheria_</th>\n",
       "      <th>_HIV/AIDS</th>\n",
       "      <th>GDP</th>\n",
       "      <th>Population</th>\n",
       "      <th>_thinness__1-19_years</th>\n",
       "      <th>_thinness_5-9_years</th>\n",
       "      <th>Income_composition_of_resources</th>\n",
       "      <th>Schooling</th>\n",
       "    </tr>\n",
       "  </thead>\n",
       "  <tbody>\n",
       "    <tr>\n",
       "      <th>0</th>\n",
       "      <td>2015</td>\n",
       "      <td>0</td>\n",
       "      <td>6.406959</td>\n",
       "      <td>3.957892</td>\n",
       "      <td>0.01</td>\n",
       "      <td>4.146247</td>\n",
       "      <td>4.020726</td>\n",
       "      <td>10.489029</td>\n",
       "      <td>19.1</td>\n",
       "      <td>4.362071</td>\n",
       "      <td>1.817121</td>\n",
       "      <td>2.013245</td>\n",
       "      <td>4.020726</td>\n",
       "      <td>0.464159</td>\n",
       "      <td>8.359915</td>\n",
       "      <td>323.122090</td>\n",
       "      <td>2.581326</td>\n",
       "      <td>2.586319</td>\n",
       "      <td>0.479</td>\n",
       "      <td>10.1</td>\n",
       "    </tr>\n",
       "    <tr>\n",
       "      <th>1</th>\n",
       "      <td>2014</td>\n",
       "      <td>0</td>\n",
       "      <td>6.471274</td>\n",
       "      <td>4.000000</td>\n",
       "      <td>0.01</td>\n",
       "      <td>4.189307</td>\n",
       "      <td>3.957892</td>\n",
       "      <td>7.894447</td>\n",
       "      <td>18.6</td>\n",
       "      <td>4.414005</td>\n",
       "      <td>3.870877</td>\n",
       "      <td>2.014889</td>\n",
       "      <td>3.957892</td>\n",
       "      <td>0.464159</td>\n",
       "      <td>8.493404</td>\n",
       "      <td>68.935037</td>\n",
       "      <td>2.596247</td>\n",
       "      <td>2.596247</td>\n",
       "      <td>0.476</td>\n",
       "      <td>10.0</td>\n",
       "    </tr>\n",
       "    <tr>\n",
       "      <th>2</th>\n",
       "      <td>2013</td>\n",
       "      <td>0</td>\n",
       "      <td>6.447306</td>\n",
       "      <td>4.041240</td>\n",
       "      <td>0.01</td>\n",
       "      <td>4.183519</td>\n",
       "      <td>4.000000</td>\n",
       "      <td>7.547842</td>\n",
       "      <td>18.1</td>\n",
       "      <td>4.464745</td>\n",
       "      <td>3.957892</td>\n",
       "      <td>2.010775</td>\n",
       "      <td>4.000000</td>\n",
       "      <td>0.464159</td>\n",
       "      <td>8.580526</td>\n",
       "      <td>316.590388</td>\n",
       "      <td>2.606100</td>\n",
       "      <td>2.606100</td>\n",
       "      <td>0.470</td>\n",
       "      <td>9.9</td>\n",
       "    </tr>\n",
       "    <tr>\n",
       "      <th>3</th>\n",
       "      <td>2012</td>\n",
       "      <td>0</td>\n",
       "      <td>6.479224</td>\n",
       "      <td>4.101566</td>\n",
       "      <td>0.01</td>\n",
       "      <td>4.276020</td>\n",
       "      <td>4.061548</td>\n",
       "      <td>14.072751</td>\n",
       "      <td>17.6</td>\n",
       "      <td>4.530655</td>\n",
       "      <td>4.061548</td>\n",
       "      <td>2.042427</td>\n",
       "      <td>4.061548</td>\n",
       "      <td>0.464159</td>\n",
       "      <td>8.750162</td>\n",
       "      <td>154.625638</td>\n",
       "      <td>2.615879</td>\n",
       "      <td>2.620741</td>\n",
       "      <td>0.463</td>\n",
       "      <td>9.8</td>\n",
       "    </tr>\n",
       "    <tr>\n",
       "      <th>4</th>\n",
       "      <td>2011</td>\n",
       "      <td>0</td>\n",
       "      <td>6.502957</td>\n",
       "      <td>4.140818</td>\n",
       "      <td>0.01</td>\n",
       "      <td>1.921736</td>\n",
       "      <td>4.081655</td>\n",
       "      <td>14.443298</td>\n",
       "      <td>17.2</td>\n",
       "      <td>4.594701</td>\n",
       "      <td>4.081655</td>\n",
       "      <td>1.989107</td>\n",
       "      <td>4.081655</td>\n",
       "      <td>0.464159</td>\n",
       "      <td>3.990336</td>\n",
       "      <td>143.881187</td>\n",
       "      <td>2.630412</td>\n",
       "      <td>2.630412</td>\n",
       "      <td>0.454</td>\n",
       "      <td>9.5</td>\n",
       "    </tr>\n",
       "  </tbody>\n",
       "</table>\n",
       "</div>"
      ],
      "text/plain": [
       "   Year  Status  Adult_Mortality  infant_deaths  Alcohol  \\\n",
       "0  2015       0         6.406959       3.957892     0.01   \n",
       "1  2014       0         6.471274       4.000000     0.01   \n",
       "2  2013       0         6.447306       4.041240     0.01   \n",
       "3  2012       0         6.479224       4.101566     0.01   \n",
       "4  2011       0         6.502957       4.140818     0.01   \n",
       "\n",
       "   percentage_expenditure  Hepatitis_B   Measles_  _BMI_  under-five_deaths_  \\\n",
       "0                4.146247     4.020726  10.489029   19.1            4.362071   \n",
       "1                4.189307     3.957892   7.894447   18.6            4.414005   \n",
       "2                4.183519     4.000000   7.547842   18.1            4.464745   \n",
       "3                4.276020     4.061548  14.072751   17.6            4.530655   \n",
       "4                1.921736     4.081655  14.443298   17.2            4.594701   \n",
       "\n",
       "      Polio  Total_expenditure  Diphtheria_  _HIV/AIDS       GDP  Population  \\\n",
       "0  1.817121           2.013245     4.020726   0.464159  8.359915  323.122090   \n",
       "1  3.870877           2.014889     3.957892   0.464159  8.493404   68.935037   \n",
       "2  3.957892           2.010775     4.000000   0.464159  8.580526  316.590388   \n",
       "3  4.061548           2.042427     4.061548   0.464159  8.750162  154.625638   \n",
       "4  4.081655           1.989107     4.081655   0.464159  3.990336  143.881187   \n",
       "\n",
       "   _thinness__1-19_years  _thinness_5-9_years  \\\n",
       "0               2.581326             2.586319   \n",
       "1               2.596247             2.596247   \n",
       "2               2.606100             2.606100   \n",
       "3               2.615879             2.620741   \n",
       "4               2.630412             2.630412   \n",
       "\n",
       "   Income_composition_of_resources  Schooling  \n",
       "0                            0.479       10.1  \n",
       "1                            0.476       10.0  \n",
       "2                            0.470        9.9  \n",
       "3                            0.463        9.8  \n",
       "4                            0.454        9.5  "
      ]
     },
     "execution_count": 38,
     "metadata": {},
     "output_type": "execute_result"
    }
   ],
   "source": [
    "X.head()"
   ]
  },
  {
   "cell_type": "code",
   "execution_count": 39,
   "id": "7c91c0b2",
   "metadata": {
    "execution": {
     "iopub.execute_input": "2022-06-05T10:45:51.250809Z",
     "iopub.status.busy": "2022-06-05T10:45:51.249806Z",
     "iopub.status.idle": "2022-06-05T10:45:51.633050Z",
     "shell.execute_reply": "2022-06-05T10:45:51.632201Z"
    },
    "papermill": {
     "duration": 0.499526,
     "end_time": "2022-06-05T10:45:51.635510",
     "exception": false,
     "start_time": "2022-06-05T10:45:51.135984",
     "status": "completed"
    },
    "tags": []
   },
   "outputs": [],
   "source": [
    "from sklearn.model_selection import train_test_split\n",
    "x_train, x_test, y_train, y_test = train_test_split(X, y, test_size = 0.3\n",
    "                                                   , random_state = 0)"
   ]
  },
  {
   "cell_type": "code",
   "execution_count": 40,
   "id": "03a20cdd",
   "metadata": {
    "execution": {
     "iopub.execute_input": "2022-06-05T10:45:51.868856Z",
     "iopub.status.busy": "2022-06-05T10:45:51.868072Z",
     "iopub.status.idle": "2022-06-05T10:45:52.095149Z",
     "shell.execute_reply": "2022-06-05T10:45:52.094281Z"
    },
    "papermill": {
     "duration": 0.345799,
     "end_time": "2022-06-05T10:45:52.097758",
     "exception": false,
     "start_time": "2022-06-05T10:45:51.751959",
     "status": "completed"
    },
    "tags": []
   },
   "outputs": [],
   "source": [
    "from sklearn.ensemble import RandomForestRegressor\n",
    "reg = RandomForestRegressor(n_estimators = 200, random_state = 10, \n",
    "                            max_depth = 50)"
   ]
  },
  {
   "cell_type": "code",
   "execution_count": 41,
   "id": "fa6c23cf",
   "metadata": {
    "execution": {
     "iopub.execute_input": "2022-06-05T10:45:52.331700Z",
     "iopub.status.busy": "2022-06-05T10:45:52.331439Z",
     "iopub.status.idle": "2022-06-05T10:45:56.218470Z",
     "shell.execute_reply": "2022-06-05T10:45:56.217632Z"
    },
    "papermill": {
     "duration": 4.002977,
     "end_time": "2022-06-05T10:45:56.220563",
     "exception": false,
     "start_time": "2022-06-05T10:45:52.217586",
     "status": "completed"
    },
    "tags": []
   },
   "outputs": [
    {
     "data": {
      "text/plain": [
       "RandomForestRegressor(max_depth=50, n_estimators=200, random_state=10)"
      ]
     },
     "execution_count": 41,
     "metadata": {},
     "output_type": "execute_result"
    }
   ],
   "source": [
    "reg.fit(x_train, y_train)"
   ]
  },
  {
   "cell_type": "code",
   "execution_count": 42,
   "id": "9da6a000",
   "metadata": {
    "execution": {
     "iopub.execute_input": "2022-06-05T10:45:56.448446Z",
     "iopub.status.busy": "2022-06-05T10:45:56.448153Z",
     "iopub.status.idle": "2022-06-05T10:45:56.512285Z",
     "shell.execute_reply": "2022-06-05T10:45:56.511370Z"
    },
    "papermill": {
     "duration": 0.180455,
     "end_time": "2022-06-05T10:45:56.514651",
     "exception": false,
     "start_time": "2022-06-05T10:45:56.334196",
     "status": "completed"
    },
    "tags": []
   },
   "outputs": [],
   "source": [
    "y_pred = reg.predict(x_test)\n",
    "\n"
   ]
  },
  {
   "cell_type": "code",
   "execution_count": 43,
   "id": "b9009ddb",
   "metadata": {
    "execution": {
     "iopub.execute_input": "2022-06-05T10:45:56.743338Z",
     "iopub.status.busy": "2022-06-05T10:45:56.743032Z",
     "iopub.status.idle": "2022-06-05T10:45:56.748606Z",
     "shell.execute_reply": "2022-06-05T10:45:56.747963Z"
    },
    "papermill": {
     "duration": 0.12263,
     "end_time": "2022-06-05T10:45:56.750537",
     "exception": false,
     "start_time": "2022-06-05T10:45:56.627907",
     "status": "completed"
    },
    "tags": []
   },
   "outputs": [
    {
     "name": "stdout",
     "output_type": "stream",
     "text": [
      "Mean Squared Error:  0.0015578614449765099\n"
     ]
    }
   ],
   "source": [
    "from sklearn import metrics\n",
    "print('Mean Squared Error: ', metrics.mean_squared_error(y_test, y_pred))"
   ]
  },
  {
   "cell_type": "code",
   "execution_count": 44,
   "id": "5ba0f002",
   "metadata": {
    "execution": {
     "iopub.execute_input": "2022-06-05T10:45:56.979537Z",
     "iopub.status.busy": "2022-06-05T10:45:56.978567Z",
     "iopub.status.idle": "2022-06-05T10:45:56.984385Z",
     "shell.execute_reply": "2022-06-05T10:45:56.983467Z"
    },
    "papermill": {
     "duration": 0.12254,
     "end_time": "2022-06-05T10:45:56.986529",
     "exception": false,
     "start_time": "2022-06-05T10:45:56.863989",
     "status": "completed"
    },
    "tags": []
   },
   "outputs": [
    {
     "name": "stdout",
     "output_type": "stream",
     "text": [
      "R2 score:  0.9583997368065335\n"
     ]
    }
   ],
   "source": [
    "print('R2 score: ', metrics.r2_score(y_test, y_pred))"
   ]
  },
  {
   "cell_type": "markdown",
   "id": "c677afa0",
   "metadata": {
    "papermill": {
     "duration": 0.113742,
     "end_time": "2022-06-05T10:45:57.214559",
     "exception": false,
     "start_time": "2022-06-05T10:45:57.100817",
     "status": "completed"
    },
    "tags": []
   },
   "source": [
    "### Ok so Random Forest gives a pretty good score but let's explore more with Cross validation."
   ]
  },
  {
   "cell_type": "code",
   "execution_count": 45,
   "id": "dbdfae78",
   "metadata": {
    "execution": {
     "iopub.execute_input": "2022-06-05T10:45:57.446093Z",
     "iopub.status.busy": "2022-06-05T10:45:57.445786Z",
     "iopub.status.idle": "2022-06-05T10:45:57.450735Z",
     "shell.execute_reply": "2022-06-05T10:45:57.450199Z"
    },
    "papermill": {
     "duration": 0.123146,
     "end_time": "2022-06-05T10:45:57.453104",
     "exception": false,
     "start_time": "2022-06-05T10:45:57.329958",
     "status": "completed"
    },
    "tags": []
   },
   "outputs": [
    {
     "data": {
      "text/plain": [
       "(2938,)"
      ]
     },
     "execution_count": 45,
     "metadata": {},
     "output_type": "execute_result"
    }
   ],
   "source": [
    "y.shape"
   ]
  },
  {
   "cell_type": "code",
   "execution_count": 46,
   "id": "9542f0fd",
   "metadata": {
    "execution": {
     "iopub.execute_input": "2022-06-05T10:45:57.683607Z",
     "iopub.status.busy": "2022-06-05T10:45:57.683095Z",
     "iopub.status.idle": "2022-06-05T10:46:32.657191Z",
     "shell.execute_reply": "2022-06-05T10:46:32.656222Z"
    },
    "papermill": {
     "duration": 35.206719,
     "end_time": "2022-06-05T10:46:32.774813",
     "exception": false,
     "start_time": "2022-06-05T10:45:57.568094",
     "status": "completed"
    },
    "tags": []
   },
   "outputs": [
    {
     "name": "stdout",
     "output_type": "stream",
     "text": [
      "[0.96654223 0.95276561 0.96836264 0.96473829 0.95841719 0.95809524\n",
      " 0.94621366 0.96782566 0.96421123 0.96244149]\n",
      "0.960961324424398\n"
     ]
    }
   ],
   "source": [
    "# Cross validation\n",
    "from sklearn.model_selection import KFold\n",
    "from sklearn.model_selection import cross_val_score\n",
    "\n",
    "results = cross_val_score(reg, x_train, y_train, cv = KFold(10))\n",
    "print(results)\n",
    "print(np.mean(results))"
   ]
  },
  {
   "cell_type": "markdown",
   "id": "f0e4299a",
   "metadata": {
    "papermill": {
     "duration": 0.116908,
     "end_time": "2022-06-05T10:46:33.007678",
     "exception": false,
     "start_time": "2022-06-05T10:46:32.890770",
     "status": "completed"
    },
    "tags": []
   },
   "source": [
    "### Great! We have 96 % score now!"
   ]
  },
  {
   "cell_type": "markdown",
   "id": "eca696d8",
   "metadata": {
    "papermill": {
     "duration": 0.114189,
     "end_time": "2022-06-05T10:46:33.239082",
     "exception": false,
     "start_time": "2022-06-05T10:46:33.124893",
     "status": "completed"
    },
    "tags": []
   },
   "source": [
    "### Let's check if Randomized Search CV gives us a better result."
   ]
  },
  {
   "cell_type": "code",
   "execution_count": 47,
   "id": "f31f584c",
   "metadata": {
    "execution": {
     "iopub.execute_input": "2022-06-05T10:46:33.470081Z",
     "iopub.status.busy": "2022-06-05T10:46:33.469483Z",
     "iopub.status.idle": "2022-06-05T10:46:33.475117Z",
     "shell.execute_reply": "2022-06-05T10:46:33.474498Z"
    },
    "papermill": {
     "duration": 0.123218,
     "end_time": "2022-06-05T10:46:33.476909",
     "exception": false,
     "start_time": "2022-06-05T10:46:33.353691",
     "status": "completed"
    },
    "tags": []
   },
   "outputs": [],
   "source": [
    "# Randomized Search CV\n",
    "from sklearn.model_selection import GridSearchCV\n",
    "params = [{'n_estimators': [50, 100,200,300,400,500], \n",
    "          'criterion': ['squared_error', 'absolute_error'],\n",
    "           'max_depth': [10, 15, 30, 50, 100, 200],\n",
    "           'max_features':['auto','sqrt','log2'],\n",
    "           'random_state':[0, 10, 20, 50, 70, 100],\n",
    "           'n_jobs':[-1,  1]}]"
   ]
  },
  {
   "cell_type": "code",
   "execution_count": 48,
   "id": "93ae4b4c",
   "metadata": {
    "execution": {
     "iopub.execute_input": "2022-06-05T10:46:33.708013Z",
     "iopub.status.busy": "2022-06-05T10:46:33.707279Z",
     "iopub.status.idle": "2022-06-05T10:50:03.404640Z",
     "shell.execute_reply": "2022-06-05T10:50:03.403574Z"
    },
    "papermill": {
     "duration": 209.81573,
     "end_time": "2022-06-05T10:50:03.407323",
     "exception": false,
     "start_time": "2022-06-05T10:46:33.591593",
     "status": "completed"
    },
    "tags": []
   },
   "outputs": [],
   "source": [
    "# randomized Search CV\n",
    "from sklearn.model_selection import RandomizedSearchCV\n",
    "RScv = RandomizedSearchCV(reg, param_distributions = params, \n",
    "                          n_iter = 5, cv = 5)\n",
    "RScv = RScv.fit(x_train, y_train)"
   ]
  },
  {
   "cell_type": "code",
   "execution_count": 49,
   "id": "f946eb15",
   "metadata": {
    "execution": {
     "iopub.execute_input": "2022-06-05T10:50:03.640875Z",
     "iopub.status.busy": "2022-06-05T10:50:03.640403Z",
     "iopub.status.idle": "2022-06-05T10:50:03.646317Z",
     "shell.execute_reply": "2022-06-05T10:50:03.645287Z"
    },
    "papermill": {
     "duration": 0.124573,
     "end_time": "2022-06-05T10:50:03.648216",
     "exception": false,
     "start_time": "2022-06-05T10:50:03.523643",
     "status": "completed"
    },
    "tags": []
   },
   "outputs": [
    {
     "data": {
      "text/plain": [
       "0.9558522764770844"
      ]
     },
     "execution_count": 49,
     "metadata": {},
     "output_type": "execute_result"
    }
   ],
   "source": [
    "RScv.best_score_"
   ]
  },
  {
   "cell_type": "code",
   "execution_count": 50,
   "id": "bcfd95e5",
   "metadata": {
    "execution": {
     "iopub.execute_input": "2022-06-05T10:50:03.880557Z",
     "iopub.status.busy": "2022-06-05T10:50:03.880021Z",
     "iopub.status.idle": "2022-06-05T10:50:03.885011Z",
     "shell.execute_reply": "2022-06-05T10:50:03.884269Z"
    },
    "papermill": {
     "duration": 0.123395,
     "end_time": "2022-06-05T10:50:03.886820",
     "exception": false,
     "start_time": "2022-06-05T10:50:03.763425",
     "status": "completed"
    },
    "tags": []
   },
   "outputs": [
    {
     "data": {
      "text/plain": [
       "{'random_state': 20,\n",
       " 'n_jobs': -1,\n",
       " 'n_estimators': 300,\n",
       " 'max_features': 'auto',\n",
       " 'max_depth': 15,\n",
       " 'criterion': 'absolute_error'}"
      ]
     },
     "execution_count": 50,
     "metadata": {},
     "output_type": "execute_result"
    }
   ],
   "source": [
    "RScv.best_params_"
   ]
  },
  {
   "cell_type": "code",
   "execution_count": 51,
   "id": "c9e35ad0",
   "metadata": {
    "execution": {
     "iopub.execute_input": "2022-06-05T10:50:04.124194Z",
     "iopub.status.busy": "2022-06-05T10:50:04.123674Z",
     "iopub.status.idle": "2022-06-05T10:50:08.283118Z",
     "shell.execute_reply": "2022-06-05T10:50:08.282535Z"
    },
    "papermill": {
     "duration": 4.282605,
     "end_time": "2022-06-05T10:50:08.285140",
     "exception": false,
     "start_time": "2022-06-05T10:50:04.002535",
     "status": "completed"
    },
    "tags": []
   },
   "outputs": [
    {
     "name": "stderr",
     "output_type": "stream",
     "text": [
      "/opt/conda/lib/python3.7/site-packages/sklearn/ensemble/_forest.py:400: FutureWarning: Criterion 'mse' was deprecated in v1.0 and will be removed in version 1.2. Use `criterion='squared_error'` which is equivalent.\n",
      "  FutureWarning,\n"
     ]
    },
    {
     "data": {
      "text/plain": [
       "RandomForestRegressor(criterion='mse', max_depth=100, n_estimators=500,\n",
       "                      n_jobs=-1, random_state=100)"
      ]
     },
     "execution_count": 51,
     "metadata": {},
     "output_type": "execute_result"
    }
   ],
   "source": [
    "reg_RS = RandomForestRegressor(random_state= 100,\n",
    " n_jobs= -1,\n",
    " n_estimators= 500,\n",
    " max_features= 'auto',\n",
    " max_depth= 100,\n",
    " criterion= 'mse')\n",
    "reg_RS.fit(x_train, y_train)"
   ]
  },
  {
   "cell_type": "code",
   "execution_count": 52,
   "id": "5aeb511e",
   "metadata": {
    "execution": {
     "iopub.execute_input": "2022-06-05T10:50:08.519107Z",
     "iopub.status.busy": "2022-06-05T10:50:08.518565Z",
     "iopub.status.idle": "2022-06-05T10:50:08.726955Z",
     "shell.execute_reply": "2022-06-05T10:50:08.726172Z"
    },
    "papermill": {
     "duration": 0.32842,
     "end_time": "2022-06-05T10:50:08.729399",
     "exception": false,
     "start_time": "2022-06-05T10:50:08.400979",
     "status": "completed"
    },
    "tags": []
   },
   "outputs": [],
   "source": [
    "RS_pred = reg_RS.predict(x_test)"
   ]
  },
  {
   "cell_type": "code",
   "execution_count": 53,
   "id": "39a99a0e",
   "metadata": {
    "execution": {
     "iopub.execute_input": "2022-06-05T10:50:08.969737Z",
     "iopub.status.busy": "2022-06-05T10:50:08.969464Z",
     "iopub.status.idle": "2022-06-05T10:50:08.977334Z",
     "shell.execute_reply": "2022-06-05T10:50:08.976292Z"
    },
    "papermill": {
     "duration": 0.133049,
     "end_time": "2022-06-05T10:50:08.980776",
     "exception": false,
     "start_time": "2022-06-05T10:50:08.847727",
     "status": "completed"
    },
    "tags": []
   },
   "outputs": [
    {
     "name": "stdout",
     "output_type": "stream",
     "text": [
      "MSE:  0.0015637761270265215\n",
      "R2 score 0.9582417944357408\n"
     ]
    }
   ],
   "source": [
    "print('MSE: ',metrics.mean_squared_error(y_test, RS_pred))\n",
    "print('R2 score',metrics.r2_score(y_test, RS_pred))"
   ]
  },
  {
   "cell_type": "markdown",
   "id": "93507197",
   "metadata": {
    "papermill": {
     "duration": 0.123001,
     "end_time": "2022-06-05T10:50:09.231836",
     "exception": false,
     "start_time": "2022-06-05T10:50:09.108835",
     "status": "completed"
    },
    "tags": []
   },
   "source": [
    "### So there was no significant improvement after using RandomizedSearchCV"
   ]
  },
  {
   "cell_type": "markdown",
   "id": "7abb9387",
   "metadata": {
    "papermill": {
     "duration": 0.121598,
     "end_time": "2022-06-05T10:50:09.476238",
     "exception": false,
     "start_time": "2022-06-05T10:50:09.354640",
     "status": "completed"
    },
    "tags": []
   },
   "source": [
    "### Let us try other algorithms as well just in case"
   ]
  },
  {
   "cell_type": "code",
   "execution_count": 54,
   "id": "513a8d8c",
   "metadata": {
    "execution": {
     "iopub.execute_input": "2022-06-05T10:50:09.719816Z",
     "iopub.status.busy": "2022-06-05T10:50:09.718896Z",
     "iopub.status.idle": "2022-06-05T10:50:21.713226Z",
     "shell.execute_reply": "2022-06-05T10:50:21.712303Z"
    },
    "papermill": {
     "duration": 12.116884,
     "end_time": "2022-06-05T10:50:21.715534",
     "exception": false,
     "start_time": "2022-06-05T10:50:09.598650",
     "status": "completed"
    },
    "tags": []
   },
   "outputs": [
    {
     "name": "stdout",
     "output_type": "stream",
     "text": [
      "Requirement already satisfied: xgboost in /opt/conda/lib/python3.7/site-packages (1.6.0)\r\n",
      "Requirement already satisfied: numpy in /opt/conda/lib/python3.7/site-packages (from xgboost) (1.21.6)\r\n",
      "Requirement already satisfied: scipy in /opt/conda/lib/python3.7/site-packages (from xgboost) (1.7.3)\r\n",
      "\u001b[33mWARNING: Running pip as the 'root' user can result in broken permissions and conflicting behaviour with the system package manager. It is recommended to use a virtual environment instead: https://pip.pypa.io/warnings/venv\u001b[0m\u001b[33m\r\n",
      "\u001b[0m"
     ]
    }
   ],
   "source": [
    "# trying other algorithms\n",
    "!pip install xgboost"
   ]
  },
  {
   "cell_type": "code",
   "execution_count": 55,
   "id": "5d122a89",
   "metadata": {
    "execution": {
     "iopub.execute_input": "2022-06-05T10:50:21.955267Z",
     "iopub.status.busy": "2022-06-05T10:50:21.954963Z",
     "iopub.status.idle": "2022-06-05T10:50:22.058482Z",
     "shell.execute_reply": "2022-06-05T10:50:22.057883Z"
    },
    "papermill": {
     "duration": 0.226169,
     "end_time": "2022-06-05T10:50:22.060578",
     "exception": false,
     "start_time": "2022-06-05T10:50:21.834409",
     "status": "completed"
    },
    "tags": []
   },
   "outputs": [],
   "source": [
    "from xgboost import XGBRegressor"
   ]
  },
  {
   "cell_type": "code",
   "execution_count": 56,
   "id": "7ed4ad5d",
   "metadata": {
    "execution": {
     "iopub.execute_input": "2022-06-05T10:50:22.297544Z",
     "iopub.status.busy": "2022-06-05T10:50:22.296727Z",
     "iopub.status.idle": "2022-06-05T10:50:22.301087Z",
     "shell.execute_reply": "2022-06-05T10:50:22.300497Z"
    },
    "papermill": {
     "duration": 0.125313,
     "end_time": "2022-06-05T10:50:22.302958",
     "exception": false,
     "start_time": "2022-06-05T10:50:22.177645",
     "status": "completed"
    },
    "tags": []
   },
   "outputs": [],
   "source": [
    "model = XGBRegressor(n_estimators=1000, max_depth=7, eta=0.1, subsample=0.7, colsample_bytree=0.8)\n",
    "model1 = XGBRegressor()"
   ]
  },
  {
   "cell_type": "code",
   "execution_count": 57,
   "id": "b05bd825",
   "metadata": {
    "execution": {
     "iopub.execute_input": "2022-06-05T10:50:22.539650Z",
     "iopub.status.busy": "2022-06-05T10:50:22.539108Z",
     "iopub.status.idle": "2022-06-05T10:50:23.095429Z",
     "shell.execute_reply": "2022-06-05T10:50:23.094554Z"
    },
    "papermill": {
     "duration": 0.67717,
     "end_time": "2022-06-05T10:50:23.097591",
     "exception": false,
     "start_time": "2022-06-05T10:50:22.420421",
     "status": "completed"
    },
    "tags": []
   },
   "outputs": [
    {
     "data": {
      "text/plain": [
       "XGBRegressor(base_score=0.5, booster='gbtree', callbacks=None,\n",
       "             colsample_bylevel=1, colsample_bynode=1, colsample_bytree=1,\n",
       "             early_stopping_rounds=None, enable_categorical=False,\n",
       "             eval_metric=None, gamma=0, gpu_id=-1, grow_policy='depthwise',\n",
       "             importance_type=None, interaction_constraints='',\n",
       "             learning_rate=0.300000012, max_bin=256, max_cat_to_onehot=4,\n",
       "             max_delta_step=0, max_depth=6, max_leaves=0, min_child_weight=1,\n",
       "             missing=nan, monotone_constraints='()', n_estimators=100, n_jobs=0,\n",
       "             num_parallel_tree=1, predictor='auto', random_state=0, reg_alpha=0,\n",
       "             reg_lambda=1, ...)"
      ]
     },
     "execution_count": 57,
     "metadata": {},
     "output_type": "execute_result"
    }
   ],
   "source": [
    "model1.fit(x_train, y_train)"
   ]
  },
  {
   "cell_type": "code",
   "execution_count": 58,
   "id": "2adc8cd4",
   "metadata": {
    "execution": {
     "iopub.execute_input": "2022-06-05T10:50:23.336543Z",
     "iopub.status.busy": "2022-06-05T10:50:23.335840Z",
     "iopub.status.idle": "2022-06-05T10:50:23.346102Z",
     "shell.execute_reply": "2022-06-05T10:50:23.345488Z"
    },
    "papermill": {
     "duration": 0.131756,
     "end_time": "2022-06-05T10:50:23.348194",
     "exception": false,
     "start_time": "2022-06-05T10:50:23.216438",
     "status": "completed"
    },
    "tags": []
   },
   "outputs": [],
   "source": [
    "xg_pred = model1.predict(x_test)"
   ]
  },
  {
   "cell_type": "code",
   "execution_count": 59,
   "id": "7495626b",
   "metadata": {
    "execution": {
     "iopub.execute_input": "2022-06-05T10:50:23.588314Z",
     "iopub.status.busy": "2022-06-05T10:50:23.587997Z",
     "iopub.status.idle": "2022-06-05T10:50:23.595214Z",
     "shell.execute_reply": "2022-06-05T10:50:23.594528Z"
    },
    "papermill": {
     "duration": 0.127314,
     "end_time": "2022-06-05T10:50:23.596912",
     "exception": false,
     "start_time": "2022-06-05T10:50:23.469598",
     "status": "completed"
    },
    "tags": []
   },
   "outputs": [
    {
     "name": "stdout",
     "output_type": "stream",
     "text": [
      "Mean Squared Error:  0.0016251696409977478\n",
      "R2 score:  0.956602376278362\n"
     ]
    }
   ],
   "source": [
    "print('Mean Squared Error: ',metrics.mean_squared_error(y_test, xg_pred))\n",
    "print('R2 score: ',metrics.r2_score(y_test, xg_pred))"
   ]
  },
  {
   "cell_type": "code",
   "execution_count": 60,
   "id": "8d886206",
   "metadata": {
    "execution": {
     "iopub.execute_input": "2022-06-05T10:50:23.835634Z",
     "iopub.status.busy": "2022-06-05T10:50:23.835332Z",
     "iopub.status.idle": "2022-06-05T10:50:28.002251Z",
     "shell.execute_reply": "2022-06-05T10:50:28.001438Z"
    },
    "papermill": {
     "duration": 4.289544,
     "end_time": "2022-06-05T10:50:28.004774",
     "exception": false,
     "start_time": "2022-06-05T10:50:23.715230",
     "status": "completed"
    },
    "tags": []
   },
   "outputs": [],
   "source": [
    "# trying with params\n",
    "model.fit(x_train,y_train)\n",
    "xg_pred1 = model.predict(x_test)"
   ]
  },
  {
   "cell_type": "code",
   "execution_count": 61,
   "id": "0f46d23c",
   "metadata": {
    "execution": {
     "iopub.execute_input": "2022-06-05T10:50:28.248557Z",
     "iopub.status.busy": "2022-06-05T10:50:28.247979Z",
     "iopub.status.idle": "2022-06-05T10:50:28.255173Z",
     "shell.execute_reply": "2022-06-05T10:50:28.254201Z"
    },
    "papermill": {
     "duration": 0.128942,
     "end_time": "2022-06-05T10:50:28.257193",
     "exception": false,
     "start_time": "2022-06-05T10:50:28.128251",
     "status": "completed"
    },
    "tags": []
   },
   "outputs": [
    {
     "name": "stdout",
     "output_type": "stream",
     "text": [
      "Mean squared error:  0.0014111426048558611\n",
      "r2 score:  0.962317634886713\n"
     ]
    }
   ],
   "source": [
    "print('Mean squared error: ',metrics.mean_squared_error(y_test,xg_pred1))\n",
    "print('r2 score: ',metrics.r2_score(y_test, xg_pred1))"
   ]
  },
  {
   "cell_type": "markdown",
   "id": "6a51766a",
   "metadata": {
    "papermill": {
     "duration": 0.117693,
     "end_time": "2022-06-05T10:50:28.493513",
     "exception": false,
     "start_time": "2022-06-05T10:50:28.375820",
     "status": "completed"
    },
    "tags": []
   },
   "source": [
    "### So with XgBoost we are getting a better mse score"
   ]
  },
  {
   "cell_type": "markdown",
   "id": "ab5ebf85",
   "metadata": {
    "papermill": {
     "duration": 0.117882,
     "end_time": "2022-06-05T10:50:28.729341",
     "exception": false,
     "start_time": "2022-06-05T10:50:28.611459",
     "status": "completed"
    },
    "tags": []
   },
   "source": [
    "### Let us try Cross Validation here as well"
   ]
  },
  {
   "cell_type": "code",
   "execution_count": 62,
   "id": "3cfd4bf4",
   "metadata": {
    "execution": {
     "iopub.execute_input": "2022-06-05T10:50:28.970167Z",
     "iopub.status.busy": "2022-06-05T10:50:28.968957Z",
     "iopub.status.idle": "2022-06-05T10:50:35.174816Z",
     "shell.execute_reply": "2022-06-05T10:50:35.174191Z"
    },
    "papermill": {
     "duration": 6.329257,
     "end_time": "2022-06-05T10:50:35.176988",
     "exception": false,
     "start_time": "2022-06-05T10:50:28.847731",
     "status": "completed"
    },
    "tags": []
   },
   "outputs": [
    {
     "name": "stdout",
     "output_type": "stream",
     "text": [
      "[0.95333909 0.95181783 0.95125542 0.95351654 0.95577444 0.95270518\n",
      " 0.93851076 0.96098773 0.96242451 0.95615629]\n",
      "0.9536487786184568\n"
     ]
    }
   ],
   "source": [
    "# cross validation for xgboost\n",
    "xg_result = cross_val_score(model1, x_train, y_train, cv = KFold(10))\n",
    "print(xg_result)\n",
    "print(np.mean(xg_result))"
   ]
  },
  {
   "cell_type": "markdown",
   "id": "3495c74a",
   "metadata": {
    "papermill": {
     "duration": 0.118978,
     "end_time": "2022-06-05T10:50:35.417388",
     "exception": false,
     "start_time": "2022-06-05T10:50:35.298410",
     "status": "completed"
    },
    "tags": []
   },
   "source": [
    "### Some more algorithms...."
   ]
  },
  {
   "cell_type": "markdown",
   "id": "00d536ba",
   "metadata": {
    "papermill": {
     "duration": 0.118312,
     "end_time": "2022-06-05T10:50:35.654161",
     "exception": false,
     "start_time": "2022-06-05T10:50:35.535849",
     "status": "completed"
    },
    "tags": []
   },
   "source": [
    "### Ransac algorithm is known to deal with outliers. Let's check if it works for us"
   ]
  },
  {
   "cell_type": "code",
   "execution_count": 63,
   "id": "56ff04dc",
   "metadata": {
    "execution": {
     "iopub.execute_input": "2022-06-05T10:50:35.893244Z",
     "iopub.status.busy": "2022-06-05T10:50:35.892973Z",
     "iopub.status.idle": "2022-06-05T10:50:35.968579Z",
     "shell.execute_reply": "2022-06-05T10:50:35.966083Z"
    },
    "papermill": {
     "duration": 0.198429,
     "end_time": "2022-06-05T10:50:35.971818",
     "exception": false,
     "start_time": "2022-06-05T10:50:35.773389",
     "status": "completed"
    },
    "tags": []
   },
   "outputs": [
    {
     "name": "stdout",
     "output_type": "stream",
     "text": [
      "MSE :  0.005888\n"
     ]
    },
    {
     "name": "stderr",
     "output_type": "stream",
     "text": [
      "/opt/conda/lib/python3.7/site-packages/sklearn/linear_model/_ransac.py:358: FutureWarning: The loss 'absolute_loss' was deprecated in v1.0 and will be removed in version 1.2. Use `loss='absolute_error'` which is equivalent.\n",
      "  FutureWarning,\n"
     ]
    }
   ],
   "source": [
    "# ransac regression\n",
    "from sklearn.linear_model import RANSACRegressor\n",
    "ransac = RANSACRegressor(min_samples=10, max_trials=50, loss='absolute_loss', random_state=42, residual_threshold=50)\n",
    "ransac.fit(x_train, y_train)\n",
    "predsRR = ransac.predict(x_test)\n",
    "mse = metrics.mean_squared_error(y_test, predsRR)\n",
    "print(\"MSE : % f\" %(mse))"
   ]
  },
  {
   "cell_type": "code",
   "execution_count": 64,
   "id": "161aff5e",
   "metadata": {
    "execution": {
     "iopub.execute_input": "2022-06-05T10:50:36.280932Z",
     "iopub.status.busy": "2022-06-05T10:50:36.280664Z",
     "iopub.status.idle": "2022-06-05T10:50:36.286255Z",
     "shell.execute_reply": "2022-06-05T10:50:36.285366Z"
    },
    "papermill": {
     "duration": 0.130489,
     "end_time": "2022-06-05T10:50:36.288488",
     "exception": false,
     "start_time": "2022-06-05T10:50:36.157999",
     "status": "completed"
    },
    "tags": []
   },
   "outputs": [
    {
     "name": "stdout",
     "output_type": "stream",
     "text": [
      "R2 score 0.8427696566040657\n"
     ]
    }
   ],
   "source": [
    "print('R2 score', metrics.r2_score(y_test, predsRR))"
   ]
  },
  {
   "cell_type": "code",
   "execution_count": 65,
   "id": "47917df0",
   "metadata": {
    "execution": {
     "iopub.execute_input": "2022-06-05T10:50:36.532229Z",
     "iopub.status.busy": "2022-06-05T10:50:36.531919Z",
     "iopub.status.idle": "2022-06-05T10:50:46.886475Z",
     "shell.execute_reply": "2022-06-05T10:50:46.885679Z"
    },
    "papermill": {
     "duration": 10.480209,
     "end_time": "2022-06-05T10:50:46.889159",
     "exception": false,
     "start_time": "2022-06-05T10:50:36.408950",
     "status": "completed"
    },
    "tags": []
   },
   "outputs": [
    {
     "name": "stdout",
     "output_type": "stream",
     "text": [
      "Requirement already satisfied: catboost in /opt/conda/lib/python3.7/site-packages (1.0.5)\r\n",
      "Requirement already satisfied: matplotlib in /opt/conda/lib/python3.7/site-packages (from catboost) (3.5.1)\r\n",
      "Requirement already satisfied: scipy in /opt/conda/lib/python3.7/site-packages (from catboost) (1.7.3)\r\n",
      "Requirement already satisfied: plotly in /opt/conda/lib/python3.7/site-packages (from catboost) (5.7.0)\r\n",
      "Requirement already satisfied: graphviz in /opt/conda/lib/python3.7/site-packages (from catboost) (0.8.4)\r\n",
      "Requirement already satisfied: six in /opt/conda/lib/python3.7/site-packages (from catboost) (1.16.0)\r\n",
      "Requirement already satisfied: numpy>=1.16.0 in /opt/conda/lib/python3.7/site-packages (from catboost) (1.21.6)\r\n",
      "Requirement already satisfied: pandas>=0.24.0 in /opt/conda/lib/python3.7/site-packages (from catboost) (1.3.5)\r\n",
      "Requirement already satisfied: python-dateutil>=2.7.3 in /opt/conda/lib/python3.7/site-packages (from pandas>=0.24.0->catboost) (2.8.2)\r\n",
      "Requirement already satisfied: pytz>=2017.3 in /opt/conda/lib/python3.7/site-packages (from pandas>=0.24.0->catboost) (2021.3)\r\n",
      "Requirement already satisfied: packaging>=20.0 in /opt/conda/lib/python3.7/site-packages (from matplotlib->catboost) (21.3)\r\n",
      "Requirement already satisfied: cycler>=0.10 in /opt/conda/lib/python3.7/site-packages (from matplotlib->catboost) (0.11.0)\r\n",
      "Requirement already satisfied: fonttools>=4.22.0 in /opt/conda/lib/python3.7/site-packages (from matplotlib->catboost) (4.30.0)\r\n",
      "Requirement already satisfied: pyparsing>=2.2.1 in /opt/conda/lib/python3.7/site-packages (from matplotlib->catboost) (3.0.7)\r\n",
      "Requirement already satisfied: pillow>=6.2.0 in /opt/conda/lib/python3.7/site-packages (from matplotlib->catboost) (9.0.1)\r\n",
      "Requirement already satisfied: kiwisolver>=1.0.1 in /opt/conda/lib/python3.7/site-packages (from matplotlib->catboost) (1.4.0)\r\n",
      "Requirement already satisfied: tenacity>=6.2.0 in /opt/conda/lib/python3.7/site-packages (from plotly->catboost) (8.0.1)\r\n",
      "Requirement already satisfied: typing-extensions in /opt/conda/lib/python3.7/site-packages (from kiwisolver>=1.0.1->matplotlib->catboost) (4.2.0)\r\n",
      "\u001b[33mWARNING: Running pip as the 'root' user can result in broken permissions and conflicting behaviour with the system package manager. It is recommended to use a virtual environment instead: https://pip.pypa.io/warnings/venv\u001b[0m\u001b[33m\r\n",
      "\u001b[0m"
     ]
    }
   ],
   "source": [
    "!pip install catboost"
   ]
  },
  {
   "cell_type": "code",
   "execution_count": 66,
   "id": "0afab99e",
   "metadata": {
    "execution": {
     "iopub.execute_input": "2022-06-05T10:50:47.138462Z",
     "iopub.status.busy": "2022-06-05T10:50:47.137911Z",
     "iopub.status.idle": "2022-06-05T10:50:50.609372Z",
     "shell.execute_reply": "2022-06-05T10:50:50.608096Z"
    },
    "papermill": {
     "duration": 3.597288,
     "end_time": "2022-06-05T10:50:50.611499",
     "exception": false,
     "start_time": "2022-06-05T10:50:47.014211",
     "status": "completed"
    },
    "tags": []
   },
   "outputs": [
    {
     "data": {
      "application/vnd.jupyter.widget-view+json": {
       "model_id": "f28ca31d270547d58c53aecaaea498b2",
       "version_major": 2,
       "version_minor": 0
      },
      "text/plain": [
       "MetricVisualizer(layout=Layout(align_self='stretch', height='500px'))"
      ]
     },
     "metadata": {},
     "output_type": "display_data"
    },
    {
     "name": "stdout",
     "output_type": "stream",
     "text": [
      "Learning rate set to 0.057022\n",
      "0:\tlearn: 0.1885120\ttest: 0.1851210\tbest: 0.1851210 (0)\ttotal: 57.3ms\tremaining: 57.2s\n",
      "1:\tlearn: 0.1805577\ttest: 0.1773098\tbest: 0.1773098 (1)\ttotal: 60.2ms\tremaining: 30s\n",
      "2:\tlearn: 0.1728400\ttest: 0.1695349\tbest: 0.1695349 (2)\ttotal: 63.1ms\tremaining: 21s\n",
      "3:\tlearn: 0.1658603\ttest: 0.1626410\tbest: 0.1626410 (3)\ttotal: 65.7ms\tremaining: 16.4s\n",
      "4:\tlearn: 0.1588529\ttest: 0.1556804\tbest: 0.1556804 (4)\ttotal: 68.4ms\tremaining: 13.6s\n",
      "5:\tlearn: 0.1524050\ttest: 0.1495572\tbest: 0.1495572 (5)\ttotal: 71.1ms\tremaining: 11.8s\n",
      "6:\tlearn: 0.1463464\ttest: 0.1435867\tbest: 0.1435867 (6)\ttotal: 73.9ms\tremaining: 10.5s\n",
      "7:\tlearn: 0.1408389\ttest: 0.1380649\tbest: 0.1380649 (7)\ttotal: 76.7ms\tremaining: 9.52s\n",
      "8:\tlearn: 0.1358374\ttest: 0.1331855\tbest: 0.1331855 (8)\ttotal: 79.6ms\tremaining: 8.76s\n",
      "9:\tlearn: 0.1307861\ttest: 0.1283113\tbest: 0.1283113 (9)\ttotal: 82.5ms\tremaining: 8.17s\n",
      "10:\tlearn: 0.1258797\ttest: 0.1236004\tbest: 0.1236004 (10)\ttotal: 85.2ms\tremaining: 7.66s\n",
      "11:\tlearn: 0.1214321\ttest: 0.1192147\tbest: 0.1192147 (11)\ttotal: 88ms\tremaining: 7.24s\n",
      "12:\tlearn: 0.1171523\ttest: 0.1150604\tbest: 0.1150604 (12)\ttotal: 90.8ms\tremaining: 6.89s\n",
      "13:\tlearn: 0.1131091\ttest: 0.1111645\tbest: 0.1111645 (13)\ttotal: 93.5ms\tremaining: 6.59s\n",
      "14:\tlearn: 0.1097478\ttest: 0.1081127\tbest: 0.1081127 (14)\ttotal: 96.2ms\tremaining: 6.32s\n",
      "15:\tlearn: 0.1060468\ttest: 0.1046916\tbest: 0.1046916 (15)\ttotal: 98.9ms\tremaining: 6.08s\n",
      "16:\tlearn: 0.1027271\ttest: 0.1014012\tbest: 0.1014012 (16)\ttotal: 102ms\tremaining: 5.88s\n",
      "17:\tlearn: 0.0995989\ttest: 0.0984781\tbest: 0.0984781 (17)\ttotal: 104ms\tremaining: 5.7s\n",
      "18:\tlearn: 0.0966574\ttest: 0.0956761\tbest: 0.0956761 (18)\ttotal: 107ms\tremaining: 5.54s\n",
      "19:\tlearn: 0.0940188\ttest: 0.0931453\tbest: 0.0931453 (19)\ttotal: 110ms\tremaining: 5.39s\n",
      "20:\tlearn: 0.0912544\ttest: 0.0905545\tbest: 0.0905545 (20)\ttotal: 113ms\tremaining: 5.25s\n",
      "21:\tlearn: 0.0887922\ttest: 0.0884142\tbest: 0.0884142 (21)\ttotal: 115ms\tremaining: 5.12s\n",
      "22:\tlearn: 0.0861974\ttest: 0.0859492\tbest: 0.0859492 (22)\ttotal: 118ms\tremaining: 5.01s\n",
      "23:\tlearn: 0.0839319\ttest: 0.0838952\tbest: 0.0838952 (23)\ttotal: 121ms\tremaining: 4.91s\n",
      "24:\tlearn: 0.0819592\ttest: 0.0821061\tbest: 0.0821061 (24)\ttotal: 124ms\tremaining: 4.82s\n",
      "25:\tlearn: 0.0797131\ttest: 0.0799773\tbest: 0.0799773 (25)\ttotal: 126ms\tremaining: 4.73s\n",
      "26:\tlearn: 0.0778971\ttest: 0.0784695\tbest: 0.0784695 (26)\ttotal: 129ms\tremaining: 4.65s\n",
      "27:\tlearn: 0.0760480\ttest: 0.0768833\tbest: 0.0768833 (27)\ttotal: 132ms\tremaining: 4.58s\n",
      "28:\tlearn: 0.0742794\ttest: 0.0752887\tbest: 0.0752887 (28)\ttotal: 135ms\tremaining: 4.51s\n",
      "29:\tlearn: 0.0727872\ttest: 0.0740666\tbest: 0.0740666 (29)\ttotal: 137ms\tremaining: 4.44s\n",
      "30:\tlearn: 0.0714648\ttest: 0.0728780\tbest: 0.0728780 (30)\ttotal: 140ms\tremaining: 4.38s\n",
      "31:\tlearn: 0.0701610\ttest: 0.0717933\tbest: 0.0717933 (31)\ttotal: 143ms\tremaining: 4.32s\n",
      "32:\tlearn: 0.0688005\ttest: 0.0706805\tbest: 0.0706805 (32)\ttotal: 145ms\tremaining: 4.26s\n",
      "33:\tlearn: 0.0675544\ttest: 0.0695927\tbest: 0.0695927 (33)\ttotal: 148ms\tremaining: 4.2s\n",
      "34:\tlearn: 0.0663114\ttest: 0.0684818\tbest: 0.0684818 (34)\ttotal: 151ms\tremaining: 4.15s\n",
      "35:\tlearn: 0.0652515\ttest: 0.0675764\tbest: 0.0675764 (35)\ttotal: 153ms\tremaining: 4.11s\n",
      "36:\tlearn: 0.0641097\ttest: 0.0667404\tbest: 0.0667404 (36)\ttotal: 156ms\tremaining: 4.06s\n",
      "37:\tlearn: 0.0632528\ttest: 0.0660350\tbest: 0.0660350 (37)\ttotal: 159ms\tremaining: 4.02s\n",
      "38:\tlearn: 0.0624035\ttest: 0.0653765\tbest: 0.0653765 (38)\ttotal: 162ms\tremaining: 3.98s\n",
      "39:\tlearn: 0.0616613\ttest: 0.0648194\tbest: 0.0648194 (39)\ttotal: 165ms\tremaining: 3.95s\n",
      "40:\tlearn: 0.0607297\ttest: 0.0640631\tbest: 0.0640631 (40)\ttotal: 167ms\tremaining: 3.92s\n",
      "41:\tlearn: 0.0597838\ttest: 0.0632843\tbest: 0.0632843 (41)\ttotal: 170ms\tremaining: 3.88s\n",
      "42:\tlearn: 0.0589622\ttest: 0.0625330\tbest: 0.0625330 (42)\ttotal: 173ms\tremaining: 3.85s\n",
      "43:\tlearn: 0.0582806\ttest: 0.0620489\tbest: 0.0620489 (43)\ttotal: 176ms\tremaining: 3.82s\n",
      "44:\tlearn: 0.0576686\ttest: 0.0615708\tbest: 0.0615708 (44)\ttotal: 179ms\tremaining: 3.79s\n",
      "45:\tlearn: 0.0570174\ttest: 0.0610697\tbest: 0.0610697 (45)\ttotal: 181ms\tremaining: 3.76s\n",
      "46:\tlearn: 0.0564601\ttest: 0.0606677\tbest: 0.0606677 (46)\ttotal: 184ms\tremaining: 3.73s\n",
      "47:\tlearn: 0.0558272\ttest: 0.0602092\tbest: 0.0602092 (47)\ttotal: 189ms\tremaining: 3.74s\n",
      "48:\tlearn: 0.0552985\ttest: 0.0597951\tbest: 0.0597951 (48)\ttotal: 192ms\tremaining: 3.73s\n",
      "49:\tlearn: 0.0548440\ttest: 0.0594371\tbest: 0.0594371 (49)\ttotal: 195ms\tremaining: 3.71s\n",
      "50:\tlearn: 0.0544147\ttest: 0.0591194\tbest: 0.0591194 (50)\ttotal: 198ms\tremaining: 3.68s\n",
      "51:\tlearn: 0.0540357\ttest: 0.0588915\tbest: 0.0588915 (51)\ttotal: 201ms\tremaining: 3.66s\n",
      "52:\tlearn: 0.0536130\ttest: 0.0585149\tbest: 0.0585149 (52)\ttotal: 204ms\tremaining: 3.64s\n",
      "53:\tlearn: 0.0531560\ttest: 0.0581881\tbest: 0.0581881 (53)\ttotal: 206ms\tremaining: 3.61s\n",
      "54:\tlearn: 0.0528107\ttest: 0.0579368\tbest: 0.0579368 (54)\ttotal: 209ms\tremaining: 3.59s\n",
      "55:\tlearn: 0.0522811\ttest: 0.0575224\tbest: 0.0575224 (55)\ttotal: 212ms\tremaining: 3.57s\n",
      "56:\tlearn: 0.0520053\ttest: 0.0572722\tbest: 0.0572722 (56)\ttotal: 214ms\tremaining: 3.55s\n",
      "57:\tlearn: 0.0516281\ttest: 0.0570482\tbest: 0.0570482 (57)\ttotal: 217ms\tremaining: 3.53s\n",
      "58:\tlearn: 0.0513687\ttest: 0.0568585\tbest: 0.0568585 (58)\ttotal: 220ms\tremaining: 3.5s\n",
      "59:\tlearn: 0.0509908\ttest: 0.0565022\tbest: 0.0565022 (59)\ttotal: 222ms\tremaining: 3.48s\n",
      "60:\tlearn: 0.0507769\ttest: 0.0563701\tbest: 0.0563701 (60)\ttotal: 225ms\tremaining: 3.46s\n",
      "61:\tlearn: 0.0505034\ttest: 0.0561925\tbest: 0.0561925 (61)\ttotal: 228ms\tremaining: 3.44s\n",
      "62:\tlearn: 0.0501579\ttest: 0.0559533\tbest: 0.0559533 (62)\ttotal: 230ms\tremaining: 3.43s\n",
      "63:\tlearn: 0.0498764\ttest: 0.0557655\tbest: 0.0557655 (63)\ttotal: 233ms\tremaining: 3.41s\n",
      "64:\tlearn: 0.0495639\ttest: 0.0555517\tbest: 0.0555517 (64)\ttotal: 236ms\tremaining: 3.39s\n",
      "65:\tlearn: 0.0492541\ttest: 0.0552101\tbest: 0.0552101 (65)\ttotal: 239ms\tremaining: 3.38s\n",
      "66:\tlearn: 0.0490903\ttest: 0.0550859\tbest: 0.0550859 (66)\ttotal: 241ms\tremaining: 3.36s\n",
      "67:\tlearn: 0.0488549\ttest: 0.0548914\tbest: 0.0548914 (67)\ttotal: 244ms\tremaining: 3.34s\n",
      "68:\tlearn: 0.0486282\ttest: 0.0547119\tbest: 0.0547119 (68)\ttotal: 247ms\tremaining: 3.33s\n",
      "69:\tlearn: 0.0483721\ttest: 0.0545000\tbest: 0.0545000 (69)\ttotal: 249ms\tremaining: 3.31s\n",
      "70:\tlearn: 0.0481597\ttest: 0.0543614\tbest: 0.0543614 (70)\ttotal: 252ms\tremaining: 3.3s\n",
      "71:\tlearn: 0.0480134\ttest: 0.0542482\tbest: 0.0542482 (71)\ttotal: 255ms\tremaining: 3.28s\n",
      "72:\tlearn: 0.0477638\ttest: 0.0540392\tbest: 0.0540392 (72)\ttotal: 258ms\tremaining: 3.27s\n",
      "73:\tlearn: 0.0475493\ttest: 0.0538979\tbest: 0.0538979 (73)\ttotal: 260ms\tremaining: 3.26s\n",
      "74:\tlearn: 0.0473715\ttest: 0.0537366\tbest: 0.0537366 (74)\ttotal: 263ms\tremaining: 3.24s\n",
      "75:\tlearn: 0.0472034\ttest: 0.0536053\tbest: 0.0536053 (75)\ttotal: 266ms\tremaining: 3.23s\n",
      "76:\tlearn: 0.0469852\ttest: 0.0534296\tbest: 0.0534296 (76)\ttotal: 268ms\tremaining: 3.21s\n",
      "77:\tlearn: 0.0468254\ttest: 0.0533296\tbest: 0.0533296 (77)\ttotal: 271ms\tremaining: 3.2s\n",
      "78:\tlearn: 0.0466899\ttest: 0.0532498\tbest: 0.0532498 (78)\ttotal: 274ms\tremaining: 3.19s\n",
      "79:\tlearn: 0.0464761\ttest: 0.0531192\tbest: 0.0531192 (79)\ttotal: 276ms\tremaining: 3.18s\n",
      "80:\tlearn: 0.0462784\ttest: 0.0529429\tbest: 0.0529429 (80)\ttotal: 279ms\tremaining: 3.17s\n",
      "81:\tlearn: 0.0461162\ttest: 0.0528234\tbest: 0.0528234 (81)\ttotal: 282ms\tremaining: 3.15s\n",
      "82:\tlearn: 0.0459944\ttest: 0.0527572\tbest: 0.0527572 (82)\ttotal: 284ms\tremaining: 3.14s\n",
      "83:\tlearn: 0.0458286\ttest: 0.0526149\tbest: 0.0526149 (83)\ttotal: 287ms\tremaining: 3.13s\n",
      "84:\tlearn: 0.0456687\ttest: 0.0524800\tbest: 0.0524800 (84)\ttotal: 290ms\tremaining: 3.12s\n",
      "85:\tlearn: 0.0455546\ttest: 0.0524401\tbest: 0.0524401 (85)\ttotal: 292ms\tremaining: 3.11s\n",
      "86:\tlearn: 0.0454383\ttest: 0.0523522\tbest: 0.0523522 (86)\ttotal: 295ms\tremaining: 3.1s\n",
      "87:\tlearn: 0.0453532\ttest: 0.0523068\tbest: 0.0523068 (87)\ttotal: 298ms\tremaining: 3.09s\n",
      "88:\tlearn: 0.0452460\ttest: 0.0522330\tbest: 0.0522330 (88)\ttotal: 301ms\tremaining: 3.08s\n",
      "89:\tlearn: 0.0450724\ttest: 0.0520522\tbest: 0.0520522 (89)\ttotal: 303ms\tremaining: 3.06s\n",
      "90:\tlearn: 0.0450147\ttest: 0.0520183\tbest: 0.0520183 (90)\ttotal: 306ms\tremaining: 3.06s\n",
      "91:\tlearn: 0.0448872\ttest: 0.0519014\tbest: 0.0519014 (91)\ttotal: 309ms\tremaining: 3.04s\n",
      "92:\tlearn: 0.0447155\ttest: 0.0518146\tbest: 0.0518146 (92)\ttotal: 311ms\tremaining: 3.04s\n",
      "93:\tlearn: 0.0445950\ttest: 0.0517353\tbest: 0.0517353 (93)\ttotal: 314ms\tremaining: 3.03s\n",
      "94:\tlearn: 0.0445130\ttest: 0.0517002\tbest: 0.0517002 (94)\ttotal: 317ms\tremaining: 3.02s\n",
      "95:\tlearn: 0.0443986\ttest: 0.0515911\tbest: 0.0515911 (95)\ttotal: 319ms\tremaining: 3s\n",
      "96:\tlearn: 0.0442731\ttest: 0.0515092\tbest: 0.0515092 (96)\ttotal: 322ms\tremaining: 3s\n",
      "97:\tlearn: 0.0441244\ttest: 0.0513663\tbest: 0.0513663 (97)\ttotal: 325ms\tremaining: 2.99s\n",
      "98:\tlearn: 0.0439438\ttest: 0.0512299\tbest: 0.0512299 (98)\ttotal: 327ms\tremaining: 2.98s\n",
      "99:\tlearn: 0.0438626\ttest: 0.0511919\tbest: 0.0511919 (99)\ttotal: 330ms\tremaining: 2.97s\n",
      "100:\tlearn: 0.0436981\ttest: 0.0510569\tbest: 0.0510569 (100)\ttotal: 333ms\tremaining: 2.96s\n",
      "101:\tlearn: 0.0435793\ttest: 0.0509777\tbest: 0.0509777 (101)\ttotal: 335ms\tremaining: 2.95s\n",
      "102:\tlearn: 0.0434277\ttest: 0.0508705\tbest: 0.0508705 (102)\ttotal: 338ms\tremaining: 2.94s\n",
      "103:\tlearn: 0.0433292\ttest: 0.0508126\tbest: 0.0508126 (103)\ttotal: 341ms\tremaining: 2.93s\n",
      "104:\tlearn: 0.0432392\ttest: 0.0507524\tbest: 0.0507524 (104)\ttotal: 343ms\tremaining: 2.92s\n",
      "105:\tlearn: 0.0430691\ttest: 0.0505817\tbest: 0.0505817 (105)\ttotal: 346ms\tremaining: 2.92s\n",
      "106:\tlearn: 0.0429613\ttest: 0.0504538\tbest: 0.0504538 (106)\ttotal: 349ms\tremaining: 2.91s\n",
      "107:\tlearn: 0.0428327\ttest: 0.0503707\tbest: 0.0503707 (107)\ttotal: 351ms\tremaining: 2.9s\n",
      "108:\tlearn: 0.0427601\ttest: 0.0503424\tbest: 0.0503424 (108)\ttotal: 354ms\tremaining: 2.89s\n",
      "109:\tlearn: 0.0427016\ttest: 0.0503188\tbest: 0.0503188 (109)\ttotal: 357ms\tremaining: 2.88s\n",
      "110:\tlearn: 0.0426424\ttest: 0.0503040\tbest: 0.0503040 (110)\ttotal: 359ms\tremaining: 2.88s\n",
      "111:\tlearn: 0.0424696\ttest: 0.0501851\tbest: 0.0501851 (111)\ttotal: 362ms\tremaining: 2.87s\n",
      "112:\tlearn: 0.0422825\ttest: 0.0500443\tbest: 0.0500443 (112)\ttotal: 365ms\tremaining: 2.86s\n",
      "113:\tlearn: 0.0421742\ttest: 0.0499710\tbest: 0.0499710 (113)\ttotal: 367ms\tremaining: 2.85s\n",
      "114:\tlearn: 0.0420727\ttest: 0.0498998\tbest: 0.0498998 (114)\ttotal: 370ms\tremaining: 2.85s\n",
      "115:\tlearn: 0.0419359\ttest: 0.0498600\tbest: 0.0498600 (115)\ttotal: 373ms\tremaining: 2.84s\n",
      "116:\tlearn: 0.0417995\ttest: 0.0497865\tbest: 0.0497865 (116)\ttotal: 375ms\tremaining: 2.83s\n",
      "117:\tlearn: 0.0416485\ttest: 0.0496639\tbest: 0.0496639 (117)\ttotal: 378ms\tremaining: 2.83s\n",
      "118:\tlearn: 0.0415372\ttest: 0.0495646\tbest: 0.0495646 (118)\ttotal: 382ms\tremaining: 2.83s\n",
      "119:\tlearn: 0.0414031\ttest: 0.0494529\tbest: 0.0494529 (119)\ttotal: 385ms\tremaining: 2.83s\n",
      "120:\tlearn: 0.0413249\ttest: 0.0494138\tbest: 0.0494138 (120)\ttotal: 388ms\tremaining: 2.82s\n",
      "121:\tlearn: 0.0412240\ttest: 0.0493577\tbest: 0.0493577 (121)\ttotal: 391ms\tremaining: 2.81s\n",
      "122:\tlearn: 0.0411654\ttest: 0.0493332\tbest: 0.0493332 (122)\ttotal: 393ms\tremaining: 2.8s\n",
      "123:\tlearn: 0.0410458\ttest: 0.0492344\tbest: 0.0492344 (123)\ttotal: 396ms\tremaining: 2.8s\n",
      "124:\tlearn: 0.0409571\ttest: 0.0491697\tbest: 0.0491697 (124)\ttotal: 399ms\tremaining: 2.79s\n",
      "125:\tlearn: 0.0408156\ttest: 0.0490564\tbest: 0.0490564 (125)\ttotal: 402ms\tremaining: 2.79s\n",
      "126:\tlearn: 0.0407880\ttest: 0.0490522\tbest: 0.0490522 (126)\ttotal: 404ms\tremaining: 2.78s\n",
      "127:\tlearn: 0.0407067\ttest: 0.0490234\tbest: 0.0490234 (127)\ttotal: 407ms\tremaining: 2.77s\n",
      "128:\tlearn: 0.0406170\ttest: 0.0489461\tbest: 0.0489461 (128)\ttotal: 410ms\tremaining: 2.77s\n",
      "129:\tlearn: 0.0404384\ttest: 0.0487755\tbest: 0.0487755 (129)\ttotal: 413ms\tremaining: 2.76s\n",
      "130:\tlearn: 0.0403119\ttest: 0.0486690\tbest: 0.0486690 (130)\ttotal: 415ms\tremaining: 2.75s\n",
      "131:\tlearn: 0.0402394\ttest: 0.0486103\tbest: 0.0486103 (131)\ttotal: 418ms\tremaining: 2.75s\n",
      "132:\tlearn: 0.0401430\ttest: 0.0484894\tbest: 0.0484894 (132)\ttotal: 421ms\tremaining: 2.74s\n",
      "133:\tlearn: 0.0400613\ttest: 0.0484111\tbest: 0.0484111 (133)\ttotal: 424ms\tremaining: 2.74s\n",
      "134:\tlearn: 0.0400206\ttest: 0.0483825\tbest: 0.0483825 (134)\ttotal: 427ms\tremaining: 2.73s\n",
      "135:\tlearn: 0.0398988\ttest: 0.0483339\tbest: 0.0483339 (135)\ttotal: 429ms\tremaining: 2.73s\n",
      "136:\tlearn: 0.0397766\ttest: 0.0482980\tbest: 0.0482980 (136)\ttotal: 432ms\tremaining: 2.72s\n",
      "137:\tlearn: 0.0396774\ttest: 0.0482112\tbest: 0.0482112 (137)\ttotal: 435ms\tremaining: 2.71s\n",
      "138:\tlearn: 0.0396248\ttest: 0.0481819\tbest: 0.0481819 (138)\ttotal: 437ms\tremaining: 2.71s\n",
      "139:\tlearn: 0.0395043\ttest: 0.0480952\tbest: 0.0480952 (139)\ttotal: 440ms\tremaining: 2.7s\n",
      "140:\tlearn: 0.0394106\ttest: 0.0480425\tbest: 0.0480425 (140)\ttotal: 443ms\tremaining: 2.7s\n",
      "141:\tlearn: 0.0392982\ttest: 0.0479557\tbest: 0.0479557 (141)\ttotal: 445ms\tremaining: 2.69s\n",
      "142:\tlearn: 0.0392229\ttest: 0.0478960\tbest: 0.0478960 (142)\ttotal: 448ms\tremaining: 2.69s\n",
      "143:\tlearn: 0.0391620\ttest: 0.0478978\tbest: 0.0478960 (142)\ttotal: 451ms\tremaining: 2.68s\n",
      "144:\tlearn: 0.0391275\ttest: 0.0478385\tbest: 0.0478385 (144)\ttotal: 453ms\tremaining: 2.67s\n",
      "145:\tlearn: 0.0390479\ttest: 0.0477906\tbest: 0.0477906 (145)\ttotal: 456ms\tremaining: 2.67s\n",
      "146:\tlearn: 0.0388920\ttest: 0.0476262\tbest: 0.0476262 (146)\ttotal: 459ms\tremaining: 2.66s\n",
      "147:\tlearn: 0.0387328\ttest: 0.0474749\tbest: 0.0474749 (147)\ttotal: 462ms\tremaining: 2.66s\n",
      "148:\tlearn: 0.0386474\ttest: 0.0474068\tbest: 0.0474068 (148)\ttotal: 464ms\tremaining: 2.65s\n",
      "149:\tlearn: 0.0384647\ttest: 0.0472666\tbest: 0.0472666 (149)\ttotal: 467ms\tremaining: 2.65s\n",
      "150:\tlearn: 0.0383721\ttest: 0.0472061\tbest: 0.0472061 (150)\ttotal: 470ms\tremaining: 2.64s\n",
      "151:\tlearn: 0.0383148\ttest: 0.0471898\tbest: 0.0471898 (151)\ttotal: 473ms\tremaining: 2.64s\n",
      "152:\tlearn: 0.0382989\ttest: 0.0471862\tbest: 0.0471862 (152)\ttotal: 475ms\tremaining: 2.63s\n",
      "153:\tlearn: 0.0382359\ttest: 0.0471490\tbest: 0.0471490 (153)\ttotal: 478ms\tremaining: 2.63s\n",
      "154:\tlearn: 0.0380622\ttest: 0.0469726\tbest: 0.0469726 (154)\ttotal: 481ms\tremaining: 2.62s\n",
      "155:\tlearn: 0.0380049\ttest: 0.0469551\tbest: 0.0469551 (155)\ttotal: 483ms\tremaining: 2.61s\n",
      "156:\tlearn: 0.0378886\ttest: 0.0468520\tbest: 0.0468520 (156)\ttotal: 486ms\tremaining: 2.61s\n",
      "157:\tlearn: 0.0378467\ttest: 0.0468221\tbest: 0.0468221 (157)\ttotal: 489ms\tremaining: 2.6s\n",
      "158:\tlearn: 0.0377575\ttest: 0.0467529\tbest: 0.0467529 (158)\ttotal: 491ms\tremaining: 2.6s\n",
      "159:\tlearn: 0.0377097\ttest: 0.0467296\tbest: 0.0467296 (159)\ttotal: 494ms\tremaining: 2.59s\n",
      "160:\tlearn: 0.0375668\ttest: 0.0466319\tbest: 0.0466319 (160)\ttotal: 497ms\tremaining: 2.59s\n",
      "161:\tlearn: 0.0374707\ttest: 0.0465826\tbest: 0.0465826 (161)\ttotal: 499ms\tremaining: 2.58s\n",
      "162:\tlearn: 0.0373769\ttest: 0.0465311\tbest: 0.0465311 (162)\ttotal: 502ms\tremaining: 2.58s\n",
      "163:\tlearn: 0.0372663\ttest: 0.0464793\tbest: 0.0464793 (163)\ttotal: 505ms\tremaining: 2.57s\n",
      "164:\tlearn: 0.0371453\ttest: 0.0464094\tbest: 0.0464094 (164)\ttotal: 508ms\tremaining: 2.57s\n",
      "165:\tlearn: 0.0370101\ttest: 0.0462972\tbest: 0.0462972 (165)\ttotal: 510ms\tremaining: 2.56s\n",
      "166:\tlearn: 0.0369160\ttest: 0.0462564\tbest: 0.0462564 (166)\ttotal: 513ms\tremaining: 2.56s\n",
      "167:\tlearn: 0.0368346\ttest: 0.0462028\tbest: 0.0462028 (167)\ttotal: 516ms\tremaining: 2.56s\n",
      "168:\tlearn: 0.0367487\ttest: 0.0461554\tbest: 0.0461554 (168)\ttotal: 519ms\tremaining: 2.55s\n",
      "169:\tlearn: 0.0366369\ttest: 0.0460742\tbest: 0.0460742 (169)\ttotal: 522ms\tremaining: 2.55s\n",
      "170:\tlearn: 0.0365131\ttest: 0.0460365\tbest: 0.0460365 (170)\ttotal: 524ms\tremaining: 2.54s\n",
      "171:\tlearn: 0.0364596\ttest: 0.0459790\tbest: 0.0459790 (171)\ttotal: 527ms\tremaining: 2.54s\n",
      "172:\tlearn: 0.0363709\ttest: 0.0459301\tbest: 0.0459301 (172)\ttotal: 530ms\tremaining: 2.53s\n",
      "173:\tlearn: 0.0362838\ttest: 0.0458675\tbest: 0.0458675 (173)\ttotal: 533ms\tremaining: 2.53s\n",
      "174:\tlearn: 0.0362025\ttest: 0.0457867\tbest: 0.0457867 (174)\ttotal: 535ms\tremaining: 2.52s\n",
      "175:\tlearn: 0.0361018\ttest: 0.0457458\tbest: 0.0457458 (175)\ttotal: 538ms\tremaining: 2.52s\n",
      "176:\tlearn: 0.0359855\ttest: 0.0456918\tbest: 0.0456918 (176)\ttotal: 541ms\tremaining: 2.52s\n",
      "177:\tlearn: 0.0358922\ttest: 0.0456470\tbest: 0.0456470 (177)\ttotal: 544ms\tremaining: 2.51s\n",
      "178:\tlearn: 0.0357865\ttest: 0.0455690\tbest: 0.0455690 (178)\ttotal: 547ms\tremaining: 2.51s\n",
      "179:\tlearn: 0.0356815\ttest: 0.0454702\tbest: 0.0454702 (179)\ttotal: 549ms\tremaining: 2.5s\n",
      "180:\tlearn: 0.0355783\ttest: 0.0453969\tbest: 0.0453969 (180)\ttotal: 552ms\tremaining: 2.5s\n",
      "181:\tlearn: 0.0355368\ttest: 0.0453616\tbest: 0.0453616 (181)\ttotal: 558ms\tremaining: 2.51s\n",
      "182:\tlearn: 0.0354008\ttest: 0.0452673\tbest: 0.0452673 (182)\ttotal: 562ms\tremaining: 2.51s\n",
      "183:\tlearn: 0.0353397\ttest: 0.0452541\tbest: 0.0452541 (183)\ttotal: 565ms\tremaining: 2.51s\n",
      "184:\tlearn: 0.0352157\ttest: 0.0451515\tbest: 0.0451515 (184)\ttotal: 569ms\tremaining: 2.51s\n",
      "185:\tlearn: 0.0351310\ttest: 0.0451108\tbest: 0.0451108 (185)\ttotal: 573ms\tremaining: 2.51s\n",
      "186:\tlearn: 0.0350117\ttest: 0.0450105\tbest: 0.0450105 (186)\ttotal: 579ms\tremaining: 2.52s\n",
      "187:\tlearn: 0.0349192\ttest: 0.0449366\tbest: 0.0449366 (187)\ttotal: 582ms\tremaining: 2.51s\n",
      "188:\tlearn: 0.0348433\ttest: 0.0448906\tbest: 0.0448906 (188)\ttotal: 585ms\tremaining: 2.51s\n",
      "189:\tlearn: 0.0347157\ttest: 0.0447931\tbest: 0.0447931 (189)\ttotal: 588ms\tremaining: 2.51s\n",
      "190:\tlearn: 0.0346306\ttest: 0.0447261\tbest: 0.0447261 (190)\ttotal: 590ms\tremaining: 2.5s\n",
      "191:\tlearn: 0.0345464\ttest: 0.0447277\tbest: 0.0447261 (190)\ttotal: 593ms\tremaining: 2.5s\n",
      "192:\tlearn: 0.0344898\ttest: 0.0447058\tbest: 0.0447058 (192)\ttotal: 596ms\tremaining: 2.49s\n",
      "193:\tlearn: 0.0344042\ttest: 0.0446218\tbest: 0.0446218 (193)\ttotal: 599ms\tremaining: 2.49s\n",
      "194:\tlearn: 0.0343135\ttest: 0.0445444\tbest: 0.0445444 (194)\ttotal: 601ms\tremaining: 2.48s\n",
      "195:\tlearn: 0.0342297\ttest: 0.0444520\tbest: 0.0444520 (195)\ttotal: 604ms\tremaining: 2.48s\n",
      "196:\tlearn: 0.0341728\ttest: 0.0444123\tbest: 0.0444123 (196)\ttotal: 607ms\tremaining: 2.47s\n",
      "197:\tlearn: 0.0340909\ttest: 0.0443349\tbest: 0.0443349 (197)\ttotal: 610ms\tremaining: 2.47s\n",
      "198:\tlearn: 0.0340401\ttest: 0.0443020\tbest: 0.0443020 (198)\ttotal: 612ms\tremaining: 2.46s\n",
      "199:\tlearn: 0.0339747\ttest: 0.0442509\tbest: 0.0442509 (199)\ttotal: 615ms\tremaining: 2.46s\n",
      "200:\tlearn: 0.0339154\ttest: 0.0442209\tbest: 0.0442209 (200)\ttotal: 618ms\tremaining: 2.46s\n",
      "201:\tlearn: 0.0338562\ttest: 0.0441792\tbest: 0.0441792 (201)\ttotal: 620ms\tremaining: 2.45s\n",
      "202:\tlearn: 0.0337352\ttest: 0.0440954\tbest: 0.0440954 (202)\ttotal: 623ms\tremaining: 2.44s\n",
      "203:\tlearn: 0.0336416\ttest: 0.0440396\tbest: 0.0440396 (203)\ttotal: 626ms\tremaining: 2.44s\n",
      "204:\tlearn: 0.0335672\ttest: 0.0439835\tbest: 0.0439835 (204)\ttotal: 628ms\tremaining: 2.44s\n",
      "205:\tlearn: 0.0335287\ttest: 0.0439775\tbest: 0.0439775 (205)\ttotal: 631ms\tremaining: 2.43s\n",
      "206:\tlearn: 0.0334524\ttest: 0.0439183\tbest: 0.0439183 (206)\ttotal: 634ms\tremaining: 2.43s\n",
      "207:\tlearn: 0.0334360\ttest: 0.0439190\tbest: 0.0439183 (206)\ttotal: 636ms\tremaining: 2.42s\n",
      "208:\tlearn: 0.0333594\ttest: 0.0438837\tbest: 0.0438837 (208)\ttotal: 639ms\tremaining: 2.42s\n",
      "209:\tlearn: 0.0332681\ttest: 0.0438498\tbest: 0.0438498 (209)\ttotal: 642ms\tremaining: 2.41s\n",
      "210:\tlearn: 0.0331809\ttest: 0.0438078\tbest: 0.0438078 (210)\ttotal: 644ms\tremaining: 2.41s\n",
      "211:\tlearn: 0.0331338\ttest: 0.0437889\tbest: 0.0437889 (211)\ttotal: 647ms\tremaining: 2.4s\n",
      "212:\tlearn: 0.0330620\ttest: 0.0437365\tbest: 0.0437365 (212)\ttotal: 650ms\tremaining: 2.4s\n",
      "213:\tlearn: 0.0329372\ttest: 0.0436861\tbest: 0.0436861 (213)\ttotal: 652ms\tremaining: 2.4s\n",
      "214:\tlearn: 0.0328720\ttest: 0.0436378\tbest: 0.0436378 (214)\ttotal: 655ms\tremaining: 2.39s\n",
      "215:\tlearn: 0.0327729\ttest: 0.0435728\tbest: 0.0435728 (215)\ttotal: 658ms\tremaining: 2.39s\n",
      "216:\tlearn: 0.0326988\ttest: 0.0435226\tbest: 0.0435226 (216)\ttotal: 661ms\tremaining: 2.38s\n",
      "217:\tlearn: 0.0326517\ttest: 0.0434928\tbest: 0.0434928 (217)\ttotal: 663ms\tremaining: 2.38s\n",
      "218:\tlearn: 0.0325780\ttest: 0.0434266\tbest: 0.0434266 (218)\ttotal: 666ms\tremaining: 2.38s\n",
      "219:\tlearn: 0.0325023\ttest: 0.0434098\tbest: 0.0434098 (219)\ttotal: 669ms\tremaining: 2.37s\n",
      "220:\tlearn: 0.0324892\ttest: 0.0434061\tbest: 0.0434061 (220)\ttotal: 671ms\tremaining: 2.37s\n",
      "221:\tlearn: 0.0324415\ttest: 0.0433701\tbest: 0.0433701 (221)\ttotal: 674ms\tremaining: 2.36s\n",
      "222:\tlearn: 0.0323985\ttest: 0.0433686\tbest: 0.0433686 (222)\ttotal: 677ms\tremaining: 2.36s\n",
      "223:\tlearn: 0.0323159\ttest: 0.0433566\tbest: 0.0433566 (223)\ttotal: 680ms\tremaining: 2.35s\n",
      "224:\tlearn: 0.0322419\ttest: 0.0433363\tbest: 0.0433363 (224)\ttotal: 682ms\tremaining: 2.35s\n",
      "225:\tlearn: 0.0321557\ttest: 0.0432843\tbest: 0.0432843 (225)\ttotal: 685ms\tremaining: 2.35s\n",
      "226:\tlearn: 0.0320568\ttest: 0.0432235\tbest: 0.0432235 (226)\ttotal: 688ms\tremaining: 2.34s\n",
      "227:\tlearn: 0.0320123\ttest: 0.0432066\tbest: 0.0432066 (227)\ttotal: 691ms\tremaining: 2.34s\n",
      "228:\tlearn: 0.0319963\ttest: 0.0432082\tbest: 0.0432066 (227)\ttotal: 693ms\tremaining: 2.33s\n",
      "229:\tlearn: 0.0319445\ttest: 0.0431596\tbest: 0.0431596 (229)\ttotal: 696ms\tremaining: 2.33s\n",
      "230:\tlearn: 0.0319338\ttest: 0.0431538\tbest: 0.0431538 (230)\ttotal: 699ms\tremaining: 2.33s\n",
      "231:\tlearn: 0.0318796\ttest: 0.0431278\tbest: 0.0431278 (231)\ttotal: 701ms\tremaining: 2.32s\n",
      "232:\tlearn: 0.0318094\ttest: 0.0430791\tbest: 0.0430791 (232)\ttotal: 704ms\tremaining: 2.32s\n",
      "233:\tlearn: 0.0317257\ttest: 0.0430180\tbest: 0.0430180 (233)\ttotal: 707ms\tremaining: 2.31s\n",
      "234:\tlearn: 0.0316881\ttest: 0.0429904\tbest: 0.0429904 (234)\ttotal: 710ms\tremaining: 2.31s\n",
      "235:\tlearn: 0.0315982\ttest: 0.0429522\tbest: 0.0429522 (235)\ttotal: 713ms\tremaining: 2.31s\n",
      "236:\tlearn: 0.0315439\ttest: 0.0429032\tbest: 0.0429032 (236)\ttotal: 716ms\tremaining: 2.3s\n",
      "237:\tlearn: 0.0314957\ttest: 0.0428800\tbest: 0.0428800 (237)\ttotal: 719ms\tremaining: 2.3s\n",
      "238:\tlearn: 0.0314537\ttest: 0.0428272\tbest: 0.0428272 (238)\ttotal: 721ms\tremaining: 2.3s\n",
      "239:\tlearn: 0.0313741\ttest: 0.0427782\tbest: 0.0427782 (239)\ttotal: 724ms\tremaining: 2.29s\n",
      "240:\tlearn: 0.0313280\ttest: 0.0427566\tbest: 0.0427566 (240)\ttotal: 727ms\tremaining: 2.29s\n",
      "241:\tlearn: 0.0312275\ttest: 0.0427283\tbest: 0.0427283 (241)\ttotal: 730ms\tremaining: 2.29s\n",
      "242:\tlearn: 0.0312108\ttest: 0.0427406\tbest: 0.0427283 (241)\ttotal: 733ms\tremaining: 2.28s\n",
      "243:\tlearn: 0.0311689\ttest: 0.0427466\tbest: 0.0427283 (241)\ttotal: 735ms\tremaining: 2.28s\n",
      "244:\tlearn: 0.0311174\ttest: 0.0427012\tbest: 0.0427012 (244)\ttotal: 738ms\tremaining: 2.27s\n",
      "245:\tlearn: 0.0310563\ttest: 0.0426347\tbest: 0.0426347 (245)\ttotal: 741ms\tremaining: 2.27s\n",
      "246:\tlearn: 0.0310062\ttest: 0.0426274\tbest: 0.0426274 (246)\ttotal: 744ms\tremaining: 2.27s\n",
      "247:\tlearn: 0.0309371\ttest: 0.0425913\tbest: 0.0425913 (247)\ttotal: 747ms\tremaining: 2.26s\n",
      "248:\tlearn: 0.0308972\ttest: 0.0425692\tbest: 0.0425692 (248)\ttotal: 750ms\tremaining: 2.26s\n",
      "249:\tlearn: 0.0308770\ttest: 0.0425646\tbest: 0.0425646 (249)\ttotal: 752ms\tremaining: 2.26s\n",
      "250:\tlearn: 0.0308202\ttest: 0.0425383\tbest: 0.0425383 (250)\ttotal: 755ms\tremaining: 2.25s\n",
      "251:\tlearn: 0.0307788\ttest: 0.0425150\tbest: 0.0425150 (251)\ttotal: 758ms\tremaining: 2.25s\n",
      "252:\tlearn: 0.0306875\ttest: 0.0424739\tbest: 0.0424739 (252)\ttotal: 761ms\tremaining: 2.25s\n",
      "253:\tlearn: 0.0306383\ttest: 0.0424427\tbest: 0.0424427 (253)\ttotal: 764ms\tremaining: 2.24s\n",
      "254:\tlearn: 0.0305610\ttest: 0.0424034\tbest: 0.0424034 (254)\ttotal: 768ms\tremaining: 2.24s\n",
      "255:\tlearn: 0.0305311\ttest: 0.0423752\tbest: 0.0423752 (255)\ttotal: 771ms\tremaining: 2.24s\n",
      "256:\tlearn: 0.0304859\ttest: 0.0423635\tbest: 0.0423635 (256)\ttotal: 774ms\tremaining: 2.24s\n",
      "257:\tlearn: 0.0304364\ttest: 0.0423611\tbest: 0.0423611 (257)\ttotal: 777ms\tremaining: 2.23s\n",
      "258:\tlearn: 0.0303640\ttest: 0.0423525\tbest: 0.0423525 (258)\ttotal: 780ms\tremaining: 2.23s\n",
      "259:\tlearn: 0.0303224\ttest: 0.0423374\tbest: 0.0423374 (259)\ttotal: 783ms\tremaining: 2.23s\n",
      "260:\tlearn: 0.0302884\ttest: 0.0423095\tbest: 0.0423095 (260)\ttotal: 786ms\tremaining: 2.22s\n",
      "261:\tlearn: 0.0302465\ttest: 0.0422962\tbest: 0.0422962 (261)\ttotal: 788ms\tremaining: 2.22s\n",
      "262:\tlearn: 0.0301852\ttest: 0.0422773\tbest: 0.0422773 (262)\ttotal: 791ms\tremaining: 2.22s\n",
      "263:\tlearn: 0.0300899\ttest: 0.0422171\tbest: 0.0422171 (263)\ttotal: 794ms\tremaining: 2.21s\n",
      "264:\tlearn: 0.0300166\ttest: 0.0421659\tbest: 0.0421659 (264)\ttotal: 797ms\tremaining: 2.21s\n",
      "265:\tlearn: 0.0299486\ttest: 0.0421144\tbest: 0.0421144 (265)\ttotal: 800ms\tremaining: 2.21s\n",
      "266:\tlearn: 0.0299085\ttest: 0.0420864\tbest: 0.0420864 (266)\ttotal: 803ms\tremaining: 2.2s\n",
      "267:\tlearn: 0.0298567\ttest: 0.0420734\tbest: 0.0420734 (267)\ttotal: 806ms\tremaining: 2.2s\n",
      "268:\tlearn: 0.0297958\ttest: 0.0420397\tbest: 0.0420397 (268)\ttotal: 809ms\tremaining: 2.2s\n",
      "269:\tlearn: 0.0297448\ttest: 0.0420306\tbest: 0.0420306 (269)\ttotal: 811ms\tremaining: 2.19s\n",
      "270:\tlearn: 0.0296904\ttest: 0.0419992\tbest: 0.0419992 (270)\ttotal: 814ms\tremaining: 2.19s\n",
      "271:\tlearn: 0.0296189\ttest: 0.0419634\tbest: 0.0419634 (271)\ttotal: 817ms\tremaining: 2.19s\n",
      "272:\tlearn: 0.0295231\ttest: 0.0419180\tbest: 0.0419180 (272)\ttotal: 820ms\tremaining: 2.18s\n",
      "273:\tlearn: 0.0294738\ttest: 0.0418935\tbest: 0.0418935 (273)\ttotal: 822ms\tremaining: 2.18s\n",
      "274:\tlearn: 0.0294377\ttest: 0.0418761\tbest: 0.0418761 (274)\ttotal: 825ms\tremaining: 2.17s\n",
      "275:\tlearn: 0.0293787\ttest: 0.0418578\tbest: 0.0418578 (275)\ttotal: 828ms\tremaining: 2.17s\n",
      "276:\tlearn: 0.0293111\ttest: 0.0418148\tbest: 0.0418148 (276)\ttotal: 831ms\tremaining: 2.17s\n",
      "277:\tlearn: 0.0292484\ttest: 0.0417842\tbest: 0.0417842 (277)\ttotal: 834ms\tremaining: 2.16s\n",
      "278:\tlearn: 0.0291819\ttest: 0.0417254\tbest: 0.0417254 (278)\ttotal: 836ms\tremaining: 2.16s\n",
      "279:\tlearn: 0.0291175\ttest: 0.0416869\tbest: 0.0416869 (279)\ttotal: 839ms\tremaining: 2.16s\n",
      "280:\tlearn: 0.0291023\ttest: 0.0416761\tbest: 0.0416761 (280)\ttotal: 842ms\tremaining: 2.15s\n",
      "281:\tlearn: 0.0290545\ttest: 0.0416534\tbest: 0.0416534 (281)\ttotal: 845ms\tremaining: 2.15s\n",
      "282:\tlearn: 0.0290154\ttest: 0.0416409\tbest: 0.0416409 (282)\ttotal: 847ms\tremaining: 2.15s\n",
      "283:\tlearn: 0.0289608\ttest: 0.0416146\tbest: 0.0416146 (283)\ttotal: 850ms\tremaining: 2.14s\n",
      "284:\tlearn: 0.0289527\ttest: 0.0416156\tbest: 0.0416146 (283)\ttotal: 853ms\tremaining: 2.14s\n",
      "285:\tlearn: 0.0289117\ttest: 0.0416227\tbest: 0.0416146 (283)\ttotal: 855ms\tremaining: 2.13s\n",
      "286:\tlearn: 0.0288532\ttest: 0.0415973\tbest: 0.0415973 (286)\ttotal: 858ms\tremaining: 2.13s\n",
      "287:\tlearn: 0.0288125\ttest: 0.0415866\tbest: 0.0415866 (287)\ttotal: 861ms\tremaining: 2.13s\n",
      "288:\tlearn: 0.0287132\ttest: 0.0415469\tbest: 0.0415469 (288)\ttotal: 864ms\tremaining: 2.12s\n",
      "289:\tlearn: 0.0286547\ttest: 0.0415197\tbest: 0.0415197 (289)\ttotal: 866ms\tremaining: 2.12s\n",
      "290:\tlearn: 0.0286000\ttest: 0.0414876\tbest: 0.0414876 (290)\ttotal: 869ms\tremaining: 2.12s\n",
      "291:\tlearn: 0.0285261\ttest: 0.0414652\tbest: 0.0414652 (291)\ttotal: 872ms\tremaining: 2.11s\n",
      "292:\tlearn: 0.0285092\ttest: 0.0414532\tbest: 0.0414532 (292)\ttotal: 875ms\tremaining: 2.11s\n",
      "293:\tlearn: 0.0284552\ttest: 0.0414200\tbest: 0.0414200 (293)\ttotal: 877ms\tremaining: 2.11s\n",
      "294:\tlearn: 0.0284466\ttest: 0.0414098\tbest: 0.0414098 (294)\ttotal: 880ms\tremaining: 2.1s\n",
      "295:\tlearn: 0.0283873\ttest: 0.0414180\tbest: 0.0414098 (294)\ttotal: 883ms\tremaining: 2.1s\n",
      "296:\tlearn: 0.0283384\ttest: 0.0413883\tbest: 0.0413883 (296)\ttotal: 885ms\tremaining: 2.1s\n",
      "297:\tlearn: 0.0283101\ttest: 0.0413770\tbest: 0.0413770 (297)\ttotal: 888ms\tremaining: 2.09s\n",
      "298:\tlearn: 0.0282510\ttest: 0.0413335\tbest: 0.0413335 (298)\ttotal: 891ms\tremaining: 2.09s\n",
      "299:\tlearn: 0.0282200\ttest: 0.0413320\tbest: 0.0413320 (299)\ttotal: 893ms\tremaining: 2.08s\n",
      "300:\tlearn: 0.0281417\ttest: 0.0413079\tbest: 0.0413079 (300)\ttotal: 896ms\tremaining: 2.08s\n",
      "301:\tlearn: 0.0280953\ttest: 0.0413102\tbest: 0.0413079 (300)\ttotal: 899ms\tremaining: 2.08s\n",
      "302:\tlearn: 0.0280508\ttest: 0.0412910\tbest: 0.0412910 (302)\ttotal: 901ms\tremaining: 2.07s\n",
      "303:\tlearn: 0.0279906\ttest: 0.0412685\tbest: 0.0412685 (303)\ttotal: 904ms\tremaining: 2.07s\n",
      "304:\tlearn: 0.0279513\ttest: 0.0412467\tbest: 0.0412467 (304)\ttotal: 907ms\tremaining: 2.07s\n",
      "305:\tlearn: 0.0279011\ttest: 0.0412081\tbest: 0.0412081 (305)\ttotal: 910ms\tremaining: 2.06s\n",
      "306:\tlearn: 0.0278702\ttest: 0.0411864\tbest: 0.0411864 (306)\ttotal: 912ms\tremaining: 2.06s\n",
      "307:\tlearn: 0.0278198\ttest: 0.0411814\tbest: 0.0411814 (307)\ttotal: 915ms\tremaining: 2.06s\n",
      "308:\tlearn: 0.0277847\ttest: 0.0411763\tbest: 0.0411763 (308)\ttotal: 918ms\tremaining: 2.05s\n",
      "309:\tlearn: 0.0277401\ttest: 0.0411552\tbest: 0.0411552 (309)\ttotal: 920ms\tremaining: 2.05s\n",
      "310:\tlearn: 0.0277056\ttest: 0.0411388\tbest: 0.0411388 (310)\ttotal: 923ms\tremaining: 2.04s\n",
      "311:\tlearn: 0.0276413\ttest: 0.0411160\tbest: 0.0411160 (311)\ttotal: 936ms\tremaining: 2.06s\n",
      "312:\tlearn: 0.0276156\ttest: 0.0411111\tbest: 0.0411111 (312)\ttotal: 939ms\tremaining: 2.06s\n",
      "313:\tlearn: 0.0275677\ttest: 0.0410963\tbest: 0.0410963 (313)\ttotal: 942ms\tremaining: 2.06s\n",
      "314:\tlearn: 0.0275167\ttest: 0.0410721\tbest: 0.0410721 (314)\ttotal: 945ms\tremaining: 2.05s\n",
      "315:\tlearn: 0.0274811\ttest: 0.0410445\tbest: 0.0410445 (315)\ttotal: 948ms\tremaining: 2.05s\n",
      "316:\tlearn: 0.0274052\ttest: 0.0410135\tbest: 0.0410135 (316)\ttotal: 950ms\tremaining: 2.05s\n",
      "317:\tlearn: 0.0273728\ttest: 0.0409771\tbest: 0.0409771 (317)\ttotal: 953ms\tremaining: 2.04s\n",
      "318:\tlearn: 0.0273299\ttest: 0.0409568\tbest: 0.0409568 (318)\ttotal: 956ms\tremaining: 2.04s\n",
      "319:\tlearn: 0.0273131\ttest: 0.0409544\tbest: 0.0409544 (319)\ttotal: 959ms\tremaining: 2.04s\n",
      "320:\tlearn: 0.0272517\ttest: 0.0409213\tbest: 0.0409213 (320)\ttotal: 963ms\tremaining: 2.04s\n",
      "321:\tlearn: 0.0272190\ttest: 0.0409196\tbest: 0.0409196 (321)\ttotal: 966ms\tremaining: 2.03s\n",
      "322:\tlearn: 0.0271630\ttest: 0.0409090\tbest: 0.0409090 (322)\ttotal: 969ms\tremaining: 2.03s\n",
      "323:\tlearn: 0.0271192\ttest: 0.0409035\tbest: 0.0409035 (323)\ttotal: 972ms\tremaining: 2.03s\n",
      "324:\tlearn: 0.0270931\ttest: 0.0408932\tbest: 0.0408932 (324)\ttotal: 975ms\tremaining: 2.02s\n",
      "325:\tlearn: 0.0270591\ttest: 0.0408779\tbest: 0.0408779 (325)\ttotal: 977ms\tremaining: 2.02s\n",
      "326:\tlearn: 0.0270068\ttest: 0.0408664\tbest: 0.0408664 (326)\ttotal: 980ms\tremaining: 2.02s\n",
      "327:\tlearn: 0.0269531\ttest: 0.0408574\tbest: 0.0408574 (327)\ttotal: 983ms\tremaining: 2.01s\n",
      "328:\tlearn: 0.0269361\ttest: 0.0408455\tbest: 0.0408455 (328)\ttotal: 985ms\tremaining: 2.01s\n",
      "329:\tlearn: 0.0268959\ttest: 0.0408444\tbest: 0.0408444 (329)\ttotal: 988ms\tremaining: 2.01s\n",
      "330:\tlearn: 0.0268741\ttest: 0.0408363\tbest: 0.0408363 (330)\ttotal: 991ms\tremaining: 2s\n",
      "331:\tlearn: 0.0268322\ttest: 0.0408277\tbest: 0.0408277 (331)\ttotal: 993ms\tremaining: 2s\n",
      "332:\tlearn: 0.0267955\ttest: 0.0408141\tbest: 0.0408141 (332)\ttotal: 996ms\tremaining: 2s\n",
      "333:\tlearn: 0.0267763\ttest: 0.0408043\tbest: 0.0408043 (333)\ttotal: 999ms\tremaining: 1.99s\n",
      "334:\tlearn: 0.0267501\ttest: 0.0407948\tbest: 0.0407948 (334)\ttotal: 1s\tremaining: 1.99s\n",
      "335:\tlearn: 0.0267193\ttest: 0.0407816\tbest: 0.0407816 (335)\ttotal: 1s\tremaining: 1.99s\n",
      "336:\tlearn: 0.0266776\ttest: 0.0407757\tbest: 0.0407757 (336)\ttotal: 1.01s\tremaining: 1.98s\n",
      "337:\tlearn: 0.0266144\ttest: 0.0407478\tbest: 0.0407478 (337)\ttotal: 1.01s\tremaining: 1.98s\n",
      "338:\tlearn: 0.0265792\ttest: 0.0407221\tbest: 0.0407221 (338)\ttotal: 1.01s\tremaining: 1.97s\n",
      "339:\tlearn: 0.0265434\ttest: 0.0406921\tbest: 0.0406921 (339)\ttotal: 1.01s\tremaining: 1.97s\n",
      "340:\tlearn: 0.0265130\ttest: 0.0406785\tbest: 0.0406785 (340)\ttotal: 1.02s\tremaining: 1.97s\n",
      "341:\tlearn: 0.0264806\ttest: 0.0406563\tbest: 0.0406563 (341)\ttotal: 1.02s\tremaining: 1.96s\n",
      "342:\tlearn: 0.0264366\ttest: 0.0406642\tbest: 0.0406563 (341)\ttotal: 1.02s\tremaining: 1.96s\n",
      "343:\tlearn: 0.0263872\ttest: 0.0406286\tbest: 0.0406286 (343)\ttotal: 1.02s\tremaining: 1.96s\n",
      "344:\tlearn: 0.0263746\ttest: 0.0406323\tbest: 0.0406286 (343)\ttotal: 1.03s\tremaining: 1.95s\n",
      "345:\tlearn: 0.0263383\ttest: 0.0406201\tbest: 0.0406201 (345)\ttotal: 1.03s\tremaining: 1.95s\n",
      "346:\tlearn: 0.0262966\ttest: 0.0405898\tbest: 0.0405898 (346)\ttotal: 1.03s\tremaining: 1.95s\n",
      "347:\tlearn: 0.0262691\ttest: 0.0405784\tbest: 0.0405784 (347)\ttotal: 1.04s\tremaining: 1.94s\n",
      "348:\tlearn: 0.0261822\ttest: 0.0405332\tbest: 0.0405332 (348)\ttotal: 1.04s\tremaining: 1.94s\n",
      "349:\tlearn: 0.0261404\ttest: 0.0405097\tbest: 0.0405097 (349)\ttotal: 1.04s\tremaining: 1.93s\n",
      "350:\tlearn: 0.0261102\ttest: 0.0404960\tbest: 0.0404960 (350)\ttotal: 1.04s\tremaining: 1.93s\n",
      "351:\tlearn: 0.0260714\ttest: 0.0404859\tbest: 0.0404859 (351)\ttotal: 1.05s\tremaining: 1.93s\n",
      "352:\tlearn: 0.0260426\ttest: 0.0404792\tbest: 0.0404792 (352)\ttotal: 1.05s\tremaining: 1.92s\n",
      "353:\tlearn: 0.0259707\ttest: 0.0404201\tbest: 0.0404201 (353)\ttotal: 1.05s\tremaining: 1.92s\n",
      "354:\tlearn: 0.0259445\ttest: 0.0404111\tbest: 0.0404111 (354)\ttotal: 1.05s\tremaining: 1.92s\n",
      "355:\tlearn: 0.0259093\ttest: 0.0403833\tbest: 0.0403833 (355)\ttotal: 1.06s\tremaining: 1.92s\n",
      "356:\tlearn: 0.0258681\ttest: 0.0403598\tbest: 0.0403598 (356)\ttotal: 1.06s\tremaining: 1.91s\n",
      "357:\tlearn: 0.0258147\ttest: 0.0403441\tbest: 0.0403441 (357)\ttotal: 1.06s\tremaining: 1.91s\n",
      "358:\tlearn: 0.0257765\ttest: 0.0403323\tbest: 0.0403323 (358)\ttotal: 1.07s\tremaining: 1.9s\n",
      "359:\tlearn: 0.0257294\ttest: 0.0403107\tbest: 0.0403107 (359)\ttotal: 1.07s\tremaining: 1.9s\n",
      "360:\tlearn: 0.0256924\ttest: 0.0403006\tbest: 0.0403006 (360)\ttotal: 1.07s\tremaining: 1.9s\n",
      "361:\tlearn: 0.0256542\ttest: 0.0402814\tbest: 0.0402814 (361)\ttotal: 1.07s\tremaining: 1.89s\n",
      "362:\tlearn: 0.0256388\ttest: 0.0402744\tbest: 0.0402744 (362)\ttotal: 1.08s\tremaining: 1.89s\n",
      "363:\tlearn: 0.0256124\ttest: 0.0402700\tbest: 0.0402700 (363)\ttotal: 1.08s\tremaining: 1.89s\n",
      "364:\tlearn: 0.0255755\ttest: 0.0402685\tbest: 0.0402685 (364)\ttotal: 1.08s\tremaining: 1.88s\n",
      "365:\tlearn: 0.0255506\ttest: 0.0402607\tbest: 0.0402607 (365)\ttotal: 1.08s\tremaining: 1.88s\n",
      "366:\tlearn: 0.0255326\ttest: 0.0402608\tbest: 0.0402607 (365)\ttotal: 1.09s\tremaining: 1.88s\n",
      "367:\tlearn: 0.0255223\ttest: 0.0402585\tbest: 0.0402585 (367)\ttotal: 1.09s\tremaining: 1.87s\n",
      "368:\tlearn: 0.0254888\ttest: 0.0402473\tbest: 0.0402473 (368)\ttotal: 1.09s\tremaining: 1.87s\n",
      "369:\tlearn: 0.0254667\ttest: 0.0402377\tbest: 0.0402377 (369)\ttotal: 1.09s\tremaining: 1.86s\n",
      "370:\tlearn: 0.0254348\ttest: 0.0402356\tbest: 0.0402356 (370)\ttotal: 1.1s\tremaining: 1.86s\n",
      "371:\tlearn: 0.0254091\ttest: 0.0402259\tbest: 0.0402259 (371)\ttotal: 1.1s\tremaining: 1.86s\n",
      "372:\tlearn: 0.0253672\ttest: 0.0402029\tbest: 0.0402029 (372)\ttotal: 1.1s\tremaining: 1.85s\n",
      "373:\tlearn: 0.0253429\ttest: 0.0401844\tbest: 0.0401844 (373)\ttotal: 1.11s\tremaining: 1.85s\n",
      "374:\tlearn: 0.0253228\ttest: 0.0401757\tbest: 0.0401757 (374)\ttotal: 1.11s\tremaining: 1.85s\n",
      "375:\tlearn: 0.0252969\ttest: 0.0401847\tbest: 0.0401757 (374)\ttotal: 1.11s\tremaining: 1.84s\n",
      "376:\tlearn: 0.0252712\ttest: 0.0401680\tbest: 0.0401680 (376)\ttotal: 1.11s\tremaining: 1.84s\n",
      "377:\tlearn: 0.0252321\ttest: 0.0401418\tbest: 0.0401418 (377)\ttotal: 1.12s\tremaining: 1.84s\n",
      "378:\tlearn: 0.0251734\ttest: 0.0401268\tbest: 0.0401268 (378)\ttotal: 1.12s\tremaining: 1.83s\n",
      "379:\tlearn: 0.0251208\ttest: 0.0400974\tbest: 0.0400974 (379)\ttotal: 1.12s\tremaining: 1.83s\n",
      "380:\tlearn: 0.0250944\ttest: 0.0400912\tbest: 0.0400912 (380)\ttotal: 1.12s\tremaining: 1.83s\n",
      "381:\tlearn: 0.0250724\ttest: 0.0400851\tbest: 0.0400851 (381)\ttotal: 1.13s\tremaining: 1.82s\n",
      "382:\tlearn: 0.0249960\ttest: 0.0400509\tbest: 0.0400509 (382)\ttotal: 1.13s\tremaining: 1.82s\n",
      "383:\tlearn: 0.0249828\ttest: 0.0400534\tbest: 0.0400509 (382)\ttotal: 1.13s\tremaining: 1.82s\n",
      "384:\tlearn: 0.0249500\ttest: 0.0400370\tbest: 0.0400370 (384)\ttotal: 1.14s\tremaining: 1.81s\n",
      "385:\tlearn: 0.0249390\ttest: 0.0400303\tbest: 0.0400303 (385)\ttotal: 1.14s\tremaining: 1.81s\n",
      "386:\tlearn: 0.0249034\ttest: 0.0400444\tbest: 0.0400303 (385)\ttotal: 1.14s\tremaining: 1.81s\n",
      "387:\tlearn: 0.0248792\ttest: 0.0400377\tbest: 0.0400303 (385)\ttotal: 1.14s\tremaining: 1.8s\n",
      "388:\tlearn: 0.0248513\ttest: 0.0400296\tbest: 0.0400296 (388)\ttotal: 1.15s\tremaining: 1.8s\n",
      "389:\tlearn: 0.0247770\ttest: 0.0400065\tbest: 0.0400065 (389)\ttotal: 1.15s\tremaining: 1.8s\n",
      "390:\tlearn: 0.0247381\ttest: 0.0400005\tbest: 0.0400005 (390)\ttotal: 1.15s\tremaining: 1.79s\n",
      "391:\tlearn: 0.0247078\ttest: 0.0399980\tbest: 0.0399980 (391)\ttotal: 1.16s\tremaining: 1.79s\n",
      "392:\tlearn: 0.0246848\ttest: 0.0399922\tbest: 0.0399922 (392)\ttotal: 1.16s\tremaining: 1.79s\n",
      "393:\tlearn: 0.0246566\ttest: 0.0399720\tbest: 0.0399720 (393)\ttotal: 1.16s\tremaining: 1.79s\n",
      "394:\tlearn: 0.0246371\ttest: 0.0399609\tbest: 0.0399609 (394)\ttotal: 1.16s\tremaining: 1.78s\n",
      "395:\tlearn: 0.0245997\ttest: 0.0399683\tbest: 0.0399609 (394)\ttotal: 1.17s\tremaining: 1.78s\n",
      "396:\tlearn: 0.0245380\ttest: 0.0399522\tbest: 0.0399522 (396)\ttotal: 1.17s\tremaining: 1.78s\n",
      "397:\tlearn: 0.0245087\ttest: 0.0399511\tbest: 0.0399511 (397)\ttotal: 1.17s\tremaining: 1.77s\n",
      "398:\tlearn: 0.0244710\ttest: 0.0399407\tbest: 0.0399407 (398)\ttotal: 1.18s\tremaining: 1.77s\n",
      "399:\tlearn: 0.0244573\ttest: 0.0399489\tbest: 0.0399407 (398)\ttotal: 1.18s\tremaining: 1.77s\n",
      "400:\tlearn: 0.0244072\ttest: 0.0399418\tbest: 0.0399407 (398)\ttotal: 1.18s\tremaining: 1.76s\n",
      "401:\tlearn: 0.0243856\ttest: 0.0399289\tbest: 0.0399289 (401)\ttotal: 1.18s\tremaining: 1.76s\n",
      "402:\tlearn: 0.0243528\ttest: 0.0399192\tbest: 0.0399192 (402)\ttotal: 1.19s\tremaining: 1.76s\n",
      "403:\tlearn: 0.0243094\ttest: 0.0398914\tbest: 0.0398914 (403)\ttotal: 1.19s\tremaining: 1.75s\n",
      "404:\tlearn: 0.0242802\ttest: 0.0398951\tbest: 0.0398914 (403)\ttotal: 1.19s\tremaining: 1.75s\n",
      "405:\tlearn: 0.0242560\ttest: 0.0398951\tbest: 0.0398914 (403)\ttotal: 1.19s\tremaining: 1.75s\n",
      "406:\tlearn: 0.0242385\ttest: 0.0398963\tbest: 0.0398914 (403)\ttotal: 1.2s\tremaining: 1.74s\n",
      "407:\tlearn: 0.0242161\ttest: 0.0398993\tbest: 0.0398914 (403)\ttotal: 1.2s\tremaining: 1.74s\n",
      "408:\tlearn: 0.0241949\ttest: 0.0398844\tbest: 0.0398844 (408)\ttotal: 1.2s\tremaining: 1.74s\n",
      "409:\tlearn: 0.0241480\ttest: 0.0398746\tbest: 0.0398746 (409)\ttotal: 1.2s\tremaining: 1.73s\n",
      "410:\tlearn: 0.0241066\ttest: 0.0398533\tbest: 0.0398533 (410)\ttotal: 1.21s\tremaining: 1.73s\n",
      "411:\tlearn: 0.0240648\ttest: 0.0398487\tbest: 0.0398487 (411)\ttotal: 1.21s\tremaining: 1.73s\n",
      "412:\tlearn: 0.0240387\ttest: 0.0398483\tbest: 0.0398483 (412)\ttotal: 1.21s\tremaining: 1.72s\n",
      "413:\tlearn: 0.0240020\ttest: 0.0398529\tbest: 0.0398483 (412)\ttotal: 1.21s\tremaining: 1.72s\n",
      "414:\tlearn: 0.0239757\ttest: 0.0398502\tbest: 0.0398483 (412)\ttotal: 1.22s\tremaining: 1.72s\n",
      "415:\tlearn: 0.0239066\ttest: 0.0398161\tbest: 0.0398161 (415)\ttotal: 1.22s\tremaining: 1.71s\n",
      "416:\tlearn: 0.0238811\ttest: 0.0398016\tbest: 0.0398016 (416)\ttotal: 1.22s\tremaining: 1.71s\n",
      "417:\tlearn: 0.0238623\ttest: 0.0397955\tbest: 0.0397955 (417)\ttotal: 1.23s\tremaining: 1.71s\n",
      "418:\tlearn: 0.0238347\ttest: 0.0397863\tbest: 0.0397863 (418)\ttotal: 1.23s\tremaining: 1.7s\n",
      "419:\tlearn: 0.0237864\ttest: 0.0397733\tbest: 0.0397733 (419)\ttotal: 1.23s\tremaining: 1.7s\n",
      "420:\tlearn: 0.0237659\ttest: 0.0397682\tbest: 0.0397682 (420)\ttotal: 1.23s\tremaining: 1.7s\n",
      "421:\tlearn: 0.0237302\ttest: 0.0397669\tbest: 0.0397669 (421)\ttotal: 1.24s\tremaining: 1.69s\n",
      "422:\tlearn: 0.0236889\ttest: 0.0397562\tbest: 0.0397562 (422)\ttotal: 1.24s\tremaining: 1.69s\n",
      "423:\tlearn: 0.0236654\ttest: 0.0397519\tbest: 0.0397519 (423)\ttotal: 1.24s\tremaining: 1.69s\n",
      "424:\tlearn: 0.0236283\ttest: 0.0397505\tbest: 0.0397505 (424)\ttotal: 1.24s\tremaining: 1.68s\n",
      "425:\tlearn: 0.0235943\ttest: 0.0397227\tbest: 0.0397227 (425)\ttotal: 1.25s\tremaining: 1.68s\n",
      "426:\tlearn: 0.0235586\ttest: 0.0397292\tbest: 0.0397227 (425)\ttotal: 1.25s\tremaining: 1.68s\n",
      "427:\tlearn: 0.0235401\ttest: 0.0397199\tbest: 0.0397199 (427)\ttotal: 1.25s\tremaining: 1.67s\n",
      "428:\tlearn: 0.0235097\ttest: 0.0397156\tbest: 0.0397156 (428)\ttotal: 1.25s\tremaining: 1.67s\n",
      "429:\tlearn: 0.0234743\ttest: 0.0397206\tbest: 0.0397156 (428)\ttotal: 1.26s\tremaining: 1.67s\n",
      "430:\tlearn: 0.0234496\ttest: 0.0397119\tbest: 0.0397119 (430)\ttotal: 1.26s\tremaining: 1.66s\n",
      "431:\tlearn: 0.0234205\ttest: 0.0397287\tbest: 0.0397119 (430)\ttotal: 1.26s\tremaining: 1.66s\n",
      "432:\tlearn: 0.0233856\ttest: 0.0397221\tbest: 0.0397119 (430)\ttotal: 1.26s\tremaining: 1.66s\n",
      "433:\tlearn: 0.0233422\ttest: 0.0396895\tbest: 0.0396895 (433)\ttotal: 1.27s\tremaining: 1.65s\n",
      "434:\tlearn: 0.0233152\ttest: 0.0396790\tbest: 0.0396790 (434)\ttotal: 1.27s\tremaining: 1.65s\n",
      "435:\tlearn: 0.0232969\ttest: 0.0396671\tbest: 0.0396671 (435)\ttotal: 1.27s\tremaining: 1.65s\n",
      "436:\tlearn: 0.0232548\ttest: 0.0396508\tbest: 0.0396508 (436)\ttotal: 1.28s\tremaining: 1.64s\n",
      "437:\tlearn: 0.0232387\ttest: 0.0396493\tbest: 0.0396493 (437)\ttotal: 1.28s\tremaining: 1.64s\n",
      "438:\tlearn: 0.0232217\ttest: 0.0396441\tbest: 0.0396441 (438)\ttotal: 1.28s\tremaining: 1.64s\n",
      "439:\tlearn: 0.0232055\ttest: 0.0396399\tbest: 0.0396399 (439)\ttotal: 1.28s\tremaining: 1.63s\n",
      "440:\tlearn: 0.0231871\ttest: 0.0396248\tbest: 0.0396248 (440)\ttotal: 1.29s\tremaining: 1.63s\n",
      "441:\tlearn: 0.0231683\ttest: 0.0396116\tbest: 0.0396116 (441)\ttotal: 1.29s\tremaining: 1.63s\n",
      "442:\tlearn: 0.0231465\ttest: 0.0396114\tbest: 0.0396114 (442)\ttotal: 1.29s\tremaining: 1.62s\n",
      "443:\tlearn: 0.0231235\ttest: 0.0396075\tbest: 0.0396075 (443)\ttotal: 1.29s\tremaining: 1.62s\n",
      "444:\tlearn: 0.0230788\ttest: 0.0395896\tbest: 0.0395896 (444)\ttotal: 1.3s\tremaining: 1.62s\n",
      "445:\tlearn: 0.0230401\ttest: 0.0395832\tbest: 0.0395832 (445)\ttotal: 1.3s\tremaining: 1.61s\n",
      "446:\tlearn: 0.0229922\ttest: 0.0395686\tbest: 0.0395686 (446)\ttotal: 1.3s\tremaining: 1.61s\n",
      "447:\tlearn: 0.0229739\ttest: 0.0395651\tbest: 0.0395651 (447)\ttotal: 1.3s\tremaining: 1.61s\n",
      "448:\tlearn: 0.0229506\ttest: 0.0395610\tbest: 0.0395610 (448)\ttotal: 1.31s\tremaining: 1.6s\n",
      "449:\tlearn: 0.0229328\ttest: 0.0395696\tbest: 0.0395610 (448)\ttotal: 1.31s\tremaining: 1.6s\n",
      "450:\tlearn: 0.0229018\ttest: 0.0395459\tbest: 0.0395459 (450)\ttotal: 1.31s\tremaining: 1.6s\n",
      "451:\tlearn: 0.0228782\ttest: 0.0395442\tbest: 0.0395442 (451)\ttotal: 1.32s\tremaining: 1.59s\n",
      "452:\tlearn: 0.0228276\ttest: 0.0395202\tbest: 0.0395202 (452)\ttotal: 1.32s\tremaining: 1.59s\n",
      "453:\tlearn: 0.0227885\ttest: 0.0395189\tbest: 0.0395189 (453)\ttotal: 1.32s\tremaining: 1.59s\n",
      "454:\tlearn: 0.0227582\ttest: 0.0395122\tbest: 0.0395122 (454)\ttotal: 1.32s\tremaining: 1.58s\n",
      "455:\tlearn: 0.0227328\ttest: 0.0395016\tbest: 0.0395016 (455)\ttotal: 1.33s\tremaining: 1.58s\n",
      "456:\tlearn: 0.0227176\ttest: 0.0395016\tbest: 0.0395016 (456)\ttotal: 1.33s\tremaining: 1.58s\n",
      "457:\tlearn: 0.0227044\ttest: 0.0395043\tbest: 0.0395016 (456)\ttotal: 1.33s\tremaining: 1.58s\n",
      "458:\tlearn: 0.0226521\ttest: 0.0394902\tbest: 0.0394902 (458)\ttotal: 1.33s\tremaining: 1.57s\n",
      "459:\tlearn: 0.0226468\ttest: 0.0394901\tbest: 0.0394901 (459)\ttotal: 1.34s\tremaining: 1.57s\n",
      "460:\tlearn: 0.0226162\ttest: 0.0394806\tbest: 0.0394806 (460)\ttotal: 1.34s\tremaining: 1.57s\n",
      "461:\tlearn: 0.0225438\ttest: 0.0394727\tbest: 0.0394727 (461)\ttotal: 1.34s\tremaining: 1.56s\n",
      "462:\tlearn: 0.0225130\ttest: 0.0394721\tbest: 0.0394721 (462)\ttotal: 1.35s\tremaining: 1.56s\n",
      "463:\tlearn: 0.0224964\ttest: 0.0394715\tbest: 0.0394715 (463)\ttotal: 1.35s\tremaining: 1.56s\n",
      "464:\tlearn: 0.0224521\ttest: 0.0394382\tbest: 0.0394382 (464)\ttotal: 1.35s\tremaining: 1.56s\n",
      "465:\tlearn: 0.0224385\ttest: 0.0394470\tbest: 0.0394382 (464)\ttotal: 1.35s\tremaining: 1.55s\n",
      "466:\tlearn: 0.0224080\ttest: 0.0394181\tbest: 0.0394181 (466)\ttotal: 1.36s\tremaining: 1.55s\n",
      "467:\tlearn: 0.0223693\ttest: 0.0393847\tbest: 0.0393847 (467)\ttotal: 1.36s\tremaining: 1.55s\n",
      "468:\tlearn: 0.0223340\ttest: 0.0393655\tbest: 0.0393655 (468)\ttotal: 1.36s\tremaining: 1.54s\n",
      "469:\tlearn: 0.0223016\ttest: 0.0393554\tbest: 0.0393554 (469)\ttotal: 1.37s\tremaining: 1.54s\n",
      "470:\tlearn: 0.0222742\ttest: 0.0393536\tbest: 0.0393536 (470)\ttotal: 1.37s\tremaining: 1.54s\n",
      "471:\tlearn: 0.0222226\ttest: 0.0393096\tbest: 0.0393096 (471)\ttotal: 1.37s\tremaining: 1.53s\n",
      "472:\tlearn: 0.0221823\ttest: 0.0392921\tbest: 0.0392921 (472)\ttotal: 1.37s\tremaining: 1.53s\n",
      "473:\tlearn: 0.0221379\ttest: 0.0392732\tbest: 0.0392732 (473)\ttotal: 1.38s\tremaining: 1.53s\n",
      "474:\tlearn: 0.0221182\ttest: 0.0392582\tbest: 0.0392582 (474)\ttotal: 1.38s\tremaining: 1.52s\n",
      "475:\tlearn: 0.0220838\ttest: 0.0392468\tbest: 0.0392468 (475)\ttotal: 1.38s\tremaining: 1.52s\n",
      "476:\tlearn: 0.0220563\ttest: 0.0392467\tbest: 0.0392467 (476)\ttotal: 1.39s\tremaining: 1.52s\n",
      "477:\tlearn: 0.0220452\ttest: 0.0392308\tbest: 0.0392308 (477)\ttotal: 1.39s\tremaining: 1.51s\n",
      "478:\tlearn: 0.0220192\ttest: 0.0392275\tbest: 0.0392275 (478)\ttotal: 1.39s\tremaining: 1.51s\n",
      "479:\tlearn: 0.0220124\ttest: 0.0392339\tbest: 0.0392275 (478)\ttotal: 1.39s\tremaining: 1.51s\n",
      "480:\tlearn: 0.0219962\ttest: 0.0392245\tbest: 0.0392245 (480)\ttotal: 1.4s\tremaining: 1.51s\n",
      "481:\tlearn: 0.0219667\ttest: 0.0392166\tbest: 0.0392166 (481)\ttotal: 1.4s\tremaining: 1.5s\n",
      "482:\tlearn: 0.0219411\ttest: 0.0392065\tbest: 0.0392065 (482)\ttotal: 1.4s\tremaining: 1.5s\n",
      "483:\tlearn: 0.0218975\ttest: 0.0391939\tbest: 0.0391939 (483)\ttotal: 1.4s\tremaining: 1.5s\n",
      "484:\tlearn: 0.0218846\ttest: 0.0391910\tbest: 0.0391910 (484)\ttotal: 1.41s\tremaining: 1.49s\n",
      "485:\tlearn: 0.0218693\ttest: 0.0391849\tbest: 0.0391849 (485)\ttotal: 1.41s\tremaining: 1.49s\n",
      "486:\tlearn: 0.0218281\ttest: 0.0391680\tbest: 0.0391680 (486)\ttotal: 1.41s\tremaining: 1.49s\n",
      "487:\tlearn: 0.0217966\ttest: 0.0391431\tbest: 0.0391431 (487)\ttotal: 1.41s\tremaining: 1.48s\n",
      "488:\tlearn: 0.0217542\ttest: 0.0391400\tbest: 0.0391400 (488)\ttotal: 1.42s\tremaining: 1.48s\n",
      "489:\tlearn: 0.0217370\ttest: 0.0391377\tbest: 0.0391377 (489)\ttotal: 1.42s\tremaining: 1.48s\n",
      "490:\tlearn: 0.0216860\ttest: 0.0391391\tbest: 0.0391377 (489)\ttotal: 1.42s\tremaining: 1.48s\n",
      "491:\tlearn: 0.0216681\ttest: 0.0391489\tbest: 0.0391377 (489)\ttotal: 1.43s\tremaining: 1.47s\n",
      "492:\tlearn: 0.0216355\ttest: 0.0391347\tbest: 0.0391347 (492)\ttotal: 1.43s\tremaining: 1.47s\n",
      "493:\tlearn: 0.0216093\ttest: 0.0391426\tbest: 0.0391347 (492)\ttotal: 1.43s\tremaining: 1.47s\n",
      "494:\tlearn: 0.0215571\ttest: 0.0391220\tbest: 0.0391220 (494)\ttotal: 1.43s\tremaining: 1.46s\n",
      "495:\tlearn: 0.0215352\ttest: 0.0391130\tbest: 0.0391130 (495)\ttotal: 1.44s\tremaining: 1.46s\n",
      "496:\tlearn: 0.0214928\ttest: 0.0390975\tbest: 0.0390975 (496)\ttotal: 1.44s\tremaining: 1.46s\n",
      "497:\tlearn: 0.0214763\ttest: 0.0390912\tbest: 0.0390912 (497)\ttotal: 1.44s\tremaining: 1.45s\n",
      "498:\tlearn: 0.0214359\ttest: 0.0390792\tbest: 0.0390792 (498)\ttotal: 1.44s\tremaining: 1.45s\n",
      "499:\tlearn: 0.0214199\ttest: 0.0390770\tbest: 0.0390770 (499)\ttotal: 1.45s\tremaining: 1.45s\n",
      "500:\tlearn: 0.0214063\ttest: 0.0390681\tbest: 0.0390681 (500)\ttotal: 1.45s\tremaining: 1.44s\n",
      "501:\tlearn: 0.0213887\ttest: 0.0390663\tbest: 0.0390663 (501)\ttotal: 1.45s\tremaining: 1.44s\n",
      "502:\tlearn: 0.0213236\ttest: 0.0390618\tbest: 0.0390618 (502)\ttotal: 1.46s\tremaining: 1.44s\n",
      "503:\tlearn: 0.0213110\ttest: 0.0390640\tbest: 0.0390618 (502)\ttotal: 1.46s\tremaining: 1.43s\n",
      "504:\tlearn: 0.0212967\ttest: 0.0390580\tbest: 0.0390580 (504)\ttotal: 1.46s\tremaining: 1.43s\n",
      "505:\tlearn: 0.0212712\ttest: 0.0390562\tbest: 0.0390562 (505)\ttotal: 1.46s\tremaining: 1.43s\n",
      "506:\tlearn: 0.0212315\ttest: 0.0390371\tbest: 0.0390371 (506)\ttotal: 1.47s\tremaining: 1.43s\n",
      "507:\tlearn: 0.0211986\ttest: 0.0390130\tbest: 0.0390130 (507)\ttotal: 1.47s\tremaining: 1.42s\n",
      "508:\tlearn: 0.0211577\ttest: 0.0390023\tbest: 0.0390023 (508)\ttotal: 1.47s\tremaining: 1.42s\n",
      "509:\tlearn: 0.0211270\ttest: 0.0389880\tbest: 0.0389880 (509)\ttotal: 1.47s\tremaining: 1.42s\n",
      "510:\tlearn: 0.0211047\ttest: 0.0389911\tbest: 0.0389880 (509)\ttotal: 1.48s\tremaining: 1.41s\n",
      "511:\tlearn: 0.0210806\ttest: 0.0389864\tbest: 0.0389864 (511)\ttotal: 1.48s\tremaining: 1.41s\n",
      "512:\tlearn: 0.0210550\ttest: 0.0389823\tbest: 0.0389823 (512)\ttotal: 1.48s\tremaining: 1.41s\n",
      "513:\tlearn: 0.0210301\ttest: 0.0389838\tbest: 0.0389823 (512)\ttotal: 1.49s\tremaining: 1.4s\n",
      "514:\tlearn: 0.0210150\ttest: 0.0389842\tbest: 0.0389823 (512)\ttotal: 1.49s\tremaining: 1.4s\n",
      "515:\tlearn: 0.0209761\ttest: 0.0389741\tbest: 0.0389741 (515)\ttotal: 1.49s\tremaining: 1.4s\n",
      "516:\tlearn: 0.0209519\ttest: 0.0389706\tbest: 0.0389706 (516)\ttotal: 1.49s\tremaining: 1.4s\n",
      "517:\tlearn: 0.0209308\ttest: 0.0389581\tbest: 0.0389581 (517)\ttotal: 1.5s\tremaining: 1.39s\n",
      "518:\tlearn: 0.0209082\ttest: 0.0389556\tbest: 0.0389556 (518)\ttotal: 1.5s\tremaining: 1.39s\n",
      "519:\tlearn: 0.0208853\ttest: 0.0389579\tbest: 0.0389556 (518)\ttotal: 1.5s\tremaining: 1.39s\n",
      "520:\tlearn: 0.0208731\ttest: 0.0389593\tbest: 0.0389556 (518)\ttotal: 1.5s\tremaining: 1.38s\n",
      "521:\tlearn: 0.0208411\ttest: 0.0389502\tbest: 0.0389502 (521)\ttotal: 1.51s\tremaining: 1.38s\n",
      "522:\tlearn: 0.0208277\ttest: 0.0389471\tbest: 0.0389471 (522)\ttotal: 1.51s\tremaining: 1.38s\n",
      "523:\tlearn: 0.0207838\ttest: 0.0389261\tbest: 0.0389261 (523)\ttotal: 1.52s\tremaining: 1.38s\n",
      "524:\tlearn: 0.0207623\ttest: 0.0389109\tbest: 0.0389109 (524)\ttotal: 1.52s\tremaining: 1.38s\n",
      "525:\tlearn: 0.0207355\ttest: 0.0388903\tbest: 0.0388903 (525)\ttotal: 1.53s\tremaining: 1.38s\n",
      "526:\tlearn: 0.0207091\ttest: 0.0388852\tbest: 0.0388852 (526)\ttotal: 1.53s\tremaining: 1.38s\n",
      "527:\tlearn: 0.0206746\ttest: 0.0388871\tbest: 0.0388852 (526)\ttotal: 1.54s\tremaining: 1.37s\n",
      "528:\tlearn: 0.0206405\ttest: 0.0388776\tbest: 0.0388776 (528)\ttotal: 1.54s\tremaining: 1.37s\n",
      "529:\tlearn: 0.0206220\ttest: 0.0388747\tbest: 0.0388747 (529)\ttotal: 1.55s\tremaining: 1.37s\n",
      "530:\tlearn: 0.0205882\ttest: 0.0388675\tbest: 0.0388675 (530)\ttotal: 1.55s\tremaining: 1.37s\n",
      "531:\tlearn: 0.0205628\ttest: 0.0388620\tbest: 0.0388620 (531)\ttotal: 1.56s\tremaining: 1.37s\n",
      "532:\tlearn: 0.0205362\ttest: 0.0388667\tbest: 0.0388620 (531)\ttotal: 1.56s\tremaining: 1.37s\n",
      "533:\tlearn: 0.0205064\ttest: 0.0388601\tbest: 0.0388601 (533)\ttotal: 1.57s\tremaining: 1.37s\n",
      "534:\tlearn: 0.0204739\ttest: 0.0388387\tbest: 0.0388387 (534)\ttotal: 1.57s\tremaining: 1.36s\n",
      "535:\tlearn: 0.0204591\ttest: 0.0388335\tbest: 0.0388335 (535)\ttotal: 1.57s\tremaining: 1.36s\n",
      "536:\tlearn: 0.0204285\ttest: 0.0388061\tbest: 0.0388061 (536)\ttotal: 1.58s\tremaining: 1.36s\n",
      "537:\tlearn: 0.0204147\ttest: 0.0388002\tbest: 0.0388002 (537)\ttotal: 1.58s\tremaining: 1.36s\n",
      "538:\tlearn: 0.0203765\ttest: 0.0387842\tbest: 0.0387842 (538)\ttotal: 1.59s\tremaining: 1.36s\n",
      "539:\tlearn: 0.0203456\ttest: 0.0387810\tbest: 0.0387810 (539)\ttotal: 1.59s\tremaining: 1.35s\n",
      "540:\tlearn: 0.0203390\ttest: 0.0387814\tbest: 0.0387810 (539)\ttotal: 1.59s\tremaining: 1.35s\n",
      "541:\tlearn: 0.0203094\ttest: 0.0387839\tbest: 0.0387810 (539)\ttotal: 1.6s\tremaining: 1.35s\n",
      "542:\tlearn: 0.0202897\ttest: 0.0387828\tbest: 0.0387810 (539)\ttotal: 1.6s\tremaining: 1.35s\n",
      "543:\tlearn: 0.0202472\ttest: 0.0387645\tbest: 0.0387645 (543)\ttotal: 1.6s\tremaining: 1.34s\n",
      "544:\tlearn: 0.0202062\ttest: 0.0387527\tbest: 0.0387527 (544)\ttotal: 1.61s\tremaining: 1.34s\n",
      "545:\tlearn: 0.0201885\ttest: 0.0387505\tbest: 0.0387505 (545)\ttotal: 1.61s\tremaining: 1.34s\n",
      "546:\tlearn: 0.0201687\ttest: 0.0387450\tbest: 0.0387450 (546)\ttotal: 1.62s\tremaining: 1.34s\n",
      "547:\tlearn: 0.0201488\ttest: 0.0387445\tbest: 0.0387445 (547)\ttotal: 1.62s\tremaining: 1.33s\n",
      "548:\tlearn: 0.0201112\ttest: 0.0387448\tbest: 0.0387445 (547)\ttotal: 1.62s\tremaining: 1.33s\n",
      "549:\tlearn: 0.0200837\ttest: 0.0387513\tbest: 0.0387445 (547)\ttotal: 1.62s\tremaining: 1.33s\n",
      "550:\tlearn: 0.0200635\ttest: 0.0387414\tbest: 0.0387414 (550)\ttotal: 1.63s\tremaining: 1.33s\n",
      "551:\tlearn: 0.0200282\ttest: 0.0387319\tbest: 0.0387319 (551)\ttotal: 1.63s\tremaining: 1.32s\n",
      "552:\tlearn: 0.0199984\ttest: 0.0387267\tbest: 0.0387267 (552)\ttotal: 1.63s\tremaining: 1.32s\n",
      "553:\tlearn: 0.0199864\ttest: 0.0387267\tbest: 0.0387267 (552)\ttotal: 1.64s\tremaining: 1.32s\n",
      "554:\tlearn: 0.0199684\ttest: 0.0387245\tbest: 0.0387245 (554)\ttotal: 1.64s\tremaining: 1.31s\n",
      "555:\tlearn: 0.0199447\ttest: 0.0387214\tbest: 0.0387214 (555)\ttotal: 1.64s\tremaining: 1.31s\n",
      "556:\tlearn: 0.0199285\ttest: 0.0387160\tbest: 0.0387160 (556)\ttotal: 1.64s\tremaining: 1.31s\n",
      "557:\tlearn: 0.0199040\ttest: 0.0387102\tbest: 0.0387102 (557)\ttotal: 1.65s\tremaining: 1.3s\n",
      "558:\tlearn: 0.0198766\ttest: 0.0387237\tbest: 0.0387102 (557)\ttotal: 1.65s\tremaining: 1.3s\n",
      "559:\tlearn: 0.0198623\ttest: 0.0387309\tbest: 0.0387102 (557)\ttotal: 1.65s\tremaining: 1.3s\n",
      "560:\tlearn: 0.0198513\ttest: 0.0387253\tbest: 0.0387102 (557)\ttotal: 1.66s\tremaining: 1.29s\n",
      "561:\tlearn: 0.0198073\ttest: 0.0387144\tbest: 0.0387102 (557)\ttotal: 1.66s\tremaining: 1.29s\n",
      "562:\tlearn: 0.0197889\ttest: 0.0387157\tbest: 0.0387102 (557)\ttotal: 1.66s\tremaining: 1.29s\n",
      "563:\tlearn: 0.0197496\ttest: 0.0387002\tbest: 0.0387002 (563)\ttotal: 1.66s\tremaining: 1.29s\n",
      "564:\tlearn: 0.0197207\ttest: 0.0386937\tbest: 0.0386937 (564)\ttotal: 1.67s\tremaining: 1.28s\n",
      "565:\tlearn: 0.0196855\ttest: 0.0386756\tbest: 0.0386756 (565)\ttotal: 1.67s\tremaining: 1.28s\n",
      "566:\tlearn: 0.0196631\ttest: 0.0386598\tbest: 0.0386598 (566)\ttotal: 1.67s\tremaining: 1.28s\n",
      "567:\tlearn: 0.0196475\ttest: 0.0386566\tbest: 0.0386566 (567)\ttotal: 1.67s\tremaining: 1.27s\n",
      "568:\tlearn: 0.0196154\ttest: 0.0386467\tbest: 0.0386467 (568)\ttotal: 1.68s\tremaining: 1.27s\n",
      "569:\tlearn: 0.0195912\ttest: 0.0386376\tbest: 0.0386376 (569)\ttotal: 1.68s\tremaining: 1.27s\n",
      "570:\tlearn: 0.0195718\ttest: 0.0386410\tbest: 0.0386376 (569)\ttotal: 1.68s\tremaining: 1.26s\n",
      "571:\tlearn: 0.0195450\ttest: 0.0386371\tbest: 0.0386371 (571)\ttotal: 1.69s\tremaining: 1.26s\n",
      "572:\tlearn: 0.0195066\ttest: 0.0386292\tbest: 0.0386292 (572)\ttotal: 1.69s\tremaining: 1.26s\n",
      "573:\tlearn: 0.0194966\ttest: 0.0386291\tbest: 0.0386291 (573)\ttotal: 1.69s\tremaining: 1.25s\n",
      "574:\tlearn: 0.0194707\ttest: 0.0386343\tbest: 0.0386291 (573)\ttotal: 1.69s\tremaining: 1.25s\n",
      "575:\tlearn: 0.0194555\ttest: 0.0386293\tbest: 0.0386291 (573)\ttotal: 1.7s\tremaining: 1.25s\n",
      "576:\tlearn: 0.0194335\ttest: 0.0386350\tbest: 0.0386291 (573)\ttotal: 1.7s\tremaining: 1.25s\n",
      "577:\tlearn: 0.0193987\ttest: 0.0386252\tbest: 0.0386252 (577)\ttotal: 1.7s\tremaining: 1.24s\n",
      "578:\tlearn: 0.0193735\ttest: 0.0386161\tbest: 0.0386161 (578)\ttotal: 1.7s\tremaining: 1.24s\n",
      "579:\tlearn: 0.0193526\ttest: 0.0386077\tbest: 0.0386077 (579)\ttotal: 1.71s\tremaining: 1.24s\n",
      "580:\tlearn: 0.0193328\ttest: 0.0386058\tbest: 0.0386058 (580)\ttotal: 1.71s\tremaining: 1.23s\n",
      "581:\tlearn: 0.0193205\ttest: 0.0386075\tbest: 0.0386058 (580)\ttotal: 1.71s\tremaining: 1.23s\n",
      "582:\tlearn: 0.0193071\ttest: 0.0386003\tbest: 0.0386003 (582)\ttotal: 1.72s\tremaining: 1.23s\n",
      "583:\tlearn: 0.0192762\ttest: 0.0385975\tbest: 0.0385975 (583)\ttotal: 1.72s\tremaining: 1.22s\n",
      "584:\tlearn: 0.0192676\ttest: 0.0385866\tbest: 0.0385866 (584)\ttotal: 1.72s\tremaining: 1.22s\n",
      "585:\tlearn: 0.0192453\ttest: 0.0385835\tbest: 0.0385835 (585)\ttotal: 1.72s\tremaining: 1.22s\n",
      "586:\tlearn: 0.0192195\ttest: 0.0385792\tbest: 0.0385792 (586)\ttotal: 1.73s\tremaining: 1.22s\n",
      "587:\tlearn: 0.0192014\ttest: 0.0385679\tbest: 0.0385679 (587)\ttotal: 1.73s\tremaining: 1.21s\n",
      "588:\tlearn: 0.0191801\ttest: 0.0385635\tbest: 0.0385635 (588)\ttotal: 1.73s\tremaining: 1.21s\n",
      "589:\tlearn: 0.0191483\ttest: 0.0385431\tbest: 0.0385431 (589)\ttotal: 1.74s\tremaining: 1.21s\n",
      "590:\tlearn: 0.0191022\ttest: 0.0385250\tbest: 0.0385250 (590)\ttotal: 1.74s\tremaining: 1.2s\n",
      "591:\tlearn: 0.0190827\ttest: 0.0385251\tbest: 0.0385250 (590)\ttotal: 1.74s\tremaining: 1.2s\n",
      "592:\tlearn: 0.0190667\ttest: 0.0385285\tbest: 0.0385250 (590)\ttotal: 1.75s\tremaining: 1.2s\n",
      "593:\tlearn: 0.0190449\ttest: 0.0385233\tbest: 0.0385233 (593)\ttotal: 1.75s\tremaining: 1.2s\n",
      "594:\tlearn: 0.0190117\ttest: 0.0385157\tbest: 0.0385157 (594)\ttotal: 1.75s\tremaining: 1.19s\n",
      "595:\tlearn: 0.0189846\ttest: 0.0385209\tbest: 0.0385157 (594)\ttotal: 1.75s\tremaining: 1.19s\n",
      "596:\tlearn: 0.0189631\ttest: 0.0385143\tbest: 0.0385143 (596)\ttotal: 1.76s\tremaining: 1.19s\n",
      "597:\tlearn: 0.0189345\ttest: 0.0385064\tbest: 0.0385064 (597)\ttotal: 1.76s\tremaining: 1.18s\n",
      "598:\tlearn: 0.0189130\ttest: 0.0384912\tbest: 0.0384912 (598)\ttotal: 1.76s\tremaining: 1.18s\n",
      "599:\tlearn: 0.0188870\ttest: 0.0384988\tbest: 0.0384912 (598)\ttotal: 1.76s\tremaining: 1.18s\n",
      "600:\tlearn: 0.0188461\ttest: 0.0384825\tbest: 0.0384825 (600)\ttotal: 1.77s\tremaining: 1.17s\n",
      "601:\tlearn: 0.0188297\ttest: 0.0384714\tbest: 0.0384714 (601)\ttotal: 1.77s\tremaining: 1.17s\n",
      "602:\tlearn: 0.0187830\ttest: 0.0384649\tbest: 0.0384649 (602)\ttotal: 1.77s\tremaining: 1.17s\n",
      "603:\tlearn: 0.0187442\ttest: 0.0384503\tbest: 0.0384503 (603)\ttotal: 1.77s\tremaining: 1.16s\n",
      "604:\tlearn: 0.0187110\ttest: 0.0384387\tbest: 0.0384387 (604)\ttotal: 1.78s\tremaining: 1.16s\n",
      "605:\tlearn: 0.0187042\ttest: 0.0384324\tbest: 0.0384324 (605)\ttotal: 1.78s\tremaining: 1.16s\n",
      "606:\tlearn: 0.0186929\ttest: 0.0384412\tbest: 0.0384324 (605)\ttotal: 1.78s\tremaining: 1.15s\n",
      "607:\tlearn: 0.0186738\ttest: 0.0384360\tbest: 0.0384324 (605)\ttotal: 1.79s\tremaining: 1.15s\n",
      "608:\tlearn: 0.0186479\ttest: 0.0384218\tbest: 0.0384218 (608)\ttotal: 1.79s\tremaining: 1.15s\n",
      "609:\tlearn: 0.0186121\ttest: 0.0384064\tbest: 0.0384064 (609)\ttotal: 1.79s\tremaining: 1.15s\n",
      "610:\tlearn: 0.0185877\ttest: 0.0383985\tbest: 0.0383985 (610)\ttotal: 1.79s\tremaining: 1.14s\n",
      "611:\tlearn: 0.0185757\ttest: 0.0383986\tbest: 0.0383985 (610)\ttotal: 1.8s\tremaining: 1.14s\n",
      "612:\tlearn: 0.0185527\ttest: 0.0384007\tbest: 0.0383985 (610)\ttotal: 1.8s\tremaining: 1.14s\n",
      "613:\tlearn: 0.0185228\ttest: 0.0383940\tbest: 0.0383940 (613)\ttotal: 1.8s\tremaining: 1.13s\n",
      "614:\tlearn: 0.0184926\ttest: 0.0383838\tbest: 0.0383838 (614)\ttotal: 1.8s\tremaining: 1.13s\n",
      "615:\tlearn: 0.0184509\ttest: 0.0383736\tbest: 0.0383736 (615)\ttotal: 1.81s\tremaining: 1.13s\n",
      "616:\tlearn: 0.0184122\ttest: 0.0383721\tbest: 0.0383721 (616)\ttotal: 1.81s\tremaining: 1.12s\n",
      "617:\tlearn: 0.0183987\ttest: 0.0383759\tbest: 0.0383721 (616)\ttotal: 1.81s\tremaining: 1.12s\n",
      "618:\tlearn: 0.0183875\ttest: 0.0383703\tbest: 0.0383703 (618)\ttotal: 1.82s\tremaining: 1.12s\n",
      "619:\tlearn: 0.0183766\ttest: 0.0383699\tbest: 0.0383699 (619)\ttotal: 1.82s\tremaining: 1.11s\n",
      "620:\tlearn: 0.0183563\ttest: 0.0383578\tbest: 0.0383578 (620)\ttotal: 1.82s\tremaining: 1.11s\n",
      "621:\tlearn: 0.0183390\ttest: 0.0383612\tbest: 0.0383578 (620)\ttotal: 1.82s\tremaining: 1.11s\n",
      "622:\tlearn: 0.0183117\ttest: 0.0383533\tbest: 0.0383533 (622)\ttotal: 1.83s\tremaining: 1.11s\n",
      "623:\tlearn: 0.0183009\ttest: 0.0383525\tbest: 0.0383525 (623)\ttotal: 1.83s\tremaining: 1.1s\n",
      "624:\tlearn: 0.0182664\ttest: 0.0383647\tbest: 0.0383525 (623)\ttotal: 1.83s\tremaining: 1.1s\n",
      "625:\tlearn: 0.0182469\ttest: 0.0383582\tbest: 0.0383525 (623)\ttotal: 1.84s\tremaining: 1.1s\n",
      "626:\tlearn: 0.0182322\ttest: 0.0383512\tbest: 0.0383512 (626)\ttotal: 1.84s\tremaining: 1.09s\n",
      "627:\tlearn: 0.0182101\ttest: 0.0383489\tbest: 0.0383489 (627)\ttotal: 1.84s\tremaining: 1.09s\n",
      "628:\tlearn: 0.0181654\ttest: 0.0383489\tbest: 0.0383489 (628)\ttotal: 1.84s\tremaining: 1.09s\n",
      "629:\tlearn: 0.0181302\ttest: 0.0383386\tbest: 0.0383386 (629)\ttotal: 1.85s\tremaining: 1.08s\n",
      "630:\tlearn: 0.0181137\ttest: 0.0383390\tbest: 0.0383386 (629)\ttotal: 1.85s\tremaining: 1.08s\n",
      "631:\tlearn: 0.0181062\ttest: 0.0383372\tbest: 0.0383372 (631)\ttotal: 1.85s\tremaining: 1.08s\n",
      "632:\tlearn: 0.0180943\ttest: 0.0383395\tbest: 0.0383372 (631)\ttotal: 1.85s\tremaining: 1.07s\n",
      "633:\tlearn: 0.0180700\ttest: 0.0383596\tbest: 0.0383372 (631)\ttotal: 1.86s\tremaining: 1.07s\n",
      "634:\tlearn: 0.0180585\ttest: 0.0383551\tbest: 0.0383372 (631)\ttotal: 1.86s\tremaining: 1.07s\n",
      "635:\tlearn: 0.0180438\ttest: 0.0383526\tbest: 0.0383372 (631)\ttotal: 1.86s\tremaining: 1.07s\n",
      "636:\tlearn: 0.0180191\ttest: 0.0383514\tbest: 0.0383372 (631)\ttotal: 1.86s\tremaining: 1.06s\n",
      "637:\tlearn: 0.0180106\ttest: 0.0383470\tbest: 0.0383372 (631)\ttotal: 1.87s\tremaining: 1.06s\n",
      "638:\tlearn: 0.0179887\ttest: 0.0383404\tbest: 0.0383372 (631)\ttotal: 1.87s\tremaining: 1.06s\n",
      "639:\tlearn: 0.0179547\ttest: 0.0383235\tbest: 0.0383235 (639)\ttotal: 1.87s\tremaining: 1.05s\n",
      "640:\tlearn: 0.0179124\ttest: 0.0383180\tbest: 0.0383180 (640)\ttotal: 1.88s\tremaining: 1.05s\n",
      "641:\tlearn: 0.0178991\ttest: 0.0383147\tbest: 0.0383147 (641)\ttotal: 1.88s\tremaining: 1.05s\n",
      "642:\tlearn: 0.0178783\ttest: 0.0383094\tbest: 0.0383094 (642)\ttotal: 1.88s\tremaining: 1.04s\n",
      "643:\tlearn: 0.0178633\ttest: 0.0383051\tbest: 0.0383051 (643)\ttotal: 1.9s\tremaining: 1.05s\n",
      "644:\tlearn: 0.0178399\ttest: 0.0383044\tbest: 0.0383044 (644)\ttotal: 1.91s\tremaining: 1.05s\n",
      "645:\tlearn: 0.0178163\ttest: 0.0382951\tbest: 0.0382951 (645)\ttotal: 1.91s\tremaining: 1.04s\n",
      "646:\tlearn: 0.0178027\ttest: 0.0382937\tbest: 0.0382937 (646)\ttotal: 1.91s\tremaining: 1.04s\n",
      "647:\tlearn: 0.0177912\ttest: 0.0382906\tbest: 0.0382906 (647)\ttotal: 1.91s\tremaining: 1.04s\n",
      "648:\tlearn: 0.0177704\ttest: 0.0382857\tbest: 0.0382857 (648)\ttotal: 1.92s\tremaining: 1.04s\n",
      "649:\tlearn: 0.0177522\ttest: 0.0382859\tbest: 0.0382857 (648)\ttotal: 1.92s\tremaining: 1.03s\n",
      "650:\tlearn: 0.0177271\ttest: 0.0382802\tbest: 0.0382802 (650)\ttotal: 1.92s\tremaining: 1.03s\n",
      "651:\tlearn: 0.0177134\ttest: 0.0382825\tbest: 0.0382802 (650)\ttotal: 1.93s\tremaining: 1.03s\n",
      "652:\tlearn: 0.0176882\ttest: 0.0382752\tbest: 0.0382752 (652)\ttotal: 1.93s\tremaining: 1.02s\n",
      "653:\tlearn: 0.0176749\ttest: 0.0382692\tbest: 0.0382692 (653)\ttotal: 1.93s\tremaining: 1.02s\n",
      "654:\tlearn: 0.0176389\ttest: 0.0382648\tbest: 0.0382648 (654)\ttotal: 1.94s\tremaining: 1.02s\n",
      "655:\tlearn: 0.0176133\ttest: 0.0382576\tbest: 0.0382576 (655)\ttotal: 1.94s\tremaining: 1.02s\n",
      "656:\tlearn: 0.0175794\ttest: 0.0382567\tbest: 0.0382567 (656)\ttotal: 1.94s\tremaining: 1.01s\n",
      "657:\tlearn: 0.0175641\ttest: 0.0382487\tbest: 0.0382487 (657)\ttotal: 1.94s\tremaining: 1.01s\n",
      "658:\tlearn: 0.0175495\ttest: 0.0382525\tbest: 0.0382487 (657)\ttotal: 1.95s\tremaining: 1.01s\n",
      "659:\tlearn: 0.0175320\ttest: 0.0382496\tbest: 0.0382487 (657)\ttotal: 1.95s\tremaining: 1s\n",
      "660:\tlearn: 0.0175192\ttest: 0.0382519\tbest: 0.0382487 (657)\ttotal: 1.95s\tremaining: 1s\n",
      "661:\tlearn: 0.0174879\ttest: 0.0382467\tbest: 0.0382467 (661)\ttotal: 1.95s\tremaining: 998ms\n",
      "662:\tlearn: 0.0174730\ttest: 0.0382421\tbest: 0.0382421 (662)\ttotal: 1.96s\tremaining: 995ms\n",
      "663:\tlearn: 0.0174617\ttest: 0.0382364\tbest: 0.0382364 (663)\ttotal: 1.96s\tremaining: 992ms\n",
      "664:\tlearn: 0.0174253\ttest: 0.0382418\tbest: 0.0382364 (663)\ttotal: 1.96s\tremaining: 989ms\n",
      "665:\tlearn: 0.0174111\ttest: 0.0382419\tbest: 0.0382364 (663)\ttotal: 1.97s\tremaining: 985ms\n",
      "666:\tlearn: 0.0174040\ttest: 0.0382496\tbest: 0.0382364 (663)\ttotal: 1.97s\tremaining: 982ms\n",
      "667:\tlearn: 0.0173850\ttest: 0.0382495\tbest: 0.0382364 (663)\ttotal: 1.97s\tremaining: 979ms\n",
      "668:\tlearn: 0.0173623\ttest: 0.0382506\tbest: 0.0382364 (663)\ttotal: 1.97s\tremaining: 976ms\n",
      "669:\tlearn: 0.0173546\ttest: 0.0382442\tbest: 0.0382364 (663)\ttotal: 1.98s\tremaining: 973ms\n",
      "670:\tlearn: 0.0173314\ttest: 0.0382406\tbest: 0.0382364 (663)\ttotal: 1.98s\tremaining: 970ms\n",
      "671:\tlearn: 0.0173009\ttest: 0.0382339\tbest: 0.0382339 (671)\ttotal: 1.98s\tremaining: 967ms\n",
      "672:\tlearn: 0.0172793\ttest: 0.0382333\tbest: 0.0382333 (672)\ttotal: 1.98s\tremaining: 964ms\n",
      "673:\tlearn: 0.0172650\ttest: 0.0382346\tbest: 0.0382333 (672)\ttotal: 1.99s\tremaining: 961ms\n",
      "674:\tlearn: 0.0172405\ttest: 0.0382322\tbest: 0.0382322 (674)\ttotal: 1.99s\tremaining: 958ms\n",
      "675:\tlearn: 0.0172118\ttest: 0.0382264\tbest: 0.0382264 (675)\ttotal: 1.99s\tremaining: 955ms\n",
      "676:\tlearn: 0.0171846\ttest: 0.0382254\tbest: 0.0382254 (676)\ttotal: 2s\tremaining: 952ms\n",
      "677:\tlearn: 0.0171638\ttest: 0.0382086\tbest: 0.0382086 (677)\ttotal: 2s\tremaining: 949ms\n",
      "678:\tlearn: 0.0171599\ttest: 0.0382090\tbest: 0.0382086 (677)\ttotal: 2s\tremaining: 946ms\n",
      "679:\tlearn: 0.0171440\ttest: 0.0382097\tbest: 0.0382086 (677)\ttotal: 2s\tremaining: 943ms\n",
      "680:\tlearn: 0.0171356\ttest: 0.0382102\tbest: 0.0382086 (677)\ttotal: 2.01s\tremaining: 940ms\n",
      "681:\tlearn: 0.0171280\ttest: 0.0382094\tbest: 0.0382086 (677)\ttotal: 2.01s\tremaining: 937ms\n",
      "682:\tlearn: 0.0171068\ttest: 0.0382107\tbest: 0.0382086 (677)\ttotal: 2.01s\tremaining: 934ms\n",
      "683:\tlearn: 0.0170912\ttest: 0.0382156\tbest: 0.0382086 (677)\ttotal: 2.01s\tremaining: 931ms\n",
      "684:\tlearn: 0.0170758\ttest: 0.0382154\tbest: 0.0382086 (677)\ttotal: 2.02s\tremaining: 928ms\n",
      "685:\tlearn: 0.0170551\ttest: 0.0382030\tbest: 0.0382030 (685)\ttotal: 2.02s\tremaining: 925ms\n",
      "686:\tlearn: 0.0170332\ttest: 0.0381865\tbest: 0.0381865 (686)\ttotal: 2.02s\tremaining: 922ms\n",
      "687:\tlearn: 0.0170159\ttest: 0.0381745\tbest: 0.0381745 (687)\ttotal: 2.02s\tremaining: 918ms\n",
      "688:\tlearn: 0.0169858\ttest: 0.0381758\tbest: 0.0381745 (687)\ttotal: 2.03s\tremaining: 915ms\n",
      "689:\tlearn: 0.0169735\ttest: 0.0381760\tbest: 0.0381745 (687)\ttotal: 2.03s\tremaining: 912ms\n",
      "690:\tlearn: 0.0169506\ttest: 0.0381829\tbest: 0.0381745 (687)\ttotal: 2.03s\tremaining: 909ms\n",
      "691:\tlearn: 0.0169341\ttest: 0.0381822\tbest: 0.0381745 (687)\ttotal: 2.04s\tremaining: 906ms\n",
      "692:\tlearn: 0.0169056\ttest: 0.0381776\tbest: 0.0381745 (687)\ttotal: 2.04s\tremaining: 903ms\n",
      "693:\tlearn: 0.0168954\ttest: 0.0381796\tbest: 0.0381745 (687)\ttotal: 2.04s\tremaining: 900ms\n",
      "694:\tlearn: 0.0168872\ttest: 0.0381805\tbest: 0.0381745 (687)\ttotal: 2.04s\tremaining: 897ms\n",
      "695:\tlearn: 0.0168648\ttest: 0.0381808\tbest: 0.0381745 (687)\ttotal: 2.05s\tremaining: 894ms\n",
      "696:\tlearn: 0.0168432\ttest: 0.0381803\tbest: 0.0381745 (687)\ttotal: 2.05s\tremaining: 891ms\n",
      "697:\tlearn: 0.0168383\ttest: 0.0381815\tbest: 0.0381745 (687)\ttotal: 2.05s\tremaining: 888ms\n",
      "698:\tlearn: 0.0168229\ttest: 0.0381817\tbest: 0.0381745 (687)\ttotal: 2.06s\tremaining: 885ms\n",
      "699:\tlearn: 0.0168056\ttest: 0.0381781\tbest: 0.0381745 (687)\ttotal: 2.06s\tremaining: 882ms\n",
      "700:\tlearn: 0.0167946\ttest: 0.0381812\tbest: 0.0381745 (687)\ttotal: 2.06s\tremaining: 879ms\n",
      "701:\tlearn: 0.0167670\ttest: 0.0381695\tbest: 0.0381695 (701)\ttotal: 2.06s\tremaining: 876ms\n",
      "702:\tlearn: 0.0167515\ttest: 0.0381651\tbest: 0.0381651 (702)\ttotal: 2.07s\tremaining: 873ms\n",
      "703:\tlearn: 0.0167465\ttest: 0.0381639\tbest: 0.0381639 (703)\ttotal: 2.07s\tremaining: 870ms\n",
      "704:\tlearn: 0.0167047\ttest: 0.0381540\tbest: 0.0381540 (704)\ttotal: 2.07s\tremaining: 867ms\n",
      "705:\tlearn: 0.0166604\ttest: 0.0381428\tbest: 0.0381428 (705)\ttotal: 2.08s\tremaining: 864ms\n",
      "706:\tlearn: 0.0166435\ttest: 0.0381384\tbest: 0.0381384 (706)\ttotal: 2.08s\tremaining: 861ms\n",
      "707:\tlearn: 0.0166206\ttest: 0.0381346\tbest: 0.0381346 (707)\ttotal: 2.08s\tremaining: 858ms\n",
      "708:\tlearn: 0.0166036\ttest: 0.0381357\tbest: 0.0381346 (707)\ttotal: 2.08s\tremaining: 855ms\n",
      "709:\tlearn: 0.0165921\ttest: 0.0381352\tbest: 0.0381346 (707)\ttotal: 2.09s\tremaining: 852ms\n",
      "710:\tlearn: 0.0165758\ttest: 0.0381337\tbest: 0.0381337 (710)\ttotal: 2.09s\tremaining: 849ms\n",
      "711:\tlearn: 0.0165597\ttest: 0.0381267\tbest: 0.0381267 (711)\ttotal: 2.09s\tremaining: 846ms\n",
      "712:\tlearn: 0.0165527\ttest: 0.0381266\tbest: 0.0381266 (712)\ttotal: 2.09s\tremaining: 843ms\n",
      "713:\tlearn: 0.0165418\ttest: 0.0381241\tbest: 0.0381241 (713)\ttotal: 2.1s\tremaining: 840ms\n",
      "714:\tlearn: 0.0165223\ttest: 0.0381264\tbest: 0.0381241 (713)\ttotal: 2.1s\tremaining: 837ms\n",
      "715:\tlearn: 0.0165132\ttest: 0.0381244\tbest: 0.0381241 (713)\ttotal: 2.1s\tremaining: 834ms\n",
      "716:\tlearn: 0.0164889\ttest: 0.0381129\tbest: 0.0381129 (716)\ttotal: 2.1s\tremaining: 831ms\n",
      "717:\tlearn: 0.0164637\ttest: 0.0381090\tbest: 0.0381090 (717)\ttotal: 2.11s\tremaining: 828ms\n",
      "718:\tlearn: 0.0164396\ttest: 0.0381065\tbest: 0.0381065 (718)\ttotal: 2.11s\tremaining: 825ms\n",
      "719:\tlearn: 0.0164203\ttest: 0.0381047\tbest: 0.0381047 (719)\ttotal: 2.11s\tremaining: 822ms\n",
      "720:\tlearn: 0.0164087\ttest: 0.0381071\tbest: 0.0381047 (719)\ttotal: 2.12s\tremaining: 819ms\n",
      "721:\tlearn: 0.0163996\ttest: 0.0381118\tbest: 0.0381047 (719)\ttotal: 2.12s\tremaining: 817ms\n",
      "722:\tlearn: 0.0163824\ttest: 0.0381068\tbest: 0.0381047 (719)\ttotal: 2.12s\tremaining: 814ms\n",
      "723:\tlearn: 0.0163606\ttest: 0.0381081\tbest: 0.0381047 (719)\ttotal: 2.13s\tremaining: 811ms\n",
      "724:\tlearn: 0.0163213\ttest: 0.0380933\tbest: 0.0380933 (724)\ttotal: 2.13s\tremaining: 808ms\n",
      "725:\tlearn: 0.0162972\ttest: 0.0380885\tbest: 0.0380885 (725)\ttotal: 2.13s\tremaining: 805ms\n",
      "726:\tlearn: 0.0162799\ttest: 0.0380897\tbest: 0.0380885 (725)\ttotal: 2.13s\tremaining: 802ms\n",
      "727:\tlearn: 0.0162493\ttest: 0.0380899\tbest: 0.0380885 (725)\ttotal: 2.14s\tremaining: 799ms\n",
      "728:\tlearn: 0.0162162\ttest: 0.0380785\tbest: 0.0380785 (728)\ttotal: 2.14s\tremaining: 796ms\n",
      "729:\tlearn: 0.0161987\ttest: 0.0380794\tbest: 0.0380785 (728)\ttotal: 2.14s\tremaining: 793ms\n",
      "730:\tlearn: 0.0161862\ttest: 0.0380779\tbest: 0.0380779 (730)\ttotal: 2.15s\tremaining: 790ms\n",
      "731:\tlearn: 0.0161541\ttest: 0.0380846\tbest: 0.0380779 (730)\ttotal: 2.15s\tremaining: 787ms\n",
      "732:\tlearn: 0.0161185\ttest: 0.0380739\tbest: 0.0380739 (732)\ttotal: 2.15s\tremaining: 784ms\n",
      "733:\tlearn: 0.0160868\ttest: 0.0380634\tbest: 0.0380634 (733)\ttotal: 2.15s\tremaining: 781ms\n",
      "734:\tlearn: 0.0160727\ttest: 0.0380647\tbest: 0.0380634 (733)\ttotal: 2.16s\tremaining: 778ms\n",
      "735:\tlearn: 0.0160585\ttest: 0.0380604\tbest: 0.0380604 (735)\ttotal: 2.16s\tremaining: 775ms\n",
      "736:\tlearn: 0.0160354\ttest: 0.0380610\tbest: 0.0380604 (735)\ttotal: 2.16s\tremaining: 772ms\n",
      "737:\tlearn: 0.0160188\ttest: 0.0380585\tbest: 0.0380585 (737)\ttotal: 2.17s\tremaining: 769ms\n",
      "738:\tlearn: 0.0160162\ttest: 0.0380569\tbest: 0.0380569 (738)\ttotal: 2.17s\tremaining: 766ms\n",
      "739:\tlearn: 0.0160136\ttest: 0.0380575\tbest: 0.0380569 (738)\ttotal: 2.17s\tremaining: 763ms\n",
      "740:\tlearn: 0.0160025\ttest: 0.0380561\tbest: 0.0380561 (740)\ttotal: 2.17s\tremaining: 760ms\n",
      "741:\tlearn: 0.0159955\ttest: 0.0380559\tbest: 0.0380559 (741)\ttotal: 2.18s\tremaining: 757ms\n",
      "742:\tlearn: 0.0159737\ttest: 0.0380597\tbest: 0.0380559 (741)\ttotal: 2.18s\tremaining: 754ms\n",
      "743:\tlearn: 0.0159477\ttest: 0.0380562\tbest: 0.0380559 (741)\ttotal: 2.18s\tremaining: 751ms\n",
      "744:\tlearn: 0.0159344\ttest: 0.0380486\tbest: 0.0380486 (744)\ttotal: 2.19s\tremaining: 748ms\n",
      "745:\tlearn: 0.0159023\ttest: 0.0380390\tbest: 0.0380390 (745)\ttotal: 2.19s\tremaining: 745ms\n",
      "746:\tlearn: 0.0158936\ttest: 0.0380399\tbest: 0.0380390 (745)\ttotal: 2.19s\tremaining: 742ms\n",
      "747:\tlearn: 0.0158772\ttest: 0.0380403\tbest: 0.0380390 (745)\ttotal: 2.19s\tremaining: 739ms\n",
      "748:\tlearn: 0.0158641\ttest: 0.0380338\tbest: 0.0380338 (748)\ttotal: 2.2s\tremaining: 736ms\n",
      "749:\tlearn: 0.0158494\ttest: 0.0380301\tbest: 0.0380301 (749)\ttotal: 2.2s\tremaining: 733ms\n",
      "750:\tlearn: 0.0158455\ttest: 0.0380278\tbest: 0.0380278 (750)\ttotal: 2.2s\tremaining: 730ms\n",
      "751:\tlearn: 0.0158313\ttest: 0.0380263\tbest: 0.0380263 (751)\ttotal: 2.2s\tremaining: 727ms\n",
      "752:\tlearn: 0.0158095\ttest: 0.0380261\tbest: 0.0380261 (752)\ttotal: 2.21s\tremaining: 724ms\n",
      "753:\tlearn: 0.0157913\ttest: 0.0380247\tbest: 0.0380247 (753)\ttotal: 2.21s\tremaining: 721ms\n",
      "754:\tlearn: 0.0157739\ttest: 0.0380213\tbest: 0.0380213 (754)\ttotal: 2.21s\tremaining: 718ms\n",
      "755:\tlearn: 0.0157469\ttest: 0.0380206\tbest: 0.0380206 (755)\ttotal: 2.21s\tremaining: 715ms\n",
      "756:\tlearn: 0.0157308\ttest: 0.0380208\tbest: 0.0380206 (755)\ttotal: 2.22s\tremaining: 712ms\n",
      "757:\tlearn: 0.0157135\ttest: 0.0380131\tbest: 0.0380131 (757)\ttotal: 2.22s\tremaining: 709ms\n",
      "758:\tlearn: 0.0156872\ttest: 0.0380032\tbest: 0.0380032 (758)\ttotal: 2.22s\tremaining: 706ms\n",
      "759:\tlearn: 0.0156809\ttest: 0.0380036\tbest: 0.0380032 (758)\ttotal: 2.23s\tremaining: 703ms\n",
      "760:\tlearn: 0.0156620\ttest: 0.0380061\tbest: 0.0380032 (758)\ttotal: 2.23s\tremaining: 700ms\n",
      "761:\tlearn: 0.0156395\ttest: 0.0379962\tbest: 0.0379962 (761)\ttotal: 2.23s\tremaining: 697ms\n",
      "762:\tlearn: 0.0156187\ttest: 0.0380008\tbest: 0.0379962 (761)\ttotal: 2.23s\tremaining: 694ms\n",
      "763:\tlearn: 0.0156112\ttest: 0.0380022\tbest: 0.0379962 (761)\ttotal: 2.24s\tremaining: 691ms\n",
      "764:\tlearn: 0.0155991\ttest: 0.0380015\tbest: 0.0379962 (761)\ttotal: 2.24s\tremaining: 688ms\n",
      "765:\tlearn: 0.0155693\ttest: 0.0379973\tbest: 0.0379962 (761)\ttotal: 2.24s\tremaining: 685ms\n",
      "766:\tlearn: 0.0155507\ttest: 0.0379971\tbest: 0.0379962 (761)\ttotal: 2.25s\tremaining: 682ms\n",
      "767:\tlearn: 0.0155418\ttest: 0.0379929\tbest: 0.0379929 (767)\ttotal: 2.25s\tremaining: 679ms\n",
      "768:\tlearn: 0.0155309\ttest: 0.0379932\tbest: 0.0379929 (767)\ttotal: 2.25s\tremaining: 676ms\n",
      "769:\tlearn: 0.0155042\ttest: 0.0379900\tbest: 0.0379900 (769)\ttotal: 2.25s\tremaining: 673ms\n",
      "770:\tlearn: 0.0154910\ttest: 0.0379911\tbest: 0.0379900 (769)\ttotal: 2.26s\tremaining: 670ms\n",
      "771:\tlearn: 0.0154759\ttest: 0.0379865\tbest: 0.0379865 (771)\ttotal: 2.26s\tremaining: 667ms\n",
      "772:\tlearn: 0.0154517\ttest: 0.0379781\tbest: 0.0379781 (772)\ttotal: 2.26s\tremaining: 664ms\n",
      "773:\tlearn: 0.0154378\ttest: 0.0379737\tbest: 0.0379737 (773)\ttotal: 2.26s\tremaining: 661ms\n",
      "774:\tlearn: 0.0154181\ttest: 0.0379781\tbest: 0.0379737 (773)\ttotal: 2.27s\tremaining: 658ms\n",
      "775:\tlearn: 0.0154096\ttest: 0.0379789\tbest: 0.0379737 (773)\ttotal: 2.27s\tremaining: 655ms\n",
      "776:\tlearn: 0.0153931\ttest: 0.0379813\tbest: 0.0379737 (773)\ttotal: 2.27s\tremaining: 652ms\n",
      "777:\tlearn: 0.0153707\ttest: 0.0379786\tbest: 0.0379737 (773)\ttotal: 2.27s\tremaining: 649ms\n",
      "778:\tlearn: 0.0153652\ttest: 0.0379783\tbest: 0.0379737 (773)\ttotal: 2.28s\tremaining: 646ms\n",
      "779:\tlearn: 0.0153627\ttest: 0.0379769\tbest: 0.0379737 (773)\ttotal: 2.28s\tremaining: 643ms\n",
      "780:\tlearn: 0.0153430\ttest: 0.0379711\tbest: 0.0379711 (780)\ttotal: 2.28s\tremaining: 640ms\n",
      "781:\tlearn: 0.0153315\ttest: 0.0379699\tbest: 0.0379699 (781)\ttotal: 2.29s\tremaining: 637ms\n",
      "782:\tlearn: 0.0153214\ttest: 0.0379682\tbest: 0.0379682 (782)\ttotal: 2.29s\tremaining: 634ms\n",
      "783:\tlearn: 0.0153011\ttest: 0.0379628\tbest: 0.0379628 (783)\ttotal: 2.29s\tremaining: 631ms\n",
      "784:\tlearn: 0.0152672\ttest: 0.0379577\tbest: 0.0379577 (784)\ttotal: 2.29s\tremaining: 628ms\n",
      "785:\tlearn: 0.0152493\ttest: 0.0379584\tbest: 0.0379577 (784)\ttotal: 2.3s\tremaining: 625ms\n",
      "786:\tlearn: 0.0152367\ttest: 0.0379524\tbest: 0.0379524 (786)\ttotal: 2.3s\tremaining: 622ms\n",
      "787:\tlearn: 0.0152190\ttest: 0.0379464\tbest: 0.0379464 (787)\ttotal: 2.3s\tremaining: 619ms\n",
      "788:\tlearn: 0.0152051\ttest: 0.0379448\tbest: 0.0379448 (788)\ttotal: 2.31s\tremaining: 616ms\n",
      "789:\tlearn: 0.0151873\ttest: 0.0379442\tbest: 0.0379442 (789)\ttotal: 2.31s\tremaining: 614ms\n",
      "790:\tlearn: 0.0151552\ttest: 0.0379392\tbest: 0.0379392 (790)\ttotal: 2.31s\tremaining: 611ms\n",
      "791:\tlearn: 0.0151391\ttest: 0.0379349\tbest: 0.0379349 (791)\ttotal: 2.31s\tremaining: 608ms\n",
      "792:\tlearn: 0.0151259\ttest: 0.0379274\tbest: 0.0379274 (792)\ttotal: 2.32s\tremaining: 605ms\n",
      "793:\tlearn: 0.0151111\ttest: 0.0379218\tbest: 0.0379218 (793)\ttotal: 2.32s\tremaining: 602ms\n",
      "794:\tlearn: 0.0151017\ttest: 0.0379262\tbest: 0.0379218 (793)\ttotal: 2.32s\tremaining: 599ms\n",
      "795:\tlearn: 0.0150732\ttest: 0.0379061\tbest: 0.0379061 (795)\ttotal: 2.33s\tremaining: 596ms\n",
      "796:\tlearn: 0.0150590\ttest: 0.0378988\tbest: 0.0378988 (796)\ttotal: 2.33s\tremaining: 593ms\n",
      "797:\tlearn: 0.0150500\ttest: 0.0378967\tbest: 0.0378967 (797)\ttotal: 2.33s\tremaining: 590ms\n",
      "798:\tlearn: 0.0150312\ttest: 0.0379004\tbest: 0.0378967 (797)\ttotal: 2.33s\tremaining: 587ms\n",
      "799:\tlearn: 0.0150276\ttest: 0.0378995\tbest: 0.0378967 (797)\ttotal: 2.34s\tremaining: 584ms\n",
      "800:\tlearn: 0.0150183\ttest: 0.0379017\tbest: 0.0378967 (797)\ttotal: 2.34s\tremaining: 581ms\n",
      "801:\tlearn: 0.0150145\ttest: 0.0378973\tbest: 0.0378967 (797)\ttotal: 2.34s\tremaining: 578ms\n",
      "802:\tlearn: 0.0150023\ttest: 0.0378872\tbest: 0.0378872 (802)\ttotal: 2.35s\tremaining: 576ms\n",
      "803:\tlearn: 0.0149871\ttest: 0.0378874\tbest: 0.0378872 (802)\ttotal: 2.35s\tremaining: 573ms\n",
      "804:\tlearn: 0.0149749\ttest: 0.0378861\tbest: 0.0378861 (804)\ttotal: 2.35s\tremaining: 570ms\n",
      "805:\tlearn: 0.0149648\ttest: 0.0378850\tbest: 0.0378850 (805)\ttotal: 2.35s\tremaining: 567ms\n",
      "806:\tlearn: 0.0149415\ttest: 0.0378829\tbest: 0.0378829 (806)\ttotal: 2.36s\tremaining: 564ms\n",
      "807:\tlearn: 0.0149285\ttest: 0.0378826\tbest: 0.0378826 (807)\ttotal: 2.36s\tremaining: 561ms\n",
      "808:\tlearn: 0.0149052\ttest: 0.0378673\tbest: 0.0378673 (808)\ttotal: 2.36s\tremaining: 558ms\n",
      "809:\tlearn: 0.0148849\ttest: 0.0378607\tbest: 0.0378607 (809)\ttotal: 2.36s\tremaining: 555ms\n",
      "810:\tlearn: 0.0148750\ttest: 0.0378610\tbest: 0.0378607 (809)\ttotal: 2.37s\tremaining: 552ms\n",
      "811:\tlearn: 0.0148692\ttest: 0.0378625\tbest: 0.0378607 (809)\ttotal: 2.37s\tremaining: 549ms\n",
      "812:\tlearn: 0.0148566\ttest: 0.0378622\tbest: 0.0378607 (809)\ttotal: 2.37s\tremaining: 546ms\n",
      "813:\tlearn: 0.0148461\ttest: 0.0378629\tbest: 0.0378607 (809)\ttotal: 2.38s\tremaining: 543ms\n",
      "814:\tlearn: 0.0148230\ttest: 0.0378612\tbest: 0.0378607 (809)\ttotal: 2.38s\tremaining: 540ms\n",
      "815:\tlearn: 0.0148192\ttest: 0.0378617\tbest: 0.0378607 (809)\ttotal: 2.38s\tremaining: 537ms\n",
      "816:\tlearn: 0.0147918\ttest: 0.0378428\tbest: 0.0378428 (816)\ttotal: 2.38s\tremaining: 534ms\n",
      "817:\tlearn: 0.0147794\ttest: 0.0378430\tbest: 0.0378428 (816)\ttotal: 2.39s\tremaining: 531ms\n",
      "818:\tlearn: 0.0147575\ttest: 0.0378244\tbest: 0.0378244 (818)\ttotal: 2.39s\tremaining: 528ms\n",
      "819:\tlearn: 0.0147536\ttest: 0.0378243\tbest: 0.0378243 (819)\ttotal: 2.39s\tremaining: 525ms\n",
      "820:\tlearn: 0.0147437\ttest: 0.0378213\tbest: 0.0378213 (820)\ttotal: 2.39s\tremaining: 522ms\n",
      "821:\tlearn: 0.0147351\ttest: 0.0378173\tbest: 0.0378173 (821)\ttotal: 2.4s\tremaining: 519ms\n",
      "822:\tlearn: 0.0147244\ttest: 0.0378163\tbest: 0.0378163 (822)\ttotal: 2.4s\tremaining: 516ms\n",
      "823:\tlearn: 0.0147138\ttest: 0.0378208\tbest: 0.0378163 (822)\ttotal: 2.4s\tremaining: 513ms\n",
      "824:\tlearn: 0.0146930\ttest: 0.0378187\tbest: 0.0378163 (822)\ttotal: 2.4s\tremaining: 510ms\n",
      "825:\tlearn: 0.0146781\ttest: 0.0378203\tbest: 0.0378163 (822)\ttotal: 2.41s\tremaining: 507ms\n",
      "826:\tlearn: 0.0146651\ttest: 0.0378259\tbest: 0.0378163 (822)\ttotal: 2.41s\tremaining: 504ms\n",
      "827:\tlearn: 0.0146553\ttest: 0.0378244\tbest: 0.0378163 (822)\ttotal: 2.41s\tremaining: 501ms\n",
      "828:\tlearn: 0.0146425\ttest: 0.0378283\tbest: 0.0378163 (822)\ttotal: 2.42s\tremaining: 498ms\n",
      "829:\tlearn: 0.0146286\ttest: 0.0378264\tbest: 0.0378163 (822)\ttotal: 2.42s\tremaining: 495ms\n",
      "830:\tlearn: 0.0146139\ttest: 0.0378198\tbest: 0.0378163 (822)\ttotal: 2.42s\tremaining: 492ms\n",
      "831:\tlearn: 0.0146025\ttest: 0.0378179\tbest: 0.0378163 (822)\ttotal: 2.42s\tremaining: 489ms\n",
      "832:\tlearn: 0.0145907\ttest: 0.0378142\tbest: 0.0378142 (832)\ttotal: 2.43s\tremaining: 486ms\n",
      "833:\tlearn: 0.0145659\ttest: 0.0378130\tbest: 0.0378130 (833)\ttotal: 2.43s\tremaining: 483ms\n",
      "834:\tlearn: 0.0145472\ttest: 0.0378021\tbest: 0.0378021 (834)\ttotal: 2.43s\tremaining: 481ms\n",
      "835:\tlearn: 0.0145333\ttest: 0.0377975\tbest: 0.0377975 (835)\ttotal: 2.43s\tremaining: 478ms\n",
      "836:\tlearn: 0.0145302\ttest: 0.0377981\tbest: 0.0377975 (835)\ttotal: 2.44s\tremaining: 475ms\n",
      "837:\tlearn: 0.0145250\ttest: 0.0378008\tbest: 0.0377975 (835)\ttotal: 2.44s\tremaining: 472ms\n",
      "838:\tlearn: 0.0144953\ttest: 0.0377966\tbest: 0.0377966 (838)\ttotal: 2.44s\tremaining: 469ms\n",
      "839:\tlearn: 0.0144716\ttest: 0.0377888\tbest: 0.0377888 (839)\ttotal: 2.44s\tremaining: 466ms\n",
      "840:\tlearn: 0.0144548\ttest: 0.0377866\tbest: 0.0377866 (840)\ttotal: 2.45s\tremaining: 463ms\n",
      "841:\tlearn: 0.0144409\ttest: 0.0377802\tbest: 0.0377802 (841)\ttotal: 2.45s\tremaining: 460ms\n",
      "842:\tlearn: 0.0144291\ttest: 0.0377823\tbest: 0.0377802 (841)\ttotal: 2.45s\tremaining: 457ms\n",
      "843:\tlearn: 0.0144005\ttest: 0.0377841\tbest: 0.0377802 (841)\ttotal: 2.46s\tremaining: 454ms\n",
      "844:\tlearn: 0.0143896\ttest: 0.0377833\tbest: 0.0377802 (841)\ttotal: 2.46s\tremaining: 451ms\n",
      "845:\tlearn: 0.0143796\ttest: 0.0377865\tbest: 0.0377802 (841)\ttotal: 2.46s\tremaining: 448ms\n",
      "846:\tlearn: 0.0143681\ttest: 0.0377782\tbest: 0.0377782 (846)\ttotal: 2.46s\tremaining: 445ms\n",
      "847:\tlearn: 0.0143575\ttest: 0.0377796\tbest: 0.0377782 (846)\ttotal: 2.47s\tremaining: 442ms\n",
      "848:\tlearn: 0.0143443\ttest: 0.0377745\tbest: 0.0377745 (848)\ttotal: 2.47s\tremaining: 439ms\n",
      "849:\tlearn: 0.0143196\ttest: 0.0377745\tbest: 0.0377745 (848)\ttotal: 2.47s\tremaining: 436ms\n",
      "850:\tlearn: 0.0143124\ttest: 0.0377730\tbest: 0.0377730 (850)\ttotal: 2.48s\tremaining: 433ms\n",
      "851:\tlearn: 0.0143072\ttest: 0.0377769\tbest: 0.0377730 (850)\ttotal: 2.48s\tremaining: 430ms\n",
      "852:\tlearn: 0.0142875\ttest: 0.0377683\tbest: 0.0377683 (852)\ttotal: 2.48s\tremaining: 428ms\n",
      "853:\tlearn: 0.0142795\ttest: 0.0377693\tbest: 0.0377683 (852)\ttotal: 2.48s\tremaining: 425ms\n",
      "854:\tlearn: 0.0142599\ttest: 0.0377616\tbest: 0.0377616 (854)\ttotal: 2.49s\tremaining: 422ms\n",
      "855:\tlearn: 0.0142528\ttest: 0.0377582\tbest: 0.0377582 (855)\ttotal: 2.49s\tremaining: 419ms\n",
      "856:\tlearn: 0.0142297\ttest: 0.0377514\tbest: 0.0377514 (856)\ttotal: 2.49s\tremaining: 416ms\n",
      "857:\tlearn: 0.0142170\ttest: 0.0377508\tbest: 0.0377508 (857)\ttotal: 2.49s\tremaining: 413ms\n",
      "858:\tlearn: 0.0142147\ttest: 0.0377515\tbest: 0.0377508 (857)\ttotal: 2.5s\tremaining: 410ms\n",
      "859:\tlearn: 0.0142009\ttest: 0.0377485\tbest: 0.0377485 (859)\ttotal: 2.5s\tremaining: 407ms\n",
      "860:\tlearn: 0.0141895\ttest: 0.0377504\tbest: 0.0377485 (859)\ttotal: 2.5s\tremaining: 404ms\n",
      "861:\tlearn: 0.0141817\ttest: 0.0377506\tbest: 0.0377485 (859)\ttotal: 2.51s\tremaining: 401ms\n",
      "862:\tlearn: 0.0141634\ttest: 0.0377531\tbest: 0.0377485 (859)\ttotal: 2.51s\tremaining: 399ms\n",
      "863:\tlearn: 0.0141407\ttest: 0.0377507\tbest: 0.0377485 (859)\ttotal: 2.51s\tremaining: 396ms\n",
      "864:\tlearn: 0.0141222\ttest: 0.0377503\tbest: 0.0377485 (859)\ttotal: 2.52s\tremaining: 393ms\n",
      "865:\tlearn: 0.0141175\ttest: 0.0377509\tbest: 0.0377485 (859)\ttotal: 2.52s\tremaining: 390ms\n",
      "866:\tlearn: 0.0140993\ttest: 0.0377462\tbest: 0.0377462 (866)\ttotal: 2.52s\tremaining: 387ms\n",
      "867:\tlearn: 0.0140963\ttest: 0.0377439\tbest: 0.0377439 (867)\ttotal: 2.52s\tremaining: 384ms\n",
      "868:\tlearn: 0.0140836\ttest: 0.0377406\tbest: 0.0377406 (868)\ttotal: 2.53s\tremaining: 381ms\n",
      "869:\tlearn: 0.0140757\ttest: 0.0377345\tbest: 0.0377345 (869)\ttotal: 2.53s\tremaining: 378ms\n",
      "870:\tlearn: 0.0140470\ttest: 0.0377309\tbest: 0.0377309 (870)\ttotal: 2.53s\tremaining: 375ms\n",
      "871:\tlearn: 0.0140365\ttest: 0.0377285\tbest: 0.0377285 (871)\ttotal: 2.54s\tremaining: 372ms\n",
      "872:\tlearn: 0.0140286\ttest: 0.0377221\tbest: 0.0377221 (872)\ttotal: 2.54s\tremaining: 369ms\n",
      "873:\tlearn: 0.0140013\ttest: 0.0377151\tbest: 0.0377151 (873)\ttotal: 2.54s\tremaining: 366ms\n",
      "874:\tlearn: 0.0139941\ttest: 0.0377054\tbest: 0.0377054 (874)\ttotal: 2.54s\tremaining: 363ms\n",
      "875:\tlearn: 0.0139758\ttest: 0.0377091\tbest: 0.0377054 (874)\ttotal: 2.54s\tremaining: 360ms\n",
      "876:\tlearn: 0.0139637\ttest: 0.0377057\tbest: 0.0377054 (874)\ttotal: 2.55s\tremaining: 357ms\n",
      "877:\tlearn: 0.0139463\ttest: 0.0377041\tbest: 0.0377041 (877)\ttotal: 2.55s\tremaining: 355ms\n",
      "878:\tlearn: 0.0139351\ttest: 0.0377009\tbest: 0.0377009 (878)\ttotal: 2.55s\tremaining: 352ms\n",
      "879:\tlearn: 0.0139326\ttest: 0.0376991\tbest: 0.0376991 (879)\ttotal: 2.56s\tremaining: 349ms\n",
      "880:\tlearn: 0.0139290\ttest: 0.0376979\tbest: 0.0376979 (880)\ttotal: 2.56s\tremaining: 346ms\n",
      "881:\tlearn: 0.0139177\ttest: 0.0377012\tbest: 0.0376979 (880)\ttotal: 2.56s\tremaining: 343ms\n",
      "882:\tlearn: 0.0139122\ttest: 0.0377029\tbest: 0.0376979 (880)\ttotal: 2.56s\tremaining: 340ms\n",
      "883:\tlearn: 0.0138833\ttest: 0.0377013\tbest: 0.0376979 (880)\ttotal: 2.57s\tremaining: 337ms\n",
      "884:\tlearn: 0.0138792\ttest: 0.0377012\tbest: 0.0376979 (880)\ttotal: 2.57s\tremaining: 334ms\n",
      "885:\tlearn: 0.0138683\ttest: 0.0377056\tbest: 0.0376979 (880)\ttotal: 2.57s\tremaining: 331ms\n",
      "886:\tlearn: 0.0138623\ttest: 0.0377021\tbest: 0.0376979 (880)\ttotal: 2.58s\tremaining: 328ms\n",
      "887:\tlearn: 0.0138356\ttest: 0.0376985\tbest: 0.0376979 (880)\ttotal: 2.58s\tremaining: 325ms\n",
      "888:\tlearn: 0.0138213\ttest: 0.0376975\tbest: 0.0376975 (888)\ttotal: 2.58s\tremaining: 322ms\n",
      "889:\tlearn: 0.0138072\ttest: 0.0376863\tbest: 0.0376863 (889)\ttotal: 2.58s\tremaining: 319ms\n",
      "890:\tlearn: 0.0137996\ttest: 0.0376868\tbest: 0.0376863 (889)\ttotal: 2.59s\tremaining: 316ms\n",
      "891:\tlearn: 0.0137889\ttest: 0.0376861\tbest: 0.0376861 (891)\ttotal: 2.59s\tremaining: 313ms\n",
      "892:\tlearn: 0.0137673\ttest: 0.0376816\tbest: 0.0376816 (892)\ttotal: 2.59s\tremaining: 311ms\n",
      "893:\tlearn: 0.0137487\ttest: 0.0376647\tbest: 0.0376647 (893)\ttotal: 2.59s\tremaining: 308ms\n",
      "894:\tlearn: 0.0137352\ttest: 0.0376634\tbest: 0.0376634 (894)\ttotal: 2.6s\tremaining: 305ms\n",
      "895:\tlearn: 0.0137264\ttest: 0.0376657\tbest: 0.0376634 (894)\ttotal: 2.6s\tremaining: 302ms\n",
      "896:\tlearn: 0.0137092\ttest: 0.0376477\tbest: 0.0376477 (896)\ttotal: 2.6s\tremaining: 299ms\n",
      "897:\tlearn: 0.0136869\ttest: 0.0376419\tbest: 0.0376419 (897)\ttotal: 2.6s\tremaining: 296ms\n",
      "898:\tlearn: 0.0136639\ttest: 0.0376492\tbest: 0.0376419 (897)\ttotal: 2.61s\tremaining: 293ms\n",
      "899:\tlearn: 0.0136529\ttest: 0.0376501\tbest: 0.0376419 (897)\ttotal: 2.61s\tremaining: 290ms\n",
      "900:\tlearn: 0.0136417\ttest: 0.0376446\tbest: 0.0376419 (897)\ttotal: 2.61s\tremaining: 287ms\n",
      "901:\tlearn: 0.0136310\ttest: 0.0376395\tbest: 0.0376395 (901)\ttotal: 2.62s\tremaining: 284ms\n",
      "902:\tlearn: 0.0136066\ttest: 0.0376411\tbest: 0.0376395 (901)\ttotal: 2.62s\tremaining: 281ms\n",
      "903:\tlearn: 0.0135777\ttest: 0.0376392\tbest: 0.0376392 (903)\ttotal: 2.62s\tremaining: 278ms\n",
      "904:\tlearn: 0.0135626\ttest: 0.0376380\tbest: 0.0376380 (904)\ttotal: 2.62s\tremaining: 275ms\n",
      "905:\tlearn: 0.0135464\ttest: 0.0376303\tbest: 0.0376303 (905)\ttotal: 2.63s\tremaining: 273ms\n",
      "906:\tlearn: 0.0135289\ttest: 0.0376322\tbest: 0.0376303 (905)\ttotal: 2.63s\tremaining: 270ms\n",
      "907:\tlearn: 0.0135197\ttest: 0.0376278\tbest: 0.0376278 (907)\ttotal: 2.63s\tremaining: 267ms\n",
      "908:\tlearn: 0.0135066\ttest: 0.0376307\tbest: 0.0376278 (907)\ttotal: 2.63s\tremaining: 264ms\n",
      "909:\tlearn: 0.0135039\ttest: 0.0376314\tbest: 0.0376278 (907)\ttotal: 2.64s\tremaining: 261ms\n",
      "910:\tlearn: 0.0134910\ttest: 0.0376284\tbest: 0.0376278 (907)\ttotal: 2.64s\tremaining: 258ms\n",
      "911:\tlearn: 0.0134827\ttest: 0.0376300\tbest: 0.0376278 (907)\ttotal: 2.64s\tremaining: 255ms\n",
      "912:\tlearn: 0.0134802\ttest: 0.0376323\tbest: 0.0376278 (907)\ttotal: 2.65s\tremaining: 252ms\n",
      "913:\tlearn: 0.0134625\ttest: 0.0376269\tbest: 0.0376269 (913)\ttotal: 2.65s\tremaining: 249ms\n",
      "914:\tlearn: 0.0134484\ttest: 0.0376234\tbest: 0.0376234 (914)\ttotal: 2.65s\tremaining: 246ms\n",
      "915:\tlearn: 0.0134376\ttest: 0.0376213\tbest: 0.0376213 (915)\ttotal: 2.65s\tremaining: 243ms\n",
      "916:\tlearn: 0.0134174\ttest: 0.0376099\tbest: 0.0376099 (916)\ttotal: 2.66s\tremaining: 240ms\n",
      "917:\tlearn: 0.0134030\ttest: 0.0376065\tbest: 0.0376065 (917)\ttotal: 2.66s\tremaining: 237ms\n",
      "918:\tlearn: 0.0133833\ttest: 0.0376094\tbest: 0.0376065 (917)\ttotal: 2.66s\tremaining: 235ms\n",
      "919:\tlearn: 0.0133718\ttest: 0.0376086\tbest: 0.0376065 (917)\ttotal: 2.66s\tremaining: 232ms\n",
      "920:\tlearn: 0.0133608\ttest: 0.0376082\tbest: 0.0376065 (917)\ttotal: 2.67s\tremaining: 229ms\n",
      "921:\tlearn: 0.0133494\ttest: 0.0376049\tbest: 0.0376049 (921)\ttotal: 2.67s\tremaining: 226ms\n",
      "922:\tlearn: 0.0133381\ttest: 0.0376018\tbest: 0.0376018 (922)\ttotal: 2.67s\tremaining: 223ms\n",
      "923:\tlearn: 0.0133273\ttest: 0.0376054\tbest: 0.0376018 (922)\ttotal: 2.67s\tremaining: 220ms\n",
      "924:\tlearn: 0.0133092\ttest: 0.0376067\tbest: 0.0376018 (922)\ttotal: 2.68s\tremaining: 217ms\n",
      "925:\tlearn: 0.0132992\ttest: 0.0376038\tbest: 0.0376018 (922)\ttotal: 2.68s\tremaining: 214ms\n",
      "926:\tlearn: 0.0132815\ttest: 0.0376042\tbest: 0.0376018 (922)\ttotal: 2.68s\tremaining: 211ms\n",
      "927:\tlearn: 0.0132766\ttest: 0.0375985\tbest: 0.0375985 (927)\ttotal: 2.69s\tremaining: 208ms\n",
      "928:\tlearn: 0.0132715\ttest: 0.0376000\tbest: 0.0375985 (927)\ttotal: 2.69s\tremaining: 205ms\n",
      "929:\tlearn: 0.0132579\ttest: 0.0375920\tbest: 0.0375920 (929)\ttotal: 2.69s\tremaining: 203ms\n",
      "930:\tlearn: 0.0132480\ttest: 0.0375941\tbest: 0.0375920 (929)\ttotal: 2.69s\tremaining: 200ms\n",
      "931:\tlearn: 0.0132329\ttest: 0.0375860\tbest: 0.0375860 (931)\ttotal: 2.7s\tremaining: 197ms\n",
      "932:\tlearn: 0.0132126\ttest: 0.0375825\tbest: 0.0375825 (932)\ttotal: 2.7s\tremaining: 194ms\n",
      "933:\tlearn: 0.0131910\ttest: 0.0375759\tbest: 0.0375759 (933)\ttotal: 2.7s\tremaining: 191ms\n",
      "934:\tlearn: 0.0131770\ttest: 0.0375740\tbest: 0.0375740 (934)\ttotal: 2.71s\tremaining: 188ms\n",
      "935:\tlearn: 0.0131648\ttest: 0.0375665\tbest: 0.0375665 (935)\ttotal: 2.71s\tremaining: 185ms\n",
      "936:\tlearn: 0.0131531\ttest: 0.0375589\tbest: 0.0375589 (936)\ttotal: 2.71s\tremaining: 182ms\n",
      "937:\tlearn: 0.0131490\ttest: 0.0375586\tbest: 0.0375586 (937)\ttotal: 2.71s\tremaining: 180ms\n",
      "938:\tlearn: 0.0131436\ttest: 0.0375577\tbest: 0.0375577 (938)\ttotal: 2.72s\tremaining: 177ms\n",
      "939:\tlearn: 0.0131325\ttest: 0.0375570\tbest: 0.0375570 (939)\ttotal: 2.72s\tremaining: 174ms\n",
      "940:\tlearn: 0.0131185\ttest: 0.0375554\tbest: 0.0375554 (940)\ttotal: 2.72s\tremaining: 171ms\n",
      "941:\tlearn: 0.0131038\ttest: 0.0375593\tbest: 0.0375554 (940)\ttotal: 2.73s\tremaining: 168ms\n",
      "942:\tlearn: 0.0131017\ttest: 0.0375596\tbest: 0.0375554 (940)\ttotal: 2.73s\tremaining: 165ms\n",
      "943:\tlearn: 0.0130881\ttest: 0.0375548\tbest: 0.0375548 (943)\ttotal: 2.73s\tremaining: 162ms\n",
      "944:\tlearn: 0.0130765\ttest: 0.0375522\tbest: 0.0375522 (944)\ttotal: 2.74s\tremaining: 159ms\n",
      "945:\tlearn: 0.0130615\ttest: 0.0375544\tbest: 0.0375522 (944)\ttotal: 2.74s\tremaining: 156ms\n",
      "946:\tlearn: 0.0130582\ttest: 0.0375569\tbest: 0.0375522 (944)\ttotal: 2.74s\tremaining: 153ms\n",
      "947:\tlearn: 0.0130447\ttest: 0.0375520\tbest: 0.0375520 (947)\ttotal: 2.74s\tremaining: 151ms\n",
      "948:\tlearn: 0.0130322\ttest: 0.0375550\tbest: 0.0375520 (947)\ttotal: 2.75s\tremaining: 148ms\n",
      "949:\tlearn: 0.0130114\ttest: 0.0375531\tbest: 0.0375520 (947)\ttotal: 2.75s\tremaining: 145ms\n",
      "950:\tlearn: 0.0129955\ttest: 0.0375523\tbest: 0.0375520 (947)\ttotal: 2.75s\tremaining: 142ms\n",
      "951:\tlearn: 0.0129729\ttest: 0.0375489\tbest: 0.0375489 (951)\ttotal: 2.76s\tremaining: 139ms\n",
      "952:\tlearn: 0.0129574\ttest: 0.0375470\tbest: 0.0375470 (952)\ttotal: 2.76s\tremaining: 136ms\n",
      "953:\tlearn: 0.0129465\ttest: 0.0375438\tbest: 0.0375438 (953)\ttotal: 2.76s\tremaining: 133ms\n",
      "954:\tlearn: 0.0129368\ttest: 0.0375466\tbest: 0.0375438 (953)\ttotal: 2.76s\tremaining: 130ms\n",
      "955:\tlearn: 0.0129296\ttest: 0.0375506\tbest: 0.0375438 (953)\ttotal: 2.77s\tremaining: 127ms\n",
      "956:\tlearn: 0.0129214\ttest: 0.0375467\tbest: 0.0375438 (953)\ttotal: 2.77s\tremaining: 124ms\n",
      "957:\tlearn: 0.0128983\ttest: 0.0375361\tbest: 0.0375361 (957)\ttotal: 2.77s\tremaining: 122ms\n",
      "958:\tlearn: 0.0128838\ttest: 0.0375348\tbest: 0.0375348 (958)\ttotal: 2.77s\tremaining: 119ms\n",
      "959:\tlearn: 0.0128804\ttest: 0.0375340\tbest: 0.0375340 (959)\ttotal: 2.78s\tremaining: 116ms\n",
      "960:\tlearn: 0.0128763\ttest: 0.0375344\tbest: 0.0375340 (959)\ttotal: 2.78s\tremaining: 113ms\n",
      "961:\tlearn: 0.0128714\ttest: 0.0375332\tbest: 0.0375332 (961)\ttotal: 2.78s\tremaining: 110ms\n",
      "962:\tlearn: 0.0128629\ttest: 0.0375286\tbest: 0.0375286 (962)\ttotal: 2.79s\tremaining: 107ms\n",
      "963:\tlearn: 0.0128458\ttest: 0.0375252\tbest: 0.0375252 (963)\ttotal: 2.79s\tremaining: 104ms\n",
      "964:\tlearn: 0.0128321\ttest: 0.0375198\tbest: 0.0375198 (964)\ttotal: 2.79s\tremaining: 101ms\n",
      "965:\tlearn: 0.0128294\ttest: 0.0375218\tbest: 0.0375198 (964)\ttotal: 2.79s\tremaining: 98.4ms\n",
      "966:\tlearn: 0.0128109\ttest: 0.0375205\tbest: 0.0375198 (964)\ttotal: 2.8s\tremaining: 95.5ms\n",
      "967:\tlearn: 0.0128081\ttest: 0.0375200\tbest: 0.0375198 (964)\ttotal: 2.8s\tremaining: 92.6ms\n",
      "968:\tlearn: 0.0127936\ttest: 0.0375242\tbest: 0.0375198 (964)\ttotal: 2.8s\tremaining: 89.7ms\n",
      "969:\tlearn: 0.0127842\ttest: 0.0375234\tbest: 0.0375198 (964)\ttotal: 2.81s\tremaining: 86.8ms\n",
      "970:\tlearn: 0.0127716\ttest: 0.0375208\tbest: 0.0375198 (964)\ttotal: 2.81s\tremaining: 83.9ms\n",
      "971:\tlearn: 0.0127634\ttest: 0.0375198\tbest: 0.0375198 (964)\ttotal: 2.81s\tremaining: 81ms\n",
      "972:\tlearn: 0.0127425\ttest: 0.0374999\tbest: 0.0374999 (972)\ttotal: 2.81s\tremaining: 78.1ms\n",
      "973:\tlearn: 0.0127295\ttest: 0.0375032\tbest: 0.0374999 (972)\ttotal: 2.82s\tremaining: 75.2ms\n",
      "974:\tlearn: 0.0127023\ttest: 0.0375025\tbest: 0.0374999 (972)\ttotal: 2.82s\tremaining: 72.3ms\n",
      "975:\tlearn: 0.0126831\ttest: 0.0374986\tbest: 0.0374986 (975)\ttotal: 2.82s\tremaining: 69.4ms\n",
      "976:\tlearn: 0.0126806\ttest: 0.0374988\tbest: 0.0374986 (975)\ttotal: 2.83s\tremaining: 66.5ms\n",
      "977:\tlearn: 0.0126682\ttest: 0.0374956\tbest: 0.0374956 (977)\ttotal: 2.83s\tremaining: 63.6ms\n",
      "978:\tlearn: 0.0126594\ttest: 0.0374908\tbest: 0.0374908 (978)\ttotal: 2.83s\tremaining: 60.7ms\n",
      "979:\tlearn: 0.0126459\ttest: 0.0374875\tbest: 0.0374875 (979)\ttotal: 2.83s\tremaining: 57.8ms\n",
      "980:\tlearn: 0.0126135\ttest: 0.0374819\tbest: 0.0374819 (980)\ttotal: 2.84s\tremaining: 54.9ms\n",
      "981:\tlearn: 0.0126034\ttest: 0.0374815\tbest: 0.0374815 (981)\ttotal: 2.84s\tremaining: 52ms\n",
      "982:\tlearn: 0.0125860\ttest: 0.0374787\tbest: 0.0374787 (982)\ttotal: 2.84s\tremaining: 49.1ms\n",
      "983:\tlearn: 0.0125773\ttest: 0.0374758\tbest: 0.0374758 (983)\ttotal: 2.87s\tremaining: 46.6ms\n",
      "984:\tlearn: 0.0125620\ttest: 0.0374748\tbest: 0.0374748 (984)\ttotal: 2.87s\tremaining: 43.7ms\n",
      "985:\tlearn: 0.0125487\ttest: 0.0374758\tbest: 0.0374748 (984)\ttotal: 2.88s\tremaining: 40.8ms\n",
      "986:\tlearn: 0.0125415\ttest: 0.0374735\tbest: 0.0374735 (986)\ttotal: 2.88s\tremaining: 37.9ms\n",
      "987:\tlearn: 0.0125173\ttest: 0.0374688\tbest: 0.0374688 (987)\ttotal: 2.88s\tremaining: 35ms\n",
      "988:\tlearn: 0.0125131\ttest: 0.0374684\tbest: 0.0374684 (988)\ttotal: 2.88s\tremaining: 32.1ms\n",
      "989:\tlearn: 0.0125063\ttest: 0.0374675\tbest: 0.0374675 (989)\ttotal: 2.89s\tremaining: 29.2ms\n",
      "990:\tlearn: 0.0125031\ttest: 0.0374665\tbest: 0.0374665 (990)\ttotal: 2.89s\tremaining: 26.3ms\n",
      "991:\tlearn: 0.0124922\ttest: 0.0374650\tbest: 0.0374650 (991)\ttotal: 2.89s\tremaining: 23.3ms\n",
      "992:\tlearn: 0.0124785\ttest: 0.0374597\tbest: 0.0374597 (992)\ttotal: 2.9s\tremaining: 20.4ms\n",
      "993:\tlearn: 0.0124623\ttest: 0.0374487\tbest: 0.0374487 (993)\ttotal: 2.9s\tremaining: 17.5ms\n",
      "994:\tlearn: 0.0124485\ttest: 0.0374482\tbest: 0.0374482 (994)\ttotal: 2.9s\tremaining: 14.6ms\n",
      "995:\tlearn: 0.0124323\ttest: 0.0374471\tbest: 0.0374471 (995)\ttotal: 2.9s\tremaining: 11.7ms\n",
      "996:\tlearn: 0.0124202\ttest: 0.0374476\tbest: 0.0374471 (995)\ttotal: 2.91s\tremaining: 8.75ms\n",
      "997:\tlearn: 0.0124150\ttest: 0.0374468\tbest: 0.0374468 (997)\ttotal: 2.91s\tremaining: 5.83ms\n",
      "998:\tlearn: 0.0123974\ttest: 0.0374412\tbest: 0.0374412 (998)\ttotal: 2.91s\tremaining: 2.92ms\n",
      "999:\tlearn: 0.0123946\ttest: 0.0374404\tbest: 0.0374404 (999)\ttotal: 2.92s\tremaining: 0us\n",
      "\n",
      "bestTest = 0.0374403955\n",
      "bestIteration = 999\n",
      "\n"
     ]
    },
    {
     "data": {
      "text/plain": [
       "<catboost.core.CatBoostRegressor at 0x7ff2ff408310>"
      ]
     },
     "execution_count": 66,
     "metadata": {},
     "output_type": "execute_result"
    }
   ],
   "source": [
    "from catboost import CatBoostRegressor\n",
    "cat= CatBoostRegressor(loss_function='RMSE')\n",
    "cat.fit(x_train, y_train, eval_set = (x_test, y_test), plot=True)"
   ]
  },
  {
   "cell_type": "markdown",
   "id": "c1df7a94",
   "metadata": {
    "papermill": {
     "duration": 0.130538,
     "end_time": "2022-06-05T10:50:50.873956",
     "exception": false,
     "start_time": "2022-06-05T10:50:50.743418",
     "status": "completed"
    },
    "tags": []
   },
   "source": [
    "### Conclusion"
   ]
  },
  {
   "cell_type": "markdown",
   "id": "9b291f40",
   "metadata": {
    "papermill": {
     "duration": 0.130271,
     "end_time": "2022-06-05T10:50:51.137769",
     "exception": false,
     "start_time": "2022-06-05T10:50:51.007498",
     "status": "completed"
    },
    "tags": []
   },
   "source": [
    "### XgBoost - Mean squared error:  0.0014111426048558611  R2 score:  0.962317634886713\n",
    "### Random Forest - Mean Squared Error:  0.0015578614449765099 R2 score - 0.960961324424398 "
   ]
  }
 ],
 "metadata": {
  "kernelspec": {
   "display_name": "Python 3",
   "language": "python",
   "name": "python3"
  },
  "language_info": {
   "codemirror_mode": {
    "name": "ipython",
    "version": 3
   },
   "file_extension": ".py",
   "mimetype": "text/x-python",
   "name": "python",
   "nbconvert_exporter": "python",
   "pygments_lexer": "ipython3",
   "version": "3.7.12"
  },
  "papermill": {
   "default_parameters": {},
   "duration": 332.912955,
   "end_time": "2022-06-05T10:50:53.895306",
   "environment_variables": {},
   "exception": null,
   "input_path": "__notebook__.ipynb",
   "output_path": "__notebook__.ipynb",
   "parameters": {},
   "start_time": "2022-06-05T10:45:20.982351",
   "version": "2.3.4"
  },
  "widgets": {
   "application/vnd.jupyter.widget-state+json": {
    "state": {
     "31f4dc679e8a4f9a8ab8510d1b9bcd34": {
      "model_module": "@jupyter-widgets/base",
      "model_module_version": "1.2.0",
      "model_name": "LayoutModel",
      "state": {
       "_model_module": "@jupyter-widgets/base",
       "_model_module_version": "1.2.0",
       "_model_name": "LayoutModel",
       "_view_count": null,
       "_view_module": "@jupyter-widgets/base",
       "_view_module_version": "1.2.0",
       "_view_name": "LayoutView",
       "align_content": null,
       "align_items": null,
       "align_self": "stretch",
       "border": null,
       "bottom": null,
       "display": null,
       "flex": null,
       "flex_flow": null,
       "grid_area": null,
       "grid_auto_columns": null,
       "grid_auto_flow": null,
       "grid_auto_rows": null,
       "grid_column": null,
       "grid_gap": null,
       "grid_row": null,
       "grid_template_areas": null,
       "grid_template_columns": null,
       "grid_template_rows": null,
       "height": "500px",
       "justify_content": null,
       "justify_items": null,
       "left": null,
       "margin": null,
       "max_height": null,
       "max_width": null,
       "min_height": null,
       "min_width": null,
       "object_fit": null,
       "object_position": null,
       "order": null,
       "overflow": null,
       "overflow_x": null,
       "overflow_y": null,
       "padding": null,
       "right": null,
       "top": null,
       "visibility": null,
       "width": null
      }
     },
     "f28ca31d270547d58c53aecaaea498b2": {
      "model_module": "catboost-widget",
      "model_module_version": "^1.0.0",
      "model_name": "CatboostWidgetModel",
      "state": {
       "_dom_classes": [],
       "_model_module": "catboost-widget",
       "_model_module_version": "^1.0.0",
       "_model_name": "CatboostWidgetModel",
       "_view_count": null,
       "_view_module": "catboost-widget",
       "_view_module_version": "^1.0.0",
       "_view_name": "CatboostWidgetView",
       "data": {
        "catboost_info": {
         "content": {
          "data": {
           "iterations": [
            {
             "iteration": 0,
             "learn": [
              0.1885120217
             ],
             "passed_time": 0.05725960545,
             "remaining_time": 57.20234585,
             "test": [
              0.1851209619
             ]
            },
            {
             "iteration": 1,
             "learn": [
              0.1805577117
             ],
             "passed_time": 0.06017903101,
             "remaining_time": 30.02933647,
             "test": [
              0.1773098008
             ]
            },
            {
             "iteration": 2,
             "learn": [
              0.1728399968
             ],
             "passed_time": 0.0630585682,
             "remaining_time": 20.95646416,
             "test": [
              0.1695349203
             ]
            },
            {
             "iteration": 3,
             "learn": [
              0.1658602567
             ],
             "passed_time": 0.06574087974,
             "remaining_time": 16.36947905,
             "test": [
              0.1626410349
             ]
            },
            {
             "iteration": 4,
             "learn": [
              0.1588528898
             ],
             "passed_time": 0.06843304245,
             "remaining_time": 13.61817545,
             "test": [
              0.1556804404
             ]
            },
            {
             "iteration": 5,
             "learn": [
              0.1524049733
             ],
             "passed_time": 0.07114191577,
             "remaining_time": 11.78584405,
             "test": [
              0.1495571625
             ]
            },
            {
             "iteration": 6,
             "learn": [
              0.1463463812
             ],
             "passed_time": 0.0739037681,
             "remaining_time": 10.48377739,
             "test": [
              0.1435867281
             ]
            },
            {
             "iteration": 7,
             "learn": [
              0.1408389393
             ],
             "passed_time": 0.07674555218,
             "remaining_time": 9.516448471,
             "test": [
              0.1380648608
             ]
            },
            {
             "iteration": 8,
             "learn": [
              0.1358373823
             ],
             "passed_time": 0.07959945452,
             "remaining_time": 8.764784381,
             "test": [
              0.1331855403
             ]
            },
            {
             "iteration": 9,
             "learn": [
              0.130786056
             ],
             "passed_time": 0.08251099777,
             "remaining_time": 8.168588779,
             "test": [
              0.1283113375
             ]
            },
            {
             "iteration": 10,
             "learn": [
              0.1258797308
             ],
             "passed_time": 0.08521794996,
             "remaining_time": 7.66186841,
             "test": [
              0.1236004169
             ]
            },
            {
             "iteration": 11,
             "learn": [
              0.1214320515
             ],
             "passed_time": 0.08795847658,
             "remaining_time": 7.241914572,
             "test": [
              0.119214716
             ]
            },
            {
             "iteration": 12,
             "learn": [
              0.1171523047
             ],
             "passed_time": 0.09075461798,
             "remaining_time": 6.890369842,
             "test": [
              0.1150604248
             ]
            },
            {
             "iteration": 13,
             "learn": [
              0.1131090681
             ],
             "passed_time": 0.09352413168,
             "remaining_time": 6.586770988,
             "test": [
              0.1111645446
             ]
            },
            {
             "iteration": 14,
             "learn": [
              0.1097478192
             ],
             "passed_time": 0.09619127597,
             "remaining_time": 6.316560455,
             "test": [
              0.1081126529
             ]
            },
            {
             "iteration": 15,
             "learn": [
              0.1060468447
             ],
             "passed_time": 0.09886978751,
             "remaining_time": 6.080491932,
             "test": [
              0.1046916245
             ]
            },
            {
             "iteration": 16,
             "learn": [
              0.1027270958
             ],
             "passed_time": 0.1016806816,
             "remaining_time": 5.879535881,
             "test": [
              0.1014012086
             ]
            },
            {
             "iteration": 17,
             "learn": [
              0.09959886034
             ],
             "passed_time": 0.1044736299,
             "remaining_time": 5.699616918,
             "test": [
              0.09847814571
             ]
            },
            {
             "iteration": 18,
             "learn": [
              0.09665743501
             ],
             "passed_time": 0.1072808726,
             "remaining_time": 5.539080842,
             "test": [
              0.09567611898
             ]
            },
            {
             "iteration": 19,
             "learn": [
              0.0940188145
             ],
             "passed_time": 0.1099455766,
             "remaining_time": 5.387333252,
             "test": [
              0.09314532947
             ]
            },
            {
             "iteration": 20,
             "learn": [
              0.09125440475
             ],
             "passed_time": 0.1126804507,
             "remaining_time": 5.253055297,
             "test": [
              0.09055448021
             ]
            },
            {
             "iteration": 21,
             "learn": [
              0.08879222358
             ],
             "passed_time": 0.1152634609,
             "remaining_time": 5.123984763,
             "test": [
              0.08841418241
             ]
            },
            {
             "iteration": 22,
             "learn": [
              0.08619735975
             ],
             "passed_time": 0.1178982568,
             "remaining_time": 5.00811291,
             "test": [
              0.08594917114
             ]
            },
            {
             "iteration": 23,
             "learn": [
              0.08393193236
             ],
             "passed_time": 0.1207638515,
             "remaining_time": 4.911063293,
             "test": [
              0.0838951608
             ]
            },
            {
             "iteration": 24,
             "learn": [
              0.08195915293
             ],
             "passed_time": 0.1235904528,
             "remaining_time": 4.820027661,
             "test": [
              0.08210605945
             ]
            },
            {
             "iteration": 25,
             "learn": [
              0.07971312865
             ],
             "passed_time": 0.1263752015,
             "remaining_time": 4.734209472,
             "test": [
              0.07997732113
             ]
            },
            {
             "iteration": 26,
             "learn": [
              0.07789706739
             ],
             "passed_time": 0.1290647921,
             "remaining_time": 4.651112693,
             "test": [
              0.0784694613
             ]
            },
            {
             "iteration": 27,
             "learn": [
              0.07604803865
             ],
             "passed_time": 0.1318262653,
             "remaining_time": 4.576254638,
             "test": [
              0.07688327737
             ]
            },
            {
             "iteration": 28,
             "learn": [
              0.07427936183
             ],
             "passed_time": 0.1345827684,
             "remaining_time": 4.506202348,
             "test": [
              0.07528870653
             ]
            },
            {
             "iteration": 29,
             "learn": [
              0.0727872262
             ],
             "passed_time": 0.137324011,
             "remaining_time": 4.440143022,
             "test": [
              0.07406655901
             ]
            },
            {
             "iteration": 30,
             "learn": [
              0.07146478005
             ],
             "passed_time": 0.1400430855,
             "remaining_time": 4.377475802,
             "test": [
              0.07287800528
             ]
            },
            {
             "iteration": 31,
             "learn": [
              0.07016103283
             ],
             "passed_time": 0.1427020316,
             "remaining_time": 4.316736455,
             "test": [
              0.07179334451
             ]
            },
            {
             "iteration": 32,
             "learn": [
              0.06880053073
             ],
             "passed_time": 0.1453157227,
             "remaining_time": 4.258191026,
             "test": [
              0.0706805056
             ]
            },
            {
             "iteration": 33,
             "learn": [
              0.06755436781
             ],
             "passed_time": 0.1479904929,
             "remaining_time": 4.204671063,
             "test": [
              0.06959267451
             ]
            },
            {
             "iteration": 34,
             "learn": [
              0.06631143181
             ],
             "passed_time": 0.1506949321,
             "remaining_time": 4.154874555,
             "test": [
              0.06848180332
             ]
            },
            {
             "iteration": 35,
             "learn": [
              0.0652515214
             ],
             "passed_time": 0.1534255143,
             "remaining_time": 4.108394328,
             "test": [
              0.06757639716
             ]
            },
            {
             "iteration": 36,
             "learn": [
              0.0641096576
             ],
             "passed_time": 0.1561440729,
             "remaining_time": 4.063966005,
             "test": [
              0.06674044401
             ]
            },
            {
             "iteration": 37,
             "learn": [
              0.06325283833
             ],
             "passed_time": 0.1588877203,
             "remaining_time": 4.022368078,
             "test": [
              0.06603495103
             ]
            },
            {
             "iteration": 38,
             "learn": [
              0.06240348251
             ],
             "passed_time": 0.161663638,
             "remaining_time": 3.983557848,
             "test": [
              0.06537654097
             ]
            },
            {
             "iteration": 39,
             "learn": [
              0.06166131557
             ],
             "passed_time": 0.1645395984,
             "remaining_time": 3.948950361,
             "test": [
              0.0648193892
             ]
            },
            {
             "iteration": 40,
             "learn": [
              0.06072966155
             ],
             "passed_time": 0.1674466275,
             "remaining_time": 3.916617457,
             "test": [
              0.06406312044
             ]
            },
            {
             "iteration": 41,
             "learn": [
              0.05978383153
             ],
             "passed_time": 0.1702902613,
             "remaining_time": 3.88423977,
             "test": [
              0.06328425114
             ]
            },
            {
             "iteration": 42,
             "learn": [
              0.05896219482
             ],
             "passed_time": 0.1732099487,
             "remaining_time": 3.854928393,
             "test": [
              0.06253297702
             ]
            },
            {
             "iteration": 43,
             "learn": [
              0.05828064439
             ],
             "passed_time": 0.1759676178,
             "remaining_time": 3.823296423,
             "test": [
              0.0620489215
             ]
            },
            {
             "iteration": 44,
             "learn": [
              0.05766856119
             ],
             "passed_time": 0.1787914693,
             "remaining_time": 3.794352293,
             "test": [
              0.06157080085
             ]
            },
            {
             "iteration": 45,
             "learn": [
              0.05701736265
             ],
             "passed_time": 0.1814574916,
             "remaining_time": 3.763270588,
             "test": [
              0.06106971152
             ]
            },
            {
             "iteration": 46,
             "learn": [
              0.05646012987
             ],
             "passed_time": 0.1842060356,
             "remaining_time": 3.735071317,
             "test": [
              0.06066768962
             ]
            },
            {
             "iteration": 47,
             "learn": [
              0.05582720471
             ],
             "passed_time": 0.1887306923,
             "remaining_time": 3.743158731,
             "test": [
              0.06020918409
             ]
            },
            {
             "iteration": 48,
             "learn": [
              0.05529848332
             ],
             "passed_time": 0.1922184066,
             "remaining_time": 3.730606217,
             "test": [
              0.05979505378
             ]
            },
            {
             "iteration": 49,
             "learn": [
              0.05484397746
             ],
             "passed_time": 0.1950600934,
             "remaining_time": 3.706141774,
             "test": [
              0.0594370857
             ]
            },
            {
             "iteration": 50,
             "learn": [
              0.054414697
             ],
             "passed_time": 0.1979295971,
             "remaining_time": 3.683042895,
             "test": [
              0.05911939094
             ]
            },
            {
             "iteration": 51,
             "learn": [
              0.05403573666
             ],
             "passed_time": 0.2006851937,
             "remaining_time": 3.658645454,
             "test": [
              0.05889151401
             ]
            },
            {
             "iteration": 52,
             "learn": [
              0.05361297132
             ],
             "passed_time": 0.2035000855,
             "remaining_time": 3.636124169,
             "test": [
              0.05851488199
             ]
            },
            {
             "iteration": 53,
             "learn": [
              0.05315596393
             ],
             "passed_time": 0.2061437488,
             "remaining_time": 3.611333081,
             "test": [
              0.0581880596
             ]
            },
            {
             "iteration": 54,
             "learn": [
              0.05281073719
             ],
             "passed_time": 0.2088652695,
             "remaining_time": 3.588685086,
             "test": [
              0.057936814
             ]
            },
            {
             "iteration": 55,
             "learn": [
              0.05228106799
             ],
             "passed_time": 0.2115593188,
             "remaining_time": 3.56628566,
             "test": [
              0.05752236087
             ]
            },
            {
             "iteration": 56,
             "learn": [
              0.05200532538
             ],
             "passed_time": 0.2143941062,
             "remaining_time": 3.546906002,
             "test": [
              0.05727223123
             ]
            },
            {
             "iteration": 57,
             "learn": [
              0.05162810906
             ],
             "passed_time": 0.2171407117,
             "remaining_time": 3.526664662,
             "test": [
              0.05704816653
             ]
            },
            {
             "iteration": 58,
             "learn": [
              0.0513687124
             ],
             "passed_time": 0.2197647863,
             "remaining_time": 3.505062101,
             "test": [
              0.05685852106
             ]
            },
            {
             "iteration": 59,
             "learn": [
              0.05099078278
             ],
             "passed_time": 0.2224092093,
             "remaining_time": 3.484410946,
             "test": [
              0.05650218534
             ]
            },
            {
             "iteration": 60,
             "learn": [
              0.05077688604
             ],
             "passed_time": 0.2251250821,
             "remaining_time": 3.465450034,
             "test": [
              0.05637011679
             ]
            },
            {
             "iteration": 61,
             "learn": [
              0.05050336668
             ],
             "passed_time": 0.227726504,
             "remaining_time": 3.445281626,
             "test": [
              0.0561924748
             ]
            },
            {
             "iteration": 62,
             "learn": [
              0.05015794361
             ],
             "passed_time": 0.2304236169,
             "remaining_time": 3.427094112,
             "test": [
              0.05595333114
             ]
            },
            {
             "iteration": 63,
             "learn": [
              0.04987641608
             ],
             "passed_time": 0.2331342154,
             "remaining_time": 3.409587901,
             "test": [
              0.05576545406
             ]
            },
            {
             "iteration": 64,
             "learn": [
              0.04956391679
             ],
             "passed_time": 0.2357891669,
             "remaining_time": 3.391736478,
             "test": [
              0.05555166811
             ]
            },
            {
             "iteration": 65,
             "learn": [
              0.04925410732
             ],
             "passed_time": 0.2385438443,
             "remaining_time": 3.375756827,
             "test": [
              0.05521013413
             ]
            },
            {
             "iteration": 66,
             "learn": [
              0.04909027319
             ],
             "passed_time": 0.2411811796,
             "remaining_time": 3.358537919,
             "test": [
              0.05508592656
             ]
            },
            {
             "iteration": 67,
             "learn": [
              0.04885494211
             ],
             "passed_time": 0.2438351605,
             "remaining_time": 3.341976023,
             "test": [
              0.05489143403
             ]
            },
            {
             "iteration": 68,
             "learn": [
              0.04862821372
             ],
             "passed_time": 0.246575939,
             "remaining_time": 3.326988394,
             "test": [
              0.05471186446
             ]
            },
            {
             "iteration": 69,
             "learn": [
              0.04837209474
             ],
             "passed_time": 0.2494400166,
             "remaining_time": 3.313988792,
             "test": [
              0.05450003744
             ]
            },
            {
             "iteration": 70,
             "learn": [
              0.04815965014
             ],
             "passed_time": 0.2521097467,
             "remaining_time": 3.298731756,
             "test": [
              0.05436138682
             ]
            },
            {
             "iteration": 71,
             "learn": [
              0.04801338588
             ],
             "passed_time": 0.2548698802,
             "remaining_time": 3.284989566,
             "test": [
              0.05424816404
             ]
            },
            {
             "iteration": 72,
             "learn": [
              0.04776382111
             ],
             "passed_time": 0.2575924601,
             "remaining_time": 3.271071377,
             "test": [
              0.05403924937
             ]
            },
            {
             "iteration": 73,
             "learn": [
              0.0475492643
             ],
             "passed_time": 0.2602929224,
             "remaining_time": 3.257179002,
             "test": [
              0.05389789006
             ]
            },
            {
             "iteration": 74,
             "learn": [
              0.04737154572
             ],
             "passed_time": 0.2629256895,
             "remaining_time": 3.24275017,
             "test": [
              0.0537365737
             ]
            },
            {
             "iteration": 75,
             "learn": [
              0.04720336229
             ],
             "passed_time": 0.2655040105,
             "remaining_time": 3.227969812,
             "test": [
              0.05360530912
             ]
            },
            {
             "iteration": 76,
             "learn": [
              0.04698522332
             ],
             "passed_time": 0.2682147522,
             "remaining_time": 3.215093718,
             "test": [
              0.05342962794
             ]
            },
            {
             "iteration": 77,
             "learn": [
              0.04682539974
             ],
             "passed_time": 0.2710022903,
             "remaining_time": 3.203386047,
             "test": [
              0.05332958942
             ]
            },
            {
             "iteration": 78,
             "learn": [
              0.04668988467
             ],
             "passed_time": 0.2737881564,
             "remaining_time": 3.19188471,
             "test": [
              0.05324976452
             ]
            },
            {
             "iteration": 79,
             "learn": [
              0.04647605567
             ],
             "passed_time": 0.2764336427,
             "remaining_time": 3.178986891,
             "test": [
              0.05311917354
             ]
            },
            {
             "iteration": 80,
             "learn": [
              0.04627839256
             ],
             "passed_time": 0.2790780229,
             "remaining_time": 3.166329667,
             "test": [
              0.0529429058
             ]
            },
            {
             "iteration": 81,
             "learn": [
              0.04611618731
             ],
             "passed_time": 0.2817710289,
             "remaining_time": 3.154461031,
             "test": [
              0.05282344094
             ]
            },
            {
             "iteration": 82,
             "learn": [
              0.0459944074
             ],
             "passed_time": 0.2843823234,
             "remaining_time": 3.14191073,
             "test": [
              0.05275715475
             ]
            },
            {
             "iteration": 83,
             "learn": [
              0.04582864115
             ],
             "passed_time": 0.2871228059,
             "remaining_time": 3.131005836,
             "test": [
              0.05261494373
             ]
            },
            {
             "iteration": 84,
             "learn": [
              0.04566868507
             ],
             "passed_time": 0.2898330403,
             "remaining_time": 3.119967434,
             "test": [
              0.0524800049
             ]
            },
            {
             "iteration": 85,
             "learn": [
              0.04555460276
             ],
             "passed_time": 0.2923939866,
             "remaining_time": 3.10753609,
             "test": [
              0.05244006303
             ]
            },
            {
             "iteration": 86,
             "learn": [
              0.04543827521
             ],
             "passed_time": 0.295014193,
             "remaining_time": 3.095953543,
             "test": [
              0.05235215984
             ]
            },
            {
             "iteration": 87,
             "learn": [
              0.04535321692
             ],
             "passed_time": 0.297773325,
             "remaining_time": 3.086014459,
             "test": [
              0.05230679828
             ]
            },
            {
             "iteration": 88,
             "learn": [
              0.04524601005
             ],
             "passed_time": 0.3005007001,
             "remaining_time": 3.075911661,
             "test": [
              0.0522329972
             ]
            },
            {
             "iteration": 89,
             "learn": [
              0.04507235178
             ],
             "passed_time": 0.3031671752,
             "remaining_time": 3.065356994,
             "test": [
              0.05205222773
             ]
            },
            {
             "iteration": 90,
             "learn": [
              0.04501466253
             ],
             "passed_time": 0.3058729327,
             "remaining_time": 3.055368086,
             "test": [
              0.05201834183
             ]
            },
            {
             "iteration": 91,
             "learn": [
              0.04488719643
             ],
             "passed_time": 0.3085782543,
             "remaining_time": 3.045533205,
             "test": [
              0.05190137486
             ]
            },
            {
             "iteration": 92,
             "learn": [
              0.04471553024
             ],
             "passed_time": 0.3112707434,
             "remaining_time": 3.035726497,
             "test": [
              0.0518145569
             ]
            },
            {
             "iteration": 93,
             "learn": [
              0.04459499817
             ],
             "passed_time": 0.3139864671,
             "remaining_time": 3.026295097,
             "test": [
              0.05173528674
             ]
            },
            {
             "iteration": 94,
             "learn": [
              0.04451297514
             ],
             "passed_time": 0.3166253094,
             "remaining_time": 3.016272684,
             "test": [
              0.05170021542
             ]
            },
            {
             "iteration": 95,
             "learn": [
              0.04439861148
             ],
             "passed_time": 0.319197636,
             "remaining_time": 3.005777739,
             "test": [
              0.05159110563
             ]
            },
            {
             "iteration": 96,
             "learn": [
              0.04427307693
             ],
             "passed_time": 0.3218250156,
             "remaining_time": 2.995958651,
             "test": [
              0.05150916058
             ]
            },
            {
             "iteration": 97,
             "learn": [
              0.04412437293
             ],
             "passed_time": 0.3245489394,
             "remaining_time": 2.987174932,
             "test": [
              0.05136633572
             ]
            },
            {
             "iteration": 98,
             "learn": [
              0.04394379897
             ],
             "passed_time": 0.3273420177,
             "remaining_time": 2.979143009,
             "test": [
              0.05122990684
             ]
            },
            {
             "iteration": 99,
             "learn": [
              0.04386260103
             ],
             "passed_time": 0.3299672584,
             "remaining_time": 2.969705325,
             "test": [
              0.05119185758
             ]
            },
            {
             "iteration": 100,
             "learn": [
              0.04369811556
             ],
             "passed_time": 0.3325956603,
             "remaining_time": 2.96043068,
             "test": [
              0.05105686139
             ]
            },
            {
             "iteration": 101,
             "learn": [
              0.04357930457
             ],
             "passed_time": 0.3352389213,
             "remaining_time": 2.95141717,
             "test": [
              0.05097771425
             ]
            },
            {
             "iteration": 102,
             "learn": [
              0.04342774355
             ],
             "passed_time": 0.3378544136,
             "remaining_time": 2.942285524,
             "test": [
              0.05087046474
             ]
            },
            {
             "iteration": 103,
             "learn": [
              0.04332923509
             ],
             "passed_time": 0.340534434,
             "remaining_time": 2.933835123,
             "test": [
              0.05081264787
             ]
            },
            {
             "iteration": 104,
             "learn": [
              0.04323917185
             ],
             "passed_time": 0.3432066538,
             "remaining_time": 2.925428145,
             "test": [
              0.05075242185
             ]
            },
            {
             "iteration": 105,
             "learn": [
              0.04306905306
             ],
             "passed_time": 0.3458144279,
             "remaining_time": 2.916585835,
             "test": [
              0.05058165437
             ]
            },
            {
             "iteration": 106,
             "learn": [
              0.04296131684
             ],
             "passed_time": 0.3485377189,
             "remaining_time": 2.90882414,
             "test": [
              0.05045381482
             ]
            },
            {
             "iteration": 107,
             "learn": [
              0.04283272739
             ],
             "passed_time": 0.3512204727,
             "remaining_time": 2.900820941,
             "test": [
              0.05037073577
             ]
            },
            {
             "iteration": 108,
             "learn": [
              0.0427601092
             ],
             "passed_time": 0.3538830187,
             "remaining_time": 2.892750181,
             "test": [
              0.05034241662
             ]
            },
            {
             "iteration": 109,
             "learn": [
              0.04270158721
             ],
             "passed_time": 0.3565093377,
             "remaining_time": 2.884484642,
             "test": [
              0.05031875847
             ]
            },
            {
             "iteration": 110,
             "learn": [
              0.04264235562
             ],
             "passed_time": 0.359215698,
             "remaining_time": 2.876961762,
             "test": [
              0.05030402361
             ]
            },
            {
             "iteration": 111,
             "learn": [
              0.04246964146
             ],
             "passed_time": 0.3619380148,
             "remaining_time": 2.869651403,
             "test": [
              0.05018513395
             ]
            },
            {
             "iteration": 112,
             "learn": [
              0.042282512
             ],
             "passed_time": 0.3646599087,
             "remaining_time": 2.86241893,
             "test": [
              0.05004427777
             ]
            },
            {
             "iteration": 113,
             "learn": [
              0.04217422723
             ],
             "passed_time": 0.3672745609,
             "remaining_time": 2.854432114,
             "test": [
              0.04997095195
             ]
            },
            {
             "iteration": 114,
             "learn": [
              0.0420726964
             ],
             "passed_time": 0.3699992402,
             "remaining_time": 2.847385457,
             "test": [
              0.04989977405
             ]
            },
            {
             "iteration": 115,
             "learn": [
              0.04193587471
             ],
             "passed_time": 0.3726284118,
             "remaining_time": 2.839685483,
             "test": [
              0.04985998927
             ]
            },
            {
             "iteration": 116,
             "learn": [
              0.0417994817
             ],
             "passed_time": 0.3752786559,
             "remaining_time": 2.832231224,
             "test": [
              0.04978647439
             ]
            },
            {
             "iteration": 117,
             "learn": [
              0.04164852468
             ],
             "passed_time": 0.3780023828,
             "remaining_time": 2.825407641,
             "test": [
              0.04966387377
             ]
            },
            {
             "iteration": 118,
             "learn": [
              0.04153724547
             ],
             "passed_time": 0.381770608,
             "remaining_time": 2.826385762,
             "test": [
              0.04956459798
             ]
            },
            {
             "iteration": 119,
             "learn": [
              0.04140310531
             ],
             "passed_time": 0.3852278533,
             "remaining_time": 2.825004257,
             "test": [
              0.04945291316
             ]
            },
            {
             "iteration": 120,
             "learn": [
              0.04132490718
             ],
             "passed_time": 0.3880441484,
             "remaining_time": 2.818932285,
             "test": [
              0.04941378902
             ]
            },
            {
             "iteration": 121,
             "learn": [
              0.04122399151
             ],
             "passed_time": 0.3907505096,
             "remaining_time": 2.81212252,
             "test": [
              0.04935766968
             ]
            },
            {
             "iteration": 122,
             "learn": [
              0.04116538074
             ],
             "passed_time": 0.3933931087,
             "remaining_time": 2.804924848,
             "test": [
              0.04933316678
             ]
            },
            {
             "iteration": 123,
             "learn": [
              0.04104582032
             ],
             "passed_time": 0.3961834272,
             "remaining_time": 2.798844211,
             "test": [
              0.04923436658
             ]
            },
            {
             "iteration": 124,
             "learn": [
              0.04095713482
             ],
             "passed_time": 0.398967689,
             "remaining_time": 2.792773823,
             "test": [
              0.04916972056
             ]
            },
            {
             "iteration": 125,
             "learn": [
              0.04081559102
             ],
             "passed_time": 0.4015644058,
             "remaining_time": 2.785454688,
             "test": [
              0.04905642437
             ]
            },
            {
             "iteration": 126,
             "learn": [
              0.04078804807
             ],
             "passed_time": 0.4042966142,
             "remaining_time": 2.779141293,
             "test": [
              0.04905217614
             ]
            },
            {
             "iteration": 127,
             "learn": [
              0.04070665588
             ],
             "passed_time": 0.4070939107,
             "remaining_time": 2.773327267,
             "test": [
              0.04902335031
             ]
            },
            {
             "iteration": 128,
             "learn": [
              0.04061700148
             ],
             "passed_time": 0.4099186419,
             "remaining_time": 2.767745249,
             "test": [
              0.04894609435
             ]
            },
            {
             "iteration": 129,
             "learn": [
              0.04043841271
             ],
             "passed_time": 0.4125237729,
             "remaining_time": 2.760736019,
             "test": [
              0.0487755384
             ]
            },
            {
             "iteration": 130,
             "learn": [
              0.04031194187
             ],
             "passed_time": 0.4152610632,
             "remaining_time": 2.754670717,
             "test": [
              0.04866904008
             ]
            },
            {
             "iteration": 131,
             "learn": [
              0.04023942773
             ],
             "passed_time": 0.4179317452,
             "remaining_time": 2.74821784,
             "test": [
              0.04861026336
             ]
            },
            {
             "iteration": 132,
             "learn": [
              0.04014297696
             ],
             "passed_time": 0.4208197557,
             "remaining_time": 2.743238558,
             "test": [
              0.04848939692
             ]
            },
            {
             "iteration": 133,
             "learn": [
              0.04006126292
             ],
             "passed_time": 0.4236575375,
             "remaining_time": 2.737965876,
             "test": [
              0.04841106971
             ]
            },
            {
             "iteration": 134,
             "learn": [
              0.04002058847
             ],
             "passed_time": 0.426514271,
             "remaining_time": 2.7328507,
             "test": [
              0.04838254124
             ]
            },
            {
             "iteration": 135,
             "learn": [
              0.03989878922
             ],
             "passed_time": 0.4293001294,
             "remaining_time": 2.727318469,
             "test": [
              0.04833385102
             ]
            },
            {
             "iteration": 136,
             "learn": [
              0.03977657091
             ],
             "passed_time": 0.4320347258,
             "remaining_time": 2.721503418,
             "test": [
              0.04829798459
             ]
            },
            {
             "iteration": 137,
             "learn": [
              0.03967735816
             ],
             "passed_time": 0.4346441487,
             "remaining_time": 2.714951132,
             "test": [
              0.04821117354
             ]
            },
            {
             "iteration": 138,
             "learn": [
              0.03962484616
             ],
             "passed_time": 0.4373309835,
             "remaining_time": 2.708935085,
             "test": [
              0.0481818623
             ]
            },
            {
             "iteration": 139,
             "learn": [
              0.03950427858
             ],
             "passed_time": 0.4400262497,
             "remaining_time": 2.703018391,
             "test": [
              0.04809521725
             ]
            },
            {
             "iteration": 140,
             "learn": [
              0.03941064928
             ],
             "passed_time": 0.4427247259,
             "remaining_time": 2.697166947,
             "test": [
              0.04804247138
             ]
            },
            {
             "iteration": 141,
             "learn": [
              0.03929823716
             ],
             "passed_time": 0.4454473077,
             "remaining_time": 2.691505563,
             "test": [
              0.04795571414
             ]
            },
            {
             "iteration": 142,
             "learn": [
              0.03922293038
             ],
             "passed_time": 0.4481669805,
             "remaining_time": 2.685867848,
             "test": [
              0.04789600845
             ]
            },
            {
             "iteration": 143,
             "learn": [
              0.03916196282
             ],
             "passed_time": 0.4508121722,
             "remaining_time": 2.679827912,
             "test": [
              0.04789779121
             ]
            },
            {
             "iteration": 144,
             "learn": [
              0.03912751911
             ],
             "passed_time": 0.4533843438,
             "remaining_time": 2.673404234,
             "test": [
              0.04783850538
             ]
            },
            {
             "iteration": 145,
             "learn": [
              0.03904791046
             ],
             "passed_time": 0.4560480286,
             "remaining_time": 2.667568606,
             "test": [
              0.04779064563
             ]
            },
            {
             "iteration": 146,
             "learn": [
              0.03889203518
             ],
             "passed_time": 0.4587279171,
             "remaining_time": 2.661870159,
             "test": [
              0.04762617691
             ]
            },
            {
             "iteration": 147,
             "learn": [
              0.03873279834
             ],
             "passed_time": 0.4617471777,
             "remaining_time": 2.658166185,
             "test": [
              0.04747493755
             ]
            },
            {
             "iteration": 148,
             "learn": [
              0.03864741216
             ],
             "passed_time": 0.4644496589,
             "remaining_time": 2.652662146,
             "test": [
              0.04740683477
             ]
            },
            {
             "iteration": 149,
             "learn": [
              0.03846471074
             ],
             "passed_time": 0.467116775,
             "remaining_time": 2.646995058,
             "test": [
              0.04726661946
             ]
            },
            {
             "iteration": 150,
             "learn": [
              0.03837208591
             ],
             "passed_time": 0.4698765485,
             "remaining_time": 2.641888673,
             "test": [
              0.04720611494
             ]
            },
            {
             "iteration": 151,
             "learn": [
              0.03831481646
             ],
             "passed_time": 0.4725779636,
             "remaining_time": 2.636487587,
             "test": [
              0.04718978629
             ]
            },
            {
             "iteration": 152,
             "learn": [
              0.03829887765
             ],
             "passed_time": 0.4752625914,
             "remaining_time": 2.631028855,
             "test": [
              0.04718622968
             ]
            },
            {
             "iteration": 153,
             "learn": [
              0.03823588988
             ],
             "passed_time": 0.4779230103,
             "remaining_time": 2.625473161,
             "test": [
              0.04714902651
             ]
            },
            {
             "iteration": 154,
             "learn": [
              0.03806220358
             ],
             "passed_time": 0.4805989188,
             "remaining_time": 2.620039267,
             "test": [
              0.04697257104
             ]
            },
            {
             "iteration": 155,
             "learn": [
              0.03800494169
             ],
             "passed_time": 0.4833370174,
             "remaining_time": 2.614977197,
             "test": [
              0.04695505112
             ]
            },
            {
             "iteration": 156,
             "learn": [
              0.03788861693
             ],
             "passed_time": 0.4860061124,
             "remaining_time": 2.609574221,
             "test": [
              0.04685204957
             ]
            },
            {
             "iteration": 157,
             "learn": [
              0.03784673688
             ],
             "passed_time": 0.4887146821,
             "remaining_time": 2.604416217,
             "test": [
              0.0468220575
             ]
            },
            {
             "iteration": 158,
             "learn": [
              0.03775753181
             ],
             "passed_time": 0.4914434682,
             "remaining_time": 2.599395954,
             "test": [
              0.04675292137
             ]
            },
            {
             "iteration": 159,
             "learn": [
              0.03770971559
             ],
             "passed_time": 0.4939965135,
             "remaining_time": 2.593481696,
             "test": [
              0.04672963597
             ]
            },
            {
             "iteration": 160,
             "learn": [
              0.03756683228
             ],
             "passed_time": 0.4966201858,
             "remaining_time": 2.587977242,
             "test": [
              0.04663185097
             ]
            },
            {
             "iteration": 161,
             "learn": [
              0.03747069004
             ],
             "passed_time": 0.4993275694,
             "remaining_time": 2.582941378,
             "test": [
              0.04658264555
             ]
            },
            {
             "iteration": 162,
             "learn": [
              0.03737689367
             ],
             "passed_time": 0.5020825605,
             "remaining_time": 2.578178547,
             "test": [
              0.04653109329
             ]
            },
            {
             "iteration": 163,
             "learn": [
              0.0372663235
             ],
             "passed_time": 0.5049426277,
             "remaining_time": 2.573975834,
             "test": [
              0.04647926174
             ]
            },
            {
             "iteration": 164,
             "learn": [
              0.03714532615
             ],
             "passed_time": 0.5076457876,
             "remaining_time": 2.568995349,
             "test": [
              0.0464094267
             ]
            },
            {
             "iteration": 165,
             "learn": [
              0.03701006001
             ],
             "passed_time": 0.5104073176,
             "remaining_time": 2.56433556,
             "test": [
              0.04629723207
             ]
            },
            {
             "iteration": 166,
             "learn": [
              0.03691598162
             ],
             "passed_time": 0.5131119459,
             "remaining_time": 2.559414676,
             "test": [
              0.04625642913
             ]
            },
            {
             "iteration": 167,
             "learn": [
              0.03683462111
             ],
             "passed_time": 0.5160544001,
             "remaining_time": 2.555697981,
             "test": [
              0.0462027655
             ]
            },
            {
             "iteration": 168,
             "learn": [
              0.0367487188
             ],
             "passed_time": 0.5188058921,
             "remaining_time": 2.551051458,
             "test": [
              0.04615539033
             ]
            },
            {
             "iteration": 169,
             "learn": [
              0.03663688335
             ],
             "passed_time": 0.5216264941,
             "remaining_time": 2.546764648,
             "test": [
              0.04607421416
             ]
            },
            {
             "iteration": 170,
             "learn": [
              0.03651309006
             ],
             "passed_time": 0.524289161,
             "remaining_time": 2.541729325,
             "test": [
              0.04603652836
             ]
            },
            {
             "iteration": 171,
             "learn": [
              0.03645960299
             ],
             "passed_time": 0.5270000196,
             "remaining_time": 2.536953583,
             "test": [
              0.0459790357
             ]
            },
            {
             "iteration": 172,
             "learn": [
              0.03637085508
             ],
             "passed_time": 0.5298002701,
             "remaining_time": 2.532629037,
             "test": [
              0.04593008838
             ]
            },
            {
             "iteration": 173,
             "learn": [
              0.03628380799
             ],
             "passed_time": 0.5325611092,
             "remaining_time": 2.52813492,
             "test": [
              0.04586747308
             ]
            },
            {
             "iteration": 174,
             "learn": [
              0.03620248272
             ],
             "passed_time": 0.5353513853,
             "remaining_time": 2.523799388,
             "test": [
              0.04578665694
             ]
            },
            {
             "iteration": 175,
             "learn": [
              0.03610183228
             ],
             "passed_time": 0.5382266643,
             "remaining_time": 2.519879383,
             "test": [
              0.04574577181
             ]
            },
            {
             "iteration": 176,
             "learn": [
              0.03598550815
             ],
             "passed_time": 0.540973303,
             "remaining_time": 2.515373042,
             "test": [
              0.04569175762
             ]
            },
            {
             "iteration": 177,
             "learn": [
              0.03589216464
             ],
             "passed_time": 0.543793464,
             "remaining_time": 2.511225997,
             "test": [
              0.04564702148
             ]
            },
            {
             "iteration": 178,
             "learn": [
              0.03578645111
             ],
             "passed_time": 0.5466828247,
             "remaining_time": 2.507411168,
             "test": [
              0.04556901117
             ]
            },
            {
             "iteration": 179,
             "learn": [
              0.03568147425
             ],
             "passed_time": 0.5493565579,
             "remaining_time": 2.502624319,
             "test": [
              0.04547015697
             ]
            },
            {
             "iteration": 180,
             "learn": [
              0.03557832558
             ],
             "passed_time": 0.5520367574,
             "remaining_time": 2.497890079,
             "test": [
              0.04539694051
             ]
            },
            {
             "iteration": 181,
             "learn": [
              0.03553679739
             ],
             "passed_time": 0.5584360026,
             "remaining_time": 2.509893682,
             "test": [
              0.04536155077
             ]
            },
            {
             "iteration": 182,
             "learn": [
              0.03540084879
             ],
             "passed_time": 0.561900911,
             "remaining_time": 2.508595871,
             "test": [
              0.04526726684
             ]
            },
            {
             "iteration": 183,
             "learn": [
              0.0353397178
             ],
             "passed_time": 0.5652631532,
             "remaining_time": 2.506819201,
             "test": [
              0.04525405767
             ]
            },
            {
             "iteration": 184,
             "learn": [
              0.0352156972
             ],
             "passed_time": 0.5690587335,
             "remaining_time": 2.50693442,
             "test": [
              0.04515149202
             ]
            },
            {
             "iteration": 185,
             "learn": [
              0.0351310358
             ],
             "passed_time": 0.5733201653,
             "remaining_time": 2.509046315,
             "test": [
              0.0451107888
             ]
            },
            {
             "iteration": 186,
             "learn": [
              0.03501166019
             ],
             "passed_time": 0.5793943048,
             "remaining_time": 2.518970961,
             "test": [
              0.04501054224
             ]
            },
            {
             "iteration": 187,
             "learn": [
              0.03491917576
             ],
             "passed_time": 0.5822741952,
             "remaining_time": 2.514928971,
             "test": [
              0.04493659475
             ]
            },
            {
             "iteration": 188,
             "learn": [
              0.03484325406
             ],
             "passed_time": 0.5850171321,
             "remaining_time": 2.510311609,
             "test": [
              0.04489055018
             ]
            },
            {
             "iteration": 189,
             "learn": [
              0.03471567931
             ],
             "passed_time": 0.5878427756,
             "remaining_time": 2.50606657,
             "test": [
              0.04479313277
             ]
            },
            {
             "iteration": 190,
             "learn": [
              0.03463055855
             ],
             "passed_time": 0.5904550989,
             "remaining_time": 2.500932853,
             "test": [
              0.04472609505
             ]
            },
            {
             "iteration": 191,
             "learn": [
              0.03454637578
             ],
             "passed_time": 0.5932445349,
             "remaining_time": 2.496570751,
             "test": [
              0.04472767406
             ]
            },
            {
             "iteration": 192,
             "learn": [
              0.03448982052
             ],
             "passed_time": 0.5959861135,
             "remaining_time": 2.492024837,
             "test": [
              0.04470575024
             ]
            },
            {
             "iteration": 193,
             "learn": [
              0.03440422635
             ],
             "passed_time": 0.5986161143,
             "remaining_time": 2.487033959,
             "test": [
              0.04462176573
             ]
            },
            {
             "iteration": 194,
             "learn": [
              0.03431351563
             ],
             "passed_time": 0.601275164,
             "remaining_time": 2.482187215,
             "test": [
              0.04454442167
             ]
            },
            {
             "iteration": 195,
             "learn": [
              0.03422967331
             ],
             "passed_time": 0.6040855289,
             "remaining_time": 2.477983496,
             "test": [
              0.04445203953
             ]
            },
            {
             "iteration": 196,
             "learn": [
              0.0341727728
             ],
             "passed_time": 0.6067685692,
             "remaining_time": 2.473274929,
             "test": [
              0.04441228321
             ]
            },
            {
             "iteration": 197,
             "learn": [
              0.03409089408
             ],
             "passed_time": 0.6095807697,
             "remaining_time": 2.469109987,
             "test": [
              0.04433491681
             ]
            },
            {
             "iteration": 198,
             "learn": [
              0.03404010451
             ],
             "passed_time": 0.612311202,
             "remaining_time": 2.464629511,
             "test": [
              0.04430202541
             ]
            },
            {
             "iteration": 199,
             "learn": [
              0.03397465312
             ],
             "passed_time": 0.6149691479,
             "remaining_time": 2.459876592,
             "test": [
              0.04425085271
             ]
            },
            {
             "iteration": 200,
             "learn": [
              0.03391536593
             ],
             "passed_time": 0.6176388211,
             "remaining_time": 2.455191135,
             "test": [
              0.04422090157
             ]
            },
            {
             "iteration": 201,
             "learn": [
              0.03385619373
             ],
             "passed_time": 0.6202873105,
             "remaining_time": 2.450441949,
             "test": [
              0.04417916112
             ]
            },
            {
             "iteration": 202,
             "learn": [
              0.03373516512
             ],
             "passed_time": 0.6229384347,
             "remaining_time": 2.445723805,
             "test": [
              0.04409543053
             ]
            },
            {
             "iteration": 203,
             "learn": [
              0.03364159691
             ],
             "passed_time": 0.6256065636,
             "remaining_time": 2.441092278,
             "test": [
              0.04403962251
             ]
            },
            {
             "iteration": 204,
             "learn": [
              0.03356716554
             ],
             "passed_time": 0.6282960074,
             "remaining_time": 2.436562565,
             "test": [
              0.04398347475
             ]
            },
            {
             "iteration": 205,
             "learn": [
              0.03352865934
             ],
             "passed_time": 0.6310537838,
             "remaining_time": 2.432314099,
             "test": [
              0.04397746053
             ]
            },
            {
             "iteration": 206,
             "learn": [
              0.03345237766
             ],
             "passed_time": 0.6337139536,
             "remaining_time": 2.427706112,
             "test": [
              0.04391831986
             ]
            },
            {
             "iteration": 207,
             "learn": [
              0.03343604284
             ],
             "passed_time": 0.6363463765,
             "remaining_time": 2.423011203,
             "test": [
              0.04391899116
             ]
            },
            {
             "iteration": 208,
             "learn": [
              0.03335939384
             ],
             "passed_time": 0.6390208108,
             "remaining_time": 2.41849503,
             "test": [
              0.04388365358
             ]
            },
            {
             "iteration": 209,
             "learn": [
              0.0332680656
             ],
             "passed_time": 0.6417905922,
             "remaining_time": 2.414355085,
             "test": [
              0.04384975999
             ]
            },
            {
             "iteration": 210,
             "learn": [
              0.03318092992
             ],
             "passed_time": 0.6444711076,
             "remaining_time": 2.409894331,
             "test": [
              0.04380777359
             ]
            },
            {
             "iteration": 211,
             "learn": [
              0.03313377204
             ],
             "passed_time": 0.6469762323,
             "remaining_time": 2.404798448,
             "test": [
              0.04378891885
             ]
            },
            {
             "iteration": 212,
             "learn": [
              0.03306203034
             ],
             "passed_time": 0.6497998615,
             "remaining_time": 2.400903714,
             "test": [
              0.04373647541
             ]
            },
            {
             "iteration": 213,
             "learn": [
              0.03293724492
             ],
             "passed_time": 0.652458607,
             "remaining_time": 2.396413388,
             "test": [
              0.04368605403
             ]
            },
            {
             "iteration": 214,
             "learn": [
              0.03287200746
             ],
             "passed_time": 0.6551160029,
             "remaining_time": 2.391935173,
             "test": [
              0.04363783317
             ]
            },
            {
             "iteration": 215,
             "learn": [
              0.03277292844
             ],
             "passed_time": 0.6577472188,
             "remaining_time": 2.387378794,
             "test": [
              0.04357279369
             ]
            },
            {
             "iteration": 216,
             "learn": [
              0.03269882941
             ],
             "passed_time": 0.6606706703,
             "remaining_time": 2.383894631,
             "test": [
              0.04352262742
             ]
            },
            {
             "iteration": 217,
             "learn": [
              0.03265172406
             ],
             "passed_time": 0.6633293104,
             "remaining_time": 2.379465692,
             "test": [
              0.04349276059
             ]
            },
            {
             "iteration": 218,
             "learn": [
              0.03257802229
             ],
             "passed_time": 0.6660038429,
             "remaining_time": 2.375109595,
             "test": [
              0.04342656812
             ]
            },
            {
             "iteration": 219,
             "learn": [
              0.03250226018
             ],
             "passed_time": 0.6687067882,
             "remaining_time": 2.370869522,
             "test": [
              0.04340977329
             ]
            },
            {
             "iteration": 220,
             "learn": [
              0.03248923533
             ],
             "passed_time": 0.6713734643,
             "remaining_time": 2.366515514,
             "test": [
              0.04340611278
             ]
            },
            {
             "iteration": 221,
             "learn": [
              0.03244152005
             ],
             "passed_time": 0.6742566792,
             "remaining_time": 2.362935569,
             "test": [
              0.0433701399
             ]
            },
            {
             "iteration": 222,
             "learn": [
              0.0323984527
             ],
             "passed_time": 0.676853651,
             "remaining_time": 2.358364515,
             "test": [
              0.04336860827
             ]
            },
            {
             "iteration": 223,
             "learn": [
              0.03231594614
             ],
             "passed_time": 0.6796242426,
             "remaining_time": 2.354412555,
             "test": [
              0.04335660124
             ]
            },
            {
             "iteration": 224,
             "learn": [
              0.03224192188
             ],
             "passed_time": 0.6822569637,
             "remaining_time": 2.349996208,
             "test": [
              0.04333627743
             ]
            },
            {
             "iteration": 225,
             "learn": [
              0.03215572512
             ],
             "passed_time": 0.6850147456,
             "remaining_time": 2.346023952,
             "test": [
              0.04328429071
             ]
            },
            {
             "iteration": 226,
             "learn": [
              0.03205679842
             ],
             "passed_time": 0.6877091208,
             "remaining_time": 2.341846477,
             "test": [
              0.04322350493
             ]
            },
            {
             "iteration": 227,
             "learn": [
              0.03201234194
             ],
             "passed_time": 0.6905020941,
             "remaining_time": 2.338015862,
             "test": [
              0.04320662121
             ]
            },
            {
             "iteration": 228,
             "learn": [
              0.03199626316
             ],
             "passed_time": 0.6932087267,
             "remaining_time": 2.333903617,
             "test": [
              0.04320816067
             ]
            },
            {
             "iteration": 229,
             "learn": [
              0.03194450216
             ],
             "passed_time": 0.695946753,
             "remaining_time": 2.329908695,
             "test": [
              0.04315963522
             ]
            },
            {
             "iteration": 230,
             "learn": [
              0.03193380229
             ],
             "passed_time": 0.6985604433,
             "remaining_time": 2.32551074,
             "test": [
              0.04315380426
             ]
            },
            {
             "iteration": 231,
             "learn": [
              0.03187955934
             ],
             "passed_time": 0.7012871092,
             "remaining_time": 2.321502154,
             "test": [
              0.0431278221
             ]
            },
            {
             "iteration": 232,
             "learn": [
              0.03180942778
             ],
             "passed_time": 0.7041919671,
             "remaining_time": 2.318091153,
             "test": [
              0.04307905435
             ]
            },
            {
             "iteration": 233,
             "learn": [
              0.0317257121
             ],
             "passed_time": 0.7071288611,
             "remaining_time": 2.314789349,
             "test": [
              0.04301796295
             ]
            },
            {
             "iteration": 234,
             "learn": [
              0.03168814839
             ],
             "passed_time": 0.7100546828,
             "remaining_time": 2.311454606,
             "test": [
              0.04299035139
             ]
            },
            {
             "iteration": 235,
             "learn": [
              0.03159821548
             ],
             "passed_time": 0.7128856861,
             "remaining_time": 2.307816374,
             "test": [
              0.04295223312
             ]
            },
            {
             "iteration": 236,
             "learn": [
              0.03154393461
             ],
             "passed_time": 0.7157555476,
             "remaining_time": 2.304310054,
             "test": [
              0.04290316676
             ]
            },
            {
             "iteration": 237,
             "learn": [
              0.03149573924
             ],
             "passed_time": 0.718585963,
             "remaining_time": 2.300682789,
             "test": [
              0.04287999858
             ]
            },
            {
             "iteration": 238,
             "learn": [
              0.03145365222
             ],
             "passed_time": 0.7213437622,
             "remaining_time": 2.296830975,
             "test": [
              0.04282724551
             ]
            },
            {
             "iteration": 239,
             "learn": [
              0.03137410935
             ],
             "passed_time": 0.7241015436,
             "remaining_time": 2.292988221,
             "test": [
              0.04277821288
             ]
            },
            {
             "iteration": 240,
             "learn": [
              0.03132804564
             ],
             "passed_time": 0.7269189166,
             "remaining_time": 2.289342148,
             "test": [
              0.04275662234
             ]
            },
            {
             "iteration": 241,
             "learn": [
              0.03122751821
             ],
             "passed_time": 0.7296883634,
             "remaining_time": 2.285552808,
             "test": [
              0.04272827678
             ]
            },
            {
             "iteration": 242,
             "learn": [
              0.03121076329
             ],
             "passed_time": 0.7325449106,
             "remaining_time": 2.282043199,
             "test": [
              0.04274062014
             ]
            },
            {
             "iteration": 243,
             "learn": [
              0.03116889803
             ],
             "passed_time": 0.7353537985,
             "remaining_time": 2.278391277,
             "test": [
              0.04274658334
             ]
            },
            {
             "iteration": 244,
             "learn": [
              0.03111737657
             ],
             "passed_time": 0.7382550656,
             "remaining_time": 2.275030916,
             "test": [
              0.04270124597
             ]
            },
            {
             "iteration": 245,
             "learn": [
              0.03105625791
             ],
             "passed_time": 0.7411352256,
             "remaining_time": 2.271609594,
             "test": [
              0.04263470954
             ]
            },
            {
             "iteration": 246,
             "learn": [
              0.03100621631
             ],
             "passed_time": 0.7439710676,
             "remaining_time": 2.268057546,
             "test": [
              0.04262740249
             ]
            },
            {
             "iteration": 247,
             "learn": [
              0.03093705406
             ],
             "passed_time": 0.7468368845,
             "remaining_time": 2.264602166,
             "test": [
              0.0425912726
             ]
            },
            {
             "iteration": 248,
             "learn": [
              0.03089718902
             ],
             "passed_time": 0.7495289054,
             "remaining_time": 2.260627341,
             "test": [
              0.04256920657
             ]
            },
            {
             "iteration": 249,
             "learn": [
              0.03087700682
             ],
             "passed_time": 0.7523576038,
             "remaining_time": 2.257072811,
             "test": [
              0.04256457332
             ]
            },
            {
             "iteration": 250,
             "learn": [
              0.03082021608
             ],
             "passed_time": 0.7550896153,
             "remaining_time": 2.253235545,
             "test": [
              0.04253828514
             ]
            },
            {
             "iteration": 251,
             "learn": [
              0.03077878477
             ],
             "passed_time": 0.7578761324,
             "remaining_time": 2.249568837,
             "test": [
              0.04251500876
             ]
            },
            {
             "iteration": 252,
             "learn": [
              0.03068749227
             ],
             "passed_time": 0.7606783859,
             "remaining_time": 2.24595555,
             "test": [
              0.0424739352
             ]
            },
            {
             "iteration": 253,
             "learn": [
              0.03063828744
             ],
             "passed_time": 0.7635305939,
             "remaining_time": 2.242495366,
             "test": [
              0.04244270936
             ]
            },
            {
             "iteration": 254,
             "learn": [
              0.03056098114
             ],
             "passed_time": 0.767569739,
             "remaining_time": 2.242507669,
             "test": [
              0.04240336219
             ]
            },
            {
             "iteration": 255,
             "learn": [
              0.03053112301
             ],
             "passed_time": 0.7711880037,
             "remaining_time": 2.241265136,
             "test": [
              0.04237518689
             ]
            },
            {
             "iteration": 256,
             "learn": [
              0.03048586334
             ],
             "passed_time": 0.7742454507,
             "remaining_time": 2.238382762,
             "test": [
              0.0423635154
             ]
            },
            {
             "iteration": 257,
             "learn": [
              0.03043637482
             ],
             "passed_time": 0.7772406293,
             "remaining_time": 2.235319949,
             "test": [
              0.04236112999
             ]
            },
            {
             "iteration": 258,
             "learn": [
              0.03036400067
             ],
             "passed_time": 0.7800614336,
             "remaining_time": 2.231758773,
             "test": [
              0.04235250877
             ]
            },
            {
             "iteration": 259,
             "learn": [
              0.0303224256
             ],
             "passed_time": 0.7827790611,
             "remaining_time": 2.227909636,
             "test": [
              0.04233736946
             ]
            },
            {
             "iteration": 260,
             "learn": [
              0.03028842391
             ],
             "passed_time": 0.7855492567,
             "remaining_time": 2.22421801,
             "test": [
              0.0423094988
             ]
            },
            {
             "iteration": 261,
             "learn": [
              0.03024651589
             ],
             "passed_time": 0.7884184386,
             "remaining_time": 2.220812243,
             "test": [
              0.04229624107
             ]
            },
            {
             "iteration": 262,
             "learn": [
              0.03018524574
             ],
             "passed_time": 0.7912242593,
             "remaining_time": 2.217233001,
             "test": [
              0.04227732825
             ]
            },
            {
             "iteration": 263,
             "learn": [
              0.03008986397
             ],
             "passed_time": 0.7941968326,
             "remaining_time": 2.214124503,
             "test": [
              0.04221707881
             ]
            },
            {
             "iteration": 264,
             "learn": [
              0.03001657111
             ],
             "passed_time": 0.7972597119,
             "remaining_time": 2.211267503,
             "test": [
              0.04216588311
             ]
            },
            {
             "iteration": 265,
             "learn": [
              0.02994857543
             ],
             "passed_time": 0.8001907157,
             "remaining_time": 2.208045058,
             "test": [
              0.04211441746
             ]
            },
            {
             "iteration": 266,
             "learn": [
              0.02990846714
             ],
             "passed_time": 0.8029507141,
             "remaining_time": 2.204355331,
             "test": [
              0.04208641654
             ]
            },
            {
             "iteration": 267,
             "learn": [
              0.02985668041
             ],
             "passed_time": 0.8058639271,
             "remaining_time": 2.201091025,
             "test": [
              0.04207338065
             ]
            },
            {
             "iteration": 268,
             "learn": [
              0.02979578228
             ],
             "passed_time": 0.8086396648,
             "remaining_time": 2.197455743,
             "test": [
              0.04203971552
             ]
            },
            {
             "iteration": 269,
             "learn": [
              0.02974480628
             ],
             "passed_time": 0.8114607859,
             "remaining_time": 2.193949532,
             "test": [
              0.04203056124
             ]
            },
            {
             "iteration": 270,
             "learn": [
              0.0296903941
             ],
             "passed_time": 0.8142444918,
             "remaining_time": 2.190347729,
             "test": [
              0.04199919315
             ]
            },
            {
             "iteration": 271,
             "learn": [
              0.02961890879
             ],
             "passed_time": 0.8170116129,
             "remaining_time": 2.186707552,
             "test": [
              0.04196340561
             ]
            },
            {
             "iteration": 272,
             "learn": [
              0.02952314469
             ],
             "passed_time": 0.8197605323,
             "remaining_time": 2.1830253,
             "test": [
              0.04191804733
             ]
            },
            {
             "iteration": 273,
             "learn": [
              0.02947384485
             ],
             "passed_time": 0.8224678678,
             "remaining_time": 2.179239679,
             "test": [
              0.04189347299
             ]
            },
            {
             "iteration": 274,
             "learn": [
              0.029437731
             ],
             "passed_time": 0.8251697707,
             "remaining_time": 2.175447577,
             "test": [
              0.04187610944
             ]
            },
            {
             "iteration": 275,
             "learn": [
              0.02937868754
             ],
             "passed_time": 0.8279451224,
             "remaining_time": 2.171856046,
             "test": [
              0.04185781567
             ]
            },
            {
             "iteration": 276,
             "learn": [
              0.02931106943
             ],
             "passed_time": 0.8307981678,
             "remaining_time": 2.168473196,
             "test": [
              0.04181484614
             ]
            },
            {
             "iteration": 277,
             "learn": [
              0.02924842058
             ],
             "passed_time": 0.8335686043,
             "remaining_time": 2.164879613,
             "test": [
              0.04178418703
             ]
            },
            {
             "iteration": 278,
             "learn": [
              0.029181866
             ],
             "passed_time": 0.8362719815,
             "remaining_time": 2.161118633,
             "test": [
              0.04172538258
             ]
            },
            {
             "iteration": 279,
             "learn": [
              0.02911746115
             ],
             "passed_time": 0.8390434927,
             "remaining_time": 2.15754041,
             "test": [
              0.04168687902
             ]
            },
            {
             "iteration": 280,
             "learn": [
              0.02910232124
             ],
             "passed_time": 0.8418026261,
             "remaining_time": 2.153936257,
             "test": [
              0.04167608878
             ]
            },
            {
             "iteration": 281,
             "learn": [
              0.02905451878
             ],
             "passed_time": 0.844612421,
             "remaining_time": 2.150467086,
             "test": [
              0.04165344699
             ]
            },
            {
             "iteration": 282,
             "learn": [
              0.02901540719
             ],
             "passed_time": 0.8472363456,
             "remaining_time": 2.14653166,
             "test": [
              0.04164088586
             ]
            },
            {
             "iteration": 283,
             "learn": [
              0.02896078659
             ],
             "passed_time": 0.8499935419,
             "remaining_time": 2.142941465,
             "test": [
              0.04161457839
             ]
            },
            {
             "iteration": 284,
             "learn": [
              0.02895268929
             ],
             "passed_time": 0.8526422154,
             "remaining_time": 2.139084856,
             "test": [
              0.04161562908
             ]
            },
            {
             "iteration": 285,
             "learn": [
              0.02891170729
             ],
             "passed_time": 0.8554343504,
             "remaining_time": 2.135594847,
             "test": [
              0.04162272719
             ]
            },
            {
             "iteration": 286,
             "learn": [
              0.02885316885
             ],
             "passed_time": 0.858159157,
             "remaining_time": 2.131942435,
             "test": [
              0.04159728803
             ]
            },
            {
             "iteration": 287,
             "learn": [
              0.02881251421
             ],
             "passed_time": 0.8609383668,
             "remaining_time": 2.128430962,
             "test": [
              0.04158655078
             ]
            },
            {
             "iteration": 288,
             "learn": [
              0.02871320339
             ],
             "passed_time": 0.8636452763,
             "remaining_time": 2.124746683,
             "test": [
              0.04154688769
             ]
            },
            {
             "iteration": 289,
             "learn": [
              0.02865474327
             ],
             "passed_time": 0.8662741365,
             "remaining_time": 2.120878058,
             "test": [
              0.04151972836
             ]
            },
            {
             "iteration": 290,
             "learn": [
              0.02860002017
             ],
             "passed_time": 0.8690292375,
             "remaining_time": 2.117325531,
             "test": [
              0.04148756021
             ]
            },
            {
             "iteration": 291,
             "learn": [
              0.02852609369
             ],
             "passed_time": 0.8719005465,
             "remaining_time": 2.114060229,
             "test": [
              0.04146524709
             ]
            },
            {
             "iteration": 292,
             "learn": [
              0.02850923429
             ],
             "passed_time": 0.8747665943,
             "remaining_time": 2.110784922,
             "test": [
              0.04145324032
             ]
            },
            {
             "iteration": 293,
             "learn": [
              0.02845517101
             ],
             "passed_time": 0.8774488022,
             "remaining_time": 2.107070933,
             "test": [
              0.04142001546
             ]
            },
            {
             "iteration": 294,
             "learn": [
              0.02844661369
             ],
             "passed_time": 0.880101128,
             "remaining_time": 2.103292526,
             "test": [
              0.04140979502
             ]
            },
            {
             "iteration": 295,
             "learn": [
              0.02838728294
             ],
             "passed_time": 0.882704477,
             "remaining_time": 2.099405242,
             "test": [
              0.04141798143
             ]
            },
            {
             "iteration": 296,
             "learn": [
              0.0283384355
             ],
             "passed_time": 0.8854958319,
             "remaining_time": 2.095971616,
             "test": [
              0.04138832234
             ]
            },
            {
             "iteration": 297,
             "learn": [
              0.02831008364
             ],
             "passed_time": 0.8880702538,
             "remaining_time": 2.092031269,
             "test": [
              0.04137698594
             ]
            },
            {
             "iteration": 298,
             "learn": [
              0.02825099222
             ],
             "passed_time": 0.8907250475,
             "remaining_time": 2.088288489,
             "test": [
              0.04133349805
             ]
            },
            {
             "iteration": 299,
             "learn": [
              0.02821999257
             ],
             "passed_time": 0.893333754,
             "remaining_time": 2.084445426,
             "test": [
              0.04133196395
             ]
            },
            {
             "iteration": 300,
             "learn": [
              0.02814165255
             ],
             "passed_time": 0.8959490885,
             "remaining_time": 2.080625956,
             "test": [
              0.04130794463
             ]
            },
            {
             "iteration": 301,
             "learn": [
              0.02809530717
             ],
             "passed_time": 0.8986393974,
             "remaining_time": 2.076987746,
             "test": [
              0.04131021372
             ]
            },
            {
             "iteration": 302,
             "learn": [
              0.0280507603
             ],
             "passed_time": 0.901291719,
             "remaining_time": 2.07326841,
             "test": [
              0.04129104601
             ]
            },
            {
             "iteration": 303,
             "learn": [
              0.02799060664
             ],
             "passed_time": 0.904080625,
             "remaining_time": 2.069868799,
             "test": [
              0.04126849931
             ]
            },
            {
             "iteration": 304,
             "learn": [
              0.02795125539
             ],
             "passed_time": 0.906714979,
             "remaining_time": 2.066121018,
             "test": [
              0.04124666773
             ]
            },
            {
             "iteration": 305,
             "learn": [
              0.02790105475
             ],
             "passed_time": 0.9096483399,
             "remaining_time": 2.063058653,
             "test": [
              0.04120814062
             ]
            },
            {
             "iteration": 306,
             "learn": [
              0.02787019027
             ],
             "passed_time": 0.9124208007,
             "remaining_time": 2.059633925,
             "test": [
              0.04118635993
             ]
            },
            {
             "iteration": 307,
             "learn": [
              0.02781979974
             ],
             "passed_time": 0.9149514102,
             "remaining_time": 2.055670051,
             "test": [
              0.04118140552
             ]
            },
            {
             "iteration": 308,
             "learn": [
              0.02778471864
             ],
             "passed_time": 0.9176044169,
             "remaining_time": 2.051989165,
             "test": [
              0.04117628146
             ]
            },
            {
             "iteration": 309,
             "learn": [
              0.02774009231
             ],
             "passed_time": 0.9204913159,
             "remaining_time": 2.04883551,
             "test": [
              0.04115517864
             ]
            },
            {
             "iteration": 310,
             "learn": [
              0.02770561794
             ],
             "passed_time": 0.9231993686,
             "remaining_time": 2.045287347,
             "test": [
              0.04113883449
             ]
            },
            {
             "iteration": 311,
             "learn": [
              0.02764125934
             ],
             "passed_time": 0.9361270085,
             "remaining_time": 2.06428007,
             "test": [
              0.04111599202
             ]
            },
            {
             "iteration": 312,
             "learn": [
              0.02761556312
             ],
             "passed_time": 0.9390461072,
             "remaining_time": 2.0611012,
             "test": [
              0.04111114846
             ]
            },
            {
             "iteration": 313,
             "learn": [
              0.02756767457
             ],
             "passed_time": 0.9418884318,
             "remaining_time": 2.057756256,
             "test": [
              0.04109628157
             ]
            },
            {
             "iteration": 314,
             "learn": [
              0.02751667356
             ],
             "passed_time": 0.94477269,
             "remaining_time": 2.054505691,
             "test": [
              0.04107206915
             ]
            },
            {
             "iteration": 315,
             "learn": [
              0.0274810965
             ],
             "passed_time": 0.9475302241,
             "remaining_time": 2.050983143,
             "test": [
              0.04104452911
             ]
            },
            {
             "iteration": 316,
             "learn": [
              0.02740523897
             ],
             "passed_time": 0.9503747331,
             "remaining_time": 2.047652816,
             "test": [
              0.04101353814
             ]
            },
            {
             "iteration": 317,
             "learn": [
              0.02737276194
             ],
             "passed_time": 0.9531396976,
             "remaining_time": 2.044154949,
             "test": [
              0.04097706084
             ]
            },
            {
             "iteration": 318,
             "learn": [
              0.02732991608
             ],
             "passed_time": 0.9558754941,
             "remaining_time": 2.040599409,
             "test": [
              0.04095680428
             ]
            },
            {
             "iteration": 319,
             "learn": [
              0.02731307288
             ],
             "passed_time": 0.9593895142,
             "remaining_time": 2.038702718,
             "test": [
              0.04095442574
             ]
            },
            {
             "iteration": 320,
             "learn": [
              0.02725171107
             ],
             "passed_time": 0.9632171088,
             "remaining_time": 2.037459243,
             "test": [
              0.04092133363
             ]
            },
            {
             "iteration": 321,
             "learn": [
              0.02721901415
             ],
             "passed_time": 0.9661688,
             "remaining_time": 2.034355424,
             "test": [
              0.04091962787
             ]
            },
            {
             "iteration": 322,
             "learn": [
              0.02716298159
             ],
             "passed_time": 0.9689690314,
             "remaining_time": 2.030935091,
             "test": [
              0.04090899896
             ]
            },
            {
             "iteration": 323,
             "learn": [
              0.02711918207
             ],
             "passed_time": 0.9717245034,
             "remaining_time": 2.027425199,
             "test": [
              0.04090352813
             ]
            },
            {
             "iteration": 324,
             "learn": [
              0.02709312737
             ],
             "passed_time": 0.9745422033,
             "remaining_time": 2.024049191,
             "test": [
              0.04089321634
             ]
            },
            {
             "iteration": 325,
             "learn": [
              0.02705908388
             ],
             "passed_time": 0.9774106101,
             "remaining_time": 2.020781445,
             "test": [
              0.04087786889
             ]
            },
            {
             "iteration": 326,
             "learn": [
              0.02700684985
             ],
             "passed_time": 0.980034306,
             "remaining_time": 2.017012501,
             "test": [
              0.04086640559
             ]
            },
            {
             "iteration": 327,
             "learn": [
              0.02695306783
             ],
             "passed_time": 0.9827678259,
             "remaining_time": 2.013475546,
             "test": [
              0.04085739458
             ]
            },
            {
             "iteration": 328,
             "learn": [
              0.02693613595
             ],
             "passed_time": 0.9854152351,
             "remaining_time": 2.00976785,
             "test": [
              0.0408455378
             ]
            },
            {
             "iteration": 329,
             "learn": [
              0.02689589988
             ],
             "passed_time": 0.988136454,
             "remaining_time": 2.006216437,
             "test": [
              0.04084444787
             ]
            },
            {
             "iteration": 330,
             "learn": [
              0.0268741352
             ],
             "passed_time": 0.9907767024,
             "remaining_time": 2.002506386,
             "test": [
              0.04083634255
             ]
            },
            {
             "iteration": 331,
             "learn": [
              0.02683223632
             ],
             "passed_time": 0.993448755,
             "remaining_time": 1.998866772,
             "test": [
              0.0408277428
             ]
            },
            {
             "iteration": 332,
             "learn": [
              0.02679550333
             ],
             "passed_time": 0.9962564064,
             "remaining_time": 1.995504574,
             "test": [
              0.04081409096
             ]
            },
            {
             "iteration": 333,
             "learn": [
              0.02677630358
             ],
             "passed_time": 0.9987865176,
             "remaining_time": 1.991592278,
             "test": [
              0.0408042518
             ]
            },
            {
             "iteration": 334,
             "learn": [
              0.02675013213
             ],
             "passed_time": 1.001752435,
             "remaining_time": 1.98855334,
             "test": [
              0.04079478647
             ]
            },
            {
             "iteration": 335,
             "learn": [
              0.02671927803
             ],
             "passed_time": 1.004662605,
             "remaining_time": 1.985404672,
             "test": [
              0.04078160001
             ]
            },
            {
             "iteration": 336,
             "learn": [
              0.02667763466
             ],
             "passed_time": 1.007316526,
             "remaining_time": 1.981753285,
             "test": [
              0.04077565541
             ]
            },
            {
             "iteration": 337,
             "learn": [
              0.02661440502
             ],
             "passed_time": 1.010091026,
             "remaining_time": 1.978343961,
             "test": [
              0.04074783251
             ]
            },
            {
             "iteration": 338,
             "learn": [
              0.02657921857
             ],
             "passed_time": 1.01272577,
             "remaining_time": 1.974665881,
             "test": [
              0.04072207176
             ]
            },
            {
             "iteration": 339,
             "learn": [
              0.02654338924
             ],
             "passed_time": 1.015366178,
             "remaining_time": 1.971004934,
             "test": [
              0.04069213477
             ]
            },
            {
             "iteration": 340,
             "learn": [
              0.02651297075
             ],
             "passed_time": 1.018135809,
             "remaining_time": 1.967599701,
             "test": [
              0.04067847371
             ]
            },
            {
             "iteration": 341,
             "learn": [
              0.02648062131
             ],
             "passed_time": 1.020715906,
             "remaining_time": 1.963833526,
             "test": [
              0.04065629287
             ]
            },
            {
             "iteration": 342,
             "learn": [
              0.0264366281
             ],
             "passed_time": 1.023268802,
             "remaining_time": 1.960022166,
             "test": [
              0.04066415068
             ]
            },
            {
             "iteration": 343,
             "learn": [
              0.02638715783
             ],
             "passed_time": 1.025873058,
             "remaining_time": 1.956316065,
             "test": [
              0.04062857909
             ]
            },
            {
             "iteration": 344,
             "learn": [
              0.02637458917
             ],
             "passed_time": 1.028473455,
             "remaining_time": 1.952609024,
             "test": [
              0.04063226395
             ]
            },
            {
             "iteration": 345,
             "learn": [
              0.02633828231
             ],
             "passed_time": 1.031169899,
             "remaining_time": 1.949089925,
             "test": [
              0.04062014096
             ]
            },
            {
             "iteration": 346,
             "learn": [
              0.02629658085
             ],
             "passed_time": 1.033716623,
             "remaining_time": 1.945293819,
             "test": [
              0.04058976588
             ]
            },
            {
             "iteration": 347,
             "learn": [
              0.0262691257
             ],
             "passed_time": 1.036461284,
             "remaining_time": 1.941875739,
             "test": [
              0.04057840436
             ]
            },
            {
             "iteration": 348,
             "learn": [
              0.02618221364
             ],
             "passed_time": 1.039123661,
             "remaining_time": 1.938308033,
             "test": [
              0.04053319402
             ]
            },
            {
             "iteration": 349,
             "learn": [
              0.0261403589
             ],
             "passed_time": 1.041774243,
             "remaining_time": 1.934723594,
             "test": [
              0.04050973974
             ]
            },
            {
             "iteration": 350,
             "learn": [
              0.02611018586
             ],
             "passed_time": 1.04440721,
             "remaining_time": 1.931111906,
             "test": [
              0.04049603985
             ]
            },
            {
             "iteration": 351,
             "learn": [
              0.02607137167
             ],
             "passed_time": 1.047218933,
             "remaining_time": 1.927834854,
             "test": [
              0.0404858679
             ]
            },
            {
             "iteration": 352,
             "learn": [
              0.02604257588
             ],
             "passed_time": 1.050171928,
             "remaining_time": 1.924819369,
             "test": [
              0.04047919354
             ]
            },
            {
             "iteration": 353,
             "learn": [
              0.0259707146
             ],
             "passed_time": 1.053075734,
             "remaining_time": 1.921714475,
             "test": [
              0.0404201027
             ]
            },
            {
             "iteration": 354,
             "learn": [
              0.02594446122
             ],
             "passed_time": 1.055832349,
             "remaining_time": 1.918343281,
             "test": [
              0.04041111923
             ]
            },
            {
             "iteration": 355,
             "learn": [
              0.02590930152
             ],
             "passed_time": 1.058628306,
             "remaining_time": 1.915046711,
             "test": [
              0.04038333777
             ]
            },
            {
             "iteration": 356,
             "learn": [
              0.02586813577
             ],
             "passed_time": 1.061347264,
             "remaining_time": 1.911614259,
             "test": [
              0.04035978984
             ]
            },
            {
             "iteration": 357,
             "learn": [
              0.02581471756
             ],
             "passed_time": 1.064021747,
             "remaining_time": 1.908106038,
             "test": [
              0.04034408577
             ]
            },
            {
             "iteration": 358,
             "learn": [
              0.02577646839
             ],
             "passed_time": 1.066675538,
             "remaining_time": 1.904565515,
             "test": [
              0.04033227664
             ]
            },
            {
             "iteration": 359,
             "learn": [
              0.02572942901
             ],
             "passed_time": 1.069318987,
             "remaining_time": 1.901011533,
             "test": [
              0.0403106556
             ]
            },
            {
             "iteration": 360,
             "learn": [
              0.02569237372
             ],
             "passed_time": 1.071956644,
             "remaining_time": 1.897452342,
             "test": [
              0.04030055981
             ]
            },
            {
             "iteration": 361,
             "learn": [
              0.02565421075
             ],
             "passed_time": 1.074701239,
             "remaining_time": 1.894086714,
             "test": [
              0.04028137421
             ]
            },
            {
             "iteration": 362,
             "learn": [
              0.0256388231
             ],
             "passed_time": 1.077350419,
             "remaining_time": 1.89055707,
             "test": [
              0.0402744492
             ]
            },
            {
             "iteration": 363,
             "learn": [
              0.02561238338
             ],
             "passed_time": 1.079973071,
             "remaining_time": 1.886985916,
             "test": [
              0.04027004693
             ]
            },
            {
             "iteration": 364,
             "learn": [
              0.02557550798
             ],
             "passed_time": 1.082567766,
             "remaining_time": 1.883371319,
             "test": [
              0.04026854044
             ]
            },
            {
             "iteration": 365,
             "learn": [
              0.02555063723
             ],
             "passed_time": 1.085226726,
             "remaining_time": 1.879873618,
             "test": [
              0.0402607462
             ]
            },
            {
             "iteration": 366,
             "learn": [
              0.02553258841
             ],
             "passed_time": 1.087900351,
             "remaining_time": 1.876405783,
             "test": [
              0.04026083612
             ]
            },
            {
             "iteration": 367,
             "learn": [
              0.02552228806
             ],
             "passed_time": 1.09038008,
             "remaining_time": 1.872609268,
             "test": [
              0.04025849012
             ]
            },
            {
             "iteration": 368,
             "learn": [
              0.02548880956
             ],
             "passed_time": 1.092996826,
             "remaining_time": 1.869054192,
             "test": [
              0.04024727916
             ]
            },
            {
             "iteration": 369,
             "learn": [
              0.02546673951
             ],
             "passed_time": 1.09567579,
             "remaining_time": 1.86561013,
             "test": [
              0.0402376829
             ]
            },
            {
             "iteration": 370,
             "learn": [
              0.02543476855
             ],
             "passed_time": 1.098354604,
             "remaining_time": 1.862169935,
             "test": [
              0.04023561699
             ]
            },
            {
             "iteration": 371,
             "learn": [
              0.02540908152
             ],
             "passed_time": 1.101103183,
             "remaining_time": 1.85885161,
             "test": [
              0.04022591387
             ]
            },
            {
             "iteration": 372,
             "learn": [
              0.02536721548
             ],
             "passed_time": 1.10382278,
             "remaining_time": 1.855487622,
             "test": [
              0.0402029116
             ]
            },
            {
             "iteration": 373,
             "learn": [
              0.02534289941
             ],
             "passed_time": 1.106454454,
             "remaining_time": 1.851979915,
             "test": [
              0.04018438934
             ]
            },
            {
             "iteration": 374,
             "learn": [
              0.02532278973
             ],
             "passed_time": 1.109035645,
             "remaining_time": 1.848392741,
             "test": [
              0.04017567413
             ]
            },
            {
             "iteration": 375,
             "learn": [
              0.02529691552
             ],
             "passed_time": 1.111649,
             "remaining_time": 1.844864298,
             "test": [
              0.04018466135
             ]
            },
            {
             "iteration": 376,
             "learn": [
              0.02527121131
             ],
             "passed_time": 1.114279017,
             "remaining_time": 1.841368243,
             "test": [
              0.04016795662
             ]
            },
            {
             "iteration": 377,
             "learn": [
              0.02523214618
             ],
             "passed_time": 1.116888313,
             "remaining_time": 1.837842674,
             "test": [
              0.04014184179
             ]
            },
            {
             "iteration": 378,
             "learn": [
              0.02517336218
             ],
             "passed_time": 1.119525628,
             "remaining_time": 1.83436785,
             "test": [
              0.04012675063
             ]
            },
            {
             "iteration": 379,
             "learn": [
              0.02512081115
             ],
             "passed_time": 1.122097643,
             "remaining_time": 1.830790891,
             "test": [
              0.04009742142
             ]
            },
            {
             "iteration": 380,
             "learn": [
              0.02509441673
             ],
             "passed_time": 1.124776227,
             "remaining_time": 1.827392348,
             "test": [
              0.04009123209
             ]
            },
            {
             "iteration": 381,
             "learn": [
              0.02507240104
             ],
             "passed_time": 1.127526548,
             "remaining_time": 1.82411363,
             "test": [
              0.04008509569
             ]
            },
            {
             "iteration": 382,
             "learn": [
              0.0249960028
             ],
             "passed_time": 1.130241902,
             "remaining_time": 1.82078134,
             "test": [
              0.04005085267
             ]
            },
            {
             "iteration": 383,
             "learn": [
              0.02498281277
             ],
             "passed_time": 1.132825179,
             "remaining_time": 1.817240391,
             "test": [
              0.04005338139
             ]
            },
            {
             "iteration": 384,
             "learn": [
              0.02494995775
             ],
             "passed_time": 1.135619947,
             "remaining_time": 1.814042253,
             "test": [
              0.04003702394
             ]
            },
            {
             "iteration": 385,
             "learn": [
              0.02493896678
             ],
             "passed_time": 1.138205874,
             "remaining_time": 1.810514007,
             "test": [
              0.04003034953
             ]
            },
            {
             "iteration": 386,
             "learn": [
              0.02490335367
             ],
             "passed_time": 1.140841797,
             "remaining_time": 1.807069823,
             "test": [
              0.04004443993
             ]
            },
            {
             "iteration": 387,
             "learn": [
              0.02487924035
             ],
             "passed_time": 1.143414025,
             "remaining_time": 1.803529339,
             "test": [
              0.04003770104
             ]
            },
            {
             "iteration": 388,
             "learn": [
              0.0248513261
             ],
             "passed_time": 1.146251595,
             "remaining_time": 1.800410603,
             "test": [
              0.04002955064
             ]
            },
            {
             "iteration": 389,
             "learn": [
              0.02477697653
             ],
             "passed_time": 1.148996347,
             "remaining_time": 1.797148132,
             "test": [
              0.04000649382
             ]
            },
            {
             "iteration": 390,
             "learn": [
              0.02473813109
             ],
             "passed_time": 1.152874409,
             "remaining_time": 1.795653491,
             "test": [
              0.0400005026
             ]
            },
            {
             "iteration": 391,
             "learn": [
              0.02470776069
             ],
             "passed_time": 1.156231848,
             "remaining_time": 1.793339193,
             "test": [
              0.0399979816
             ]
            },
            {
             "iteration": 392,
             "learn": [
              0.02468479413
             ],
             "passed_time": 1.159095617,
             "remaining_time": 1.790257099,
             "test": [
              0.03999215377
             ]
            },
            {
             "iteration": 393,
             "learn": [
              0.02465663253
             ],
             "passed_time": 1.161689648,
             "remaining_time": 1.786761236,
             "test": [
              0.03997201087
             ]
            },
            {
             "iteration": 394,
             "learn": [
              0.02463709861
             ],
             "passed_time": 1.164355653,
             "remaining_time": 1.783380177,
             "test": [
              0.03996091122
             ]
            },
            {
             "iteration": 395,
             "learn": [
              0.02459967955
             ],
             "passed_time": 1.167127092,
             "remaining_time": 1.780163544,
             "test": [
              0.03996834153
             ]
            },
            {
             "iteration": 396,
             "learn": [
              0.02453802042
             ],
             "passed_time": 1.169821218,
             "remaining_time": 1.776831724,
             "test": [
              0.03995216008
             ]
            },
            {
             "iteration": 397,
             "learn": [
              0.02450867088
             ],
             "passed_time": 1.17250423,
             "remaining_time": 1.773486297,
             "test": [
              0.03995107386
             ]
            },
            {
             "iteration": 398,
             "learn": [
              0.02447095809
             ],
             "passed_time": 1.175212247,
             "remaining_time": 1.770181856,
             "test": [
              0.03994065993
             ]
            },
            {
             "iteration": 399,
             "learn": [
              0.02445726059
             ],
             "passed_time": 1.177771519,
             "remaining_time": 1.766657278,
             "test": [
              0.03994890084
             ]
            },
            {
             "iteration": 400,
             "learn": [
              0.02440716059
             ],
             "passed_time": 1.180399306,
             "remaining_time": 1.763239861,
             "test": [
              0.03994176368
             ]
            },
            {
             "iteration": 401,
             "learn": [
              0.02438564007
             ],
             "passed_time": 1.183103977,
             "remaining_time": 1.759940742,
             "test": [
              0.03992889702
             ]
            },
            {
             "iteration": 402,
             "learn": [
              0.02435277041
             ],
             "passed_time": 1.185806134,
             "remaining_time": 1.756640849,
             "test": [
              0.03991924431
             ]
            },
            {
             "iteration": 403,
             "learn": [
              0.02430936964
             ],
             "passed_time": 1.18856224,
             "remaining_time": 1.753423503,
             "test": [
              0.03989140463
             ]
            },
            {
             "iteration": 404,
             "learn": [
              0.02428021599
             ],
             "passed_time": 1.191226981,
             "remaining_time": 1.750074207,
             "test": [
              0.03989510304
             ]
            },
            {
             "iteration": 405,
             "learn": [
              0.02425603456
             ],
             "passed_time": 1.193944258,
             "remaining_time": 1.746805145,
             "test": [
              0.03989508794
             ]
            },
            {
             "iteration": 406,
             "learn": [
              0.02423848671
             ],
             "passed_time": 1.196464517,
             "remaining_time": 1.743251741,
             "test": [
              0.03989627982
             ]
            },
            {
             "iteration": 407,
             "learn": [
              0.02421610179
             ],
             "passed_time": 1.199163508,
             "remaining_time": 1.739962737,
             "test": [
              0.03989931159
             ]
            },
            {
             "iteration": 408,
             "learn": [
              0.02419489522
             ],
             "passed_time": 1.201705468,
             "remaining_time": 1.73644971,
             "test": [
              0.03988435787
             ]
            },
            {
             "iteration": 409,
             "learn": [
              0.02414797723
             ],
             "passed_time": 1.204276657,
             "remaining_time": 1.732983482,
             "test": [
              0.03987460276
             ]
            },
            {
             "iteration": 410,
             "learn": [
              0.02410658677
             ],
             "passed_time": 1.206903836,
             "remaining_time": 1.729601848,
             "test": [
              0.03985330315
             ]
            },
            {
             "iteration": 411,
             "learn": [
              0.02406482956
             ],
             "passed_time": 1.209611304,
             "remaining_time": 1.726338464,
             "test": [
              0.03984870071
             ]
            },
            {
             "iteration": 412,
             "learn": [
              0.02403870588
             ],
             "passed_time": 1.212245504,
             "remaining_time": 1.722973634,
             "test": [
              0.03984825737
             ]
            },
            {
             "iteration": 413,
             "learn": [
              0.02400201135
             ],
             "passed_time": 1.214885559,
             "remaining_time": 1.719620622,
             "test": [
              0.03985289325
             ]
            },
            {
             "iteration": 414,
             "learn": [
              0.02397572412
             ],
             "passed_time": 1.217468077,
             "remaining_time": 1.71618994,
             "test": [
              0.03985020261
             ]
            },
            {
             "iteration": 415,
             "learn": [
              0.02390659139
             ],
             "passed_time": 1.220075588,
             "remaining_time": 1.712798421,
             "test": [
              0.03981611258
             ]
            },
            {
             "iteration": 416,
             "learn": [
              0.02388110748
             ],
             "passed_time": 1.222730581,
             "remaining_time": 1.709477047,
             "test": [
              0.03980155806
             ]
            },
            {
             "iteration": 417,
             "learn": [
              0.02386232423
             ],
             "passed_time": 1.225425646,
             "remaining_time": 1.706214655,
             "test": [
              0.03979548323
             ]
            },
            {
             "iteration": 418,
             "learn": [
              0.02383472781
             ],
             "passed_time": 1.227967533,
             "remaining_time": 1.70274257,
             "test": [
              0.03978627101
             ]
            },
            {
             "iteration": 419,
             "learn": [
              0.02378640238
             ],
             "passed_time": 1.230564267,
             "remaining_time": 1.699350654,
             "test": [
              0.03977333933
             ]
            },
            {
             "iteration": 420,
             "learn": [
              0.02376587334
             ],
             "passed_time": 1.233169494,
             "remaining_time": 1.695974197,
             "test": [
              0.03976820631
             ]
            },
            {
             "iteration": 421,
             "learn": [
              0.02373023524
             ],
             "passed_time": 1.235832578,
             "remaining_time": 1.692680639,
             "test": [
              0.03976690719
             ]
            },
            {
             "iteration": 422,
             "learn": [
              0.02368886831
             ],
             "passed_time": 1.238394602,
             "remaining_time": 1.689252211,
             "test": [
              0.03975624599
             ]
            },
            {
             "iteration": 423,
             "learn": [
              0.02366536402
             ],
             "passed_time": 1.241068429,
             "remaining_time": 1.685979752,
             "test": [
              0.03975187611
             ]
            },
            {
             "iteration": 424,
             "learn": [
              0.02362832001
             ],
             "passed_time": 1.243675031,
             "remaining_time": 1.682619159,
             "test": [
              0.03975047183
             ]
            },
            {
             "iteration": 425,
             "learn": [
              0.02359426735
             ],
             "passed_time": 1.246472788,
             "remaining_time": 1.679519672,
             "test": [
              0.03972272766
             ]
            },
            {
             "iteration": 426,
             "learn": [
              0.02355863502
             ],
             "passed_time": 1.249194435,
             "remaining_time": 1.676319465,
             "test": [
              0.03972917836
             ]
            },
            {
             "iteration": 427,
             "learn": [
              0.02354011189
             ],
             "passed_time": 1.251909497,
             "remaining_time": 1.673112692,
             "test": [
              0.03971990974
             ]
            },
            {
             "iteration": 428,
             "learn": [
              0.02350965478
             ],
             "passed_time": 1.254590772,
             "remaining_time": 1.669863242,
             "test": [
              0.03971558187
             ]
            },
            {
             "iteration": 429,
             "learn": [
              0.02347426577
             ],
             "passed_time": 1.257489322,
             "remaining_time": 1.66690445,
             "test": [
              0.03972060141
             ]
            },
            {
             "iteration": 430,
             "learn": [
              0.02344962734
             ],
             "passed_time": 1.260113815,
             "remaining_time": 1.663584132,
             "test": [
              0.03971189894
             ]
            },
            {
             "iteration": 431,
             "learn": [
              0.02342045819
             ],
             "passed_time": 1.262748148,
             "remaining_time": 1.660279972,
             "test": [
              0.03972874485
             ]
            },
            {
             "iteration": 432,
             "learn": [
              0.023385639
             ],
             "passed_time": 1.265378596,
             "remaining_time": 1.65697382,
             "test": [
              0.03972207899
             ]
            },
            {
             "iteration": 433,
             "learn": [
              0.0233421965
             ],
             "passed_time": 1.268098082,
             "remaining_time": 1.6537869,
             "test": [
              0.03968950816
             ]
            },
            {
             "iteration": 434,
             "learn": [
              0.02331516085
             ],
             "passed_time": 1.270842311,
             "remaining_time": 1.650634267,
             "test": [
              0.03967902867
             ]
            },
            {
             "iteration": 435,
             "learn": [
              0.02329688717
             ],
             "passed_time": 1.273477608,
             "remaining_time": 1.647342594,
             "test": [
              0.03966707419
             ]
            },
            {
             "iteration": 436,
             "learn": [
              0.02325481938
             ],
             "passed_time": 1.276175573,
             "remaining_time": 1.644134662,
             "test": [
              0.03965080856
             ]
            },
            {
             "iteration": 437,
             "learn": [
              0.02323873387
             ],
             "passed_time": 1.27881035,
             "remaining_time": 1.640847983,
             "test": [
              0.03964934063
             ]
            },
            {
             "iteration": 438,
             "learn": [
              0.02322166062
             ],
             "passed_time": 1.28141897,
             "remaining_time": 1.637530848,
             "test": [
              0.03964414903
             ]
            },
            {
             "iteration": 439,
             "learn": [
              0.0232055157
             ],
             "passed_time": 1.283899097,
             "remaining_time": 1.634053396,
             "test": [
              0.03963993266
             ]
            },
            {
             "iteration": 440,
             "learn": [
              0.0231870569
             ],
             "passed_time": 1.286579418,
             "remaining_time": 1.630834228,
             "test": [
              0.03962480384
             ]
            },
            {
             "iteration": 441,
             "learn": [
              0.02316826467
             ],
             "passed_time": 1.289147468,
             "remaining_time": 1.627475763,
             "test": [
              0.03961156223
             ]
            },
            {
             "iteration": 442,
             "learn": [
              0.0231465352
             ],
             "passed_time": 1.291852976,
             "remaining_time": 1.624293696,
             "test": [
              0.03961143194
             ]
            },
            {
             "iteration": 443,
             "learn": [
              0.02312351646
             ],
             "passed_time": 1.294523482,
             "remaining_time": 1.621069946,
             "test": [
              0.0396074698
             ]
            },
            {
             "iteration": 444,
             "learn": [
              0.02307881143
             ],
             "passed_time": 1.297220803,
             "remaining_time": 1.617882125,
             "test": [
              0.03958958044
             ]
            },
            {
             "iteration": 445,
             "learn": [
              0.02304013438
             ],
             "passed_time": 1.299891275,
             "remaining_time": 1.614663153,
             "test": [
              0.03958322567
             ]
            },
            {
             "iteration": 446,
             "learn": [
              0.02299224402
             ],
             "passed_time": 1.302644084,
             "remaining_time": 1.611548497,
             "test": [
              0.03956859325
             ]
            },
            {
             "iteration": 447,
             "learn": [
              0.02297387153
             ],
             "passed_time": 1.30545664,
             "remaining_time": 1.608509074,
             "test": [
              0.03956514834
             ]
            },
            {
             "iteration": 448,
             "learn": [
              0.02295062976
             ],
             "passed_time": 1.308158521,
             "remaining_time": 1.605334844,
             "test": [
              0.03956098033
             ]
            },
            {
             "iteration": 449,
             "learn": [
              0.02293284906
             ],
             "passed_time": 1.310786501,
             "remaining_time": 1.60207239,
             "test": [
              0.0395695626
             ]
            },
            {
             "iteration": 450,
             "learn": [
              0.02290177492
             ],
             "passed_time": 1.313497317,
             "remaining_time": 1.598913585,
             "test": [
              0.03954593533
             ]
            },
            {
             "iteration": 451,
             "learn": [
              0.02287820258
             ],
             "passed_time": 1.316100478,
             "remaining_time": 1.595626243,
             "test": [
              0.03954420309
             ]
            },
            {
             "iteration": 452,
             "learn": [
              0.02282763954
             ],
             "passed_time": 1.31882038,
             "remaining_time": 1.592482887,
             "test": [
              0.03952020238
             ]
            },
            {
             "iteration": 453,
             "learn": [
              0.02278847556
             ],
             "passed_time": 1.321352909,
             "remaining_time": 1.589116053,
             "test": [
              0.03951891227
             ]
            },
            {
             "iteration": 454,
             "learn": [
              0.02275823186
             ],
             "passed_time": 1.323981299,
             "remaining_time": 1.585867709,
             "test": [
              0.03951215797
             ]
            },
            {
             "iteration": 455,
             "learn": [
              0.02273280976
             ],
             "passed_time": 1.326641308,
             "remaining_time": 1.582659806,
             "test": [
              0.03950164654
             ]
            },
            {
             "iteration": 456,
             "learn": [
              0.02271759252
             ],
             "passed_time": 1.329323748,
             "remaining_time": 1.579480952,
             "test": [
              0.0395015992
             ]
            },
            {
             "iteration": 457,
             "learn": [
              0.0227044181
             ],
             "passed_time": 1.332003516,
             "remaining_time": 1.576301104,
             "test": [
              0.03950432305
             ]
            },
            {
             "iteration": 458,
             "learn": [
              0.0226520892
             ],
             "passed_time": 1.334700686,
             "remaining_time": 1.573143946,
             "test": [
              0.03949019876
             ]
            },
            {
             "iteration": 459,
             "learn": [
              0.02264683182
             ],
             "passed_time": 1.337388927,
             "remaining_time": 1.569978306,
             "test": [
              0.03949005134
             ]
            },
            {
             "iteration": 460,
             "learn": [
              0.02261615171
             ],
             "passed_time": 1.340000432,
             "remaining_time": 1.566725017,
             "test": [
              0.03948063121
             ]
            },
            {
             "iteration": 461,
             "learn": [
              0.02254378045
             ],
             "passed_time": 1.342704869,
             "remaining_time": 1.563582726,
             "test": [
              0.03947266401
             ]
            },
            {
             "iteration": 462,
             "learn": [
              0.02251299157
             ],
             "passed_time": 1.346473075,
             "remaining_time": 1.561676115,
             "test": [
              0.03947209093
             ]
            },
            {
             "iteration": 463,
             "learn": [
              0.02249635564
             ],
             "passed_time": 1.3499314,
             "remaining_time": 1.559403514,
             "test": [
              0.03947148231
             ]
            },
            {
             "iteration": 464,
             "learn": [
              0.02245205332
             ],
             "passed_time": 1.352970935,
             "remaining_time": 1.556643979,
             "test": [
              0.03943822601
             ]
            },
            {
             "iteration": 465,
             "learn": [
              0.02243852832
             ],
             "passed_time": 1.355561406,
             "remaining_time": 1.55336865,
             "test": [
              0.03944695332
             ]
            },
            {
             "iteration": 466,
             "learn": [
              0.02240796648
             ],
             "passed_time": 1.358290347,
             "remaining_time": 1.550254293,
             "test": [
              0.03941805546
             ]
            },
            {
             "iteration": 467,
             "learn": [
              0.02236929254
             ],
             "passed_time": 1.361022708,
             "remaining_time": 1.547145472,
             "test": [
              0.03938470081
             ]
            },
            {
             "iteration": 468,
             "learn": [
              0.02233395251
             ],
             "passed_time": 1.363928753,
             "remaining_time": 1.5442349,
             "test": [
              0.03936550168
             ]
            },
            {
             "iteration": 469,
             "learn": [
              0.02230158431
             ],
             "passed_time": 1.366605774,
             "remaining_time": 1.541066086,
             "test": [
              0.03935539494
             ]
            },
            {
             "iteration": 470,
             "learn": [
              0.02227418997
             ],
             "passed_time": 1.369249721,
             "remaining_time": 1.537862213,
             "test": [
              0.03935361558
             ]
            },
            {
             "iteration": 471,
             "learn": [
              0.02222257977
             ],
             "passed_time": 1.372009096,
             "remaining_time": 1.534789836,
             "test": [
              0.03930956935
             ]
            },
            {
             "iteration": 472,
             "learn": [
              0.02218231949
             ],
             "passed_time": 1.374727773,
             "remaining_time": 1.531673438,
             "test": [
              0.03929207186
             ]
            },
            {
             "iteration": 473,
             "learn": [
              0.02213789872
             ],
             "passed_time": 1.377351198,
             "remaining_time": 1.528453018,
             "test": [
              0.03927319834
             ]
            },
            {
             "iteration": 474,
             "learn": [
              0.02211817031
             ],
             "passed_time": 1.380022367,
             "remaining_time": 1.52528788,
             "test": [
              0.03925815788
             ]
            },
            {
             "iteration": 475,
             "learn": [
              0.02208384065
             ],
             "passed_time": 1.382750476,
             "remaining_time": 1.522187498,
             "test": [
              0.03924676662
             ]
            },
            {
             "iteration": 476,
             "learn": [
              0.02205626678
             ],
             "passed_time": 1.3854807,
             "remaining_time": 1.519090998,
             "test": [
              0.03924665254
             ]
            },
            {
             "iteration": 477,
             "learn": [
              0.0220451805
             ],
             "passed_time": 1.388144032,
             "remaining_time": 1.515922981,
             "test": [
              0.03923081574
             ]
            },
            {
             "iteration": 478,
             "learn": [
              0.02201923453
             ],
             "passed_time": 1.390801167,
             "remaining_time": 1.51275033,
             "test": [
              0.03922754501
             ]
            },
            {
             "iteration": 479,
             "learn": [
              0.02201235437
             ],
             "passed_time": 1.393346449,
             "remaining_time": 1.509458653,
             "test": [
              0.03923389092
             ]
            },
            {
             "iteration": 480,
             "learn": [
              0.02199616791
             ],
             "passed_time": 1.395874357,
             "remaining_time": 1.506151333,
             "test": [
              0.03922447221
             ]
            },
            {
             "iteration": 481,
             "learn": [
              0.02196673166
             ],
             "passed_time": 1.398483242,
             "remaining_time": 1.502934272,
             "test": [
              0.03921659119
             ]
            },
            {
             "iteration": 482,
             "learn": [
              0.02194114443
             ],
             "passed_time": 1.401065306,
             "remaining_time": 1.499691021,
             "test": [
              0.03920654445
             ]
            },
            {
             "iteration": 483,
             "learn": [
              0.02189751699
             ],
             "passed_time": 1.403620731,
             "remaining_time": 1.496422101,
             "test": [
              0.03919388561
             ]
            },
            {
             "iteration": 484,
             "learn": [
              0.02188457189
             ],
             "passed_time": 1.406268208,
             "remaining_time": 1.493253871,
             "test": [
              0.03919100714
             ]
            },
            {
             "iteration": 485,
             "learn": [
              0.02186932186
             ],
             "passed_time": 1.409361501,
             "remaining_time": 1.490559283,
             "test": [
              0.03918491738
             ]
            },
            {
             "iteration": 486,
             "learn": [
              0.02182805346
             ],
             "passed_time": 1.412070314,
             "remaining_time": 1.487458051,
             "test": [
              0.03916796596
             ]
            },
            {
             "iteration": 487,
             "learn": [
              0.02179659946
             ],
             "passed_time": 1.414707422,
             "remaining_time": 1.484283197,
             "test": [
              0.03914310856
             ]
            },
            {
             "iteration": 488,
             "learn": [
              0.02175415822
             ],
             "passed_time": 1.417402422,
             "remaining_time": 1.481171038,
             "test": [
              0.03913996717
             ]
            },
            {
             "iteration": 489,
             "learn": [
              0.02173697925
             ],
             "passed_time": 1.42009405,
             "remaining_time": 1.478057072,
             "test": [
              0.03913774563
             ]
            },
            {
             "iteration": 490,
             "learn": [
              0.02168595447
             ],
             "passed_time": 1.422929552,
             "remaining_time": 1.475093976,
             "test": [
              0.03913907646
             ]
            },
            {
             "iteration": 491,
             "learn": [
              0.02166810723
             ],
             "passed_time": 1.425623878,
             "remaining_time": 1.47198563,
             "test": [
              0.0391488807
             ]
            },
            {
             "iteration": 492,
             "learn": [
              0.02163554723
             ],
             "passed_time": 1.42827756,
             "remaining_time": 1.468837166,
             "test": [
              0.03913466466
             ]
            },
            {
             "iteration": 493,
             "learn": [
              0.02160928851
             ],
             "passed_time": 1.430963222,
             "remaining_time": 1.465723463,
             "test": [
              0.03914255326
             ]
            },
            {
             "iteration": 494,
             "learn": [
              0.02155709273
             ],
             "passed_time": 1.433712046,
             "remaining_time": 1.462675925,
             "test": [
              0.03912202698
             ]
            },
            {
             "iteration": 495,
             "learn": [
              0.02153516983
             ],
             "passed_time": 1.436386514,
             "remaining_time": 1.459554038,
             "test": [
              0.03911298319
             ]
            },
            {
             "iteration": 496,
             "learn": [
              0.02149278439
             ],
             "passed_time": 1.439178604,
             "remaining_time": 1.456552994,
             "test": [
              0.03909749051
             ]
            },
            {
             "iteration": 497,
             "learn": [
              0.02147633505
             ],
             "passed_time": 1.441771146,
             "remaining_time": 1.453351637,
             "test": [
              0.03909115775
             ]
            },
            {
             "iteration": 498,
             "learn": [
              0.02143586052
             ],
             "passed_time": 1.444505261,
             "remaining_time": 1.450294861,
             "test": [
              0.03907922986
             ]
            },
            {
             "iteration": 499,
             "learn": [
              0.02141992879
             ],
             "passed_time": 1.447140048,
             "remaining_time": 1.447140048,
             "test": [
              0.03907701273
             ]
            },
            {
             "iteration": 500,
             "learn": [
              0.02140627023
             ],
             "passed_time": 1.449824232,
             "remaining_time": 1.444036511,
             "test": [
              0.03906809364
             ]
            },
            {
             "iteration": 501,
             "learn": [
              0.02138867436
             ],
             "passed_time": 1.452422859,
             "remaining_time": 1.440849768,
             "test": [
              0.03906633477
             ]
            },
            {
             "iteration": 502,
             "learn": [
              0.0213235668
             ],
             "passed_time": 1.455038575,
             "remaining_time": 1.43768225,
             "test": [
              0.03906180434
             ]
            },
            {
             "iteration": 503,
             "learn": [
              0.02131102848
             ],
             "passed_time": 1.457881975,
             "remaining_time": 1.434740991,
             "test": [
              0.03906399921
             ]
            },
            {
             "iteration": 504,
             "learn": [
              0.02129672866
             ],
             "passed_time": 1.460722836,
             "remaining_time": 1.431797631,
             "test": [
              0.03905798242
             ]
            },
            {
             "iteration": 505,
             "learn": [
              0.02127122253
             ],
             "passed_time": 1.463594114,
             "remaining_time": 1.428884373,
             "test": [
              0.03905624479
             ]
            },
            {
             "iteration": 506,
             "learn": [
              0.02123148999
             ],
             "passed_time": 1.466481047,
             "remaining_time": 1.425986501,
             "test": [
              0.03903714006
             ]
            },
            {
             "iteration": 507,
             "learn": [
              0.02119864272
             ],
             "passed_time": 1.469322111,
             "remaining_time": 1.42304425,
             "test": [
              0.03901297192
             ]
            },
            {
             "iteration": 508,
             "learn": [
              0.02115772995
             ],
             "passed_time": 1.472117213,
             "remaining_time": 1.420058058,
             "test": [
              0.03900225345
             ]
            },
            {
             "iteration": 509,
             "learn": [
              0.02112700201
             ],
             "passed_time": 1.474799173,
             "remaining_time": 1.416963912,
             "test": [
              0.03898801505
             ]
            },
            {
             "iteration": 510,
             "learn": [
              0.02110472362
             ],
             "passed_time": 1.477404124,
             "remaining_time": 1.413797685,
             "test": [
              0.03899106179
             ]
            },
            {
             "iteration": 511,
             "learn": [
              0.02108055152
             ],
             "passed_time": 1.480187223,
             "remaining_time": 1.410803447,
             "test": [
              0.03898635225
             ]
            },
            {
             "iteration": 512,
             "learn": [
              0.02105496326
             ],
             "passed_time": 1.482957124,
             "remaining_time": 1.407797504,
             "test": [
              0.03898230613
             ]
            },
            {
             "iteration": 513,
             "learn": [
              0.0210300904
             ],
             "passed_time": 1.485792732,
             "remaining_time": 1.404854607,
             "test": [
              0.03898377315
             ]
            },
            {
             "iteration": 514,
             "learn": [
              0.02101504524
             ],
             "passed_time": 1.488494852,
             "remaining_time": 1.401786414,
             "test": [
              0.03898419162
             ]
            },
            {
             "iteration": 515,
             "learn": [
              0.02097607246
             ],
             "passed_time": 1.491304099,
             "remaining_time": 1.398820124,
             "test": [
              0.03897408139
             ]
            },
            {
             "iteration": 516,
             "learn": [
              0.02095192823
             ],
             "passed_time": 1.49405959,
             "remaining_time": 1.39580422,
             "test": [
              0.03897060676
             ]
            },
            {
             "iteration": 517,
             "learn": [
              0.02093080878
             ],
             "passed_time": 1.496823277,
             "remaining_time": 1.392796949,
             "test": [
              0.03895812178
             ]
            },
            {
             "iteration": 518,
             "learn": [
              0.02090822425
             ],
             "passed_time": 1.499454152,
             "remaining_time": 1.389667528,
             "test": [
              0.03895557826
             ]
            },
            {
             "iteration": 519,
             "learn": [
              0.02088530532
             ],
             "passed_time": 1.502130041,
             "remaining_time": 1.386581577,
             "test": [
              0.03895794921
             ]
            },
            {
             "iteration": 520,
             "learn": [
              0.02087306628
             ],
             "passed_time": 1.504939926,
             "remaining_time": 1.383620393,
             "test": [
              0.03895926916
             ]
            },
            {
             "iteration": 521,
             "learn": [
              0.02084110671
             ],
             "passed_time": 1.508775244,
             "remaining_time": 1.381598786,
             "test": [
              0.03895017999
             ]
            },
            {
             "iteration": 522,
             "learn": [
              0.02082769543
             ],
             "passed_time": 1.514301101,
             "remaining_time": 1.381112094,
             "test": [
              0.03894706971
             ]
            },
            {
             "iteration": 523,
             "learn": [
              0.02078380794
             ],
             "passed_time": 1.519870399,
             "remaining_time": 1.38064563,
             "test": [
              0.03892613235
             ]
            },
            {
             "iteration": 524,
             "learn": [
              0.02076227689
             ],
             "passed_time": 1.523572872,
             "remaining_time": 1.378470693,
             "test": [
              0.03891094301
             ]
            },
            {
             "iteration": 525,
             "learn": [
              0.0207354745
             ],
             "passed_time": 1.529024939,
             "remaining_time": 1.37786658,
             "test": [
              0.0388902543
             ]
            },
            {
             "iteration": 526,
             "learn": [
              0.02070905818
             ],
             "passed_time": 1.533299252,
             "remaining_time": 1.376186994,
             "test": [
              0.03888515692
             ]
            },
            {
             "iteration": 527,
             "learn": [
              0.02067463406
             ],
             "passed_time": 1.537084402,
             "remaining_time": 1.374060298,
             "test": [
              0.03888708023
             ]
            },
            {
             "iteration": 528,
             "learn": [
              0.02064047885
             ],
             "passed_time": 1.543090088,
             "remaining_time": 1.373904407,
             "test": [
              0.03887757192
             ]
            },
            {
             "iteration": 529,
             "learn": [
              0.02062196521
             ],
             "passed_time": 1.547344505,
             "remaining_time": 1.372173429,
             "test": [
              0.03887474796
             ]
            },
            {
             "iteration": 530,
             "learn": [
              0.02058824759
             ],
             "passed_time": 1.550776672,
             "remaining_time": 1.369706703,
             "test": [
              0.03886749552
             ]
            },
            {
             "iteration": 531,
             "learn": [
              0.02056275834
             ],
             "passed_time": 1.556758178,
             "remaining_time": 1.369478999,
             "test": [
              0.03886204662
             ]
            },
            {
             "iteration": 532,
             "learn": [
              0.02053623961
             ],
             "passed_time": 1.562206368,
             "remaining_time": 1.368762428,
             "test": [
              0.03886665883
             ]
            },
            {
             "iteration": 533,
             "learn": [
              0.02050639478
             ],
             "passed_time": 1.566315718,
             "remaining_time": 1.366859784,
             "test": [
              0.03886014068
             ]
            },
            {
             "iteration": 534,
             "learn": [
              0.02047391478
             ],
             "passed_time": 1.57088148,
             "remaining_time": 1.365345585,
             "test": [
              0.03883871359
             ]
            },
            {
             "iteration": 535,
             "learn": [
              0.02045905696
             ],
             "passed_time": 1.574841308,
             "remaining_time": 1.363295461,
             "test": [
              0.03883347347
             ]
            },
            {
             "iteration": 536,
             "learn": [
              0.02042852339
             ],
             "passed_time": 1.578518538,
             "remaining_time": 1.360994568,
             "test": [
              0.03880613773
             ]
            },
            {
             "iteration": 537,
             "learn": [
              0.02041470853
             ],
             "passed_time": 1.583035946,
             "remaining_time": 1.35941005,
             "test": [
              0.03880018861
             ]
            },
            {
             "iteration": 538,
             "learn": [
              0.02037651824
             ],
             "passed_time": 1.58670518,
             "remaining_time": 1.357089217,
             "test": [
              0.03878421329
             ]
            },
            {
             "iteration": 539,
             "learn": [
              0.0203455541
             ],
             "passed_time": 1.590708064,
             "remaining_time": 1.35504761,
             "test": [
              0.03878102428
             ]
            },
            {
             "iteration": 540,
             "learn": [
              0.02033903519
             ],
             "passed_time": 1.59349166,
             "remaining_time": 1.351964274,
             "test": [
              0.03878136054
             ]
            },
            {
             "iteration": 541,
             "learn": [
              0.02030944074
             ],
             "passed_time": 1.596457875,
             "remaining_time": 1.349036359,
             "test": [
              0.03878393741
             ]
            },
            {
             "iteration": 542,
             "learn": [
              0.02028965574
             ],
             "passed_time": 1.60056255,
             "remaining_time": 1.347066456,
             "test": [
              0.0387827985
             ]
            },
            {
             "iteration": 543,
             "learn": [
              0.02024722828
             ],
             "passed_time": 1.603992215,
             "remaining_time": 1.344522886,
             "test": [
              0.03876445099
             ]
            },
            {
             "iteration": 544,
             "learn": [
              0.02020617594
             ],
             "passed_time": 1.607376825,
             "remaining_time": 1.34193845,
             "test": [
              0.03875269936
             ]
            },
            {
             "iteration": 545,
             "learn": [
              0.02018845844
             ],
             "passed_time": 1.613350137,
             "remaining_time": 1.341503593,
             "test": [
              0.03875052331
             ]
            },
            {
             "iteration": 546,
             "learn": [
              0.02016865066
             ],
             "passed_time": 1.6166362,
             "remaining_time": 1.338823032,
             "test": [
              0.03874495457
             ]
            },
            {
             "iteration": 547,
             "learn": [
              0.02014877181
             ],
             "passed_time": 1.619487778,
             "remaining_time": 1.33578189,
             "test": [
              0.03874451048
             ]
            },
            {
             "iteration": 548,
             "learn": [
              0.02011116135
             ],
             "passed_time": 1.622261944,
             "remaining_time": 1.332677844,
             "test": [
              0.03874475532
             ]
            },
            {
             "iteration": 549,
             "learn": [
              0.02008369982
             ],
             "passed_time": 1.624973502,
             "remaining_time": 1.329523775,
             "test": [
              0.03875127815
             ]
            },
            {
             "iteration": 550,
             "learn": [
              0.02006348297
             ],
             "passed_time": 1.627688695,
             "remaining_time": 1.326374272,
             "test": [
              0.03874135974
             ]
            },
            {
             "iteration": 551,
             "learn": [
              0.02002815995
             ],
             "passed_time": 1.630541211,
             "remaining_time": 1.323337795,
             "test": [
              0.03873192682
             ]
            },
            {
             "iteration": 552,
             "learn": [
              0.01999836544
             ],
             "passed_time": 1.633512073,
             "remaining_time": 1.320397643,
             "test": [
              0.03872667231
             ]
            },
            {
             "iteration": 553,
             "learn": [
              0.01998639831
             ],
             "passed_time": 1.636365462,
             "remaining_time": 1.317362809,
             "test": [
              0.03872670122
             ]
            },
            {
             "iteration": 554,
             "learn": [
              0.01996843119
             ],
             "passed_time": 1.639047624,
             "remaining_time": 1.314191338,
             "test": [
              0.03872446712
             ]
            },
            {
             "iteration": 555,
             "learn": [
              0.01994467812
             ],
             "passed_time": 1.641653747,
             "remaining_time": 1.310960906,
             "test": [
              0.03872135866
             ]
            },
            {
             "iteration": 556,
             "learn": [
              0.01992851908
             ],
             "passed_time": 1.644520517,
             "remaining_time": 1.307940016,
             "test": [
              0.03871604344
             ]
            },
            {
             "iteration": 557,
             "learn": [
              0.01990398038
             ],
             "passed_time": 1.647237808,
             "remaining_time": 1.304801274,
             "test": [
              0.03871019824
             ]
            },
            {
             "iteration": 558,
             "learn": [
              0.01987661106
             ],
             "passed_time": 1.64992059,
             "remaining_time": 1.301636816,
             "test": [
              0.03872374996
             ]
            },
            {
             "iteration": 559,
             "learn": [
              0.01986231749
             ],
             "passed_time": 1.652656115,
             "remaining_time": 1.298515519,
             "test": [
              0.0387309407
             ]
            },
            {
             "iteration": 560,
             "learn": [
              0.01985127211
             ],
             "passed_time": 1.655282195,
             "remaining_time": 1.295309953,
             "test": [
              0.03872528104
             ]
            },
            {
             "iteration": 561,
             "learn": [
              0.01980728019
             ],
             "passed_time": 1.658058327,
             "remaining_time": 1.292223394,
             "test": [
              0.0387143714
             ]
            },
            {
             "iteration": 562,
             "learn": [
              0.01978893446
             ],
             "passed_time": 1.660817302,
             "remaining_time": 1.28912462,
             "test": [
              0.03871569771
             ]
            },
            {
             "iteration": 563,
             "learn": [
              0.01974955252
             ],
             "passed_time": 1.663580286,
             "remaining_time": 1.28603015,
             "test": [
              0.03870022963
             ]
            },
            {
             "iteration": 564,
             "learn": [
              0.01972068056
             ],
             "passed_time": 1.666310901,
             "remaining_time": 1.282911933,
             "test": [
              0.03869368215
             ]
            },
            {
             "iteration": 565,
             "learn": [
              0.019685479
             ],
             "passed_time": 1.669067363,
             "remaining_time": 1.279814904,
             "test": [
              0.0386755685
             ]
            },
            {
             "iteration": 566,
             "learn": [
              0.01966305032
             ],
             "passed_time": 1.671837331,
             "remaining_time": 1.27672939,
             "test": [
              0.03865981211
             ]
            },
            {
             "iteration": 567,
             "learn": [
              0.01964751521
             ],
             "passed_time": 1.674562602,
             "remaining_time": 1.273610993,
             "test": [
              0.0386565891
             ]
            },
            {
             "iteration": 568,
             "learn": [
              0.01961536537
             ],
             "passed_time": 1.67732938,
             "remaining_time": 1.270525418,
             "test": [
              0.03864665579
             ]
            },
            {
             "iteration": 569,
             "learn": [
              0.01959120133
             ],
             "passed_time": 1.680046853,
             "remaining_time": 1.267403766,
             "test": [
              0.0386376386
             ]
            },
            {
             "iteration": 570,
             "learn": [
              0.01957180702
             ],
             "passed_time": 1.682712407,
             "remaining_time": 1.264244523,
             "test": [
              0.03864095903
             ]
            },
            {
             "iteration": 571,
             "learn": [
              0.01954497334
             ],
             "passed_time": 1.68546609,
             "remaining_time": 1.261152948,
             "test": [
              0.03863713484
             ]
            },
            {
             "iteration": 572,
             "learn": [
              0.01950656772
             ],
             "passed_time": 1.688192827,
             "remaining_time": 1.258042473,
             "test": [
              0.03862917217
             ]
            },
            {
             "iteration": 573,
             "learn": [
              0.01949664827
             ],
             "passed_time": 1.690729448,
             "remaining_time": 1.254792239,
             "test": [
              0.03862914361
             ]
            },
            {
             "iteration": 574,
             "learn": [
              0.01947074258
             ],
             "passed_time": 1.693392607,
             "remaining_time": 1.251638014,
             "test": [
              0.03863431232
             ]
            },
            {
             "iteration": 575,
             "learn": [
              0.01945547596
             ],
             "passed_time": 1.696032571,
             "remaining_time": 1.248468421,
             "test": [
              0.03862926779
             ]
            },
            {
             "iteration": 576,
             "learn": [
              0.01943347259
             ],
             "passed_time": 1.69884287,
             "remaining_time": 1.245425536,
             "test": [
              0.03863499664
             ]
            },
            {
             "iteration": 577,
             "learn": [
              0.01939871726
             ],
             "passed_time": 1.701715557,
             "remaining_time": 1.242429005,
             "test": [
              0.0386251538
             ]
            },
            {
             "iteration": 578,
             "learn": [
              0.01937346113
             ],
             "passed_time": 1.704494702,
             "remaining_time": 1.239364887,
             "test": [
              0.03861611129
             ]
            },
            {
             "iteration": 579,
             "learn": [
              0.01935264518
             ],
             "passed_time": 1.70737648,
             "remaining_time": 1.236376072,
             "test": [
              0.03860771347
             ]
            },
            {
             "iteration": 580,
             "learn": [
              0.01933280871
             ],
             "passed_time": 1.710037606,
             "remaining_time": 1.233228498,
             "test": [
              0.03860578972
             ]
            },
            {
             "iteration": 581,
             "learn": [
              0.01932045662
             ],
             "passed_time": 1.712873616,
             "remaining_time": 1.230208199,
             "test": [
              0.03860754825
             ]
            },
            {
             "iteration": 582,
             "learn": [
              0.01930705979
             ],
             "passed_time": 1.715717103,
             "remaining_time": 1.22719388,
             "test": [
              0.03860034233
             ]
            },
            {
             "iteration": 583,
             "learn": [
              0.01927617876
             ],
             "passed_time": 1.718608454,
             "remaining_time": 1.224214242,
             "test": [
              0.03859750411
             ]
            },
            {
             "iteration": 584,
             "learn": [
              0.01926759968
             ],
             "passed_time": 1.721434086,
             "remaining_time": 1.221188283,
             "test": [
              0.03858662264
             ]
            },
            {
             "iteration": 585,
             "learn": [
              0.01924533538
             ],
             "passed_time": 1.724505999,
             "remaining_time": 1.218337003,
             "test": [
              0.03858348351
             ]
            },
            {
             "iteration": 586,
             "learn": [
              0.01921951264
             ],
             "passed_time": 1.72744183,
             "remaining_time": 1.215389227,
             "test": [
              0.0385792266
             ]
            },
            {
             "iteration": 587,
             "learn": [
              0.01920135339
             ],
             "passed_time": 1.73028061,
             "remaining_time": 1.212373489,
             "test": [
              0.03856785669
             ]
            },
            {
             "iteration": 588,
             "learn": [
              0.01918010059
             ],
             "passed_time": 1.734050055,
             "remaining_time": 1.210007763,
             "test": [
              0.03856346457
             ]
            },
            {
             "iteration": 589,
             "learn": [
              0.01914825589
             ],
             "passed_time": 1.737643982,
             "remaining_time": 1.207515309,
             "test": [
              0.03854307545
             ]
            },
            {
             "iteration": 590,
             "learn": [
              0.01910215022
             ],
             "passed_time": 1.740352268,
             "remaining_time": 1.204406223,
             "test": [
              0.03852501667
             ]
            },
            {
             "iteration": 591,
             "learn": [
              0.01908265545
             ],
             "passed_time": 1.74300193,
             "remaining_time": 1.201258087,
             "test": [
              0.0385251151
             ]
            },
            {
             "iteration": 592,
             "learn": [
              0.0190667086
             ],
             "passed_time": 1.745765459,
             "remaining_time": 1.198189784,
             "test": [
              0.03852852453
             ]
            },
            {
             "iteration": 593,
             "learn": [
              0.01904490271
             ],
             "passed_time": 1.748484033,
             "remaining_time": 1.19509178,
             "test": [
              0.03852327205
             ]
            },
            {
             "iteration": 594,
             "learn": [
              0.0190116504
             ],
             "passed_time": 1.751250019,
             "remaining_time": 1.192027324,
             "test": [
              0.03851568717
             ]
            },
            {
             "iteration": 595,
             "learn": [
              0.01898459665
             ],
             "passed_time": 1.75392829,
             "remaining_time": 1.188904411,
             "test": [
              0.03852088997
             ]
            },
            {
             "iteration": 596,
             "learn": [
              0.01896306768
             ],
             "passed_time": 1.756573108,
             "remaining_time": 1.185760406,
             "test": [
              0.03851433405
             ]
            },
            {
             "iteration": 597,
             "learn": [
              0.0189345239
             ],
             "passed_time": 1.759261398,
             "remaining_time": 1.182647294,
             "test": [
              0.03850641649
             ]
            },
            {
             "iteration": 598,
             "learn": [
              0.01891295736
             ],
             "passed_time": 1.761934676,
             "remaining_time": 1.179525551,
             "test": [
              0.03849119022
             ]
            },
            {
             "iteration": 599,
             "learn": [
              0.01888695352
             ],
             "passed_time": 1.764739501,
             "remaining_time": 1.176493001,
             "test": [
              0.03849876719
             ]
            },
            {
             "iteration": 600,
             "learn": [
              0.01884605791
             ],
             "passed_time": 1.767482973,
             "remaining_time": 1.173420476,
             "test": [
              0.0384824637
             ]
            },
            {
             "iteration": 601,
             "learn": [
              0.01882966822
             ],
             "passed_time": 1.770120631,
             "remaining_time": 1.170279089,
             "test": [
              0.03847144054
             ]
            },
            {
             "iteration": 602,
             "learn": [
              0.01878304867
             ],
             "passed_time": 1.772911351,
             "remaining_time": 1.167240143,
             "test": [
              0.03846493899
             ]
            },
            {
             "iteration": 603,
             "learn": [
              0.01874423022
             ],
             "passed_time": 1.775631399,
             "remaining_time": 1.164155685,
             "test": [
              0.03845026599
             ]
            },
            {
             "iteration": 604,
             "learn": [
              0.01871102341
             ],
             "passed_time": 1.778460557,
             "remaining_time": 1.16114367,
             "test": [
              0.03843866279
             ]
            },
            {
             "iteration": 605,
             "learn": [
              0.01870423176
             ],
             "passed_time": 1.781101264,
             "remaining_time": 1.158009733,
             "test": [
              0.03843239287
             ]
            },
            {
             "iteration": 606,
             "learn": [
              0.01869285538
             ],
             "passed_time": 1.783796272,
             "remaining_time": 1.154912578,
             "test": [
              0.03844115699
             ]
            },
            {
             "iteration": 607,
             "learn": [
              0.01867379691
             ],
             "passed_time": 1.786549377,
             "remaining_time": 1.151854204,
             "test": [
              0.03843598704
             ]
            },
            {
             "iteration": 608,
             "learn": [
              0.01864794178
             ],
             "passed_time": 1.789320315,
             "remaining_time": 1.148808281,
             "test": [
              0.03842179976
             ]
            },
            {
             "iteration": 609,
             "learn": [
              0.01861210211
             ],
             "passed_time": 1.792112517,
             "remaining_time": 1.145776855,
             "test": [
              0.03840640991
             ]
            },
            {
             "iteration": 610,
             "learn": [
              0.01858768148
             ],
             "passed_time": 1.794697841,
             "remaining_time": 1.142614501,
             "test": [
              0.03839845096
             ]
            },
            {
             "iteration": 611,
             "learn": [
              0.01857566765
             ],
             "passed_time": 1.797462526,
             "remaining_time": 1.139567745,
             "test": [
              0.0383985791
             ]
            },
            {
             "iteration": 612,
             "learn": [
              0.01855268659
             ],
             "passed_time": 1.800308221,
             "remaining_time": 1.136573053,
             "test": [
              0.03840067394
             ]
            },
            {
             "iteration": 613,
             "learn": [
              0.01852280439
             ],
             "passed_time": 1.803093414,
             "remaining_time": 1.133540811,
             "test": [
              0.03839400669
             ]
            },
            {
             "iteration": 614,
             "learn": [
              0.01849257533
             ],
             "passed_time": 1.805830092,
             "remaining_time": 1.130479001,
             "test": [
              0.03838375781
             ]
            },
            {
             "iteration": 615,
             "learn": [
              0.01845086455
             ],
             "passed_time": 1.808525717,
             "remaining_time": 1.127392655,
             "test": [
              0.03837358216
             ]
            },
            {
             "iteration": 616,
             "learn": [
              0.01841220234
             ],
             "passed_time": 1.811128594,
             "remaining_time": 1.124250003,
             "test": [
              0.03837210845
             ]
            },
            {
             "iteration": 617,
             "learn": [
              0.01839872471
             ],
             "passed_time": 1.81380293,
             "remaining_time": 1.121153268,
             "test": [
              0.03837587563
             ]
            },
            {
             "iteration": 618,
             "learn": [
              0.01838745812
             ],
             "passed_time": 1.816580047,
             "remaining_time": 1.11812116,
             "test": [
              0.03837029738
             ]
            },
            {
             "iteration": 619,
             "learn": [
              0.01837656419
             ],
             "passed_time": 1.819324858,
             "remaining_time": 1.115070074,
             "test": [
              0.03836991831
             ]
            },
            {
             "iteration": 620,
             "learn": [
              0.01835625969
             ],
             "passed_time": 1.822100265,
             "remaining_time": 1.112038648,
             "test": [
              0.03835777763
             ]
            },
            {
             "iteration": 621,
             "learn": [
              0.01833897006
             ],
             "passed_time": 1.824895436,
             "remaining_time": 1.109020056,
             "test": [
              0.03836121203
             ]
            },
            {
             "iteration": 622,
             "learn": [
              0.01831174919
             ],
             "passed_time": 1.827802813,
             "remaining_time": 1.106070081,
             "test": [
              0.03835326122
             ]
            },
            {
             "iteration": 623,
             "learn": [
              0.01830089894
             ],
             "passed_time": 1.830676538,
             "remaining_time": 1.103099965,
             "test": [
              0.0383525259
             ]
            },
            {
             "iteration": 624,
             "learn": [
              0.01826636321
             ],
             "passed_time": 1.83334315,
             "remaining_time": 1.10000589,
             "test": [
              0.03836474787
             ]
            },
            {
             "iteration": 625,
             "learn": [
              0.01824688537
             ],
             "passed_time": 1.83605594,
             "remaining_time": 1.096940769,
             "test": [
              0.03835823636
             ]
            },
            {
             "iteration": 626,
             "learn": [
              0.01823223612
             ],
             "passed_time": 1.838714142,
             "remaining_time": 1.093844298,
             "test": [
              0.03835115278
             ]
            },
            {
             "iteration": 627,
             "learn": [
              0.01821008965
             ],
             "passed_time": 1.841457257,
             "remaining_time": 1.090799522,
             "test": [
              0.03834894001
             ]
            },
            {
             "iteration": 628,
             "learn": [
              0.01816535455
             ],
             "passed_time": 1.844261909,
             "remaining_time": 1.087792,
             "test": [
              0.03834889681
             ]
            },
            {
             "iteration": 629,
             "learn": [
              0.01813022588
             ],
             "passed_time": 1.846844511,
             "remaining_time": 1.084654713,
             "test": [
              0.03833862549
             ]
            },
            {
             "iteration": 630,
             "learn": [
              0.01811374313
             ],
             "passed_time": 1.849451761,
             "remaining_time": 1.081533597,
             "test": [
              0.03833897287
             ]
            },
            {
             "iteration": 631,
             "learn": [
              0.01810619243
             ],
             "passed_time": 1.852133759,
             "remaining_time": 1.078457632,
             "test": [
              0.03833719387
             ]
            },
            {
             "iteration": 632,
             "learn": [
              0.01809427849
             ],
             "passed_time": 1.854925869,
             "remaining_time": 1.075446752,
             "test": [
              0.03833947128
             ]
            },
            {
             "iteration": 633,
             "learn": [
              0.01806996721
             ],
             "passed_time": 1.857630761,
             "remaining_time": 1.072386212,
             "test": [
              0.03835957635
             ]
            },
            {
             "iteration": 634,
             "learn": [
              0.01805851393
             ],
             "passed_time": 1.860333576,
             "remaining_time": 1.069325599,
             "test": [
              0.03835507621
             ]
            },
            {
             "iteration": 635,
             "learn": [
              0.0180437727
             ],
             "passed_time": 1.863047742,
             "remaining_time": 1.066272607,
             "test": [
              0.03835257965
             ]
            },
            {
             "iteration": 636,
             "learn": [
              0.01801912739
             ],
             "passed_time": 1.865852529,
             "remaining_time": 1.06327232,
             "test": [
              0.03835144838
             ]
            },
            {
             "iteration": 637,
             "learn": [
              0.0180106117
             ],
             "passed_time": 1.868534043,
             "remaining_time": 1.060202702,
             "test": [
              0.03834703649
             ]
            },
            {
             "iteration": 638,
             "learn": [
              0.01798868436
             ],
             "passed_time": 1.871366051,
             "remaining_time": 1.057219318,
             "test": [
              0.03834039569
             ]
            },
            {
             "iteration": 639,
             "learn": [
              0.01795465577
             ],
             "passed_time": 1.874232246,
             "remaining_time": 1.054255638,
             "test": [
              0.03832349513
             ]
            },
            {
             "iteration": 640,
             "learn": [
              0.01791239547
             ],
             "passed_time": 1.877120433,
             "remaining_time": 1.051304579,
             "test": [
              0.03831804112
             ]
            },
            {
             "iteration": 641,
             "learn": [
              0.01789912681
             ],
             "passed_time": 1.87984135,
             "remaining_time": 1.048260441,
             "test": [
              0.03831470825
             ]
            },
            {
             "iteration": 642,
             "learn": [
              0.01787834515
             ],
             "passed_time": 1.882537991,
             "remaining_time": 1.04520383,
             "test": [
              0.0383093786
             ]
            },
            {
             "iteration": 643,
             "learn": [
              0.01786332478
             ],
             "passed_time": 1.902897145,
             "remaining_time": 1.051912087,
             "test": [
              0.03830505672
             ]
            },
            {
             "iteration": 644,
             "learn": [
              0.01783989157
             ],
             "passed_time": 1.905565007,
             "remaining_time": 1.048799345,
             "test": [
              0.03830436516
             ]
            },
            {
             "iteration": 645,
             "learn": [
              0.01781630016
             ],
             "passed_time": 1.908203479,
             "remaining_time": 1.045671875,
             "test": [
              0.03829511937
             ]
            },
            {
             "iteration": 646,
             "learn": [
              0.01780267417
             ],
             "passed_time": 1.910842417,
             "remaining_time": 1.042546172,
             "test": [
              0.03829371195
             ]
            },
            {
             "iteration": 647,
             "learn": [
              0.0177911519
             ],
             "passed_time": 1.913466432,
             "remaining_time": 1.039413864,
             "test": [
              0.03829060773
             ]
            },
            {
             "iteration": 648,
             "learn": [
              0.01777044463
             ],
             "passed_time": 1.916524402,
             "remaining_time": 1.03651782,
             "test": [
              0.03828567173
             ]
            },
            {
             "iteration": 649,
             "learn": [
              0.01775224252
             ],
             "passed_time": 1.919481479,
             "remaining_time": 1.03356695,
             "test": [
              0.03828590603
             ]
            },
            {
             "iteration": 650,
             "learn": [
              0.01772711131
             ],
             "passed_time": 1.922486656,
             "remaining_time": 1.030641848,
             "test": [
              0.03828015784
             ]
            },
            {
             "iteration": 651,
             "learn": [
              0.01771343595
             ],
             "passed_time": 1.926371914,
             "remaining_time": 1.028186236,
             "test": [
              0.03828254974
             ]
            },
            {
             "iteration": 652,
             "learn": [
              0.01768823329
             ],
             "passed_time": 1.930013696,
             "remaining_time": 1.025596865,
             "test": [
              0.03827517142
             ]
            },
            {
             "iteration": 653,
             "learn": [
              0.01767486819
             ],
             "passed_time": 1.932593308,
             "remaining_time": 1.022442331,
             "test": [
              0.0382692445
             ]
            },
            {
             "iteration": 654,
             "learn": [
              0.01763886994
             ],
             "passed_time": 1.93542072,
             "remaining_time": 1.019420074,
             "test": [
              0.03826484033
             ]
            },
            {
             "iteration": 655,
             "learn": [
              0.01761329962
             ],
             "passed_time": 1.938080506,
             "remaining_time": 1.016310509,
             "test": [
              0.03825764398
             ]
            },
            {
             "iteration": 656,
             "learn": [
              0.01757941563
             ],
             "passed_time": 1.940775185,
             "remaining_time": 1.013220531,
             "test": [
              0.03825667096
             ]
            },
            {
             "iteration": 657,
             "learn": [
              0.01756407094
             ],
             "passed_time": 1.943561069,
             "remaining_time": 1.010179157,
             "test": [
              0.03824873621
             ]
            },
            {
             "iteration": 658,
             "learn": [
              0.0175495051
             ],
             "passed_time": 1.946242571,
             "remaining_time": 1.007084547,
             "test": [
              0.03825248428
             ]
            },
            {
             "iteration": 659,
             "learn": [
              0.01753198072
             ],
             "passed_time": 1.948971996,
             "remaining_time": 1.004015876,
             "test": [
              0.0382495957
             ]
            },
            {
             "iteration": 660,
             "learn": [
              0.0175192208
             ],
             "passed_time": 1.951747981,
             "remaining_time": 1.000972111,
             "test": [
              0.03825192001
             ]
            },
            {
             "iteration": 661,
             "learn": [
              0.01748788595
             ],
             "passed_time": 1.954469919,
             "remaining_time": 0.9979015601,
             "test": [
              0.03824665695
             ]
            },
            {
             "iteration": 662,
             "learn": [
              0.01747296368
             ],
             "passed_time": 1.957165066,
             "remaining_time": 0.9948184424,
             "test": [
              0.03824208077
             ]
            },
            {
             "iteration": 663,
             "learn": [
              0.01746167513
             ],
             "passed_time": 1.959730656,
             "remaining_time": 0.9916709344,
             "test": [
              0.03823635847
             ]
            },
            {
             "iteration": 664,
             "learn": [
              0.01742528946
             ],
             "passed_time": 1.962399497,
             "remaining_time": 0.9885771904,
             "test": [
              0.03824184225
             ]
            },
            {
             "iteration": 665,
             "learn": [
              0.01741109974
             ],
             "passed_time": 1.965092623,
             "remaining_time": 0.9854969008,
             "test": [
              0.03824190365
             ]
            },
            {
             "iteration": 666,
             "learn": [
              0.01740397269
             ],
             "passed_time": 1.967706708,
             "remaining_time": 0.9823783114,
             "test": [
              0.03824959925
             ]
            },
            {
             "iteration": 667,
             "learn": [
              0.01738500551
             ],
             "passed_time": 1.970470473,
             "remaining_time": 0.9793356243,
             "test": [
              0.03824945072
             ]
            },
            {
             "iteration": 668,
             "learn": [
              0.01736228068
             ],
             "passed_time": 1.973212791,
             "remaining_time": 0.9762831596,
             "test": [
              0.03825057415
             ]
            },
            {
             "iteration": 669,
             "learn": [
              0.01735464317
             ],
             "passed_time": 1.975991256,
             "remaining_time": 0.9732494248,
             "test": [
              0.03824415053
             ]
            },
            {
             "iteration": 670,
             "learn": [
              0.0173313574
             ],
             "passed_time": 1.978713048,
             "remaining_time": 0.9701886627,
             "test": [
              0.03824059143
             ]
            },
            {
             "iteration": 671,
             "learn": [
              0.01730094451
             ],
             "passed_time": 1.981673681,
             "remaining_time": 0.9672454871,
             "test": [
              0.03823392708
             ]
            },
            {
             "iteration": 672,
             "learn": [
              0.01727932916
             ],
             "passed_time": 1.984310041,
             "remaining_time": 0.9641447005,
             "test": [
              0.03823334494
             ]
            },
            {
             "iteration": 673,
             "learn": [
              0.01726495634
             ],
             "passed_time": 1.987118336,
             "remaining_time": 0.9611284532,
             "test": [
              0.03823456916
             ]
            },
            {
             "iteration": 674,
             "learn": [
              0.01724045284
             ],
             "passed_time": 1.989883197,
             "remaining_time": 0.9580919097,
             "test": [
              0.03823215841
             ]
            },
            {
             "iteration": 675,
             "learn": [
              0.01721180459
             ],
             "passed_time": 1.992575963,
             "remaining_time": 0.9550216154,
             "test": [
              0.03822635787
             ]
            },
            {
             "iteration": 676,
             "learn": [
              0.01718458437
             ],
             "passed_time": 1.995466149,
             "remaining_time": 0.9520466266,
             "test": [
              0.03822538717
             ]
            },
            {
             "iteration": 677,
             "learn": [
              0.01716381231
             ],
             "passed_time": 1.998278492,
             "remaining_time": 0.9490349181,
             "test": [
              0.03820858804
             ]
            },
            {
             "iteration": 678,
             "learn": [
              0.01715992485
             ],
             "passed_time": 2.001112831,
             "remaining_time": 0.9460341954,
             "test": [
              0.0382089792
             ]
            },
            {
             "iteration": 679,
             "learn": [
              0.01714404469
             ],
             "passed_time": 2.003755665,
             "remaining_time": 0.9429438423,
             "test": [
              0.03820965934
             ]
            },
            {
             "iteration": 680,
             "learn": [
              0.01713559608
             ],
             "passed_time": 2.006381935,
             "remaining_time": 0.9398470443,
             "test": [
              0.03821018401
             ]
            },
            {
             "iteration": 681,
             "learn": [
              0.01712804553
             ],
             "passed_time": 2.009078983,
             "remaining_time": 0.9367846282,
             "test": [
              0.0382094119
             ]
            },
            {
             "iteration": 682,
             "learn": [
              0.01710675859
             ],
             "passed_time": 2.011795442,
             "remaining_time": 0.9337322916,
             "test": [
              0.03821071752
             ]
            },
            {
             "iteration": 683,
             "learn": [
              0.01709116347
             ],
             "passed_time": 2.014514486,
             "remaining_time": 0.9306821309,
             "test": [
              0.03821564151
             ]
            },
            {
             "iteration": 684,
             "learn": [
              0.01707579504
             ],
             "passed_time": 2.017286909,
             "remaining_time": 0.9276574839,
             "test": [
              0.03821541821
             ]
            },
            {
             "iteration": 685,
             "learn": [
              0.01705505769
             ],
             "passed_time": 2.019938367,
             "remaining_time": 0.9245782029,
             "test": [
              0.03820301005
             ]
            },
            {
             "iteration": 686,
             "learn": [
              0.01703319942
             ],
             "passed_time": 2.02268157,
             "remaining_time": 0.9215419672,
             "test": [
              0.03818650834
             ]
            },
            {
             "iteration": 687,
             "learn": [
              0.01701591011
             ],
             "passed_time": 2.025348749,
             "remaining_time": 0.9184721073,
             "test": [
              0.03817447794
             ]
            },
            {
             "iteration": 688,
             "learn": [
              0.01698584869
             ],
             "passed_time": 2.028218762,
             "remaining_time": 0.9154949711,
             "test": [
              0.03817580402
             ]
            },
            {
             "iteration": 689,
             "learn": [
              0.01697351613
             ],
             "passed_time": 2.030909895,
             "remaining_time": 0.9124377789,
             "test": [
              0.03817603116
             ]
            },
            {
             "iteration": 690,
             "learn": [
              0.0169506487
             ],
             "passed_time": 2.033566505,
             "remaining_time": 0.9093662084,
             "test": [
              0.03818286527
             ]
            },
            {
             "iteration": 691,
             "learn": [
              0.01693412528
             ],
             "passed_time": 2.036252634,
             "remaining_time": 0.9063089757,
             "test": [
              0.03818218907
             ]
            },
            {
             "iteration": 692,
             "learn": [
              0.01690563263
             ],
             "passed_time": 2.038903523,
             "remaining_time": 0.9032372029,
             "test": [
              0.03817764888
             ]
            },
            {
             "iteration": 693,
             "learn": [
              0.01689535303
             ],
             "passed_time": 2.041480831,
             "remaining_time": 0.9001341995,
             "test": [
              0.03817963541
             ]
            },
            {
             "iteration": 694,
             "learn": [
              0.01688723715
             ],
             "passed_time": 2.044183416,
             "remaining_time": 0.8970876861,
             "test": [
              0.03818047023
             ]
            },
            {
             "iteration": 695,
             "learn": [
              0.01686481305
             ],
             "passed_time": 2.047124634,
             "remaining_time": 0.8941463919,
             "test": [
              0.03818084535
             ]
            },
            {
             "iteration": 696,
             "learn": [
              0.01684317154
             ],
             "passed_time": 2.049936398,
             "remaining_time": 0.8911488214,
             "test": [
              0.03818029248
             ]
            },
            {
             "iteration": 697,
             "learn": [
              0.01683829471
             ],
             "passed_time": 2.052799693,
             "remaining_time": 0.8881740792,
             "test": [
              0.03818149921
             ]
            },
            {
             "iteration": 698,
             "learn": [
              0.01682292149
             ],
             "passed_time": 2.055513383,
             "remaining_time": 0.8851352335,
             "test": [
              0.03818168404
             ]
            },
            {
             "iteration": 699,
             "learn": [
              0.01680560998
             ],
             "passed_time": 2.058433291,
             "remaining_time": 0.8821856962,
             "test": [
              0.03817811296
             ]
            },
            {
             "iteration": 700,
             "learn": [
              0.01679455155
             ],
             "passed_time": 2.06134844,
             "remaining_time": 0.8792342133,
             "test": [
              0.03818119455
             ]
            },
            {
             "iteration": 701,
             "learn": [
              0.01676699217
             ],
             "passed_time": 2.064397125,
             "remaining_time": 0.8763395202,
             "test": [
              0.0381694907
             ]
            },
            {
             "iteration": 702,
             "learn": [
              0.01675153983
             ],
             "passed_time": 2.067009246,
             "remaining_time": 0.8732599518,
             "test": [
              0.03816506402
             ]
            },
            {
             "iteration": 703,
             "learn": [
              0.01674647092
             ],
             "passed_time": 2.069713962,
             "remaining_time": 0.870220643,
             "test": [
              0.03816393403
             ]
            },
            {
             "iteration": 704,
             "learn": [
              0.01670470132
             ],
             "passed_time": 2.072559011,
             "remaining_time": 0.8672410045,
             "test": [
              0.03815399614
             ]
            },
            {
             "iteration": 705,
             "learn": [
              0.0166604303
             ],
             "passed_time": 2.075505447,
             "remaining_time": 0.8643039681,
             "test": [
              0.03814283283
             ]
            },
            {
             "iteration": 706,
             "learn": [
              0.01664346444
             ],
             "passed_time": 2.078294264,
             "remaining_time": 0.8613015833,
             "test": [
              0.03813837548
             ]
            },
            {
             "iteration": 707,
             "learn": [
              0.01662063588
             ],
             "passed_time": 2.081069767,
             "remaining_time": 0.8582943105,
             "test": [
              0.0381346347
             ]
            },
            {
             "iteration": 708,
             "learn": [
              0.01660358552
             ],
             "passed_time": 2.083721965,
             "remaining_time": 0.855237083,
             "test": [
              0.03813571653
             ]
            },
            {
             "iteration": 709,
             "learn": [
              0.01659205618
             ],
             "passed_time": 2.086567287,
             "remaining_time": 0.8522598779,
             "test": [
              0.03813524661
             ]
            },
            {
             "iteration": 710,
             "learn": [
              0.01657583692
             ],
             "passed_time": 2.089429141,
             "remaining_time": 0.8492897634,
             "test": [
              0.03813374371
             ]
            },
            {
             "iteration": 711,
             "learn": [
              0.01655965718
             ],
             "passed_time": 2.092186389,
             "remaining_time": 0.8462776404,
             "test": [
              0.03812670622
             ]
            },
            {
             "iteration": 712,
             "learn": [
              0.01655273019
             ],
             "passed_time": 2.094900044,
             "remaining_time": 0.8432486851,
             "test": [
              0.03812664938
             ]
            },
            {
             "iteration": 713,
             "learn": [
              0.01654183158
             ],
             "passed_time": 2.09751793,
             "remaining_time": 0.8401822521,
             "test": [
              0.0381241171
             ]
            },
            {
             "iteration": 714,
             "learn": [
              0.01652225142
             ],
             "passed_time": 2.100185343,
             "remaining_time": 0.8371368149,
             "test": [
              0.03812640544
             ]
            },
            {
             "iteration": 715,
             "learn": [
              0.01651321471
             ],
             "passed_time": 2.10286594,
             "remaining_time": 0.8340976635,
             "test": [
              0.03812444912
             ]
            },
            {
             "iteration": 716,
             "learn": [
              0.01648892355
             ],
             "passed_time": 2.105650782,
             "remaining_time": 0.8311006574,
             "test": [
              0.03811285545
             ]
            },
            {
             "iteration": 717,
             "learn": [
              0.01646370873
             ],
             "passed_time": 2.108483379,
             "remaining_time": 0.8281229984,
             "test": [
              0.03810903662
             ]
            },
            {
             "iteration": 718,
             "learn": [
              0.01643956174
             ],
             "passed_time": 2.11119833,
             "remaining_time": 0.8250997645,
             "test": [
              0.03810649849
             ]
            },
            {
             "iteration": 719,
             "learn": [
              0.01642031941
             ],
             "passed_time": 2.113908082,
             "remaining_time": 0.8220753653,
             "test": [
              0.03810471318
             ]
            },
            {
             "iteration": 720,
             "learn": [
              0.01640867993
             ],
             "passed_time": 2.117748503,
             "remaining_time": 0.8194893654,
             "test": [
              0.03810710377
             ]
            },
            {
             "iteration": 721,
             "learn": [
              0.01639962269
             ],
             "passed_time": 2.121433172,
             "remaining_time": 0.8168399194,
             "test": [
              0.03811178374
             ]
            },
            {
             "iteration": 722,
             "learn": [
              0.01638236342
             ],
             "passed_time": 2.124352577,
             "remaining_time": 0.8138944173,
             "test": [
              0.03810682112
             ]
            },
            {
             "iteration": 723,
             "learn": [
              0.01636055912
             ],
             "passed_time": 2.127292042,
             "remaining_time": 0.8109566347,
             "test": [
              0.03810811091
             ]
            },
            {
             "iteration": 724,
             "learn": [
              0.01632126093
             ],
             "passed_time": 2.130365117,
             "remaining_time": 0.8080695273,
             "test": [
              0.038093313
             ]
            },
            {
             "iteration": 725,
             "learn": [
              0.01629722856
             ],
             "passed_time": 2.133176312,
             "remaining_time": 0.805083071,
             "test": [
              0.03808846526
             ]
            },
            {
             "iteration": 726,
             "learn": [
              0.01627985338
             ],
             "passed_time": 2.135964511,
             "remaining_time": 0.8020884616,
             "test": [
              0.03808971092
             ]
            },
            {
             "iteration": 727,
             "learn": [
              0.01624933769
             ],
             "passed_time": 2.138840677,
             "remaining_time": 0.799127286,
             "test": [
              0.0380898641
             ]
            },
            {
             "iteration": 728,
             "learn": [
              0.01621616546
             ],
             "passed_time": 2.141736067,
             "remaining_time": 0.7961734899,
             "test": [
              0.03807853337
             ]
            },
            {
             "iteration": 729,
             "learn": [
              0.01619865227
             ],
             "passed_time": 2.144395284,
             "remaining_time": 0.7931325024,
             "test": [
              0.03807939797
             ]
            },
            {
             "iteration": 730,
             "learn": [
              0.01618622079
             ],
             "passed_time": 2.147011517,
             "remaining_time": 0.7900767414,
             "test": [
              0.03807788551
             ]
            },
            {
             "iteration": 731,
             "learn": [
              0.01615409001
             ],
             "passed_time": 2.149725886,
             "remaining_time": 0.7870581114,
             "test": [
              0.03808460752
             ]
            },
            {
             "iteration": 732,
             "learn": [
              0.01611847785
             ],
             "passed_time": 2.152423169,
             "remaining_time": 0.7840340876,
             "test": [
              0.03807393314
             ]
            },
            {
             "iteration": 733,
             "learn": [
              0.01608684301
             ],
             "passed_time": 2.155118206,
             "remaining_time": 0.7810101399,
             "test": [
              0.03806344737
             ]
            },
            {
             "iteration": 734,
             "learn": [
              0.01607265436
             ],
             "passed_time": 2.15791519,
             "remaining_time": 0.7780238439,
             "test": [
              0.03806474048
             ]
            },
            {
             "iteration": 735,
             "learn": [
              0.01605846686
             ],
             "passed_time": 2.160566032,
             "remaining_time": 0.7749856418,
             "test": [
              0.03806040436
             ]
            },
            {
             "iteration": 736,
             "learn": [
              0.01603539992
             ],
             "passed_time": 2.163596078,
             "remaining_time": 0.7720838106,
             "test": [
              0.0380610051
             ]
            },
            {
             "iteration": 737,
             "learn": [
              0.01601880832
             ],
             "passed_time": 2.166278853,
             "remaining_time": 0.7690583463,
             "test": [
              0.03805852788
             ]
            },
            {
             "iteration": 738,
             "learn": [
              0.01601616014
             ],
             "passed_time": 2.168949683,
             "remaining_time": 0.7660295905,
             "test": [
              0.0380569376
             ]
            },
            {
             "iteration": 739,
             "learn": [
              0.0160135532
             ],
             "passed_time": 2.171646715,
             "remaining_time": 0.7630110081,
             "test": [
              0.03805751215
             ]
            },
            {
             "iteration": 740,
             "learn": [
              0.01600245737
             ],
             "passed_time": 2.174379372,
             "remaining_time": 0.7600057454,
             "test": [
              0.0380561134
             ]
            },
            {
             "iteration": 741,
             "learn": [
              0.01599550151
             ],
             "passed_time": 2.177079625,
             "remaining_time": 0.7569899506,
             "test": [
              0.03805591012
             ]
            },
            {
             "iteration": 742,
             "learn": [
              0.01597369867
             ],
             "passed_time": 2.179827238,
             "remaining_time": 0.7539913865,
             "test": [
              0.03805969899
             ]
            },
            {
             "iteration": 743,
             "learn": [
              0.01594774395
             ],
             "passed_time": 2.182573061,
             "remaining_time": 0.7509928812,
             "test": [
              0.0380561501
             ]
            },
            {
             "iteration": 744,
             "learn": [
              0.01593439992
             ],
             "passed_time": 2.185362716,
             "remaining_time": 0.7480100572,
             "test": [
              0.03804862498
             ]
            },
            {
             "iteration": 745,
             "learn": [
              0.01590234966
             ],
             "passed_time": 2.188191389,
             "remaining_time": 0.7450410358,
             "test": [
              0.03803899847
             ]
            },
            {
             "iteration": 746,
             "learn": [
              0.01589355042
             ],
             "passed_time": 2.190956168,
             "remaining_time": 0.7420507504,
             "test": [
              0.03803994012
             ]
            },
            {
             "iteration": 747,
             "learn": [
              0.01587718698
             ],
             "passed_time": 2.193657878,
             "remaining_time": 0.7390398199,
             "test": [
              0.03804034258
             ]
            },
            {
             "iteration": 748,
             "learn": [
              0.01586411993
             ],
             "passed_time": 2.196394955,
             "remaining_time": 0.736041567,
             "test": [
              0.03803383086
             ]
            },
            {
             "iteration": 749,
             "learn": [
              0.01584935251
             ],
             "passed_time": 2.199097891,
             "remaining_time": 0.7330326304,
             "test": [
              0.03803006908
             ]
            },
            {
             "iteration": 750,
             "learn": [
              0.0158454661
             ],
             "passed_time": 2.201934555,
             "remaining_time": 0.7300688472,
             "test": [
              0.03802783337
             ]
            },
            {
             "iteration": 751,
             "learn": [
              0.01583134397
             ],
             "passed_time": 2.204768815,
             "remaining_time": 0.7271046091,
             "test": [
              0.03802634933
             ]
            },
            {
             "iteration": 752,
             "learn": [
              0.01580950524
             ],
             "passed_time": 2.207470124,
             "remaining_time": 0.7240971057,
             "test": [
              0.03802610665
             ]
            },
            {
             "iteration": 753,
             "learn": [
              0.01579131949
             ],
             "passed_time": 2.210174015,
             "remaining_time": 0.721091257,
             "test": [
              0.0380247335
             ]
            },
            {
             "iteration": 754,
             "learn": [
              0.01577387285
             ],
             "passed_time": 2.212910146,
             "remaining_time": 0.7180966699,
             "test": [
              0.03802132314
             ]
            },
            {
             "iteration": 755,
             "learn": [
              0.01574693522
             ],
             "passed_time": 2.215682021,
             "remaining_time": 0.715114303,
             "test": [
              0.03802059029
             ]
            },
            {
             "iteration": 756,
             "learn": [
              0.01573084816
             ],
             "passed_time": 2.218324359,
             "remaining_time": 0.7120909105,
             "test": [
              0.03802075081
             ]
            },
            {
             "iteration": 757,
             "learn": [
              0.01571348138
             ],
             "passed_time": 2.220895416,
             "remaining_time": 0.709045766,
             "test": [
              0.03801309734
             ]
            },
            {
             "iteration": 758,
             "learn": [
              0.01568717891
             ],
             "passed_time": 2.223643071,
             "remaining_time": 0.7060579447,
             "test": [
              0.03800323443
             ]
            },
            {
             "iteration": 759,
             "learn": [
              0.01568089903
             ],
             "passed_time": 2.226353768,
             "remaining_time": 0.7030590847,
             "test": [
              0.03800359521
             ]
            },
            {
             "iteration": 760,
             "learn": [
              0.01566199459
             ],
             "passed_time": 2.229192907,
             "remaining_time": 0.7001013204,
             "test": [
              0.03800611264
             ]
            },
            {
             "iteration": 761,
             "learn": [
              0.01563954034
             ],
             "passed_time": 2.231983348,
             "remaining_time": 0.6971286573,
             "test": [
              0.03799616637
             ]
            },
            {
             "iteration": 762,
             "learn": [
              0.01561869542
             ],
             "passed_time": 2.234759164,
             "remaining_time": 0.6941519291,
             "test": [
              0.03800079968
             ]
            },
            {
             "iteration": 763,
             "learn": [
              0.0156111873
             ],
             "passed_time": 2.23740537,
             "remaining_time": 0.6911356901,
             "test": [
              0.03800221719
             ]
            },
            {
             "iteration": 764,
             "learn": [
              0.01559908689
             ],
             "passed_time": 2.240076261,
             "remaining_time": 0.6881280018,
             "test": [
              0.03800149099
             ]
            },
            {
             "iteration": 765,
             "learn": [
              0.01556931947
             ],
             "passed_time": 2.242717686,
             "remaining_time": 0.6851121911,
             "test": [
              0.0379972987
             ]
            },
            {
             "iteration": 766,
             "learn": [
              0.01555068462
             ],
             "passed_time": 2.245454797,
             "remaining_time": 0.6821264246,
             "test": [
              0.03799711886
             ]
            },
            {
             "iteration": 767,
             "learn": [
              0.01554179264
             ],
             "passed_time": 2.248091604,
             "remaining_time": 0.6791110053,
             "test": [
              0.03799290757
             ]
            },
            {
             "iteration": 768,
             "learn": [
              0.01553092085
             ],
             "passed_time": 2.250724611,
             "remaining_time": 0.6760954293,
             "test": [
              0.0379932127
             ]
            },
            {
             "iteration": 769,
             "learn": [
              0.01550417678
             ],
             "passed_time": 2.253474299,
             "remaining_time": 0.6731156996,
             "test": [
              0.03799001025
             ]
            },
            {
             "iteration": 770,
             "learn": [
              0.0154909504
             ],
             "passed_time": 2.256246094,
             "remaining_time": 0.6701431329,
             "test": [
              0.03799107853
             ]
            },
            {
             "iteration": 771,
             "learn": [
              0.01547591057
             ],
             "passed_time": 2.259025957,
             "remaining_time": 0.6671734692,
             "test": [
              0.03798654323
             ]
            },
            {
             "iteration": 772,
             "learn": [
              0.01545173341
             ],
             "passed_time": 2.26184309,
             "remaining_time": 0.6642152412,
             "test": [
              0.03797807136
             ]
            },
            {
             "iteration": 773,
             "learn": [
              0.01543777252
             ],
             "passed_time": 2.264685306,
             "remaining_time": 0.6612647017,
             "test": [
              0.03797367047
             ]
            },
            {
             "iteration": 774,
             "learn": [
              0.01541807271
             ],
             "passed_time": 2.267282648,
             "remaining_time": 0.6582433494,
             "test": [
              0.03797814127
             ]
            },
            {
             "iteration": 775,
             "learn": [
              0.01540955284
             ],
             "passed_time": 2.269958591,
             "remaining_time": 0.6552457788,
             "test": [
              0.03797890322
             ]
            },
            {
             "iteration": 776,
             "learn": [
              0.01539305004
             ],
             "passed_time": 2.272632788,
             "remaining_time": 0.6522485351,
             "test": [
              0.03798131524
             ]
            },
            {
             "iteration": 777,
             "learn": [
              0.01537068914
             ],
             "passed_time": 2.275364167,
             "remaining_time": 0.6492684385,
             "test": [
              0.03797861668
             ]
            },
            {
             "iteration": 778,
             "learn": [
              0.01536523113
             ],
             "passed_time": 2.278226642,
             "remaining_time": 0.6463261719,
             "test": [
              0.03797826925
             ]
            },
            {
             "iteration": 779,
             "learn": [
              0.01536269752
             ],
             "passed_time": 2.280821113,
             "remaining_time": 0.643308519,
             "test": [
              0.03797693427
             ]
            },
            {
             "iteration": 780,
             "learn": [
              0.01534296998
             ],
             "passed_time": 2.283477015,
             "remaining_time": 0.6403091759,
             "test": [
              0.03797111934
             ]
            },
            {
             "iteration": 781,
             "learn": [
              0.0153314554
             ],
             "passed_time": 2.286119323,
             "remaining_time": 0.6373069211,
             "test": [
              0.03796991102
             ]
            },
            {
             "iteration": 782,
             "learn": [
              0.01532137991
             ],
             "passed_time": 2.288736001,
             "remaining_time": 0.634298483,
             "test": [
              0.03796817874
             ]
            },
            {
             "iteration": 783,
             "learn": [
              0.01530111133
             ],
             "passed_time": 2.291491245,
             "remaining_time": 0.6313292205,
             "test": [
              0.03796281818
             ]
            },
            {
             "iteration": 784,
             "learn": [
              0.01526720341
             ],
             "passed_time": 2.294168484,
             "remaining_time": 0.628339139,
             "test": [
              0.03795774187
             ]
            },
            {
             "iteration": 785,
             "learn": [
              0.01524927778
             ],
             "passed_time": 2.296937267,
             "remaining_time": 0.6253747775,
             "test": [
              0.03795837751
             ]
            },
            {
             "iteration": 786,
             "learn": [
              0.01523672497
             ],
             "passed_time": 2.299712111,
             "remaining_time": 0.6224125536,
             "test": [
              0.03795237447
             ]
            },
            {
             "iteration": 787,
             "learn": [
              0.01521898508
             ],
             "passed_time": 2.302457484,
             "remaining_time": 0.6194428764,
             "test": [
              0.03794643452
             ]
            },
            {
             "iteration": 788,
             "learn": [
              0.01520509076
             ],
             "passed_time": 2.305135043,
             "remaining_time": 0.6164556326,
             "test": [
              0.03794479081
             ]
            },
            {
             "iteration": 789,
             "learn": [
              0.01518730164
             ],
             "passed_time": 2.308811752,
             "remaining_time": 0.6137347694,
             "test": [
              0.03794424283
             ]
            },
            {
             "iteration": 790,
             "learn": [
              0.01515524654
             ],
             "passed_time": 2.31301519,
             "remaining_time": 0.6111506634,
             "test": [
              0.03793915274
             ]
            },
            {
             "iteration": 791,
             "learn": [
              0.01513910811
             ],
             "passed_time": 2.31595847,
             "remaining_time": 0.6082315175,
             "test": [
              0.03793491418
             ]
            },
            {
             "iteration": 792,
             "learn": [
              0.01512586674
             ],
             "passed_time": 2.318828718,
             "remaining_time": 0.6052932468,
             "test": [
              0.03792736181
             ]
            },
            {
             "iteration": 793,
             "learn": [
              0.01511107999
             ],
             "passed_time": 2.321609521,
             "remaining_time": 0.6023319413,
             "test": [
              0.0379218209
             ]
            },
            {
             "iteration": 794,
             "learn": [
              0.01510172068
             ],
             "passed_time": 2.32436888,
             "remaining_time": 0.5993655603,
             "test": [
              0.03792620161
             ]
            },
            {
             "iteration": 795,
             "learn": [
              0.01507323079
             ],
             "passed_time": 2.327144894,
             "remaining_time": 0.5964039677,
             "test": [
              0.03790608293
             ]
            },
            {
             "iteration": 796,
             "learn": [
              0.01505904475
             ],
             "passed_time": 2.329809758,
             "remaining_time": 0.5934145305,
             "test": [
              0.03789880726
             ]
            },
            {
             "iteration": 797,
             "learn": [
              0.01504995516
             ],
             "passed_time": 2.33249211,
             "remaining_time": 0.5904303337,
             "test": [
              0.03789665908
             ]
            },
            {
             "iteration": 798,
             "learn": [
              0.0150312159
             ],
             "passed_time": 2.335122885,
             "remaining_time": 0.5874339171,
             "test": [
              0.03790039651
             ]
            },
            {
             "iteration": 799,
             "learn": [
              0.01502757737
             ],
             "passed_time": 2.337716193,
             "remaining_time": 0.5844290483,
             "test": [
              0.03789948185
             ]
            },
            {
             "iteration": 800,
             "learn": [
              0.01501825057
             ],
             "passed_time": 2.340386068,
             "remaining_time": 0.5814442292,
             "test": [
              0.03790166227
             ]
            },
            {
             "iteration": 801,
             "learn": [
              0.01501451464
             ],
             "passed_time": 2.34310035,
             "remaining_time": 0.5784711586,
             "test": [
              0.03789727258
             ]
            },
            {
             "iteration": 802,
             "learn": [
              0.01500232835
             ],
             "passed_time": 2.345852706,
             "remaining_time": 0.5755080735,
             "test": [
              0.03788717022
             ]
            },
            {
             "iteration": 803,
             "learn": [
              0.01498705321
             ],
             "passed_time": 2.348544083,
             "remaining_time": 0.5725306471,
             "test": [
              0.03788741136
             ]
            },
            {
             "iteration": 804,
             "learn": [
              0.01497487532
             ],
             "passed_time": 2.351515922,
             "remaining_time": 0.5696218693,
             "test": [
              0.03788609534
             ]
            },
            {
             "iteration": 805,
             "learn": [
              0.01496478801
             ],
             "passed_time": 2.354174744,
             "remaining_time": 0.5666375935,
             "test": [
              0.03788502741
             ]
            },
            {
             "iteration": 806,
             "learn": [
              0.01494153641
             ],
             "passed_time": 2.356803852,
             "remaining_time": 0.5636470179,
             "test": [
              0.03788290695
             ]
            },
            {
             "iteration": 807,
             "learn": [
              0.01492847888
             ],
             "passed_time": 2.35962119,
             "remaining_time": 0.5607020649,
             "test": [
              0.0378826281
             ]
            },
            {
             "iteration": 808,
             "learn": [
              0.01490517839
             ],
             "passed_time": 2.362212996,
             "remaining_time": 0.5577041808,
             "test": [
              0.03786731089
             ]
            },
            {
             "iteration": 809,
             "learn": [
              0.01488487305
             ],
             "passed_time": 2.364877467,
             "remaining_time": 0.5547243441,
             "test": [
              0.03786067162
             ]
            },
            {
             "iteration": 810,
             "learn": [
              0.01487499761
             ],
             "passed_time": 2.367483017,
             "remaining_time": 0.5517315539,
             "test": [
              0.03786097771
             ]
            },
            {
             "iteration": 811,
             "learn": [
              0.01486917753
             ],
             "passed_time": 2.37012673,
             "remaining_time": 0.5487485534,
             "test": [
              0.03786248219
             ]
            },
            {
             "iteration": 812,
             "learn": [
              0.01485664561
             ],
             "passed_time": 2.372923921,
             "remaining_time": 0.5458016891,
             "test": [
              0.03786215486
             ]
            },
            {
             "iteration": 813,
             "learn": [
              0.01484613505
             ],
             "passed_time": 2.375596792,
             "remaining_time": 0.5428267853,
             "test": [
              0.03786293352
             ]
            },
            {
             "iteration": 814,
             "learn": [
              0.01482304475
             ],
             "passed_time": 2.378327948,
             "remaining_time": 0.5398658532,
             "test": [
              0.03786121341
             ]
            },
            {
             "iteration": 815,
             "learn": [
              0.01481915712
             ],
             "passed_time": 2.381026914,
             "remaining_time": 0.5368982257,
             "test": [
              0.0378617331
             ]
            },
            {
             "iteration": 816,
             "learn": [
              0.01479182613
             ],
             "passed_time": 2.383753196,
             "remaining_time": 0.5339373744,
             "test": [
              0.03784279566
             ]
            },
            {
             "iteration": 817,
             "learn": [
              0.01477938858
             ],
             "passed_time": 2.386403936,
             "remaining_time": 0.530960289,
             "test": [
              0.0378429656
             ]
            },
            {
             "iteration": 818,
             "learn": [
              0.01475749626
             ],
             "passed_time": 2.389238037,
             "remaining_time": 0.5280245234,
             "test": [
              0.03782444378
             ]
            },
            {
             "iteration": 819,
             "learn": [
              0.01475358385
             ],
             "passed_time": 2.392104947,
             "remaining_time": 0.5250962078,
             "test": [
              0.03782427326
             ]
            },
            {
             "iteration": 820,
             "learn": [
              0.01474368431
             ],
             "passed_time": 2.394870483,
             "remaining_time": 0.5221459397,
             "test": [
              0.03782127616
             ]
            },
            {
             "iteration": 821,
             "learn": [
              0.01473508893
             ],
             "passed_time": 2.397391095,
             "remaining_time": 0.5191430837,
             "test": [
              0.03781728933
             ]
            },
            {
             "iteration": 822,
             "learn": [
              0.01472440659
             ],
             "passed_time": 2.399999948,
             "remaining_time": 0.5161603776,
             "test": [
              0.03781632039
             ]
            },
            {
             "iteration": 823,
             "learn": [
              0.01471378349
             ],
             "passed_time": 2.402602238,
             "remaining_time": 0.5131771771,
             "test": [
              0.03782081152
             ]
            },
            {
             "iteration": 824,
             "learn": [
              0.01469295438
             ],
             "passed_time": 2.405369565,
             "remaining_time": 0.5102299077,
             "test": [
              0.0378187202
             ]
            },
            {
             "iteration": 825,
             "learn": [
              0.01467809551
             ],
             "passed_time": 2.408129859,
             "remaining_time": 0.5072815925,
             "test": [
              0.03782026983
             ]
            },
            {
             "iteration": 826,
             "learn": [
              0.01466506764
             ],
             "passed_time": 2.410750687,
             "remaining_time": 0.5043045574,
             "test": [
              0.03782590314
             ]
            },
            {
             "iteration": 827,
             "learn": [
              0.01465528632
             ],
             "passed_time": 2.413394619,
             "remaining_time": 0.5013331818,
             "test": [
              0.03782444486
             ]
            },
            {
             "iteration": 828,
             "learn": [
              0.01464248263
             ],
             "passed_time": 2.416050712,
             "remaining_time": 0.4983651045,
             "test": [
              0.03782830765
             ]
            },
            {
             "iteration": 829,
             "learn": [
              0.01462859504
             ],
             "passed_time": 2.418576738,
             "remaining_time": 0.4953711391,
             "test": [
              0.03782638776
             ]
            },
            {
             "iteration": 830,
             "learn": [
              0.01461393722
             ],
             "passed_time": 2.421141996,
             "remaining_time": 0.4923862783,
             "test": [
              0.03781977584
             ]
            },
            {
             "iteration": 831,
             "learn": [
              0.01460249737
             ],
             "passed_time": 2.423759311,
             "remaining_time": 0.4894129378,
             "test": [
              0.03781787052
             ]
            },
            {
             "iteration": 832,
             "learn": [
              0.01459067038
             ],
             "passed_time": 2.426357072,
             "remaining_time": 0.4864365318,
             "test": [
              0.03781422161
             ]
            },
            {
             "iteration": 833,
             "learn": [
              0.01456590339
             ],
             "passed_time": 2.429124409,
             "remaining_time": 0.4834947865,
             "test": [
              0.0378129751
             ]
            },
            {
             "iteration": 834,
             "learn": [
              0.01454721899
             ],
             "passed_time": 2.431891619,
             "remaining_time": 0.4805534338,
             "test": [
              0.0378020509
             ]
            },
            {
             "iteration": 835,
             "learn": [
              0.0145333259
             ],
             "passed_time": 2.434671819,
             "remaining_time": 0.4776150459,
             "test": [
              0.03779747219
             ]
            },
            {
             "iteration": 836,
             "learn": [
              0.01453020198
             ],
             "passed_time": 2.437290703,
             "remaining_time": 0.4746456208,
             "test": [
              0.03779814928
             ]
            },
            {
             "iteration": 837,
             "learn": [
              0.01452499531
             ],
             "passed_time": 2.44003012,
             "remaining_time": 0.4717003335,
             "test": [
              0.03780079367
             ]
            },
            {
             "iteration": 838,
             "learn": [
              0.01449527778
             ],
             "passed_time": 2.442708735,
             "remaining_time": 0.4687438692,
             "test": [
              0.03779664895
             ]
            },
            {
             "iteration": 839,
             "learn": [
              0.01447157402
             ],
             "passed_time": 2.445519071,
             "remaining_time": 0.4658131564,
             "test": [
              0.03778876128
             ]
            },
            {
             "iteration": 840,
             "learn": [
              0.01445476469
             ],
             "passed_time": 2.448233531,
             "remaining_time": 0.4628646034,
             "test": [
              0.03778662183
             ]
            },
            {
             "iteration": 841,
             "learn": [
              0.01444088676
             ],
             "passed_time": 2.450985196,
             "remaining_time": 0.4599235879,
             "test": [
              0.03778024649
             ]
            },
            {
             "iteration": 842,
             "learn": [
              0.01442911781
             ],
             "passed_time": 2.453784697,
             "remaining_time": 0.4569919306,
             "test": [
              0.03778234954
             ]
            },
            {
             "iteration": 843,
             "learn": [
              0.01440052905
             ],
             "passed_time": 2.456484557,
             "remaining_time": 0.4540421693,
             "test": [
              0.03778405411
             ]
            },
            {
             "iteration": 844,
             "learn": [
              0.01438961365
             ],
             "passed_time": 2.459201544,
             "remaining_time": 0.4510961412,
             "test": [
              0.03778325845
             ]
            },
            {
             "iteration": 845,
             "learn": [
              0.01437957474
             ],
             "passed_time": 2.461808533,
             "remaining_time": 0.4481306314,
             "test": [
              0.0377865349
             ]
            },
            {
             "iteration": 846,
             "learn": [
              0.0143681406
             ],
             "passed_time": 2.464566627,
             "remaining_time": 0.4451932633,
             "test": [
              0.03777818484
             ]
            },
            {
             "iteration": 847,
             "learn": [
              0.01435748782
             ],
             "passed_time": 2.46716006,
             "remaining_time": 0.4422268032,
             "test": [
              0.03777959145
             ]
            },
            {
             "iteration": 848,
             "learn": [
              0.01434432654
             ],
             "passed_time": 2.469795116,
             "remaining_time": 0.4392686248,
             "test": [
              0.0377745017
             ]
            },
            {
             "iteration": 849,
             "learn": [
              0.01431960999
             ],
             "passed_time": 2.472587789,
             "remaining_time": 0.4363390216,
             "test": [
              0.03777452027
             ]
            },
            {
             "iteration": 850,
             "learn": [
              0.01431237485
             ],
             "passed_time": 2.475348454,
             "remaining_time": 0.4334041359,
             "test": [
              0.03777300029
             ]
            },
            {
             "iteration": 851,
             "learn": [
              0.01430722527
             ],
             "passed_time": 2.478022787,
             "remaining_time": 0.4304546626,
             "test": [
              0.03777687613
             ]
            },
            {
             "iteration": 852,
             "learn": [
              0.01428753221
             ],
             "passed_time": 2.480825506,
             "remaining_time": 0.4275279594,
             "test": [
              0.03776831458
             ]
            },
            {
             "iteration": 853,
             "learn": [
              0.01427946456
             ],
             "passed_time": 2.483647947,
             "remaining_time": 0.4246049184,
             "test": [
              0.03776927446
             ]
            },
            {
             "iteration": 854,
             "learn": [
              0.01425990034
             ],
             "passed_time": 2.486412785,
             "remaining_time": 0.4216723436,
             "test": [
              0.03776159128
             ]
            },
            {
             "iteration": 855,
             "learn": [
              0.01425278066
             ],
             "passed_time": 2.489140769,
             "remaining_time": 0.4187339612,
             "test": [
              0.03775824286
             ]
            },
            {
             "iteration": 856,
             "learn": [
              0.01422969255
             ],
             "passed_time": 2.49180416,
             "remaining_time": 0.4157852916,
             "test": [
              0.03775139876
             ]
            },
            {
             "iteration": 857,
             "learn": [
              0.01421699449
             ],
             "passed_time": 2.4945829,
             "remaining_time": 0.4128563774,
             "test": [
              0.03775081852
             ]
            },
            {
             "iteration": 858,
             "learn": [
              0.01421466316
             ],
             "passed_time": 2.49728053,
             "remaining_time": 0.4099144991,
             "test": [
              0.03775147158
             ]
            },
            {
             "iteration": 859,
             "learn": [
              0.01420087774
             ],
             "passed_time": 2.50123573,
             "remaining_time": 0.4071779095,
             "test": [
              0.03774849106
             ]
            },
            {
             "iteration": 860,
             "learn": [
              0.01418949542
             ],
             "passed_time": 2.504909851,
             "remaining_time": 0.4043931119,
             "test": [
              0.03775043586
             ]
            },
            {
             "iteration": 861,
             "learn": [
              0.01418166479
             ],
             "passed_time": 2.507882889,
             "remaining_time": 0.4014940125,
             "test": [
              0.0377506112
             ]
            },
            {
             "iteration": 862,
             "learn": [
              0.01416340983
             ],
             "passed_time": 2.51064481,
             "remaining_time": 0.398561227,
             "test": [
              0.03775305721
             ]
            },
            {
             "iteration": 863,
             "learn": [
              0.01414065712
             ],
             "passed_time": 2.513431383,
             "remaining_time": 0.3956327176,
             "test": [
              0.037750711
             ]
            },
            {
             "iteration": 864,
             "learn": [
              0.01412220568
             ],
             "passed_time": 2.516102264,
             "remaining_time": 0.3926864805,
             "test": [
              0.03775030935
             ]
            },
            {
             "iteration": 865,
             "learn": [
              0.01411746529
             ],
             "passed_time": 2.518872291,
             "remaining_time": 0.3897562206,
             "test": [
              0.03775086143
             ]
            },
            {
             "iteration": 866,
             "learn": [
              0.0140992518
             ],
             "passed_time": 2.521771145,
             "remaining_time": 0.3868460925,
             "test": [
              0.03774622377
             ]
            },
            {
             "iteration": 867,
             "learn": [
              0.01409632573
             ],
             "passed_time": 2.524505948,
             "remaining_time": 0.3839110428,
             "test": [
              0.0377439307
             ]
            },
            {
             "iteration": 868,
             "learn": [
              0.01408363715
             ],
             "passed_time": 2.527277279,
             "remaining_time": 0.3809819603,
             "test": [
              0.03774061212
             ]
            },
            {
             "iteration": 869,
             "learn": [
              0.01407571759
             ],
             "passed_time": 2.529991074,
             "remaining_time": 0.3780446433,
             "test": [
              0.03773449876
             ]
            },
            {
             "iteration": 870,
             "learn": [
              0.01404699343
             ],
             "passed_time": 2.532651262,
             "remaining_time": 0.3750998999,
             "test": [
              0.03773085567
             ]
            },
            {
             "iteration": 871,
             "learn": [
              0.01403652222
             ],
             "passed_time": 2.535260552,
             "remaining_time": 0.3721483378,
             "test": [
              0.03772852995
             ]
            },
            {
             "iteration": 872,
             "learn": [
              0.01402861117
             ],
             "passed_time": 2.538015954,
             "remaining_time": 0.3692188157,
             "test": [
              0.03772212996
             ]
            },
            {
             "iteration": 873,
             "learn": [
              0.01400134578
             ],
             "passed_time": 2.540639981,
             "remaining_time": 0.3662707525,
             "test": [
              0.03771514158
             ]
            },
            {
             "iteration": 874,
             "learn": [
              0.01399412831
             ],
             "passed_time": 2.543310617,
             "remaining_time": 0.3633300882,
             "test": [
              0.0377053624
             ]
            },
            {
             "iteration": 875,
             "learn": [
              0.01397576225
             ],
             "passed_time": 2.545950243,
             "remaining_time": 0.3603856509,
             "test": [
              0.03770909165
             ]
            },
            {
             "iteration": 876,
             "learn": [
              0.01396374795
             ],
             "passed_time": 2.54879493,
             "remaining_time": 0.3574706687,
             "test": [
              0.03770568208
             ]
            },
            {
             "iteration": 877,
             "learn": [
              0.01394629378
             ],
             "passed_time": 2.551688449,
             "remaining_time": 0.3545626319,
             "test": [
              0.03770412484
             ]
            },
            {
             "iteration": 878,
             "learn": [
              0.01393513766
             ],
             "passed_time": 2.554369344,
             "remaining_time": 0.3516253591,
             "test": [
              0.03770086707
             ]
            },
            {
             "iteration": 879,
             "learn": [
              0.01393263118
             ],
             "passed_time": 2.557117729,
             "remaining_time": 0.3486978721,
             "test": [
              0.03769910331
             ]
            },
            {
             "iteration": 880,
             "learn": [
              0.01392899651
             ],
             "passed_time": 2.559803396,
             "remaining_time": 0.3457623203,
             "test": [
              0.03769794008
             ]
            },
            {
             "iteration": 881,
             "learn": [
              0.01391769094
             ],
             "passed_time": 2.56242456,
             "remaining_time": 0.3428187053,
             "test": [
              0.03770122901
             ]
            },
            {
             "iteration": 882,
             "learn": [
              0.01391221729
             ],
             "passed_time": 2.565115001,
             "remaining_time": 0.3398850002,
             "test": [
              0.03770285333
             ]
            },
            {
             "iteration": 883,
             "learn": [
              0.0138833293
             ],
             "passed_time": 2.567886678,
             "remaining_time": 0.3369625052,
             "test": [
              0.03770134355
             ]
            },
            {
             "iteration": 884,
             "learn": [
              0.01387924004
             ],
             "passed_time": 2.570540474,
             "remaining_time": 0.3340250334,
             "test": [
              0.0377011679
             ]
            },
            {
             "iteration": 885,
             "learn": [
              0.01386833676
             ],
             "passed_time": 2.573198896,
             "remaining_time": 0.331088797,
             "test": [
              0.03770563425
             ]
            },
            {
             "iteration": 886,
             "learn": [
              0.01386234012
             ],
             "passed_time": 2.575806165,
             "remaining_time": 0.3281466704,
             "test": [
              0.03770208621
             ]
            },
            {
             "iteration": 887,
             "learn": [
              0.01383556533
             ],
             "passed_time": 2.578395915,
             "remaining_time": 0.3252030884,
             "test": [
              0.0376984867
             ]
            },
            {
             "iteration": 888,
             "learn": [
              0.01382133841
             ],
             "passed_time": 2.581081795,
             "remaining_time": 0.3222723052,
             "test": [
              0.03769748138
             ]
            },
            {
             "iteration": 889,
             "learn": [
              0.01380721919
             ],
             "passed_time": 2.583744876,
             "remaining_time": 0.3193392543,
             "test": [
              0.0376863094
             ]
            },
            {
             "iteration": 890,
             "learn": [
              0.01379962013
             ],
             "passed_time": 2.586410537,
             "remaining_time": 0.3164071252,
             "test": [
              0.03768684847
             ]
            },
            {
             "iteration": 891,
             "learn": [
              0.0137889093
             ],
             "passed_time": 2.588975178,
             "remaining_time": 0.3134633624,
             "test": [
              0.03768614989
             ]
            },
            {
             "iteration": 892,
             "learn": [
              0.01376731839
             ],
             "passed_time": 2.591709399,
             "remaining_time": 0.3105407678,
             "test": [
              0.03768164698
             ]
            },
            {
             "iteration": 893,
             "learn": [
              0.01374874637
             ],
             "passed_time": 2.594401755,
             "remaining_time": 0.3076136309,
             "test": [
              0.03766472618
             ]
            },
            {
             "iteration": 894,
             "learn": [
              0.01373521504
             ],
             "passed_time": 2.597185204,
             "remaining_time": 0.3046977054,
             "test": [
              0.03766336468
             ]
            },
            {
             "iteration": 895,
             "learn": [
              0.01372638622
             ],
             "passed_time": 2.599848306,
             "remaining_time": 0.301768107,
             "test": [
              0.03766572541
             ]
            },
            {
             "iteration": 896,
             "learn": [
              0.0137091864
             ],
             "passed_time": 2.602614602,
             "remaining_time": 0.2988509521,
             "test": [
              0.03764766735
             ]
            },
            {
             "iteration": 897,
             "learn": [
              0.01368687422
             ],
             "passed_time": 2.605323402,
             "remaining_time": 0.2959276025,
             "test": [
              0.03764192751
             ]
            },
            {
             "iteration": 898,
             "learn": [
              0.01366386868
             ],
             "passed_time": 2.607938143,
             "remaining_time": 0.2929941629,
             "test": [
              0.03764916866
             ]
            },
            {
             "iteration": 899,
             "learn": [
              0.01365292855
             ],
             "passed_time": 2.610577869,
             "remaining_time": 0.2900642077,
             "test": [
              0.03765009008
             ]
            },
            {
             "iteration": 900,
             "learn": [
              0.01364172292
             ],
             "passed_time": 2.613248252,
             "remaining_time": 0.2871382652,
             "test": [
              0.03764462763
             ]
            },
            {
             "iteration": 901,
             "learn": [
              0.01363101426
             ],
             "passed_time": 2.615908148,
             "remaining_time": 0.28421175,
             "test": [
              0.03763954643
             ]
            },
            {
             "iteration": 902,
             "learn": [
              0.01360656304
             ],
             "passed_time": 2.618661199,
             "remaining_time": 0.281295832,
             "test": [
              0.03764112504
             ]
            },
            {
             "iteration": 903,
             "learn": [
              0.01357770817
             ],
             "passed_time": 2.621411408,
             "remaining_time": 0.2783799725,
             "test": [
              0.03763922739
             ]
            },
            {
             "iteration": 904,
             "learn": [
              0.01356258169
             ],
             "passed_time": 2.624230002,
             "remaining_time": 0.2754716577,
             "test": [
              0.03763804236
             ]
            },
            {
             "iteration": 905,
             "learn": [
              0.01354642332
             ],
             "passed_time": 2.626837322,
             "remaining_time": 0.2725416206,
             "test": [
              0.03763030543
             ]
            },
            {
             "iteration": 906,
             "learn": [
              0.01352889156
             ],
             "passed_time": 2.629531452,
             "remaining_time": 0.2696211963,
             "test": [
              0.03763218021
             ]
            },
            {
             "iteration": 907,
             "learn": [
              0.01351974526
             ],
             "passed_time": 2.632152315,
             "remaining_time": 0.2666938469,
             "test": [
              0.03762781516
             ]
            },
            {
             "iteration": 908,
             "learn": [
              0.01350656049
             ],
             "passed_time": 2.634744009,
             "remaining_time": 0.2637642517,
             "test": [
              0.03763074539
             ]
            },
            {
             "iteration": 909,
             "learn": [
              0.01350385078
             ],
             "passed_time": 2.637321646,
             "remaining_time": 0.260834009,
             "test": [
              0.03763138486
             ]
            },
            {
             "iteration": 910,
             "learn": [
              0.01349098948
             ],
             "passed_time": 2.640036877,
             "remaining_time": 0.2579179825,
             "test": [
              0.03762840937
             ]
            },
            {
             "iteration": 911,
             "learn": [
              0.0134826809
             ],
             "passed_time": 2.64269979,
             "remaining_time": 0.2549973481,
             "test": [
              0.03762995904
             ]
            },
            {
             "iteration": 912,
             "learn": [
              0.01348024878
             ],
             "passed_time": 2.645312791,
             "remaining_time": 0.2520725222,
             "test": [
              0.03763231539
             ]
            },
            {
             "iteration": 913,
             "learn": [
              0.01346252188
             ],
             "passed_time": 2.648030677,
             "remaining_time": 0.2491582475,
             "test": [
              0.03762692522
             ]
            },
            {
             "iteration": 914,
             "learn": [
              0.01344841453
             ],
             "passed_time": 2.650734617,
             "remaining_time": 0.2462431065,
             "test": [
              0.037623424
             ]
            },
            {
             "iteration": 915,
             "learn": [
              0.01343763044
             ],
             "passed_time": 2.653414178,
             "remaining_time": 0.243326191,
             "test": [
              0.03762133923
             ]
            },
            {
             "iteration": 916,
             "learn": [
              0.01341744066
             ],
             "passed_time": 2.656078466,
             "remaining_time": 0.2404084108,
             "test": [
              0.03760989242
             ]
            },
            {
             "iteration": 917,
             "learn": [
              0.01340301281
             ],
             "passed_time": 2.658780599,
             "remaining_time": 0.2374945633,
             "test": [
              0.03760646782
             ]
            },
            {
             "iteration": 918,
             "learn": [
              0.01338330931
             ],
             "passed_time": 2.661514714,
             "remaining_time": 0.2345839954,
             "test": [
              0.03760940919
             ]
            },
            {
             "iteration": 919,
             "learn": [
              0.01337177393
             ],
             "passed_time": 2.664285701,
             "remaining_time": 0.2316770175,
             "test": [
              0.03760861747
             ]
            },
            {
             "iteration": 920,
             "learn": [
              0.01336076121
             ],
             "passed_time": 2.666944909,
             "remaining_time": 0.2287607468,
             "test": [
              0.03760820102
             ]
            },
            {
             "iteration": 921,
             "learn": [
              0.01334938778
             ],
             "passed_time": 2.669701574,
             "remaining_time": 0.2258532785,
             "test": [
              0.03760486447
             ]
            },
            {
             "iteration": 922,
             "learn": [
              0.0133380745
             ],
             "passed_time": 2.672472263,
             "remaining_time": 0.2229473069,
             "test": [
              0.03760175382
             ]
            },
            {
             "iteration": 923,
             "learn": [
              0.013327284
             ],
             "passed_time": 2.675213646,
             "remaining_time": 0.2200392176,
             "test": [
              0.03760543092
             ]
            },
            {
             "iteration": 924,
             "learn": [
              0.01330922634
             ],
             "passed_time": 2.677936268,
             "remaining_time": 0.2171299677,
             "test": [
              0.03760669072
             ]
            },
            {
             "iteration": 925,
             "learn": [
              0.01329917261
             ],
             "passed_time": 2.680744715,
             "remaining_time": 0.2142279794,
             "test": [
              0.03760375194
             ]
            },
            {
             "iteration": 926,
             "learn": [
              0.01328149461
             ],
             "passed_time": 2.683432784,
             "remaining_time": 0.2113167133,
             "test": [
              0.03760415224
             ]
            },
            {
             "iteration": 927,
             "learn": [
              0.01327664268
             ],
             "passed_time": 2.685967948,
             "remaining_time": 0.2083940649,
             "test": [
              0.03759849533
             ]
            },
            {
             "iteration": 928,
             "learn": [
              0.01327148676
             ],
             "passed_time": 2.688727374,
             "remaining_time": 0.2054893903,
             "test": [
              0.03760001381
             ]
            },
            {
             "iteration": 929,
             "learn": [
              0.01325788202
             ],
             "passed_time": 2.692054219,
             "remaining_time": 0.2026277369,
             "test": [
              0.0375919551
             ]
            },
            {
             "iteration": 930,
             "learn": [
              0.01324797254
             ],
             "passed_time": 2.695782696,
             "remaining_time": 0.1997948507,
             "test": [
              0.03759413348
             ]
            },
            {
             "iteration": 931,
             "learn": [
              0.01323290182
             ],
             "passed_time": 2.699059815,
             "remaining_time": 0.196927111,
             "test": [
              0.03758603655
             ]
            },
            {
             "iteration": 932,
             "learn": [
              0.01321256936
             ],
             "passed_time": 2.701857855,
             "remaining_time": 0.1940240903,
             "test": [
              0.03758249887
             ]
            },
            {
             "iteration": 933,
             "learn": [
              0.01319104968
             ],
             "passed_time": 2.704666613,
             "remaining_time": 0.1911220519,
             "test": [
              0.03757592798
             ]
            },
            {
             "iteration": 934,
             "learn": [
              0.01317699649
             ],
             "passed_time": 2.707397776,
             "remaining_time": 0.1882148186,
             "test": [
              0.03757399925
             ]
            },
            {
             "iteration": 935,
             "learn": [
              0.01316475392
             ],
             "passed_time": 2.710307367,
             "remaining_time": 0.1853201618,
             "test": [
              0.03756653102
             ]
            },
            {
             "iteration": 936,
             "learn": [
              0.01315313065
             ],
             "passed_time": 2.713008716,
             "remaining_time": 0.1824114719,
             "test": [
              0.03755887413
             ]
            },
            {
             "iteration": 937,
             "learn": [
              0.01314897419
             ],
             "passed_time": 2.715831931,
             "remaining_time": 0.179511279,
             "test": [
              0.03755858723
             ]
            },
            {
             "iteration": 938,
             "learn": [
              0.01314355945
             ],
             "passed_time": 2.718705462,
             "remaining_time": 0.1766145188,
             "test": [
              0.03755772631
             ]
            },
            {
             "iteration": 939,
             "learn": [
              0.01313253318
             ],
             "passed_time": 2.721612544,
             "remaining_time": 0.1737199496,
             "test": [
              0.0375569594
             ]
            },
            {
             "iteration": 940,
             "learn": [
              0.01311853977
             ],
             "passed_time": 2.724534915,
             "remaining_time": 0.1708263124,
             "test": [
              0.03755535234
             ]
            },
            {
             "iteration": 941,
             "learn": [
              0.01310383045
             ],
             "passed_time": 2.727380352,
             "remaining_time": 0.1679278773,
             "test": [
              0.03755932629
             ]
            },
            {
             "iteration": 942,
             "learn": [
              0.01310170226
             ],
             "passed_time": 2.730260395,
             "remaining_time": 0.1650316464,
             "test": [
              0.03755964361
             ]
            },
            {
             "iteration": 943,
             "learn": [
              0.01308808527
             ],
             "passed_time": 2.733116444,
             "remaining_time": 0.1621340264,
             "test": [
              0.03755481758
             ]
            },
            {
             "iteration": 944,
             "learn": [
              0.01307646529
             ],
             "passed_time": 2.736042152,
             "remaining_time": 0.1592405485,
             "test": [
              0.03755221883
             ]
            },
            {
             "iteration": 945,
             "learn": [
              0.01306153393
             ],
             "passed_time": 2.738937601,
             "remaining_time": 0.1563452753,
             "test": [
              0.03755440908
             ]
            },
            {
             "iteration": 946,
             "learn": [
              0.0130582429
             ],
             "passed_time": 2.741713091,
             "remaining_time": 0.1534432881,
             "test": [
              0.03755688625
             ]
            },
            {
             "iteration": 947,
             "learn": [
              0.01304474975
             ],
             "passed_time": 2.744600255,
             "remaining_time": 0.1505476933,
             "test": [
              0.03755203646
             ]
            },
            {
             "iteration": 948,
             "learn": [
              0.01303217063
             ],
             "passed_time": 2.747492532,
             "remaining_time": 0.1476523911,
             "test": [
              0.03755502161
             ]
            },
            {
             "iteration": 949,
             "learn": [
              0.0130114453
             ],
             "passed_time": 2.750324155,
             "remaining_time": 0.1447539029,
             "test": [
              0.03755313775
             ]
            },
            {
             "iteration": 950,
             "learn": [
              0.01299549718
             ],
             "passed_time": 2.753159201,
             "remaining_time": 0.1418557317,
             "test": [
              0.03755232945
             ]
            },
            {
             "iteration": 951,
             "learn": [
              0.01297289291
             ],
             "passed_time": 2.756018789,
             "remaining_time": 0.1389589306,
             "test": [
              0.0375489229
             ]
            },
            {
             "iteration": 952,
             "learn": [
              0.01295742851
             ],
             "passed_time": 2.758650625,
             "remaining_time": 0.1360509752,
             "test": [
              0.03754698134
             ]
            },
            {
             "iteration": 953,
             "learn": [
              0.01294648814
             ],
             "passed_time": 2.761405352,
             "remaining_time": 0.1331495243,
             "test": [
              0.03754378606
             ]
            },
            {
             "iteration": 954,
             "learn": [
              0.01293675588
             ],
             "passed_time": 2.764176058,
             "remaining_time": 0.1302491336,
             "test": [
              0.03754661503
             ]
            },
            {
             "iteration": 955,
             "learn": [
              0.01292955433
             ],
             "passed_time": 2.766811001,
             "remaining_time": 0.1273427657,
             "test": [
              0.03755055153
             ]
            },
            {
             "iteration": 956,
             "learn": [
              0.0129213592
             ],
             "passed_time": 2.769690864,
             "remaining_time": 0.1244479699,
             "test": [
              0.03754673364
             ]
            },
            {
             "iteration": 957,
             "learn": [
              0.01289829689
             ],
             "passed_time": 2.77238356,
             "remaining_time": 0.1215449995,
             "test": [
              0.0375361329
             ]
            },
            {
             "iteration": 958,
             "learn": [
              0.01288378728
             ],
             "passed_time": 2.77513406,
             "remaining_time": 0.1186449389,
             "test": [
              0.03753483485
             ]
            },
            {
             "iteration": 959,
             "learn": [
              0.01288036607
             ],
             "passed_time": 2.777828519,
             "remaining_time": 0.1157428549,
             "test": [
              0.03753403581
             ]
            },
            {
             "iteration": 960,
             "learn": [
              0.01287629567
             ],
             "passed_time": 2.780432111,
             "remaining_time": 0.1128375154,
             "test": [
              0.03753444145
             ]
            },
            {
             "iteration": 961,
             "learn": [
              0.01287140185
             ],
             "passed_time": 2.783040187,
             "remaining_time": 0.1099329804,
             "test": [
              0.03753319797
             ]
            },
            {
             "iteration": 962,
             "learn": [
              0.01286294899
             ],
             "passed_time": 2.785907047,
             "remaining_time": 0.1070390039,
             "test": [
              0.03752863429
             ]
            },
            {
             "iteration": 963,
             "learn": [
              0.01284575898
             ],
             "passed_time": 2.788726996,
             "remaining_time": 0.1041433318,
             "test": [
              0.03752519108
             ]
            },
            {
             "iteration": 964,
             "learn": [
              0.01283214181
             ],
             "passed_time": 2.791591992,
             "remaining_time": 0.1012494505,
             "test": [
              0.0375198051
             ]
            },
            {
             "iteration": 965,
             "learn": [
              0.01282940609
             ],
             "passed_time": 2.794395126,
             "remaining_time": 0.09835345163,
             "test": [
              0.03752175131
             ]
            },
            {
             "iteration": 966,
             "learn": [
              0.01281085126
             ],
             "passed_time": 2.797247705,
             "remaining_time": 0.09545933224,
             "test": [
              0.03752048112
             ]
            },
            {
             "iteration": 967,
             "learn": [
              0.01280808936
             ],
             "passed_time": 2.799925638,
             "remaining_time": 0.09255952521,
             "test": [
              0.03752002638
             ]
            },
            {
             "iteration": 968,
             "learn": [
              0.0127935742
             ],
             "passed_time": 2.802724767,
             "remaining_time": 0.08966405344,
             "test": [
              0.03752416789
             ]
            },
            {
             "iteration": 969,
             "learn": [
              0.01278419964
             ],
             "passed_time": 2.805702821,
             "remaining_time": 0.08677431406,
             "test": [
              0.0375234424
             ]
            },
            {
             "iteration": 970,
             "learn": [
              0.01277159071
             ],
             "passed_time": 2.808540886,
             "remaining_time": 0.08388021185,
             "test": [
              0.0375207935
             ]
            },
            {
             "iteration": 971,
             "learn": [
              0.0127633851
             ],
             "passed_time": 2.811281569,
             "remaining_time": 0.08098341968,
             "test": [
              0.03751983345
             ]
            },
            {
             "iteration": 972,
             "learn": [
              0.01274253991
             ],
             "passed_time": 2.813884012,
             "remaining_time": 0.07808311236,
             "test": [
              0.03749991617
             ]
            },
            {
             "iteration": 973,
             "learn": [
              0.01272953765
             ],
             "passed_time": 2.816773772,
             "remaining_time": 0.07519108631,
             "test": [
              0.03750315635
             ]
            },
            {
             "iteration": 974,
             "learn": [
              0.01270227795
             ],
             "passed_time": 2.819582371,
             "remaining_time": 0.07229698388,
             "test": [
              0.03750245575
             ]
            },
            {
             "iteration": 975,
             "learn": [
              0.01268310436
             ],
             "passed_time": 2.822342062,
             "remaining_time": 0.06940185398,
             "test": [
              0.03749864405
             ]
            },
            {
             "iteration": 976,
             "learn": [
              0.01268055034
             ],
             "passed_time": 2.825033757,
             "remaining_time": 0.06650540062,
             "test": [
              0.0374987995
             ]
            },
            {
             "iteration": 977,
             "learn": [
              0.01266823139
             ],
             "passed_time": 2.827712714,
             "remaining_time": 0.06360907946,
             "test": [
              0.03749557906
             ]
            },
            {
             "iteration": 978,
             "learn": [
              0.01265938936
             ],
             "passed_time": 2.830426014,
             "remaining_time": 0.06071393901,
             "test": [
              0.03749077064
             ]
            },
            {
             "iteration": 979,
             "learn": [
              0.01264594731
             ],
             "passed_time": 2.833219835,
             "remaining_time": 0.05782081296,
             "test": [
              0.03748752568
             ]
            },
            {
             "iteration": 980,
             "learn": [
              0.01261348389
             ],
             "passed_time": 2.836009281,
             "remaining_time": 0.05492780463,
             "test": [
              0.03748190419
             ]
            },
            {
             "iteration": 981,
             "learn": [
              0.01260344215
             ],
             "passed_time": 2.838712668,
             "remaining_time": 0.05203342976,
             "test": [
              0.0374815482
             ]
            },
            {
             "iteration": 982,
             "learn": [
              0.01258600593
             ],
             "passed_time": 2.841344713,
             "remaining_time": 0.04913820968,
             "test": [
              0.03747869803
             ]
            },
            {
             "iteration": 983,
             "learn": [
              0.01257730359
             ],
             "passed_time": 2.868958848,
             "remaining_time": 0.04664973737,
             "test": [
              0.037475751
             ]
            },
            {
             "iteration": 984,
             "learn": [
              0.01256196306
             ],
             "passed_time": 2.872360672,
             "remaining_time": 0.04374153308,
             "test": [
              0.03747479418
             ]
            },
            {
             "iteration": 985,
             "learn": [
              0.01254869515
             ],
             "passed_time": 2.875373469,
             "remaining_time": 0.04082680382,
             "test": [
              0.03747578471
             ]
            },
            {
             "iteration": 986,
             "learn": [
              0.01254147605
             ],
             "passed_time": 2.878060329,
             "remaining_time": 0.03790758285,
             "test": [
              0.03747346771
             ]
            },
            {
             "iteration": 987,
             "learn": [
              0.01251733255
             ],
             "passed_time": 2.880806195,
             "remaining_time": 0.03498954893,
             "test": [
              0.03746876512
             ]
            },
            {
             "iteration": 988,
             "learn": [
              0.01251313656
             ],
             "passed_time": 2.884553908,
             "remaining_time": 0.03208300606,
             "test": [
              0.03746840574
             ]
            },
            {
             "iteration": 989,
             "learn": [
              0.01250627354
             ],
             "passed_time": 2.888193763,
             "remaining_time": 0.02917367437,
             "test": [
              0.03746754022
             ]
            },
            {
             "iteration": 990,
             "learn": [
              0.01250308201
             ],
             "passed_time": 2.891053923,
             "remaining_time": 0.02625578739,
             "test": [
              0.03746653048
             ]
            },
            {
             "iteration": 991,
             "learn": [
              0.01249219492
             ],
             "passed_time": 2.893767497,
             "remaining_time": 0.02333683465,
             "test": [
              0.03746502093
             ]
            },
            {
             "iteration": 992,
             "learn": [
              0.01247853561
             ],
             "passed_time": 2.896511834,
             "remaining_time": 0.02041851243,
             "test": [
              0.03745974812
             ]
            },
            {
             "iteration": 993,
             "learn": [
              0.01246225787
             ],
             "passed_time": 2.899107048,
             "remaining_time": 0.01749964013,
             "test": [
              0.03744871306
             ]
            },
            {
             "iteration": 994,
             "learn": [
              0.01244848018
             ],
             "passed_time": 2.901789835,
             "remaining_time": 0.01458185847,
             "test": [
              0.03744815378
             ]
            },
            {
             "iteration": 995,
             "learn": [
              0.012432339
             ],
             "passed_time": 2.904570698,
             "remaining_time": 0.01166494256,
             "test": [
              0.03744709548
             ]
            },
            {
             "iteration": 996,
             "learn": [
              0.01242021798
             ],
             "passed_time": 2.907215777,
             "remaining_time": 0.008747891005,
             "test": [
              0.03744763788
             ]
            },
            {
             "iteration": 997,
             "learn": [
              0.01241502522
             ],
             "passed_time": 2.909888745,
             "remaining_time": 0.005831440371,
             "test": [
              0.03744677701
             ]
            },
            {
             "iteration": 998,
             "learn": [
              0.01239743179
             ],
             "passed_time": 2.912620705,
             "remaining_time": 0.002915536241,
             "test": [
              0.03744117607
             ]
            },
            {
             "iteration": 999,
             "learn": [
              0.01239464116
             ],
             "passed_time": 2.915314288,
             "remaining_time": 0,
             "test": [
              0.0374403955
             ]
            }
           ],
           "meta": {
            "iteration_count": 1000,
            "launch_mode": "Train",
            "learn_metrics": [
             {
              "best_value": "Min",
              "name": "RMSE"
             }
            ],
            "learn_sets": [
             "learn"
            ],
            "name": "experiment",
            "parameters": "",
            "test_metrics": [
             {
              "best_value": "Min",
              "name": "RMSE"
             }
            ],
            "test_sets": [
             "test"
            ]
           }
          },
          "passed_iterations": 999,
          "total_iterations": 1000
         },
         "name": "catboost_info",
         "path": "catboost_info"
        }
       },
       "layout": "IPY_MODEL_31f4dc679e8a4f9a8ab8510d1b9bcd34"
      }
     }
    },
    "version_major": 2,
    "version_minor": 0
   }
  }
 },
 "nbformat": 4,
 "nbformat_minor": 5
}
